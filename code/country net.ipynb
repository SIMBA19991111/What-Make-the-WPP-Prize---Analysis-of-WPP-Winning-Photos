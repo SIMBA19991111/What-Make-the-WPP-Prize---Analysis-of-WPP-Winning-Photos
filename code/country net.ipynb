{
 "cells": [
  {
   "cell_type": "code",
   "execution_count": 3,
   "metadata": {},
   "outputs": [],
   "source": [
    "import pandas as pd\n",
    "import pycountry\n",
    "import random\n",
    "import time\n",
    "import requests"
   ]
  },
  {
   "cell_type": "code",
   "execution_count": null,
   "metadata": {},
   "outputs": [],
   "source": [
    "path1 = '/Users/hp/Desktop/7410/data/all_photo.csv' \n",
    "path2 = '/Users/hp/Desktop/7410/data/database_photographer_all.csv' \n",
    "\n",
    "all_photo = pd.read_csv(path1)\n",
    "photographer = pd.read_csv(path2)\n",
    "\n",
    "display(photographer.head())\n",
    "display(all_photo.head())"
   ]
  },
  {
   "attachments": {},
   "cell_type": "markdown",
   "metadata": {},
   "source": [
    "**Photographer_Country**"
   ]
  },
  {
   "cell_type": "code",
   "execution_count": 241,
   "metadata": {},
   "outputs": [
    {
     "data": {
      "text/html": [
       "<div>\n",
       "<style scoped>\n",
       "    .dataframe tbody tr th:only-of-type {\n",
       "        vertical-align: middle;\n",
       "    }\n",
       "\n",
       "    .dataframe tbody tr th {\n",
       "        vertical-align: top;\n",
       "    }\n",
       "\n",
       "    .dataframe thead th {\n",
       "        text-align: right;\n",
       "    }\n",
       "</style>\n",
       "<table border=\"1\" class=\"dataframe\">\n",
       "  <thead>\n",
       "    <tr style=\"text-align: right;\">\n",
       "      <th></th>\n",
       "      <th>Index</th>\n",
       "      <th>Title</th>\n",
       "      <th>Award</th>\n",
       "      <th>Category</th>\n",
       "      <th>Published Date</th>\n",
       "      <th>URL</th>\n",
       "      <th>Stored Path</th>\n",
       "      <th>Description</th>\n",
       "      <th>Prize Level</th>\n",
       "      <th>Photographer</th>\n",
       "      <th>Award Year</th>\n",
       "      <th>Background</th>\n",
       "      <th>Story</th>\n",
       "      <th>Award Region</th>\n",
       "      <th>Award Category</th>\n",
       "      <th>Jury</th>\n",
       "      <th>Photographer_Country</th>\n",
       "    </tr>\n",
       "  </thead>\n",
       "  <tbody>\n",
       "    <tr>\n",
       "      <th>0</th>\n",
       "      <td>1</td>\n",
       "      <td>Not Specified</td>\n",
       "      <td>1955 Photo Contest</td>\n",
       "      <td>Not Specified</td>\n",
       "      <td>28 August, 1955</td>\n",
       "      <td>https://www.worldpressphoto.org/getmedia/7ce98...</td>\n",
       "      <td>F:\\Temp\\1955\\Mogens Haven\\1.jpg</td>\n",
       "      <td>A competitor tumbles off his motorcycle during...</td>\n",
       "      <td>World Press Photo of the Year</td>\n",
       "      <td>Mogens Haven</td>\n",
       "      <td>1955</td>\n",
       "      <td>NaN</td>\n",
       "      <td>NaN</td>\n",
       "      <td>NaN</td>\n",
       "      <td>NaN</td>\n",
       "      <td>NaN</td>\n",
       "      <td>Denmark</td>\n",
       "    </tr>\n",
       "    <tr>\n",
       "      <th>1</th>\n",
       "      <td>1</td>\n",
       "      <td>Not Specified</td>\n",
       "      <td>1956 Photo Contest</td>\n",
       "      <td>Photo Stories</td>\n",
       "      <td>01 January, 1956</td>\n",
       "      <td>https://www.worldpressphoto.org/getmedia/b8294...</td>\n",
       "      <td>F:\\Temp\\1956\\Helmuth Pirath\\1.jpg</td>\n",
       "      <td>‘Sp?theimkehrer’: A German prisoner of war is ...</td>\n",
       "      <td>1st prize</td>\n",
       "      <td>Helmuth Pirath</td>\n",
       "      <td>1956</td>\n",
       "      <td>NaN</td>\n",
       "      <td>NaN</td>\n",
       "      <td>NaN</td>\n",
       "      <td>NaN</td>\n",
       "      <td>NaN</td>\n",
       "      <td>Germany</td>\n",
       "    </tr>\n",
       "    <tr>\n",
       "      <th>2</th>\n",
       "      <td>1</td>\n",
       "      <td>Not Specified</td>\n",
       "      <td>1956 Photo Contest</td>\n",
       "      <td>Spot News</td>\n",
       "      <td>01 January, 1956</td>\n",
       "      <td>https://www.worldpressphoto.org/getmedia/92600...</td>\n",
       "      <td>F:\\Temp\\1956\\Louis Garnade\\1.jpg</td>\n",
       "      <td>A child is being rescued by the fire brigade f...</td>\n",
       "      <td>2nd prize</td>\n",
       "      <td>Louis Garnade</td>\n",
       "      <td>1956</td>\n",
       "      <td>NaN</td>\n",
       "      <td>NaN</td>\n",
       "      <td>NaN</td>\n",
       "      <td>NaN</td>\n",
       "      <td>NaN</td>\n",
       "      <td>United Kingdom</td>\n",
       "    </tr>\n",
       "    <tr>\n",
       "      <th>3</th>\n",
       "      <td>1</td>\n",
       "      <td>Not Specified</td>\n",
       "      <td>1956 Photo Contest</td>\n",
       "      <td>Spot News</td>\n",
       "      <td>08 August, 1956</td>\n",
       "      <td>https://www.worldpressphoto.org/getmedia/c45dd...</td>\n",
       "      <td>F:\\Temp\\1956\\Antoine Rulmont\\1.jpg</td>\n",
       "      <td>Family members wait for news about their loved...</td>\n",
       "      <td>1st prize</td>\n",
       "      <td>Antoine Rulmont</td>\n",
       "      <td>1956</td>\n",
       "      <td>NaN</td>\n",
       "      <td>NaN</td>\n",
       "      <td>NaN</td>\n",
       "      <td>NaN</td>\n",
       "      <td>NaN</td>\n",
       "      <td>Belgium</td>\n",
       "    </tr>\n",
       "    <tr>\n",
       "      <th>4</th>\n",
       "      <td>1</td>\n",
       "      <td>Not Specified</td>\n",
       "      <td>1956 Photo Contest</td>\n",
       "      <td>Sports</td>\n",
       "      <td>31 January, 1956</td>\n",
       "      <td>https://www.worldpressphoto.org/getmedia/bb85f...</td>\n",
       "      <td>F:\\Temp\\1956\\Franz Votava\\1.jpg</td>\n",
       "      <td>The famous Austrian alpine skier Tony Sailer d...</td>\n",
       "      <td>3rd prize</td>\n",
       "      <td>Franz Votava</td>\n",
       "      <td>1956</td>\n",
       "      <td>NaN</td>\n",
       "      <td>NaN</td>\n",
       "      <td>NaN</td>\n",
       "      <td>NaN</td>\n",
       "      <td>NaN</td>\n",
       "      <td>Austria</td>\n",
       "    </tr>\n",
       "    <tr>\n",
       "      <th>...</th>\n",
       "      <td>...</td>\n",
       "      <td>...</td>\n",
       "      <td>...</td>\n",
       "      <td>...</td>\n",
       "      <td>...</td>\n",
       "      <td>...</td>\n",
       "      <td>...</td>\n",
       "      <td>...</td>\n",
       "      <td>...</td>\n",
       "      <td>...</td>\n",
       "      <td>...</td>\n",
       "      <td>...</td>\n",
       "      <td>...</td>\n",
       "      <td>...</td>\n",
       "      <td>...</td>\n",
       "      <td>...</td>\n",
       "      <td>...</td>\n",
       "    </tr>\n",
       "    <tr>\n",
       "      <th>13291</th>\n",
       "      <td>5</td>\n",
       "      <td>Home for the Golden Gays</td>\n",
       "      <td>2023 Photo Contest</td>\n",
       "      <td>NaN</td>\n",
       "      <td>18 July, 2022</td>\n",
       "      <td>https://www.worldpressphoto.org/getmedia/19364...</td>\n",
       "      <td>F:\\Temp\\2023\\HannahReyes Morales\\5.jpg</td>\n",
       "      <td>NaN</td>\n",
       "      <td>NaN</td>\n",
       "      <td>HannahReyes Morales</td>\n",
       "      <td>2023</td>\n",
       "      <td>Al Enriquez (86) looks through a curtain in th...</td>\n",
       "      <td>The Golden Gays are a community of older LGBTQ...</td>\n",
       "      <td>Southeast Asia and Oceania</td>\n",
       "      <td>Stories</td>\n",
       "      <td>This project enlists an intersectional approac...</td>\n",
       "      <td>Philippines</td>\n",
       "    </tr>\n",
       "    <tr>\n",
       "      <th>13292</th>\n",
       "      <td>6</td>\n",
       "      <td>Home for the Golden Gays</td>\n",
       "      <td>2023 Photo Contest</td>\n",
       "      <td>NaN</td>\n",
       "      <td>18 July, 2022</td>\n",
       "      <td>https://www.worldpressphoto.org/getmedia/a3249...</td>\n",
       "      <td>F:\\Temp\\2023\\HannahReyes Morales\\6.jpg</td>\n",
       "      <td>NaN</td>\n",
       "      <td>NaN</td>\n",
       "      <td>HannahReyes Morales</td>\n",
       "      <td>2023</td>\n",
       "      <td>Al Enriquez (86) looks through a curtain in th...</td>\n",
       "      <td>The Golden Gays are a community of older LGBTQ...</td>\n",
       "      <td>Southeast Asia and Oceania</td>\n",
       "      <td>Stories</td>\n",
       "      <td>This project enlists an intersectional approac...</td>\n",
       "      <td>Philippines</td>\n",
       "    </tr>\n",
       "    <tr>\n",
       "      <th>13293</th>\n",
       "      <td>7</td>\n",
       "      <td>Home for the Golden Gays</td>\n",
       "      <td>2023 Photo Contest</td>\n",
       "      <td>NaN</td>\n",
       "      <td>18 July, 2022</td>\n",
       "      <td>https://www.worldpressphoto.org/getmedia/fcbf6...</td>\n",
       "      <td>F:\\Temp\\2023\\HannahReyes Morales\\7.jpg</td>\n",
       "      <td>NaN</td>\n",
       "      <td>NaN</td>\n",
       "      <td>HannahReyes Morales</td>\n",
       "      <td>2023</td>\n",
       "      <td>Al Enriquez (86) looks through a curtain in th...</td>\n",
       "      <td>The Golden Gays are a community of older LGBTQ...</td>\n",
       "      <td>Southeast Asia and Oceania</td>\n",
       "      <td>Stories</td>\n",
       "      <td>This project enlists an intersectional approac...</td>\n",
       "      <td>Philippines</td>\n",
       "    </tr>\n",
       "    <tr>\n",
       "      <th>13294</th>\n",
       "      <td>1</td>\n",
       "      <td>Shifting</td>\n",
       "      <td>2023 Photo Contest</td>\n",
       "      <td>NaN</td>\n",
       "      <td>Not Specified</td>\n",
       "      <td>https://www.worldpressphoto.org/getmedia/5520f...</td>\n",
       "      <td>F:\\Temp\\2023\\Johanna Alarcón\\1.jpg</td>\n",
       "      <td>NaN</td>\n",
       "      <td>NaN</td>\n",
       "      <td>Johanna Alarcón</td>\n",
       "      <td>2023</td>\n",
       "      <td>Valentina is a 13-year-old who aspires to beco...</td>\n",
       "      <td>In Latin America, the incarceration of women h...</td>\n",
       "      <td>South America</td>\n",
       "      <td>Open Format</td>\n",
       "      <td>A beautifully executed project that approaches...</td>\n",
       "      <td>Ecuador</td>\n",
       "    </tr>\n",
       "    <tr>\n",
       "      <th>13295</th>\n",
       "      <td>1</td>\n",
       "      <td>Here, The Doors Don't Know Me</td>\n",
       "      <td>2023 Photo Contest</td>\n",
       "      <td>NaN</td>\n",
       "      <td>Not Specified</td>\n",
       "      <td>https://www.worldpressphoto.org/getmedia/0ddbe...</td>\n",
       "      <td>F:\\Temp\\2023\\Mohamed Mahdy\\1.jpg</td>\n",
       "      <td>NaN</td>\n",
       "      <td>NaN</td>\n",
       "      <td>Mohamed Mahdy</td>\n",
       "      <td>2023</td>\n",
       "      <td>Using found imagery and the artist’s own\\r\\nph...</td>\n",
       "      <td>For generations, the residents of Al Max, a fi...</td>\n",
       "      <td>Africa</td>\n",
       "      <td>Open Format</td>\n",
       "      <td>This web-based photo project stood out for tak...</td>\n",
       "      <td>Egypt</td>\n",
       "    </tr>\n",
       "  </tbody>\n",
       "</table>\n",
       "<p>13296 rows × 17 columns</p>\n",
       "</div>"
      ],
      "text/plain": [
       "       Index                          Title               Award   \n",
       "0          1                  Not Specified  1955 Photo Contest  \\\n",
       "1          1                  Not Specified  1956 Photo Contest   \n",
       "2          1                  Not Specified  1956 Photo Contest   \n",
       "3          1                  Not Specified  1956 Photo Contest   \n",
       "4          1                  Not Specified  1956 Photo Contest   \n",
       "...      ...                            ...                 ...   \n",
       "13291      5       Home for the Golden Gays  2023 Photo Contest   \n",
       "13292      6       Home for the Golden Gays  2023 Photo Contest   \n",
       "13293      7       Home for the Golden Gays  2023 Photo Contest   \n",
       "13294      1                       Shifting  2023 Photo Contest   \n",
       "13295      1  Here, The Doors Don't Know Me  2023 Photo Contest   \n",
       "\n",
       "            Category    Published Date   \n",
       "0      Not Specified   28 August, 1955  \\\n",
       "1      Photo Stories  01 January, 1956   \n",
       "2          Spot News  01 January, 1956   \n",
       "3          Spot News   08 August, 1956   \n",
       "4             Sports  31 January, 1956   \n",
       "...              ...               ...   \n",
       "13291            NaN     18 July, 2022   \n",
       "13292            NaN     18 July, 2022   \n",
       "13293            NaN     18 July, 2022   \n",
       "13294            NaN     Not Specified   \n",
       "13295            NaN     Not Specified   \n",
       "\n",
       "                                                     URL   \n",
       "0      https://www.worldpressphoto.org/getmedia/7ce98...  \\\n",
       "1      https://www.worldpressphoto.org/getmedia/b8294...   \n",
       "2      https://www.worldpressphoto.org/getmedia/92600...   \n",
       "3      https://www.worldpressphoto.org/getmedia/c45dd...   \n",
       "4      https://www.worldpressphoto.org/getmedia/bb85f...   \n",
       "...                                                  ...   \n",
       "13291  https://www.worldpressphoto.org/getmedia/19364...   \n",
       "13292  https://www.worldpressphoto.org/getmedia/a3249...   \n",
       "13293  https://www.worldpressphoto.org/getmedia/fcbf6...   \n",
       "13294  https://www.worldpressphoto.org/getmedia/5520f...   \n",
       "13295  https://www.worldpressphoto.org/getmedia/0ddbe...   \n",
       "\n",
       "                                  Stored Path   \n",
       "0             F:\\Temp\\1955\\Mogens Haven\\1.jpg  \\\n",
       "1           F:\\Temp\\1956\\Helmuth Pirath\\1.jpg   \n",
       "2            F:\\Temp\\1956\\Louis Garnade\\1.jpg   \n",
       "3          F:\\Temp\\1956\\Antoine Rulmont\\1.jpg   \n",
       "4             F:\\Temp\\1956\\Franz Votava\\1.jpg   \n",
       "...                                       ...   \n",
       "13291  F:\\Temp\\2023\\HannahReyes Morales\\5.jpg   \n",
       "13292  F:\\Temp\\2023\\HannahReyes Morales\\6.jpg   \n",
       "13293  F:\\Temp\\2023\\HannahReyes Morales\\7.jpg   \n",
       "13294      F:\\Temp\\2023\\Johanna Alarcón\\1.jpg   \n",
       "13295        F:\\Temp\\2023\\Mohamed Mahdy\\1.jpg   \n",
       "\n",
       "                                             Description   \n",
       "0      A competitor tumbles off his motorcycle during...  \\\n",
       "1      ‘Sp?theimkehrer’: A German prisoner of war is ...   \n",
       "2      A child is being rescued by the fire brigade f...   \n",
       "3      Family members wait for news about their loved...   \n",
       "4      The famous Austrian alpine skier Tony Sailer d...   \n",
       "...                                                  ...   \n",
       "13291                                                NaN   \n",
       "13292                                                NaN   \n",
       "13293                                                NaN   \n",
       "13294                                                NaN   \n",
       "13295                                                NaN   \n",
       "\n",
       "                         Prize Level         Photographer  Award Year   \n",
       "0      World Press Photo of the Year         Mogens Haven        1955  \\\n",
       "1                          1st prize       Helmuth Pirath        1956   \n",
       "2                          2nd prize        Louis Garnade        1956   \n",
       "3                          1st prize      Antoine Rulmont        1956   \n",
       "4                          3rd prize         Franz Votava        1956   \n",
       "...                              ...                  ...         ...   \n",
       "13291                            NaN  HannahReyes Morales        2023   \n",
       "13292                            NaN  HannahReyes Morales        2023   \n",
       "13293                            NaN  HannahReyes Morales        2023   \n",
       "13294                            NaN      Johanna Alarcón        2023   \n",
       "13295                            NaN        Mohamed Mahdy        2023   \n",
       "\n",
       "                                              Background   \n",
       "0                                                    NaN  \\\n",
       "1                                                    NaN   \n",
       "2                                                    NaN   \n",
       "3                                                    NaN   \n",
       "4                                                    NaN   \n",
       "...                                                  ...   \n",
       "13291  Al Enriquez (86) looks through a curtain in th...   \n",
       "13292  Al Enriquez (86) looks through a curtain in th...   \n",
       "13293  Al Enriquez (86) looks through a curtain in th...   \n",
       "13294  Valentina is a 13-year-old who aspires to beco...   \n",
       "13295  Using found imagery and the artist’s own\\r\\nph...   \n",
       "\n",
       "                                                   Story   \n",
       "0                                                    NaN  \\\n",
       "1                                                    NaN   \n",
       "2                                                    NaN   \n",
       "3                                                    NaN   \n",
       "4                                                    NaN   \n",
       "...                                                  ...   \n",
       "13291  The Golden Gays are a community of older LGBTQ...   \n",
       "13292  The Golden Gays are a community of older LGBTQ...   \n",
       "13293  The Golden Gays are a community of older LGBTQ...   \n",
       "13294  In Latin America, the incarceration of women h...   \n",
       "13295  For generations, the residents of Al Max, a fi...   \n",
       "\n",
       "                     Award Region Award Category   \n",
       "0                             NaN            NaN  \\\n",
       "1                             NaN            NaN   \n",
       "2                             NaN            NaN   \n",
       "3                             NaN            NaN   \n",
       "4                             NaN            NaN   \n",
       "...                           ...            ...   \n",
       "13291  Southeast Asia and Oceania        Stories   \n",
       "13292  Southeast Asia and Oceania        Stories   \n",
       "13293  Southeast Asia and Oceania        Stories   \n",
       "13294               South America    Open Format   \n",
       "13295                      Africa   Open Format    \n",
       "\n",
       "                                                    Jury Photographer_Country  \n",
       "0                                                    NaN              Denmark  \n",
       "1                                                    NaN              Germany  \n",
       "2                                                    NaN       United Kingdom  \n",
       "3                                                    NaN              Belgium  \n",
       "4                                                    NaN              Austria  \n",
       "...                                                  ...                  ...  \n",
       "13291  This project enlists an intersectional approac...          Philippines  \n",
       "13292  This project enlists an intersectional approac...          Philippines  \n",
       "13293  This project enlists an intersectional approac...          Philippines  \n",
       "13294  A beautifully executed project that approaches...              Ecuador  \n",
       "13295  This web-based photo project stood out for tak...                Egypt  \n",
       "\n",
       "[13296 rows x 17 columns]"
      ]
     },
     "metadata": {},
     "output_type": "display_data"
    }
   ],
   "source": [
    "# Put the 2 table together index by Photographer\n",
    "merged_df = pd.merge(all_photo, photographer[['Photographer', 'Country']], on='Photographer', how='left')\n",
    "merged_df = merged_df.rename(columns={'Country': 'Photographer_Country'})\n",
    "\n",
    "display(merged_df)"
   ]
  },
  {
   "cell_type": "code",
   "execution_count": 4,
   "metadata": {},
   "outputs": [
    {
     "data": {
      "text/html": [
       "<div>\n",
       "<style scoped>\n",
       "    .dataframe tbody tr th:only-of-type {\n",
       "        vertical-align: middle;\n",
       "    }\n",
       "\n",
       "    .dataframe tbody tr th {\n",
       "        vertical-align: top;\n",
       "    }\n",
       "\n",
       "    .dataframe thead th {\n",
       "        text-align: right;\n",
       "    }\n",
       "</style>\n",
       "<table border=\"1\" class=\"dataframe\">\n",
       "  <thead>\n",
       "    <tr style=\"text-align: right;\">\n",
       "      <th></th>\n",
       "      <th>Photographer</th>\n",
       "      <th>Photographer_Country</th>\n",
       "      <th>Description</th>\n",
       "    </tr>\n",
       "  </thead>\n",
       "  <tbody>\n",
       "    <tr>\n",
       "      <th>0</th>\n",
       "      <td>Mogens Haven</td>\n",
       "      <td>Denmark</td>\n",
       "      <td>A competitor tumbles off his motorcycle during...</td>\n",
       "    </tr>\n",
       "    <tr>\n",
       "      <th>1</th>\n",
       "      <td>Helmuth Pirath</td>\n",
       "      <td>Germany</td>\n",
       "      <td>‘Sp?theimkehrer’: A German prisoner of war is ...</td>\n",
       "    </tr>\n",
       "    <tr>\n",
       "      <th>2</th>\n",
       "      <td>Louis Garnade</td>\n",
       "      <td>United Kingdom</td>\n",
       "      <td>A child is being rescued by the fire brigade f...</td>\n",
       "    </tr>\n",
       "    <tr>\n",
       "      <th>3</th>\n",
       "      <td>Antoine Rulmont</td>\n",
       "      <td>Belgium</td>\n",
       "      <td>Family members wait for news about their loved...</td>\n",
       "    </tr>\n",
       "    <tr>\n",
       "      <th>4</th>\n",
       "      <td>Franz Votava</td>\n",
       "      <td>Austria</td>\n",
       "      <td>The famous Austrian alpine skier Tony Sailer d...</td>\n",
       "    </tr>\n",
       "    <tr>\n",
       "      <th>...</th>\n",
       "      <td>...</td>\n",
       "      <td>...</td>\n",
       "      <td>...</td>\n",
       "    </tr>\n",
       "    <tr>\n",
       "      <th>13291</th>\n",
       "      <td>HannahReyes Morales</td>\n",
       "      <td>Philippines</td>\n",
       "      <td>NaN</td>\n",
       "    </tr>\n",
       "    <tr>\n",
       "      <th>13292</th>\n",
       "      <td>HannahReyes Morales</td>\n",
       "      <td>Philippines</td>\n",
       "      <td>NaN</td>\n",
       "    </tr>\n",
       "    <tr>\n",
       "      <th>13293</th>\n",
       "      <td>HannahReyes Morales</td>\n",
       "      <td>Philippines</td>\n",
       "      <td>NaN</td>\n",
       "    </tr>\n",
       "    <tr>\n",
       "      <th>13294</th>\n",
       "      <td>Johanna Alarcón</td>\n",
       "      <td>Ecuador</td>\n",
       "      <td>NaN</td>\n",
       "    </tr>\n",
       "    <tr>\n",
       "      <th>13295</th>\n",
       "      <td>Mohamed Mahdy</td>\n",
       "      <td>Egypt</td>\n",
       "      <td>NaN</td>\n",
       "    </tr>\n",
       "  </tbody>\n",
       "</table>\n",
       "<p>13296 rows × 3 columns</p>\n",
       "</div>"
      ],
      "text/plain": [
       "              Photographer Photographer_Country   \n",
       "0             Mogens Haven              Denmark  \\\n",
       "1           Helmuth Pirath              Germany   \n",
       "2            Louis Garnade       United Kingdom   \n",
       "3          Antoine Rulmont              Belgium   \n",
       "4             Franz Votava              Austria   \n",
       "...                    ...                  ...   \n",
       "13291  HannahReyes Morales          Philippines   \n",
       "13292  HannahReyes Morales          Philippines   \n",
       "13293  HannahReyes Morales          Philippines   \n",
       "13294      Johanna Alarcón              Ecuador   \n",
       "13295        Mohamed Mahdy                Egypt   \n",
       "\n",
       "                                             Description  \n",
       "0      A competitor tumbles off his motorcycle during...  \n",
       "1      ‘Sp?theimkehrer’: A German prisoner of war is ...  \n",
       "2      A child is being rescued by the fire brigade f...  \n",
       "3      Family members wait for news about their loved...  \n",
       "4      The famous Austrian alpine skier Tony Sailer d...  \n",
       "...                                                  ...  \n",
       "13291                                                NaN  \n",
       "13292                                                NaN  \n",
       "13293                                                NaN  \n",
       "13294                                                NaN  \n",
       "13295                                                NaN  \n",
       "\n",
       "[13296 rows x 3 columns]"
      ]
     },
     "metadata": {},
     "output_type": "display_data"
    }
   ],
   "source": [
    "# Flitering only the photographer and Country of them\n",
    "new_df = merged_df.loc[:, ['Photographer', 'Photographer_Country', 'Description']]\n",
    "display(new_df)"
   ]
  },
  {
   "cell_type": "code",
   "execution_count": 5,
   "metadata": {},
   "outputs": [
    {
     "name": "stdout",
     "output_type": "stream",
     "text": [
      "Photographer              0\n",
      "Photographer_Country    894\n",
      "Description             444\n",
      "dtype: int64\n"
     ]
    }
   ],
   "source": [
    "#Check the na value\n",
    "print(new_df.isnull().sum())"
   ]
  },
  {
   "cell_type": "code",
   "execution_count": 6,
   "metadata": {},
   "outputs": [
    {
     "name": "stdout",
     "output_type": "stream",
     "text": [
      "There are  111  photographers have no country\n"
     ]
    }
   ],
   "source": [
    "# Obtain the country have no value\n",
    "no_country_df = new_df[new_df['Photographer_Country'].isnull()]\n",
    "no_country_df = no_country_df['Photographer'].unique()\n",
    "\n",
    "print(\"There are \",len(no_country_df),\" photographers have no country\")"
   ]
  },
  {
   "cell_type": "code",
   "execution_count": 7,
   "metadata": {},
   "outputs": [
    {
     "data": {
      "text/html": [
       "<div>\n",
       "<style scoped>\n",
       "    .dataframe tbody tr th:only-of-type {\n",
       "        vertical-align: middle;\n",
       "    }\n",
       "\n",
       "    .dataframe tbody tr th {\n",
       "        vertical-align: top;\n",
       "    }\n",
       "\n",
       "    .dataframe thead th {\n",
       "        text-align: right;\n",
       "    }\n",
       "</style>\n",
       "<table border=\"1\" class=\"dataframe\">\n",
       "  <thead>\n",
       "    <tr style=\"text-align: right;\">\n",
       "      <th></th>\n",
       "      <th>Photographer</th>\n",
       "      <th>Photographer_Country</th>\n",
       "      <th>Description</th>\n",
       "    </tr>\n",
       "  </thead>\n",
       "  <tbody>\n",
       "    <tr>\n",
       "      <th>0</th>\n",
       "      <td>Mogens Haven</td>\n",
       "      <td>Denmark</td>\n",
       "      <td>A competitor tumbles off his motorcycle during...</td>\n",
       "    </tr>\n",
       "    <tr>\n",
       "      <th>1</th>\n",
       "      <td>Helmuth Pirath</td>\n",
       "      <td>Germany</td>\n",
       "      <td>‘Sp?theimkehrer’: A German prisoner of war is ...</td>\n",
       "    </tr>\n",
       "    <tr>\n",
       "      <th>2</th>\n",
       "      <td>Louis Garnade</td>\n",
       "      <td>United Kingdom</td>\n",
       "      <td>A child is being rescued by the fire brigade f...</td>\n",
       "    </tr>\n",
       "    <tr>\n",
       "      <th>3</th>\n",
       "      <td>Antoine Rulmont</td>\n",
       "      <td>Belgium</td>\n",
       "      <td>Family members wait for news about their loved...</td>\n",
       "    </tr>\n",
       "    <tr>\n",
       "      <th>4</th>\n",
       "      <td>Franz Votava</td>\n",
       "      <td>Austria</td>\n",
       "      <td>The famous Austrian alpine skier Tony Sailer d...</td>\n",
       "    </tr>\n",
       "    <tr>\n",
       "      <th>...</th>\n",
       "      <td>...</td>\n",
       "      <td>...</td>\n",
       "      <td>...</td>\n",
       "    </tr>\n",
       "    <tr>\n",
       "      <th>13291</th>\n",
       "      <td>HannahReyes Morales</td>\n",
       "      <td>Philippines</td>\n",
       "      <td>Unknown</td>\n",
       "    </tr>\n",
       "    <tr>\n",
       "      <th>13292</th>\n",
       "      <td>HannahReyes Morales</td>\n",
       "      <td>Philippines</td>\n",
       "      <td>Unknown</td>\n",
       "    </tr>\n",
       "    <tr>\n",
       "      <th>13293</th>\n",
       "      <td>HannahReyes Morales</td>\n",
       "      <td>Philippines</td>\n",
       "      <td>Unknown</td>\n",
       "    </tr>\n",
       "    <tr>\n",
       "      <th>13294</th>\n",
       "      <td>Johanna Alarcón</td>\n",
       "      <td>Ecuador</td>\n",
       "      <td>Unknown</td>\n",
       "    </tr>\n",
       "    <tr>\n",
       "      <th>13295</th>\n",
       "      <td>Mohamed Mahdy</td>\n",
       "      <td>Egypt</td>\n",
       "      <td>Unknown</td>\n",
       "    </tr>\n",
       "  </tbody>\n",
       "</table>\n",
       "<p>13296 rows × 3 columns</p>\n",
       "</div>"
      ],
      "text/plain": [
       "              Photographer Photographer_Country   \n",
       "0             Mogens Haven              Denmark  \\\n",
       "1           Helmuth Pirath              Germany   \n",
       "2            Louis Garnade       United Kingdom   \n",
       "3          Antoine Rulmont              Belgium   \n",
       "4             Franz Votava              Austria   \n",
       "...                    ...                  ...   \n",
       "13291  HannahReyes Morales          Philippines   \n",
       "13292  HannahReyes Morales          Philippines   \n",
       "13293  HannahReyes Morales          Philippines   \n",
       "13294      Johanna Alarcón              Ecuador   \n",
       "13295        Mohamed Mahdy                Egypt   \n",
       "\n",
       "                                             Description  \n",
       "0      A competitor tumbles off his motorcycle during...  \n",
       "1      ‘Sp?theimkehrer’: A German prisoner of war is ...  \n",
       "2      A child is being rescued by the fire brigade f...  \n",
       "3      Family members wait for news about their loved...  \n",
       "4      The famous Austrian alpine skier Tony Sailer d...  \n",
       "...                                                  ...  \n",
       "13291                                            Unknown  \n",
       "13292                                            Unknown  \n",
       "13293                                            Unknown  \n",
       "13294                                            Unknown  \n",
       "13295                                            Unknown  \n",
       "\n",
       "[13296 rows x 3 columns]"
      ]
     },
     "execution_count": 7,
     "metadata": {},
     "output_type": "execute_result"
    }
   ],
   "source": [
    "# Replace it to \"Unknown\"\n",
    "new_df = new_df.fillna('Unknown')\n",
    "new_df"
   ]
  },
  {
   "cell_type": "code",
   "execution_count": 8,
   "metadata": {},
   "outputs": [
    {
     "name": "stdout",
     "output_type": "stream",
     "text": [
      "There are  1676  photographers\n",
      "There are  104  countries\n"
     ]
    }
   ],
   "source": [
    "#Check how many photographers and come from how many countries\n",
    "num_photographers = merged_df['Photographer'].nunique()\n",
    "num_countries = merged_df['Photographer_Country'].nunique()\n",
    "\n",
    "print(\"There are \", num_photographers, \" photographers\")\n",
    "print(\"There are \", num_countries, \" countries\")"
   ]
  },
  {
   "cell_type": "code",
   "execution_count": 9,
   "metadata": {},
   "outputs": [
    {
     "name": "stdout",
     "output_type": "stream",
     "text": [
      "There is no photographer from multiple countries.\n"
     ]
    }
   ],
   "source": [
    "# Group the column \"Photographer\" and count the number of unique countries in each group\n",
    "grouped_df = new_df.groupby('Photographer').agg({'Photographer_Country': pd.Series.nunique}).reset_index()\n",
    "\n",
    "# Check there are if photograhper from multiple countries\n",
    "photographers_with_multiple_countries = grouped_df[grouped_df['Photographer_Country'] > 1]\n",
    "if len(photographers_with_multiple_countries) == 0:\n",
    "    print(\"There is no photographer from multiple countries.\")\n",
    "else:\n",
    "    print(\"Photographers with multiple countries:\")\n",
    "    print(photographers_with_multiple_countries)"
   ]
  },
  {
   "cell_type": "code",
   "execution_count": 274,
   "metadata": {},
   "outputs": [
    {
     "name": "stdout",
     "output_type": "stream",
     "text": [
      "   Photographer_Country  Counts\n",
      "91                  USA    2908\n",
      "28               France    1003\n",
      "98              Unknown     894\n",
      "29              Germany     848\n",
      "41                Italy     843\n",
      "..                  ...     ...\n",
      "99              Uruguay       1\n",
      "66            Palestine       1\n",
      "30            Gibraltar       1\n",
      "81                Sudan       1\n",
      "50                 Mali       1\n",
      "\n",
      "[105 rows x 2 columns]\n"
     ]
    },
    {
     "data": {
      "application/vnd.plotly.v1+json": {
       "config": {
        "plotlyServerURL": "https://plot.ly"
       },
       "data": [
        {
         "alignmentgroup": "True",
         "hovertemplate": "Photographer_Country=%{x}<br>Counts=%{y}<extra></extra>",
         "legendgroup": "",
         "marker": {
          "color": "#636efa",
          "pattern": {
           "shape": ""
          }
         },
         "name": "",
         "offsetgroup": "",
         "orientation": "v",
         "showlegend": false,
         "textposition": "auto",
         "type": "bar",
         "x": [
          "USA",
          "France",
          "Unknown",
          "Germany",
          "Italy",
          "United Kingdom",
          "Australia",
          "Russia",
          "The Netherlands",
          "Denmark",
          "Canada",
          "South Africa",
          "Spain",
          "Poland",
          "Argentina",
          "China",
          "Switzerland",
          "Belgium",
          "Hungary",
          "Brazil",
          "Ireland",
          "Czech Republic",
          "Iran",
          "Sweden",
          "Japan",
          "United States",
          "Not Specified",
          "India",
          "Mexico",
          "Norway",
          "Finland",
          "Peru",
          "UK",
          "Israel",
          "the Netherlands",
          "Bangladesh",
          "Colombia",
          "Cuba",
          "Chile",
          "Bosnia and Herzegovina",
          "Netherlands",
          "He studied journalism in Stavropol, Russia and began his photographic career working for The North Caucasus newspaper. For ten years he was a staff photographer for Kommersant publishing house and since 2009 for international news agency Rossiya Segodnya.",
          "Philippines",
          "Austria",
          "Egypt",
          "Slovenia",
          "Greece",
          "Serbia",
          "Venezuela",
          "Portugal",
          "United States ",
          "Indonesia",
          "Armenia",
          "Ethiopia",
          "New Zealand",
          "South Korea",
          "Syria",
          "Turkey",
          "Palestinian Territories",
          "Netherlands, The",
          "Ecuador",
          "Soviet Union",
          "Azerbaijan",
          "Haiti",
          "El Salvador",
          "Belarus",
          "United States of America",
          "Ukraine",
          "Nigeria",
          "Most of her long-term projects focus on the aftermath of loss. Having experienced loss herself, she aims to draw attention to the issues people face when dealing with it.",
          "United Kingdom ",
          "Luxembourg",
          "Thailand",
          "Turkey ",
          "Jordan",
          "Vietnam",
          "Morocco",
          "Namibia",
          "\tHe began taking photos with his iPhone to avoid being visible and getting arrested. Later, he started using his ordinary digital camera and worked on developing his skill in the field as he had no formal photojournalism training.",
          "Bolivia",
          "Latvia",
          "Bulgaria",
          "Yugoslavia",
          "Somalia",
          "Zimbabwe",
          "Kenya",
          "Lithuania",
          "Malaysia",
          "Malta",
          "Algeria",
          "Hong Kong",
          "Myanmar",
          "Netherlands Antilles",
          "Puerto Rico",
          "Afghanistan",
          "Monaco",
          "Australia ",
          "The Philippines",
          "Lebanon",
          "Pakistan",
          "Uruguay",
          "Palestine",
          "Gibraltar",
          "Sudan",
          "Mali"
         ],
         "xaxis": "x",
         "y": [
          2908,
          1003,
          894,
          848,
          843,
          808,
          580,
          551,
          498,
          334,
          314,
          287,
          269,
          165,
          144,
          140,
          138,
          138,
          121,
          121,
          116,
          115,
          114,
          108,
          90,
          89,
          89,
          86,
          80,
          79,
          66,
          61,
          61,
          55,
          54,
          54,
          42,
          36,
          35,
          31,
          31,
          31,
          31,
          29,
          28,
          26,
          24,
          24,
          23,
          23,
          22,
          22,
          21,
          21,
          20,
          20,
          19,
          16,
          15,
          13,
          13,
          12,
          12,
          11,
          11,
          11,
          11,
          11,
          11,
          10,
          10,
          10,
          10,
          10,
          10,
          10,
          10,
          10,
          9,
          8,
          8,
          6,
          6,
          5,
          4,
          4,
          3,
          3,
          2,
          2,
          2,
          2,
          2,
          2,
          1,
          1,
          1,
          1,
          1,
          1,
          1,
          1,
          1,
          1,
          1
         ],
         "yaxis": "y"
        }
       ],
       "layout": {
        "barmode": "relative",
        "legend": {
         "tracegroupgap": 0
        },
        "template": {
         "data": {
          "bar": [
           {
            "error_x": {
             "color": "#2a3f5f"
            },
            "error_y": {
             "color": "#2a3f5f"
            },
            "marker": {
             "line": {
              "color": "#E5ECF6",
              "width": 0.5
             },
             "pattern": {
              "fillmode": "overlay",
              "size": 10,
              "solidity": 0.2
             }
            },
            "type": "bar"
           }
          ],
          "barpolar": [
           {
            "marker": {
             "line": {
              "color": "#E5ECF6",
              "width": 0.5
             },
             "pattern": {
              "fillmode": "overlay",
              "size": 10,
              "solidity": 0.2
             }
            },
            "type": "barpolar"
           }
          ],
          "carpet": [
           {
            "aaxis": {
             "endlinecolor": "#2a3f5f",
             "gridcolor": "white",
             "linecolor": "white",
             "minorgridcolor": "white",
             "startlinecolor": "#2a3f5f"
            },
            "baxis": {
             "endlinecolor": "#2a3f5f",
             "gridcolor": "white",
             "linecolor": "white",
             "minorgridcolor": "white",
             "startlinecolor": "#2a3f5f"
            },
            "type": "carpet"
           }
          ],
          "choropleth": [
           {
            "colorbar": {
             "outlinewidth": 0,
             "ticks": ""
            },
            "type": "choropleth"
           }
          ],
          "contour": [
           {
            "colorbar": {
             "outlinewidth": 0,
             "ticks": ""
            },
            "colorscale": [
             [
              0,
              "#0d0887"
             ],
             [
              0.1111111111111111,
              "#46039f"
             ],
             [
              0.2222222222222222,
              "#7201a8"
             ],
             [
              0.3333333333333333,
              "#9c179e"
             ],
             [
              0.4444444444444444,
              "#bd3786"
             ],
             [
              0.5555555555555556,
              "#d8576b"
             ],
             [
              0.6666666666666666,
              "#ed7953"
             ],
             [
              0.7777777777777778,
              "#fb9f3a"
             ],
             [
              0.8888888888888888,
              "#fdca26"
             ],
             [
              1,
              "#f0f921"
             ]
            ],
            "type": "contour"
           }
          ],
          "contourcarpet": [
           {
            "colorbar": {
             "outlinewidth": 0,
             "ticks": ""
            },
            "type": "contourcarpet"
           }
          ],
          "heatmap": [
           {
            "colorbar": {
             "outlinewidth": 0,
             "ticks": ""
            },
            "colorscale": [
             [
              0,
              "#0d0887"
             ],
             [
              0.1111111111111111,
              "#46039f"
             ],
             [
              0.2222222222222222,
              "#7201a8"
             ],
             [
              0.3333333333333333,
              "#9c179e"
             ],
             [
              0.4444444444444444,
              "#bd3786"
             ],
             [
              0.5555555555555556,
              "#d8576b"
             ],
             [
              0.6666666666666666,
              "#ed7953"
             ],
             [
              0.7777777777777778,
              "#fb9f3a"
             ],
             [
              0.8888888888888888,
              "#fdca26"
             ],
             [
              1,
              "#f0f921"
             ]
            ],
            "type": "heatmap"
           }
          ],
          "heatmapgl": [
           {
            "colorbar": {
             "outlinewidth": 0,
             "ticks": ""
            },
            "colorscale": [
             [
              0,
              "#0d0887"
             ],
             [
              0.1111111111111111,
              "#46039f"
             ],
             [
              0.2222222222222222,
              "#7201a8"
             ],
             [
              0.3333333333333333,
              "#9c179e"
             ],
             [
              0.4444444444444444,
              "#bd3786"
             ],
             [
              0.5555555555555556,
              "#d8576b"
             ],
             [
              0.6666666666666666,
              "#ed7953"
             ],
             [
              0.7777777777777778,
              "#fb9f3a"
             ],
             [
              0.8888888888888888,
              "#fdca26"
             ],
             [
              1,
              "#f0f921"
             ]
            ],
            "type": "heatmapgl"
           }
          ],
          "histogram": [
           {
            "marker": {
             "pattern": {
              "fillmode": "overlay",
              "size": 10,
              "solidity": 0.2
             }
            },
            "type": "histogram"
           }
          ],
          "histogram2d": [
           {
            "colorbar": {
             "outlinewidth": 0,
             "ticks": ""
            },
            "colorscale": [
             [
              0,
              "#0d0887"
             ],
             [
              0.1111111111111111,
              "#46039f"
             ],
             [
              0.2222222222222222,
              "#7201a8"
             ],
             [
              0.3333333333333333,
              "#9c179e"
             ],
             [
              0.4444444444444444,
              "#bd3786"
             ],
             [
              0.5555555555555556,
              "#d8576b"
             ],
             [
              0.6666666666666666,
              "#ed7953"
             ],
             [
              0.7777777777777778,
              "#fb9f3a"
             ],
             [
              0.8888888888888888,
              "#fdca26"
             ],
             [
              1,
              "#f0f921"
             ]
            ],
            "type": "histogram2d"
           }
          ],
          "histogram2dcontour": [
           {
            "colorbar": {
             "outlinewidth": 0,
             "ticks": ""
            },
            "colorscale": [
             [
              0,
              "#0d0887"
             ],
             [
              0.1111111111111111,
              "#46039f"
             ],
             [
              0.2222222222222222,
              "#7201a8"
             ],
             [
              0.3333333333333333,
              "#9c179e"
             ],
             [
              0.4444444444444444,
              "#bd3786"
             ],
             [
              0.5555555555555556,
              "#d8576b"
             ],
             [
              0.6666666666666666,
              "#ed7953"
             ],
             [
              0.7777777777777778,
              "#fb9f3a"
             ],
             [
              0.8888888888888888,
              "#fdca26"
             ],
             [
              1,
              "#f0f921"
             ]
            ],
            "type": "histogram2dcontour"
           }
          ],
          "mesh3d": [
           {
            "colorbar": {
             "outlinewidth": 0,
             "ticks": ""
            },
            "type": "mesh3d"
           }
          ],
          "parcoords": [
           {
            "line": {
             "colorbar": {
              "outlinewidth": 0,
              "ticks": ""
             }
            },
            "type": "parcoords"
           }
          ],
          "pie": [
           {
            "automargin": true,
            "type": "pie"
           }
          ],
          "scatter": [
           {
            "fillpattern": {
             "fillmode": "overlay",
             "size": 10,
             "solidity": 0.2
            },
            "type": "scatter"
           }
          ],
          "scatter3d": [
           {
            "line": {
             "colorbar": {
              "outlinewidth": 0,
              "ticks": ""
             }
            },
            "marker": {
             "colorbar": {
              "outlinewidth": 0,
              "ticks": ""
             }
            },
            "type": "scatter3d"
           }
          ],
          "scattercarpet": [
           {
            "marker": {
             "colorbar": {
              "outlinewidth": 0,
              "ticks": ""
             }
            },
            "type": "scattercarpet"
           }
          ],
          "scattergeo": [
           {
            "marker": {
             "colorbar": {
              "outlinewidth": 0,
              "ticks": ""
             }
            },
            "type": "scattergeo"
           }
          ],
          "scattergl": [
           {
            "marker": {
             "colorbar": {
              "outlinewidth": 0,
              "ticks": ""
             }
            },
            "type": "scattergl"
           }
          ],
          "scattermapbox": [
           {
            "marker": {
             "colorbar": {
              "outlinewidth": 0,
              "ticks": ""
             }
            },
            "type": "scattermapbox"
           }
          ],
          "scatterpolar": [
           {
            "marker": {
             "colorbar": {
              "outlinewidth": 0,
              "ticks": ""
             }
            },
            "type": "scatterpolar"
           }
          ],
          "scatterpolargl": [
           {
            "marker": {
             "colorbar": {
              "outlinewidth": 0,
              "ticks": ""
             }
            },
            "type": "scatterpolargl"
           }
          ],
          "scatterternary": [
           {
            "marker": {
             "colorbar": {
              "outlinewidth": 0,
              "ticks": ""
             }
            },
            "type": "scatterternary"
           }
          ],
          "surface": [
           {
            "colorbar": {
             "outlinewidth": 0,
             "ticks": ""
            },
            "colorscale": [
             [
              0,
              "#0d0887"
             ],
             [
              0.1111111111111111,
              "#46039f"
             ],
             [
              0.2222222222222222,
              "#7201a8"
             ],
             [
              0.3333333333333333,
              "#9c179e"
             ],
             [
              0.4444444444444444,
              "#bd3786"
             ],
             [
              0.5555555555555556,
              "#d8576b"
             ],
             [
              0.6666666666666666,
              "#ed7953"
             ],
             [
              0.7777777777777778,
              "#fb9f3a"
             ],
             [
              0.8888888888888888,
              "#fdca26"
             ],
             [
              1,
              "#f0f921"
             ]
            ],
            "type": "surface"
           }
          ],
          "table": [
           {
            "cells": {
             "fill": {
              "color": "#EBF0F8"
             },
             "line": {
              "color": "white"
             }
            },
            "header": {
             "fill": {
              "color": "#C8D4E3"
             },
             "line": {
              "color": "white"
             }
            },
            "type": "table"
           }
          ]
         },
         "layout": {
          "annotationdefaults": {
           "arrowcolor": "#2a3f5f",
           "arrowhead": 0,
           "arrowwidth": 1
          },
          "autotypenumbers": "strict",
          "coloraxis": {
           "colorbar": {
            "outlinewidth": 0,
            "ticks": ""
           }
          },
          "colorscale": {
           "diverging": [
            [
             0,
             "#8e0152"
            ],
            [
             0.1,
             "#c51b7d"
            ],
            [
             0.2,
             "#de77ae"
            ],
            [
             0.3,
             "#f1b6da"
            ],
            [
             0.4,
             "#fde0ef"
            ],
            [
             0.5,
             "#f7f7f7"
            ],
            [
             0.6,
             "#e6f5d0"
            ],
            [
             0.7,
             "#b8e186"
            ],
            [
             0.8,
             "#7fbc41"
            ],
            [
             0.9,
             "#4d9221"
            ],
            [
             1,
             "#276419"
            ]
           ],
           "sequential": [
            [
             0,
             "#0d0887"
            ],
            [
             0.1111111111111111,
             "#46039f"
            ],
            [
             0.2222222222222222,
             "#7201a8"
            ],
            [
             0.3333333333333333,
             "#9c179e"
            ],
            [
             0.4444444444444444,
             "#bd3786"
            ],
            [
             0.5555555555555556,
             "#d8576b"
            ],
            [
             0.6666666666666666,
             "#ed7953"
            ],
            [
             0.7777777777777778,
             "#fb9f3a"
            ],
            [
             0.8888888888888888,
             "#fdca26"
            ],
            [
             1,
             "#f0f921"
            ]
           ],
           "sequentialminus": [
            [
             0,
             "#0d0887"
            ],
            [
             0.1111111111111111,
             "#46039f"
            ],
            [
             0.2222222222222222,
             "#7201a8"
            ],
            [
             0.3333333333333333,
             "#9c179e"
            ],
            [
             0.4444444444444444,
             "#bd3786"
            ],
            [
             0.5555555555555556,
             "#d8576b"
            ],
            [
             0.6666666666666666,
             "#ed7953"
            ],
            [
             0.7777777777777778,
             "#fb9f3a"
            ],
            [
             0.8888888888888888,
             "#fdca26"
            ],
            [
             1,
             "#f0f921"
            ]
           ]
          },
          "colorway": [
           "#636efa",
           "#EF553B",
           "#00cc96",
           "#ab63fa",
           "#FFA15A",
           "#19d3f3",
           "#FF6692",
           "#B6E880",
           "#FF97FF",
           "#FECB52"
          ],
          "font": {
           "color": "#2a3f5f"
          },
          "geo": {
           "bgcolor": "white",
           "lakecolor": "white",
           "landcolor": "#E5ECF6",
           "showlakes": true,
           "showland": true,
           "subunitcolor": "white"
          },
          "hoverlabel": {
           "align": "left"
          },
          "hovermode": "closest",
          "mapbox": {
           "style": "light"
          },
          "paper_bgcolor": "white",
          "plot_bgcolor": "#E5ECF6",
          "polar": {
           "angularaxis": {
            "gridcolor": "white",
            "linecolor": "white",
            "ticks": ""
           },
           "bgcolor": "#E5ECF6",
           "radialaxis": {
            "gridcolor": "white",
            "linecolor": "white",
            "ticks": ""
           }
          },
          "scene": {
           "xaxis": {
            "backgroundcolor": "#E5ECF6",
            "gridcolor": "white",
            "gridwidth": 2,
            "linecolor": "white",
            "showbackground": true,
            "ticks": "",
            "zerolinecolor": "white"
           },
           "yaxis": {
            "backgroundcolor": "#E5ECF6",
            "gridcolor": "white",
            "gridwidth": 2,
            "linecolor": "white",
            "showbackground": true,
            "ticks": "",
            "zerolinecolor": "white"
           },
           "zaxis": {
            "backgroundcolor": "#E5ECF6",
            "gridcolor": "white",
            "gridwidth": 2,
            "linecolor": "white",
            "showbackground": true,
            "ticks": "",
            "zerolinecolor": "white"
           }
          },
          "shapedefaults": {
           "line": {
            "color": "#2a3f5f"
           }
          },
          "ternary": {
           "aaxis": {
            "gridcolor": "white",
            "linecolor": "white",
            "ticks": ""
           },
           "baxis": {
            "gridcolor": "white",
            "linecolor": "white",
            "ticks": ""
           },
           "bgcolor": "#E5ECF6",
           "caxis": {
            "gridcolor": "white",
            "linecolor": "white",
            "ticks": ""
           }
          },
          "title": {
           "x": 0.05
          },
          "xaxis": {
           "automargin": true,
           "gridcolor": "white",
           "linecolor": "white",
           "ticks": "",
           "title": {
            "standoff": 15
           },
           "zerolinecolor": "white",
           "zerolinewidth": 2
          },
          "yaxis": {
           "automargin": true,
           "gridcolor": "white",
           "linecolor": "white",
           "ticks": "",
           "title": {
            "standoff": 15
           },
           "zerolinecolor": "white",
           "zerolinewidth": 2
          }
         }
        },
        "title": {
         "text": "Number of Photographers per Country"
        },
        "xaxis": {
         "anchor": "y",
         "domain": [
          0,
          1
         ],
         "title": {
          "text": "Photographer_Country"
         }
        },
        "yaxis": {
         "anchor": "x",
         "domain": [
          0,
          1
         ],
         "title": {
          "text": "Counts"
         },
         "type": "log"
        }
       }
      }
     },
     "metadata": {},
     "output_type": "display_data"
    }
   ],
   "source": [
    "import plotly.express as px\n",
    "\n",
    "#Group the \"Photographer_Country\" column and count the number of each country\n",
    "grouped_df = merged_df.groupby('Photographer_Country').size().reset_index(name='Counts')\n",
    "sorted_df = grouped_df.sort_values(by='Counts', ascending=False)\n",
    "sorted_df = sorted_df[sorted_df['Counts'] > 0]\n",
    "print(sorted_df)\n",
    "\n",
    "fig = px.bar(sorted_df, x='Photographer_Country', y='Counts', title='Number of Photographers per Country')\n",
    "fig.update_yaxes(type='log')\n",
    "fig.show()"
   ]
  },
  {
   "attachments": {},
   "cell_type": "markdown",
   "metadata": {},
   "source": [
    "**Re-read the original table that has already extracted country and region information (manual + AI)**"
   ]
  },
  {
   "cell_type": "code",
   "execution_count": 49,
   "metadata": {},
   "outputs": [],
   "source": [
    "filename = \"new_df_country(3).csv\"\n",
    "\n",
    "new_df_country.to_csv(filename, index=False)"
   ]
  },
  {
   "attachments": {},
   "cell_type": "markdown",
   "metadata": {},
   "source": [
    "**Data clean**"
   ]
  },
  {
   "cell_type": "code",
   "execution_count": 260,
   "metadata": {},
   "outputs": [
    {
     "data": {
      "text/html": [
       "<div>\n",
       "<style scoped>\n",
       "    .dataframe tbody tr th:only-of-type {\n",
       "        vertical-align: middle;\n",
       "    }\n",
       "\n",
       "    .dataframe tbody tr th {\n",
       "        vertical-align: top;\n",
       "    }\n",
       "\n",
       "    .dataframe thead th {\n",
       "        text-align: right;\n",
       "    }\n",
       "</style>\n",
       "<table border=\"1\" class=\"dataframe\">\n",
       "  <thead>\n",
       "    <tr style=\"text-align: right;\">\n",
       "      <th></th>\n",
       "      <th>Photographer</th>\n",
       "      <th>Photographer_Country</th>\n",
       "      <th>Description</th>\n",
       "      <th>Phonto_Country</th>\n",
       "    </tr>\n",
       "  </thead>\n",
       "  <tbody>\n",
       "    <tr>\n",
       "      <th>0</th>\n",
       "      <td>Mogens Haven</td>\n",
       "      <td>Denmark</td>\n",
       "      <td>A competitor tumbles off his motorcycle during...</td>\n",
       "      <td>Germany</td>\n",
       "    </tr>\n",
       "    <tr>\n",
       "      <th>1</th>\n",
       "      <td>Helmuth Pirath</td>\n",
       "      <td>Germany</td>\n",
       "      <td>‘Sp?theimkehrer’: A German prisoner of war is ...</td>\n",
       "      <td>Germany</td>\n",
       "    </tr>\n",
       "    <tr>\n",
       "      <th>2</th>\n",
       "      <td>Louis Garnade</td>\n",
       "      <td>United Kingdom</td>\n",
       "      <td>A child is being rescued by the fire brigade f...</td>\n",
       "      <td>Country: United Kingdom</td>\n",
       "    </tr>\n",
       "    <tr>\n",
       "      <th>3</th>\n",
       "      <td>Antoine Rulmont</td>\n",
       "      <td>Belgium</td>\n",
       "      <td>Family members wait for news about their loved...</td>\n",
       "      <td>Belgium</td>\n",
       "    </tr>\n",
       "    <tr>\n",
       "      <th>4</th>\n",
       "      <td>Franz Votava</td>\n",
       "      <td>Austria</td>\n",
       "      <td>The famous Austrian alpine skier Tony Sailer d...</td>\n",
       "      <td>Italy.</td>\n",
       "    </tr>\n",
       "    <tr>\n",
       "      <th>...</th>\n",
       "      <td>...</td>\n",
       "      <td>...</td>\n",
       "      <td>...</td>\n",
       "      <td>...</td>\n",
       "    </tr>\n",
       "    <tr>\n",
       "      <th>13291</th>\n",
       "      <td>HannahReyes Morales</td>\n",
       "      <td>Philippines</td>\n",
       "      <td>Unknown</td>\n",
       "      <td>Unknown.</td>\n",
       "    </tr>\n",
       "    <tr>\n",
       "      <th>13292</th>\n",
       "      <td>HannahReyes Morales</td>\n",
       "      <td>Philippines</td>\n",
       "      <td>Unknown</td>\n",
       "      <td>Unknown.</td>\n",
       "    </tr>\n",
       "    <tr>\n",
       "      <th>13293</th>\n",
       "      <td>HannahReyes Morales</td>\n",
       "      <td>Philippines</td>\n",
       "      <td>Unknown</td>\n",
       "      <td>Unknown.</td>\n",
       "    </tr>\n",
       "    <tr>\n",
       "      <th>13294</th>\n",
       "      <td>Johanna Alarcón</td>\n",
       "      <td>Ecuador</td>\n",
       "      <td>Unknown</td>\n",
       "      <td>Unknown.</td>\n",
       "    </tr>\n",
       "    <tr>\n",
       "      <th>13295</th>\n",
       "      <td>Mohamed Mahdy</td>\n",
       "      <td>Egypt</td>\n",
       "      <td>Unknown</td>\n",
       "      <td>Unknown.</td>\n",
       "    </tr>\n",
       "  </tbody>\n",
       "</table>\n",
       "<p>13296 rows × 4 columns</p>\n",
       "</div>"
      ],
      "text/plain": [
       "              Photographer Photographer_Country   \n",
       "0             Mogens Haven              Denmark  \\\n",
       "1           Helmuth Pirath              Germany   \n",
       "2            Louis Garnade       United Kingdom   \n",
       "3          Antoine Rulmont              Belgium   \n",
       "4             Franz Votava              Austria   \n",
       "...                    ...                  ...   \n",
       "13291  HannahReyes Morales          Philippines   \n",
       "13292  HannahReyes Morales          Philippines   \n",
       "13293  HannahReyes Morales          Philippines   \n",
       "13294      Johanna Alarcón              Ecuador   \n",
       "13295        Mohamed Mahdy                Egypt   \n",
       "\n",
       "                                             Description   \n",
       "0      A competitor tumbles off his motorcycle during...  \\\n",
       "1      ‘Sp?theimkehrer’: A German prisoner of war is ...   \n",
       "2      A child is being rescued by the fire brigade f...   \n",
       "3      Family members wait for news about their loved...   \n",
       "4      The famous Austrian alpine skier Tony Sailer d...   \n",
       "...                                                  ...   \n",
       "13291                                            Unknown   \n",
       "13292                                            Unknown   \n",
       "13293                                            Unknown   \n",
       "13294                                            Unknown   \n",
       "13295                                            Unknown   \n",
       "\n",
       "                Phonto_Country  \n",
       "0                      Germany  \n",
       "1                      Germany  \n",
       "2      Country: United Kingdom  \n",
       "3                      Belgium  \n",
       "4                       Italy.  \n",
       "...                        ...  \n",
       "13291                 Unknown.  \n",
       "13292                 Unknown.  \n",
       "13293                 Unknown.  \n",
       "13294                 Unknown.  \n",
       "13295                 Unknown.  \n",
       "\n",
       "[13296 rows x 4 columns]"
      ]
     },
     "execution_count": 260,
     "metadata": {},
     "output_type": "execute_result"
    }
   ],
   "source": [
    "df_country = pd.read_csv('new_df_country(3).csv')\n",
    "df_country"
   ]
  },
  {
   "cell_type": "code",
   "execution_count": 267,
   "metadata": {},
   "outputs": [],
   "source": [
    "df_country_clean = df_country.copy()\n",
    "\n",
    "# delete \"Country: \"\n",
    "df_country_clean['Phonto_Country'] = df_country_clean['Phonto_Country'].str.replace('Country: ', '')\n",
    "\n",
    "punctuation_pattern = r'[^\\w\\s]'\n",
    "df_country_clean['Phonto_Country'] = df_country_clean['Phonto_Country'].str.replace(punctuation_pattern, '')\n",
    "\n",
    "replacement_pattern = r'None|none|Sorry|No word|N/A'\n",
    "df_country_clean['Phonto_Country'] = df_country_clean['Phonto_Country'].str.replace(replacement_pattern, 'Unknown')\n",
    "\n",
    "df_country_clean['Phonto_Country'] = df_country_clean['Phonto_Country'].str.replace('Word:', '')\n",
    "\n",
    "df_country_clean['Phonto_Country'] = df_country_clean['Phonto_Country'].str.replace('None. This text does not describe the winning photo from World Press Photo.', 'Unknown')\n"
   ]
  },
  {
   "cell_type": "code",
   "execution_count": 269,
   "metadata": {},
   "outputs": [
    {
     "data": {
      "text/html": [
       "<div>\n",
       "<style scoped>\n",
       "    .dataframe tbody tr th:only-of-type {\n",
       "        vertical-align: middle;\n",
       "    }\n",
       "\n",
       "    .dataframe tbody tr th {\n",
       "        vertical-align: top;\n",
       "    }\n",
       "\n",
       "    .dataframe thead th {\n",
       "        text-align: right;\n",
       "    }\n",
       "</style>\n",
       "<table border=\"1\" class=\"dataframe\">\n",
       "  <thead>\n",
       "    <tr style=\"text-align: right;\">\n",
       "      <th></th>\n",
       "      <th>Photographer</th>\n",
       "      <th>Photographer_Country</th>\n",
       "      <th>Description</th>\n",
       "      <th>Photo_Country</th>\n",
       "    </tr>\n",
       "  </thead>\n",
       "  <tbody>\n",
       "    <tr>\n",
       "      <th>0</th>\n",
       "      <td>Mogens Haven</td>\n",
       "      <td>Denmark</td>\n",
       "      <td>A competitor tumbles off his motorcycle during...</td>\n",
       "      <td>Germany</td>\n",
       "    </tr>\n",
       "    <tr>\n",
       "      <th>1</th>\n",
       "      <td>Helmuth Pirath</td>\n",
       "      <td>Germany</td>\n",
       "      <td>‘Sp?theimkehrer’: A German prisoner of war is ...</td>\n",
       "      <td>Germany</td>\n",
       "    </tr>\n",
       "    <tr>\n",
       "      <th>2</th>\n",
       "      <td>Louis Garnade</td>\n",
       "      <td>United Kingdom</td>\n",
       "      <td>A child is being rescued by the fire brigade f...</td>\n",
       "      <td>United Kingdom</td>\n",
       "    </tr>\n",
       "    <tr>\n",
       "      <th>3</th>\n",
       "      <td>Antoine Rulmont</td>\n",
       "      <td>Belgium</td>\n",
       "      <td>Family members wait for news about their loved...</td>\n",
       "      <td>Belgium</td>\n",
       "    </tr>\n",
       "    <tr>\n",
       "      <th>4</th>\n",
       "      <td>Franz Votava</td>\n",
       "      <td>Austria</td>\n",
       "      <td>The famous Austrian alpine skier Tony Sailer d...</td>\n",
       "      <td>Italy.</td>\n",
       "    </tr>\n",
       "    <tr>\n",
       "      <th>...</th>\n",
       "      <td>...</td>\n",
       "      <td>...</td>\n",
       "      <td>...</td>\n",
       "      <td>...</td>\n",
       "    </tr>\n",
       "    <tr>\n",
       "      <th>13291</th>\n",
       "      <td>HannahReyes Morales</td>\n",
       "      <td>Philippines</td>\n",
       "      <td>Unknown</td>\n",
       "      <td>Unknown.</td>\n",
       "    </tr>\n",
       "    <tr>\n",
       "      <th>13292</th>\n",
       "      <td>HannahReyes Morales</td>\n",
       "      <td>Philippines</td>\n",
       "      <td>Unknown</td>\n",
       "      <td>Unknown.</td>\n",
       "    </tr>\n",
       "    <tr>\n",
       "      <th>13293</th>\n",
       "      <td>HannahReyes Morales</td>\n",
       "      <td>Philippines</td>\n",
       "      <td>Unknown</td>\n",
       "      <td>Unknown.</td>\n",
       "    </tr>\n",
       "    <tr>\n",
       "      <th>13294</th>\n",
       "      <td>Johanna Alarcón</td>\n",
       "      <td>Ecuador</td>\n",
       "      <td>Unknown</td>\n",
       "      <td>Unknown.</td>\n",
       "    </tr>\n",
       "    <tr>\n",
       "      <th>13295</th>\n",
       "      <td>Mohamed Mahdy</td>\n",
       "      <td>Egypt</td>\n",
       "      <td>Unknown</td>\n",
       "      <td>Unknown.</td>\n",
       "    </tr>\n",
       "  </tbody>\n",
       "</table>\n",
       "<p>13296 rows × 4 columns</p>\n",
       "</div>"
      ],
      "text/plain": [
       "              Photographer Photographer_Country   \n",
       "0             Mogens Haven              Denmark  \\\n",
       "1           Helmuth Pirath              Germany   \n",
       "2            Louis Garnade       United Kingdom   \n",
       "3          Antoine Rulmont              Belgium   \n",
       "4             Franz Votava              Austria   \n",
       "...                    ...                  ...   \n",
       "13291  HannahReyes Morales          Philippines   \n",
       "13292  HannahReyes Morales          Philippines   \n",
       "13293  HannahReyes Morales          Philippines   \n",
       "13294      Johanna Alarcón              Ecuador   \n",
       "13295        Mohamed Mahdy                Egypt   \n",
       "\n",
       "                                             Description   Photo_Country  \n",
       "0      A competitor tumbles off his motorcycle during...         Germany  \n",
       "1      ‘Sp?theimkehrer’: A German prisoner of war is ...         Germany  \n",
       "2      A child is being rescued by the fire brigade f...  United Kingdom  \n",
       "3      Family members wait for news about their loved...         Belgium  \n",
       "4      The famous Austrian alpine skier Tony Sailer d...          Italy.  \n",
       "...                                                  ...             ...  \n",
       "13291                                            Unknown        Unknown.  \n",
       "13292                                            Unknown        Unknown.  \n",
       "13293                                            Unknown        Unknown.  \n",
       "13294                                            Unknown        Unknown.  \n",
       "13295                                            Unknown        Unknown.  \n",
       "\n",
       "[13296 rows x 4 columns]"
      ]
     },
     "metadata": {},
     "output_type": "display_data"
    }
   ],
   "source": [
    "#rename\n",
    "df_country_clean = df_country_clean.rename(columns={'Phonto_Country': 'Photo_Country'})\n",
    "\n",
    "display(df_country_clean)"
   ]
  },
  {
   "cell_type": "code",
   "execution_count": 276,
   "metadata": {},
   "outputs": [
    {
     "data": {
      "text/html": [
       "<div>\n",
       "<style scoped>\n",
       "    .dataframe tbody tr th:only-of-type {\n",
       "        vertical-align: middle;\n",
       "    }\n",
       "\n",
       "    .dataframe tbody tr th {\n",
       "        vertical-align: top;\n",
       "    }\n",
       "\n",
       "    .dataframe thead th {\n",
       "        text-align: right;\n",
       "    }\n",
       "</style>\n",
       "<table border=\"1\" class=\"dataframe\">\n",
       "  <thead>\n",
       "    <tr style=\"text-align: right;\">\n",
       "      <th></th>\n",
       "      <th>Photographer</th>\n",
       "      <th>Photographer_Country</th>\n",
       "      <th>Photo_Country</th>\n",
       "      <th>Description</th>\n",
       "    </tr>\n",
       "  </thead>\n",
       "  <tbody>\n",
       "    <tr>\n",
       "      <th>0</th>\n",
       "      <td>Anna Bedyńska</td>\n",
       "      <td>Poland</td>\n",
       "      <td>Poland</td>\n",
       "      <td>Zuzia is a girl with albinism, and attends a s...</td>\n",
       "    </tr>\n",
       "    <tr>\n",
       "      <th>1</th>\n",
       "      <td>Peter Schols</td>\n",
       "      <td>The Netherlands</td>\n",
       "      <td>France</td>\n",
       "      <td>Zidane leaves the field. Top French footballer...</td>\n",
       "    </tr>\n",
       "    <tr>\n",
       "      <th>2</th>\n",
       "      <td>Peter Schols</td>\n",
       "      <td>The Netherlands</td>\n",
       "      <td>France</td>\n",
       "      <td>Zidane leaves the field. Top French footballer...</td>\n",
       "    </tr>\n",
       "    <tr>\n",
       "      <th>3</th>\n",
       "      <td>Kunrong Chen</td>\n",
       "      <td>China</td>\n",
       "      <td>China</td>\n",
       "      <td>Zhuhai, Guandong, China\\nYoung men playing bas...</td>\n",
       "    </tr>\n",
       "    <tr>\n",
       "      <th>4</th>\n",
       "      <td>Kunrong Chen</td>\n",
       "      <td>China</td>\n",
       "      <td>China</td>\n",
       "      <td>Zhuhai, Guandong, China\\nSwimming in hot weath...</td>\n",
       "    </tr>\n",
       "    <tr>\n",
       "      <th>...</th>\n",
       "      <td>...</td>\n",
       "      <td>...</td>\n",
       "      <td>...</td>\n",
       "      <td>...</td>\n",
       "    </tr>\n",
       "    <tr>\n",
       "      <th>13291</th>\n",
       "      <td>Helmuth Pirath</td>\n",
       "      <td>Germany</td>\n",
       "      <td>Germany</td>\n",
       "      <td>‘Sp?theimkehrer’: A German prisoner of war is ...</td>\n",
       "    </tr>\n",
       "    <tr>\n",
       "      <th>13292</th>\n",
       "      <td>Helmuth Pirath</td>\n",
       "      <td>Germany</td>\n",
       "      <td>Germany</td>\n",
       "      <td>‘Sp?theimkehrer’: A German prisoner of war is ...</td>\n",
       "    </tr>\n",
       "    <tr>\n",
       "      <th>13293</th>\n",
       "      <td>Francesco Pistilli</td>\n",
       "      <td>Italy</td>\n",
       "      <td>Serbia</td>\n",
       "      <td>‘I want to be home. Please no war’ is written ...</td>\n",
       "    </tr>\n",
       "    <tr>\n",
       "      <th>13294</th>\n",
       "      <td>Sabiha ?imen</td>\n",
       "      <td>Unknown</td>\n",
       "      <td>Turkey</td>\n",
       "      <td>?üheda has painted her face black for her role...</td>\n",
       "    </tr>\n",
       "    <tr>\n",
       "      <th>13295</th>\n",
       "      <td>Ronald G. Bell</td>\n",
       "      <td>United Kingdom</td>\n",
       "      <td>United Kingdom</td>\n",
       "      <td>\"You!\". Princess Diana meets comedian Rowan At...</td>\n",
       "    </tr>\n",
       "  </tbody>\n",
       "</table>\n",
       "<p>13296 rows × 4 columns</p>\n",
       "</div>"
      ],
      "text/plain": [
       "             Photographer Photographer_Country   Photo_Country   \n",
       "0           Anna Bedyńska               Poland          Poland  \\\n",
       "1            Peter Schols      The Netherlands          France   \n",
       "2            Peter Schols      The Netherlands          France   \n",
       "3            Kunrong Chen                China           China   \n",
       "4            Kunrong Chen                China           China   \n",
       "...                   ...                  ...             ...   \n",
       "13291      Helmuth Pirath              Germany         Germany   \n",
       "13292      Helmuth Pirath              Germany         Germany   \n",
       "13293  Francesco Pistilli                Italy          Serbia   \n",
       "13294        Sabiha ?imen              Unknown          Turkey   \n",
       "13295      Ronald G. Bell       United Kingdom  United Kingdom   \n",
       "\n",
       "                                             Description  \n",
       "0      Zuzia is a girl with albinism, and attends a s...  \n",
       "1      Zidane leaves the field. Top French footballer...  \n",
       "2      Zidane leaves the field. Top French footballer...  \n",
       "3      Zhuhai, Guandong, China\\nYoung men playing bas...  \n",
       "4      Zhuhai, Guandong, China\\nSwimming in hot weath...  \n",
       "...                                                  ...  \n",
       "13291  ‘Sp?theimkehrer’: A German prisoner of war is ...  \n",
       "13292  ‘Sp?theimkehrer’: A German prisoner of war is ...  \n",
       "13293  ‘I want to be home. Please no war’ is written ...  \n",
       "13294  ?üheda has painted her face black for her role...  \n",
       "13295  \"You!\". Princess Diana meets comedian Rowan At...  \n",
       "\n",
       "[13296 rows x 4 columns]"
      ]
     },
     "execution_count": 276,
     "metadata": {},
     "output_type": "execute_result"
    }
   ],
   "source": [
    "all_country = pd.read_csv('Counrty_all_utf-8(1).csv')\n",
    "all_country.drop(columns=['Unnamed: 4', 'Unnamed: 5'], inplace=True)\n",
    "\n",
    "all_country"
   ]
  },
  {
   "attachments": {},
   "cell_type": "markdown",
   "metadata": {},
   "source": [
    "**Put the two dataframe together**"
   ]
  },
  {
   "cell_type": "code",
   "execution_count": null,
   "metadata": {},
   "outputs": [],
   "source": [
    "merged_df = pd.concat([all_photo, all_country[['Photographer_Country','Photo_Country']]], axis=1)\n",
    "merged_df"
   ]
  },
  {
   "cell_type": "code",
   "execution_count": 279,
   "metadata": {},
   "outputs": [],
   "source": [
    "filename = \"merged_df.csv\"\n",
    "\n",
    "merged_df.to_csv(filename, index=False)"
   ]
  },
  {
   "attachments": {},
   "cell_type": "markdown",
   "metadata": {},
   "source": [
    "**Encoding the Country**"
   ]
  },
  {
   "cell_type": "code",
   "execution_count": 280,
   "metadata": {},
   "outputs": [
    {
     "data": {
      "text/html": [
       "<div>\n",
       "<style scoped>\n",
       "    .dataframe tbody tr th:only-of-type {\n",
       "        vertical-align: middle;\n",
       "    }\n",
       "\n",
       "    .dataframe tbody tr th {\n",
       "        vertical-align: top;\n",
       "    }\n",
       "\n",
       "    .dataframe thead th {\n",
       "        text-align: right;\n",
       "    }\n",
       "</style>\n",
       "<table border=\"1\" class=\"dataframe\">\n",
       "  <thead>\n",
       "    <tr style=\"text-align: right;\">\n",
       "      <th></th>\n",
       "      <th>Photographer</th>\n",
       "      <th>Photographer_Country</th>\n",
       "      <th>Photo_Country</th>\n",
       "      <th>Description</th>\n",
       "    </tr>\n",
       "  </thead>\n",
       "  <tbody>\n",
       "    <tr>\n",
       "      <th>0</th>\n",
       "      <td>Anna Bedyńska</td>\n",
       "      <td>Poland</td>\n",
       "      <td>Poland</td>\n",
       "      <td>Zuzia is a girl with albinism, and attends a s...</td>\n",
       "    </tr>\n",
       "    <tr>\n",
       "      <th>1</th>\n",
       "      <td>Peter Schols</td>\n",
       "      <td>The Netherlands</td>\n",
       "      <td>France</td>\n",
       "      <td>Zidane leaves the field. Top French footballer...</td>\n",
       "    </tr>\n",
       "    <tr>\n",
       "      <th>2</th>\n",
       "      <td>Peter Schols</td>\n",
       "      <td>The Netherlands</td>\n",
       "      <td>France</td>\n",
       "      <td>Zidane leaves the field. Top French footballer...</td>\n",
       "    </tr>\n",
       "    <tr>\n",
       "      <th>3</th>\n",
       "      <td>Kunrong Chen</td>\n",
       "      <td>China</td>\n",
       "      <td>China</td>\n",
       "      <td>Zhuhai, Guandong, China\\nYoung men playing bas...</td>\n",
       "    </tr>\n",
       "    <tr>\n",
       "      <th>4</th>\n",
       "      <td>Kunrong Chen</td>\n",
       "      <td>China</td>\n",
       "      <td>China</td>\n",
       "      <td>Zhuhai, Guandong, China\\nSwimming in hot weath...</td>\n",
       "    </tr>\n",
       "    <tr>\n",
       "      <th>...</th>\n",
       "      <td>...</td>\n",
       "      <td>...</td>\n",
       "      <td>...</td>\n",
       "      <td>...</td>\n",
       "    </tr>\n",
       "    <tr>\n",
       "      <th>13291</th>\n",
       "      <td>Helmuth Pirath</td>\n",
       "      <td>Germany</td>\n",
       "      <td>Germany</td>\n",
       "      <td>‘Sp?theimkehrer’: A German prisoner of war is ...</td>\n",
       "    </tr>\n",
       "    <tr>\n",
       "      <th>13292</th>\n",
       "      <td>Helmuth Pirath</td>\n",
       "      <td>Germany</td>\n",
       "      <td>Germany</td>\n",
       "      <td>‘Sp?theimkehrer’: A German prisoner of war is ...</td>\n",
       "    </tr>\n",
       "    <tr>\n",
       "      <th>13293</th>\n",
       "      <td>Francesco Pistilli</td>\n",
       "      <td>Italy</td>\n",
       "      <td>Serbia</td>\n",
       "      <td>‘I want to be home. Please no war’ is written ...</td>\n",
       "    </tr>\n",
       "    <tr>\n",
       "      <th>13294</th>\n",
       "      <td>Sabiha ?imen</td>\n",
       "      <td>Unknown</td>\n",
       "      <td>Turkey</td>\n",
       "      <td>?üheda has painted her face black for her role...</td>\n",
       "    </tr>\n",
       "    <tr>\n",
       "      <th>13295</th>\n",
       "      <td>Ronald G. Bell</td>\n",
       "      <td>United Kingdom</td>\n",
       "      <td>United Kingdom</td>\n",
       "      <td>\"You!\". Princess Diana meets comedian Rowan At...</td>\n",
       "    </tr>\n",
       "  </tbody>\n",
       "</table>\n",
       "<p>13296 rows × 4 columns</p>\n",
       "</div>"
      ],
      "text/plain": [
       "             Photographer Photographer_Country   Photo_Country   \n",
       "0           Anna Bedyńska               Poland          Poland  \\\n",
       "1            Peter Schols      The Netherlands          France   \n",
       "2            Peter Schols      The Netherlands          France   \n",
       "3            Kunrong Chen                China           China   \n",
       "4            Kunrong Chen                China           China   \n",
       "...                   ...                  ...             ...   \n",
       "13291      Helmuth Pirath              Germany         Germany   \n",
       "13292      Helmuth Pirath              Germany         Germany   \n",
       "13293  Francesco Pistilli                Italy          Serbia   \n",
       "13294        Sabiha ?imen              Unknown          Turkey   \n",
       "13295      Ronald G. Bell       United Kingdom  United Kingdom   \n",
       "\n",
       "                                             Description  \n",
       "0      Zuzia is a girl with albinism, and attends a s...  \n",
       "1      Zidane leaves the field. Top French footballer...  \n",
       "2      Zidane leaves the field. Top French footballer...  \n",
       "3      Zhuhai, Guandong, China\\nYoung men playing bas...  \n",
       "4      Zhuhai, Guandong, China\\nSwimming in hot weath...  \n",
       "...                                                  ...  \n",
       "13291  ‘Sp?theimkehrer’: A German prisoner of war is ...  \n",
       "13292  ‘Sp?theimkehrer’: A German prisoner of war is ...  \n",
       "13293  ‘I want to be home. Please no war’ is written ...  \n",
       "13294  ?üheda has painted her face black for her role...  \n",
       "13295  \"You!\". Princess Diana meets comedian Rowan At...  \n",
       "\n",
       "[13296 rows x 4 columns]"
      ]
     },
     "execution_count": 280,
     "metadata": {},
     "output_type": "execute_result"
    }
   ],
   "source": [
    "all_country_code = all_country.copy()\n",
    "all_country_code"
   ]
  },
  {
   "cell_type": "code",
   "execution_count": 282,
   "metadata": {},
   "outputs": [
    {
     "data": {
      "text/html": [
       "<div>\n",
       "<style scoped>\n",
       "    .dataframe tbody tr th:only-of-type {\n",
       "        vertical-align: middle;\n",
       "    }\n",
       "\n",
       "    .dataframe tbody tr th {\n",
       "        vertical-align: top;\n",
       "    }\n",
       "\n",
       "    .dataframe thead th {\n",
       "        text-align: right;\n",
       "    }\n",
       "</style>\n",
       "<table border=\"1\" class=\"dataframe\">\n",
       "  <thead>\n",
       "    <tr style=\"text-align: right;\">\n",
       "      <th></th>\n",
       "      <th>Photographer</th>\n",
       "      <th>Photographer_Country</th>\n",
       "      <th>Photo_Country</th>\n",
       "      <th>Description</th>\n",
       "    </tr>\n",
       "  </thead>\n",
       "  <tbody>\n",
       "    <tr>\n",
       "      <th>0</th>\n",
       "      <td>Anna Bedyńska</td>\n",
       "      <td>PL</td>\n",
       "      <td>PL</td>\n",
       "      <td>Zuzia is a girl with albinism, and attends a s...</td>\n",
       "    </tr>\n",
       "    <tr>\n",
       "      <th>1</th>\n",
       "      <td>Peter Schols</td>\n",
       "      <td>NL</td>\n",
       "      <td>FR</td>\n",
       "      <td>Zidane leaves the field. Top French footballer...</td>\n",
       "    </tr>\n",
       "    <tr>\n",
       "      <th>2</th>\n",
       "      <td>Peter Schols</td>\n",
       "      <td>NL</td>\n",
       "      <td>FR</td>\n",
       "      <td>Zidane leaves the field. Top French footballer...</td>\n",
       "    </tr>\n",
       "    <tr>\n",
       "      <th>3</th>\n",
       "      <td>Kunrong Chen</td>\n",
       "      <td>CN</td>\n",
       "      <td>CN</td>\n",
       "      <td>Zhuhai, Guandong, China\\nYoung men playing bas...</td>\n",
       "    </tr>\n",
       "    <tr>\n",
       "      <th>4</th>\n",
       "      <td>Kunrong Chen</td>\n",
       "      <td>CN</td>\n",
       "      <td>CN</td>\n",
       "      <td>Zhuhai, Guandong, China\\nSwimming in hot weath...</td>\n",
       "    </tr>\n",
       "    <tr>\n",
       "      <th>...</th>\n",
       "      <td>...</td>\n",
       "      <td>...</td>\n",
       "      <td>...</td>\n",
       "      <td>...</td>\n",
       "    </tr>\n",
       "    <tr>\n",
       "      <th>13291</th>\n",
       "      <td>Helmuth Pirath</td>\n",
       "      <td>Germany</td>\n",
       "      <td>Germany</td>\n",
       "      <td>‘Sp?theimkehrer’: A German prisoner of war is ...</td>\n",
       "    </tr>\n",
       "    <tr>\n",
       "      <th>13292</th>\n",
       "      <td>Helmuth Pirath</td>\n",
       "      <td>Germany</td>\n",
       "      <td>Germany</td>\n",
       "      <td>‘Sp?theimkehrer’: A German prisoner of war is ...</td>\n",
       "    </tr>\n",
       "    <tr>\n",
       "      <th>13293</th>\n",
       "      <td>Francesco Pistilli</td>\n",
       "      <td>Italy</td>\n",
       "      <td>Serbia</td>\n",
       "      <td>‘I want to be home. Please no war’ is written ...</td>\n",
       "    </tr>\n",
       "    <tr>\n",
       "      <th>13294</th>\n",
       "      <td>Sabiha ?imen</td>\n",
       "      <td>Unknown</td>\n",
       "      <td>Turkey</td>\n",
       "      <td>?üheda has painted her face black for her role...</td>\n",
       "    </tr>\n",
       "    <tr>\n",
       "      <th>13295</th>\n",
       "      <td>Ronald G. Bell</td>\n",
       "      <td>United Kingdom</td>\n",
       "      <td>United Kingdom</td>\n",
       "      <td>\"You!\". Princess Diana meets comedian Rowan At...</td>\n",
       "    </tr>\n",
       "  </tbody>\n",
       "</table>\n",
       "<p>13296 rows × 4 columns</p>\n",
       "</div>"
      ],
      "text/plain": [
       "             Photographer Photographer_Country   Photo_Country   \n",
       "0           Anna Bedyńska                   PL              PL  \\\n",
       "1            Peter Schols                   NL              FR   \n",
       "2            Peter Schols                   NL              FR   \n",
       "3            Kunrong Chen                   CN              CN   \n",
       "4            Kunrong Chen                   CN              CN   \n",
       "...                   ...                  ...             ...   \n",
       "13291      Helmuth Pirath              Germany         Germany   \n",
       "13292      Helmuth Pirath              Germany         Germany   \n",
       "13293  Francesco Pistilli                Italy          Serbia   \n",
       "13294        Sabiha ?imen              Unknown          Turkey   \n",
       "13295      Ronald G. Bell       United Kingdom  United Kingdom   \n",
       "\n",
       "                                             Description  \n",
       "0      Zuzia is a girl with albinism, and attends a s...  \n",
       "1      Zidane leaves the field. Top French footballer...  \n",
       "2      Zidane leaves the field. Top French footballer...  \n",
       "3      Zhuhai, Guandong, China\\nYoung men playing bas...  \n",
       "4      Zhuhai, Guandong, China\\nSwimming in hot weath...  \n",
       "...                                                  ...  \n",
       "13291  ‘Sp?theimkehrer’: A German prisoner of war is ...  \n",
       "13292  ‘Sp?theimkehrer’: A German prisoner of war is ...  \n",
       "13293  ‘I want to be home. Please no war’ is written ...  \n",
       "13294  ?üheda has painted her face black for her role...  \n",
       "13295  \"You!\". Princess Diana meets comedian Rowan At...  \n",
       "\n",
       "[13296 rows x 4 columns]"
      ]
     },
     "execution_count": 282,
     "metadata": {},
     "output_type": "execute_result"
    }
   ],
   "source": [
    "countries = pd.read_csv('https://raw.githubusercontent.com/lukes/ISO-3166-Countries-with-Regional-Codes/master/all/all.csv')\n",
    "countries = countries[['alpha-2', 'name']]\n",
    "countries.columns = ['Country Code', 'Country Name']\n",
    "\n",
    "df = all_country_code\n",
    "\n",
    "# Convert the indices of the matrix dataframe to country names\n",
    "df = df.rename(index=countries.set_index('Country Code')['Country Name'])\n",
    "\n",
    "df"
   ]
  },
  {
   "cell_type": "code",
   "execution_count": 283,
   "metadata": {},
   "outputs": [],
   "source": [
    "import pycountry\n",
    "\n",
    "for idx, row in all_country_code.iterrows():\n",
    "\n",
    "    photographer_country = row['Photographer_Country']\n",
    "    photo_country = row['Photo_Country']\n",
    "    \n",
    "   # Attempt to get the international country short name based on the country name\n",
    "    try:\n",
    "        photographer_alpha_2 = pycountry.countries.search_fuzzy(photographer_country)[0].alpha_2\n",
    "        photo_alpha_2 = pycountry.countries.search_fuzzy(photo_country)[0].alpha_2\n",
    "    except LookupError:\n",
    "        # If the fetch fails, leave the country name unchanged\n",
    "        photographer_alpha_2 = photographer_country\n",
    "        photo_alpha_2 = photo_country\n",
    "    \n",
    "    # Replace the country name with the country abbreviation used internationally\n",
    "    all_country_code.loc[idx, 'Photographer_Country'] = photographer_alpha_2\n",
    "    all_country_code.loc[idx, 'Photo_Country'] = photo_alpha_2"
   ]
  },
  {
   "cell_type": "code",
   "execution_count": 6,
   "metadata": {},
   "outputs": [
    {
     "data": {
      "text/html": [
       "<div>\n",
       "<style scoped>\n",
       "    .dataframe tbody tr th:only-of-type {\n",
       "        vertical-align: middle;\n",
       "    }\n",
       "\n",
       "    .dataframe tbody tr th {\n",
       "        vertical-align: top;\n",
       "    }\n",
       "\n",
       "    .dataframe thead th {\n",
       "        text-align: right;\n",
       "    }\n",
       "</style>\n",
       "<table border=\"1\" class=\"dataframe\">\n",
       "  <thead>\n",
       "    <tr style=\"text-align: right;\">\n",
       "      <th></th>\n",
       "      <th>Photographer</th>\n",
       "      <th>Photographer_Country</th>\n",
       "      <th>Photo_Country</th>\n",
       "      <th>Description</th>\n",
       "    </tr>\n",
       "  </thead>\n",
       "  <tbody>\n",
       "    <tr>\n",
       "      <th>0</th>\n",
       "      <td>Anna Bedyńska</td>\n",
       "      <td>PL</td>\n",
       "      <td>PL</td>\n",
       "      <td>Zuzia is a girl with albinism, and attends a s...</td>\n",
       "    </tr>\n",
       "    <tr>\n",
       "      <th>1</th>\n",
       "      <td>Peter Schols</td>\n",
       "      <td>NL</td>\n",
       "      <td>FR</td>\n",
       "      <td>Zidane leaves the field. Top French footballer...</td>\n",
       "    </tr>\n",
       "    <tr>\n",
       "      <th>2</th>\n",
       "      <td>Peter Schols</td>\n",
       "      <td>NL</td>\n",
       "      <td>FR</td>\n",
       "      <td>Zidane leaves the field. Top French footballer...</td>\n",
       "    </tr>\n",
       "    <tr>\n",
       "      <th>3</th>\n",
       "      <td>Kunrong Chen</td>\n",
       "      <td>CN</td>\n",
       "      <td>CN</td>\n",
       "      <td>Zhuhai, Guandong, China\\nYoung men playing bas...</td>\n",
       "    </tr>\n",
       "    <tr>\n",
       "      <th>4</th>\n",
       "      <td>Kunrong Chen</td>\n",
       "      <td>CN</td>\n",
       "      <td>CN</td>\n",
       "      <td>Zhuhai, Guandong, China\\nSwimming in hot weath...</td>\n",
       "    </tr>\n",
       "    <tr>\n",
       "      <th>...</th>\n",
       "      <td>...</td>\n",
       "      <td>...</td>\n",
       "      <td>...</td>\n",
       "      <td>...</td>\n",
       "    </tr>\n",
       "    <tr>\n",
       "      <th>13291</th>\n",
       "      <td>Helmuth Pirath</td>\n",
       "      <td>DE</td>\n",
       "      <td>DE</td>\n",
       "      <td>‘Sp?theimkehrer’: A German prisoner of war is ...</td>\n",
       "    </tr>\n",
       "    <tr>\n",
       "      <th>13292</th>\n",
       "      <td>Helmuth Pirath</td>\n",
       "      <td>DE</td>\n",
       "      <td>DE</td>\n",
       "      <td>‘Sp?theimkehrer’: A German prisoner of war is ...</td>\n",
       "    </tr>\n",
       "    <tr>\n",
       "      <th>13293</th>\n",
       "      <td>Francesco Pistilli</td>\n",
       "      <td>IT</td>\n",
       "      <td>RS</td>\n",
       "      <td>‘I want to be home. Please no war’ is written ...</td>\n",
       "    </tr>\n",
       "    <tr>\n",
       "      <th>13294</th>\n",
       "      <td>Sabiha ?imen</td>\n",
       "      <td>Unknown</td>\n",
       "      <td>TR</td>\n",
       "      <td>?üheda has painted her face black for her role...</td>\n",
       "    </tr>\n",
       "    <tr>\n",
       "      <th>13295</th>\n",
       "      <td>Ronald G. Bell</td>\n",
       "      <td>GB</td>\n",
       "      <td>GB</td>\n",
       "      <td>\"You!\". Princess Diana meets comedian Rowan At...</td>\n",
       "    </tr>\n",
       "  </tbody>\n",
       "</table>\n",
       "<p>13296 rows × 4 columns</p>\n",
       "</div>"
      ],
      "text/plain": [
       "             Photographer Photographer_Country Photo_Country   \n",
       "0           Anna Bedyńska                   PL            PL  \\\n",
       "1            Peter Schols                   NL            FR   \n",
       "2            Peter Schols                   NL            FR   \n",
       "3            Kunrong Chen                   CN            CN   \n",
       "4            Kunrong Chen                   CN            CN   \n",
       "...                   ...                  ...           ...   \n",
       "13291      Helmuth Pirath                   DE            DE   \n",
       "13292      Helmuth Pirath                   DE            DE   \n",
       "13293  Francesco Pistilli                   IT            RS   \n",
       "13294        Sabiha ?imen              Unknown            TR   \n",
       "13295      Ronald G. Bell                   GB            GB   \n",
       "\n",
       "                                             Description  \n",
       "0      Zuzia is a girl with albinism, and attends a s...  \n",
       "1      Zidane leaves the field. Top French footballer...  \n",
       "2      Zidane leaves the field. Top French footballer...  \n",
       "3      Zhuhai, Guandong, China\\nYoung men playing bas...  \n",
       "4      Zhuhai, Guandong, China\\nSwimming in hot weath...  \n",
       "...                                                  ...  \n",
       "13291  ‘Sp?theimkehrer’: A German prisoner of war is ...  \n",
       "13292  ‘Sp?theimkehrer’: A German prisoner of war is ...  \n",
       "13293  ‘I want to be home. Please no war’ is written ...  \n",
       "13294  ?üheda has painted her face black for her role...  \n",
       "13295  \"You!\". Princess Diana meets comedian Rowan At...  \n",
       "\n",
       "[13296 rows x 4 columns]"
      ]
     },
     "execution_count": 6,
     "metadata": {},
     "output_type": "execute_result"
    }
   ],
   "source": [
    "all_country_code_final = pd.read_csv(\"all_country_code_final.csv\")\n",
    "all_country_code_final"
   ]
  },
  {
   "attachments": {},
   "cell_type": "markdown",
   "metadata": {},
   "source": [
    "**Maping to the all photo**"
   ]
  },
  {
   "cell_type": "code",
   "execution_count": null,
   "metadata": {},
   "outputs": [],
   "source": [
    "df_filtered_final = pd.read_csv(\"df_filtered_final.csv\")\n",
    "df_filtered_final"
   ]
  },
  {
   "cell_type": "code",
   "execution_count": null,
   "metadata": {},
   "outputs": [],
   "source": [
    "for index, row in all_country_code_final.iterrows():\n",
    "    description = row['Description']\n",
    "    photographer = row['Photographer']\n",
    "    photographer_country = row['Photographer_Country']\n",
    "    photo_country = row['Photo_Country']\n",
    "    df_filtered_final.loc[(df_filtered_final['Description'] == description) & (df_filtered_final['Photographer'] == photographer), 'Photographer_Country'] = photographer_country\n",
    "    df_filtered_final.loc[(df_filtered_final['Description'] == description) & (df_filtered_final['Photographer'] == photographer), 'Photo_Country'] = photo_country\n",
    "\n",
    "df_filtered_final"
   ]
  },
  {
   "attachments": {},
   "cell_type": "markdown",
   "metadata": {},
   "source": [
    "**Deal with the \"NA\"**"
   ]
  },
  {
   "cell_type": "code",
   "execution_count": 9,
   "metadata": {},
   "outputs": [
    {
     "name": "stdout",
     "output_type": "stream",
     "text": [
      "There are 332 missing values in 'Photographer_Country' column.\n",
      "There are 333 missing values in 'Photo_Country' column.\n"
     ]
    }
   ],
   "source": [
    "# count the number of missing values ​​in the 'Photo_Country' column\n",
    "\n",
    "num_missing1 = df_filtered_final['Photographer_Country'].isna().sum()\n",
    "num_missing2 = df_filtered_final['Photo_Country'].isna().sum()\n",
    "\n",
    "print(f\"There are {num_missing1} missing values in 'Photographer_Country' column.\")\n",
    "print(f\"There are {num_missing2} missing values in 'Photo_Country' column.\")"
   ]
  },
  {
   "cell_type": "code",
   "execution_count": 10,
   "metadata": {},
   "outputs": [],
   "source": [
    "# Traversing the all_country_code_final table, filling the Photographer_Country column into the rows where Photographer_Country is empty in the df_filtered_final table\n",
    "for index, row in all_country_code_final.iterrows():\n",
    "    photographer = row['Photographer']\n",
    "    photographer_country = row['Photographer_Country']\n",
    "    df_filtered_final.loc[(df_filtered_final['Photographer'] == photographer) & (df_filtered_final['Photographer_Country'].isnull()), 'Photographer_Country'] = photographer_country\n",
    "\n",
    "# Traversing the all_country_code_final table, filling the Photo_Country column into the row where Photo_Country is empty in the df_filtered_final table\n",
    "for index, row in all_country_code_final.iterrows():\n",
    "    Description = row['Description']\n",
    "    Photo_Country = row['Photo_Country']\n",
    "    df_filtered_final.loc[(df_filtered_final['Description'] == Description) & (df_filtered_final['Photo_Country'].isnull()), 'Photo_Country'] = Photo_Country"
   ]
  },
  {
   "cell_type": "code",
   "execution_count": 11,
   "metadata": {},
   "outputs": [],
   "source": [
    "#Photographer_Country\n",
    "df_filtered_final.loc[df_filtered_final['Photographer'] == 'Susan McElhinney', 'Photographer_Country'] = 'US'\n",
    "df_filtered_final.loc[df_filtered_final['Photographer'] == 'Susan Watts', 'Photographer_Country'] = 'US'\n",
    "df_filtered_final.loc[df_filtered_final['Photographer'] == 'Massimo Siragusa', 'Photographer_Country'] = 'IT'\n",
    "df_filtered_final.loc[df_filtered_final['Photographer'] == 'Vladimir Musaelyan', 'Photographer_Country'] = 'RU'\n",
    "df_filtered_final.loc[df_filtered_final['Photographer'] == 'Anne Cusack', 'Photographer_Country'] = 'US'\n",
    "df_filtered_final.loc[df_filtered_final['Photographer'] == 'Jon Hrusa', 'Photographer_Country'] = 'ZA'"
   ]
  },
  {
   "cell_type": "code",
   "execution_count": 12,
   "metadata": {},
   "outputs": [
    {
     "name": "stdout",
     "output_type": "stream",
     "text": [
      "There are 0 missing values in 'Photographer_Country' column.\n"
     ]
    }
   ],
   "source": [
    "num_missing = df_filtered_final['Photographer_Country'].isna().sum()\n",
    "print(f\"There are {num_missing} missing values in 'Photographer_Country' column.\")"
   ]
  },
  {
   "cell_type": "code",
   "execution_count": null,
   "metadata": {},
   "outputs": [],
   "source": [
    "# Deal with the photo country nan value\n",
    "df_filtered_final_nan = df_filtered_final[df_filtered_final['Photo_Country'].isna()]\n",
    "df_filtered_final_nan"
   ]
  },
  {
   "cell_type": "code",
   "execution_count": 30,
   "metadata": {},
   "outputs": [
    {
     "name": "stdout",
     "output_type": "stream",
     "text": [
      "Number of 'Unknown.' values in 'Description' column: 52\n"
     ]
    }
   ],
   "source": [
    "unknown_count = df_filtered_final_nan[df_filtered_final_nan[\"Description\"].isnull()].shape[0]\n",
    "\n",
    "print(f\"Number of 'Unknown.' values in 'Description' column: {unknown_count}\")"
   ]
  },
  {
   "cell_type": "code",
   "execution_count": null,
   "metadata": {},
   "outputs": [],
   "source": [
    "for idx, row in df_filtered_final_nan.iterrows():\n",
    "    photo_country = row['Phonto_Country']\n",
    "    try:\n",
    "        photo_alpha_2 = pycountry.countries.search_fuzzy(photo_country)[0].alpha_2\n",
    "    except LookupError:\n",
    "        photo_alpha_2 = photo_country\n",
    "    \n",
    "    df_filtered_final_nan.loc[idx, 'Photo_Country'] = photo_alpha_2"
   ]
  },
  {
   "cell_type": "code",
   "execution_count": 34,
   "metadata": {},
   "outputs": [],
   "source": [
    "filename = \" df_filtered_final_nan(1).csv\"\n",
    "\n",
    "df_filtered_final_nan.to_csv(filename, index=False)"
   ]
  },
  {
   "cell_type": "code",
   "execution_count": null,
   "metadata": {},
   "outputs": [],
   "source": [
    "df_filtered_final_nonan = pd.read_csv(\"df_filtered_final_nan(2).csv\")"
   ]
  },
  {
   "cell_type": "code",
   "execution_count": 39,
   "metadata": {},
   "outputs": [],
   "source": [
    "for index, row in df_filtered_final_nonan.iterrows():\n",
    "    Description = row['Description']\n",
    "    Photo_Country = row['Photo_Country']\n",
    "    df_filtered_final.loc[(df_filtered_final['Description'] == Description) & (df_filtered_final['Photo_Country'].isnull()), 'Photo_Country'] = Photo_Country"
   ]
  },
  {
   "cell_type": "code",
   "execution_count": null,
   "metadata": {},
   "outputs": [],
   "source": [
    "df_filtered_final_notnan = df_filtered_final[df_filtered_final['Photo_Country'].isna()]"
   ]
  },
  {
   "cell_type": "code",
   "execution_count": 54,
   "metadata": {},
   "outputs": [
    {
     "name": "stdout",
     "output_type": "stream",
     "text": [
      "There are 0 missing values in 'Photo_Country' column.\n"
     ]
    }
   ],
   "source": [
    "num_missing6 = df_filtered_final_notnan['Photo_Country'].isna().sum()\n",
    "print(f\"There are {num_missing} missing values in 'Photo_Country' column.\")"
   ]
  },
  {
   "cell_type": "code",
   "execution_count": 57,
   "metadata": {},
   "outputs": [
    {
     "name": "stderr",
     "output_type": "stream",
     "text": [
      "C:\\Users\\hp\\AppData\\Local\\Temp\\ipykernel_18136\\3431720237.py:1: SettingWithCopyWarning: \n",
      "A value is trying to be set on a copy of a slice from a DataFrame.\n",
      "Try using .loc[row_indexer,col_indexer] = value instead\n",
      "\n",
      "See the caveats in the documentation: https://pandas.pydata.org/pandas-docs/stable/user_guide/indexing.html#returning-a-view-versus-a-copy\n",
      "  df_filtered_final_notnan['Photo_Country'] = df_filtered_final_notnan['Photo_Country'].str.replace('.', '')\n"
     ]
    }
   ],
   "source": [
    "df_filtered_final_notnan['Photo_Country'] = df_filtered_final_notnan['Photo_Country'].str.replace('.', '')"
   ]
  },
  {
   "cell_type": "code",
   "execution_count": null,
   "metadata": {},
   "outputs": [],
   "source": [
    "\n",
    "for idx, row in df_filtered_final_notnan.iterrows():\n",
    "    photo_country = row['Photo_Country']\n",
    "    try:\n",
    "        photo_alpha_2 = pycountry.countries.search_fuzzy(photo_country)[0].alpha_2\n",
    "    except LookupError:\n",
    "        photo_alpha_2 = photo_country\n",
    "    \n",
    "    df_filtered_final_notnan.loc[idx, 'Photo_Country'] = photo_alpha_2"
   ]
  },
  {
   "cell_type": "code",
   "execution_count": null,
   "metadata": {},
   "outputs": [],
   "source": [
    "df_filtered_finalcode= pd.read_csv(\"df_filtered_finalcode _nan.csv\")"
   ]
  },
  {
   "cell_type": "code",
   "execution_count": 66,
   "metadata": {},
   "outputs": [],
   "source": [
    "for index, row in df_filtered_finalcode.iterrows():\n",
    "    Description = row['Description']\n",
    "    Photo_Country = row['Photo_Country']\n",
    "    df_filtered_final.loc[(df_filtered_final['Description'] == Description) & (df_filtered_final['Photo_Country'].isnull()), 'Photo_Country'] = Photo_Country"
   ]
  },
  {
   "cell_type": "code",
   "execution_count": 83,
   "metadata": {},
   "outputs": [],
   "source": [
    "#US NA NA\n",
    "df_filtered_final.loc[44, 'Photo_Country'] = 'CG'\n",
    "df_filtered_final.loc[400, 'Photo_Country'] = 'US'\n",
    "df_filtered_final.loc[2166, 'Photo_Country'] = 'NA'\n",
    "df_filtered_final.loc[2627, 'Photo_Country'] = 'NA'"
   ]
  },
  {
   "cell_type": "code",
   "execution_count": 86,
   "metadata": {},
   "outputs": [],
   "source": [
    "df_filtered_final['Photo_Country'].fillna('Unknown', inplace=True)"
   ]
  },
  {
   "cell_type": "code",
   "execution_count": 89,
   "metadata": {},
   "outputs": [
    {
     "name": "stdout",
     "output_type": "stream",
     "text": [
      "There are 0 missing values in 'Photographer_Country' column.\n",
      "There are 0 missing values in 'Photo_Country' column.\n"
     ]
    }
   ],
   "source": [
    "num_missing8 = df_filtered_final['Photographer_Country'].isna().sum()\n",
    "num_missing9 = df_filtered_final['Photo_Country'].isna().sum()\n",
    "\n",
    "print(f\"There are {num_missing8} missing values in 'Photographer_Country' column.\")\n",
    "print(f\"There are {num_missing9} missing values in 'Photo_Country' column.\")"
   ]
  },
  {
   "cell_type": "code",
   "execution_count": null,
   "metadata": {},
   "outputs": [],
   "source": [
    "df_filtered_final"
   ]
  },
  {
   "cell_type": "code",
   "execution_count": 120,
   "metadata": {},
   "outputs": [],
   "source": [
    "df_filtered_final['Photographer_Country'] = df_filtered_final['Photographer_Country'].replace('UK', 'GB')\n",
    "df_filtered_final['Photographer_Country'] = df_filtered_final['Photographer_Country'].replace('USA', 'US')\n",
    "df_filtered_final['Photographer_Country'] = df_filtered_final['Photographer_Country'].replace('YU', 'RU')"
   ]
  },
  {
   "cell_type": "code",
   "execution_count": 121,
   "metadata": {},
   "outputs": [],
   "source": [
    "df_filtered_final['Photo_Country'] = df_filtered_final['Photo_Country'].replace('UK', 'GB')\n",
    "df_filtered_final['Photo_Country'] = df_filtered_final['Photo_Country'].replace('USA', 'US')\n",
    "df_filtered_final['Photo_Country'] = df_filtered_final['Photo_Country'].replace('YU', 'RU')"
   ]
  },
  {
   "cell_type": "code",
   "execution_count": 148,
   "metadata": {},
   "outputs": [],
   "source": [
    "df_filtered_final['Photographer_Country'] = df_filtered_final['Photographer_Country'].replace('AN', 'Unknown')\n",
    "df_filtered_final.loc[(df_filtered_final['Photographer'] == 'Stuart Franklin') & (df_filtered_final['Award Year'] == 1990), 'Photographer_Country'] = 'GB'"
   ]
  },
  {
   "cell_type": "code",
   "execution_count": null,
   "metadata": {},
   "outputs": [],
   "source": [
    "filename = \" df_filtered_finalpro.csv\"\n",
    "df_filtered_final.to_csv(filename, index=False)"
   ]
  },
  {
   "attachments": {},
   "cell_type": "markdown",
   "metadata": {},
   "source": [
    "**Check the information of each country**"
   ]
  },
  {
   "cell_type": "code",
   "execution_count": 150,
   "metadata": {},
   "outputs": [
    {
     "data": {
      "application/vnd.plotly.v1+json": {
       "config": {
        "plotlyServerURL": "https://plot.ly"
       },
       "data": [
        {
         "domain": {
          "x": [
           0,
           1
          ],
          "y": [
           0,
           1
          ]
         },
         "hole": 0.4,
         "hovertemplate": "Photographer_Country=%{label}<br>value=%{value}<extra></extra>",
         "labels": [
          "US",
          "DE",
          "Unknown",
          "GB",
          "FR",
          "RU",
          "IT",
          "NL",
          "AU",
          "ZA",
          "ES",
          "DK",
          "CA",
          "PL",
          "JP",
          "CN",
          "SE",
          "AR",
          "CH",
          "IE",
          "CZ",
          "HU",
          "NO",
          "BE",
          "IR",
          "MX",
          "IN",
          "FI",
          "BR",
          "IL",
          "PE",
          "CU",
          "CO",
          "BD",
          "UG",
          "CL",
          "PS",
          "AT",
          "EG",
          "PT",
          "VE",
          "RS",
          "GR",
          "BG",
          "SI",
          "BA",
          "PH",
          "ID",
          "TR",
          "ZW",
          "EC",
          "NZ",
          "MY",
          "AZ",
          "ET",
          "SY",
          "LT",
          "NG",
          "HT",
          "DZ",
          "BY",
          "SO",
          "SV",
          "LV",
          "MM",
          "PR",
          "KR",
          "HK",
          "AM",
          "MT",
          "UA",
          "BO",
          "SD",
          "TH",
          "PK",
          "KE",
          "JO",
          "VN",
          "AF",
          "ML",
          "LB",
          "LU",
          "UY",
          "MC",
          "MA"
         ],
         "legendgroup": "",
         "name": "",
         "showlegend": true,
         "textinfo": "percent+label",
         "textposition": "inside",
         "type": "pie",
         "values": [
          684,
          229,
          227,
          197,
          178,
          169,
          137,
          130,
          104,
          58,
          57,
          52,
          51,
          39,
          33,
          28,
          27,
          27,
          26,
          26,
          25,
          25,
          23,
          21,
          19,
          18,
          18,
          17,
          15,
          13,
          11,
          11,
          11,
          11,
          10,
          8,
          8,
          8,
          7,
          7,
          6,
          6,
          6,
          6,
          5,
          5,
          5,
          4,
          4,
          4,
          3,
          3,
          3,
          3,
          3,
          3,
          3,
          2,
          2,
          2,
          2,
          2,
          2,
          2,
          2,
          2,
          2,
          2,
          2,
          2,
          2,
          2,
          1,
          1,
          1,
          1,
          1,
          1,
          1,
          1,
          1,
          1,
          1,
          1,
          1
         ]
        }
       ],
       "layout": {
        "font": {
         "size": 16
        },
        "legend": {
         "font": {
          "size": 14
         },
         "title": {
          "text": "Countries"
         },
         "tracegroupgap": 0
        },
        "margin": {
         "b": 100,
         "t": 100
        },
        "template": {
         "data": {
          "bar": [
           {
            "error_x": {
             "color": "#2a3f5f"
            },
            "error_y": {
             "color": "#2a3f5f"
            },
            "marker": {
             "line": {
              "color": "white",
              "width": 0.5
             },
             "pattern": {
              "fillmode": "overlay",
              "size": 10,
              "solidity": 0.2
             }
            },
            "type": "bar"
           }
          ],
          "barpolar": [
           {
            "marker": {
             "line": {
              "color": "white",
              "width": 0.5
             },
             "pattern": {
              "fillmode": "overlay",
              "size": 10,
              "solidity": 0.2
             }
            },
            "type": "barpolar"
           }
          ],
          "carpet": [
           {
            "aaxis": {
             "endlinecolor": "#2a3f5f",
             "gridcolor": "#C8D4E3",
             "linecolor": "#C8D4E3",
             "minorgridcolor": "#C8D4E3",
             "startlinecolor": "#2a3f5f"
            },
            "baxis": {
             "endlinecolor": "#2a3f5f",
             "gridcolor": "#C8D4E3",
             "linecolor": "#C8D4E3",
             "minorgridcolor": "#C8D4E3",
             "startlinecolor": "#2a3f5f"
            },
            "type": "carpet"
           }
          ],
          "choropleth": [
           {
            "colorbar": {
             "outlinewidth": 0,
             "ticks": ""
            },
            "type": "choropleth"
           }
          ],
          "contour": [
           {
            "colorbar": {
             "outlinewidth": 0,
             "ticks": ""
            },
            "colorscale": [
             [
              0,
              "#0d0887"
             ],
             [
              0.1111111111111111,
              "#46039f"
             ],
             [
              0.2222222222222222,
              "#7201a8"
             ],
             [
              0.3333333333333333,
              "#9c179e"
             ],
             [
              0.4444444444444444,
              "#bd3786"
             ],
             [
              0.5555555555555556,
              "#d8576b"
             ],
             [
              0.6666666666666666,
              "#ed7953"
             ],
             [
              0.7777777777777778,
              "#fb9f3a"
             ],
             [
              0.8888888888888888,
              "#fdca26"
             ],
             [
              1,
              "#f0f921"
             ]
            ],
            "type": "contour"
           }
          ],
          "contourcarpet": [
           {
            "colorbar": {
             "outlinewidth": 0,
             "ticks": ""
            },
            "type": "contourcarpet"
           }
          ],
          "heatmap": [
           {
            "colorbar": {
             "outlinewidth": 0,
             "ticks": ""
            },
            "colorscale": [
             [
              0,
              "#0d0887"
             ],
             [
              0.1111111111111111,
              "#46039f"
             ],
             [
              0.2222222222222222,
              "#7201a8"
             ],
             [
              0.3333333333333333,
              "#9c179e"
             ],
             [
              0.4444444444444444,
              "#bd3786"
             ],
             [
              0.5555555555555556,
              "#d8576b"
             ],
             [
              0.6666666666666666,
              "#ed7953"
             ],
             [
              0.7777777777777778,
              "#fb9f3a"
             ],
             [
              0.8888888888888888,
              "#fdca26"
             ],
             [
              1,
              "#f0f921"
             ]
            ],
            "type": "heatmap"
           }
          ],
          "heatmapgl": [
           {
            "colorbar": {
             "outlinewidth": 0,
             "ticks": ""
            },
            "colorscale": [
             [
              0,
              "#0d0887"
             ],
             [
              0.1111111111111111,
              "#46039f"
             ],
             [
              0.2222222222222222,
              "#7201a8"
             ],
             [
              0.3333333333333333,
              "#9c179e"
             ],
             [
              0.4444444444444444,
              "#bd3786"
             ],
             [
              0.5555555555555556,
              "#d8576b"
             ],
             [
              0.6666666666666666,
              "#ed7953"
             ],
             [
              0.7777777777777778,
              "#fb9f3a"
             ],
             [
              0.8888888888888888,
              "#fdca26"
             ],
             [
              1,
              "#f0f921"
             ]
            ],
            "type": "heatmapgl"
           }
          ],
          "histogram": [
           {
            "marker": {
             "pattern": {
              "fillmode": "overlay",
              "size": 10,
              "solidity": 0.2
             }
            },
            "type": "histogram"
           }
          ],
          "histogram2d": [
           {
            "colorbar": {
             "outlinewidth": 0,
             "ticks": ""
            },
            "colorscale": [
             [
              0,
              "#0d0887"
             ],
             [
              0.1111111111111111,
              "#46039f"
             ],
             [
              0.2222222222222222,
              "#7201a8"
             ],
             [
              0.3333333333333333,
              "#9c179e"
             ],
             [
              0.4444444444444444,
              "#bd3786"
             ],
             [
              0.5555555555555556,
              "#d8576b"
             ],
             [
              0.6666666666666666,
              "#ed7953"
             ],
             [
              0.7777777777777778,
              "#fb9f3a"
             ],
             [
              0.8888888888888888,
              "#fdca26"
             ],
             [
              1,
              "#f0f921"
             ]
            ],
            "type": "histogram2d"
           }
          ],
          "histogram2dcontour": [
           {
            "colorbar": {
             "outlinewidth": 0,
             "ticks": ""
            },
            "colorscale": [
             [
              0,
              "#0d0887"
             ],
             [
              0.1111111111111111,
              "#46039f"
             ],
             [
              0.2222222222222222,
              "#7201a8"
             ],
             [
              0.3333333333333333,
              "#9c179e"
             ],
             [
              0.4444444444444444,
              "#bd3786"
             ],
             [
              0.5555555555555556,
              "#d8576b"
             ],
             [
              0.6666666666666666,
              "#ed7953"
             ],
             [
              0.7777777777777778,
              "#fb9f3a"
             ],
             [
              0.8888888888888888,
              "#fdca26"
             ],
             [
              1,
              "#f0f921"
             ]
            ],
            "type": "histogram2dcontour"
           }
          ],
          "mesh3d": [
           {
            "colorbar": {
             "outlinewidth": 0,
             "ticks": ""
            },
            "type": "mesh3d"
           }
          ],
          "parcoords": [
           {
            "line": {
             "colorbar": {
              "outlinewidth": 0,
              "ticks": ""
             }
            },
            "type": "parcoords"
           }
          ],
          "pie": [
           {
            "automargin": true,
            "type": "pie"
           }
          ],
          "scatter": [
           {
            "fillpattern": {
             "fillmode": "overlay",
             "size": 10,
             "solidity": 0.2
            },
            "type": "scatter"
           }
          ],
          "scatter3d": [
           {
            "line": {
             "colorbar": {
              "outlinewidth": 0,
              "ticks": ""
             }
            },
            "marker": {
             "colorbar": {
              "outlinewidth": 0,
              "ticks": ""
             }
            },
            "type": "scatter3d"
           }
          ],
          "scattercarpet": [
           {
            "marker": {
             "colorbar": {
              "outlinewidth": 0,
              "ticks": ""
             }
            },
            "type": "scattercarpet"
           }
          ],
          "scattergeo": [
           {
            "marker": {
             "colorbar": {
              "outlinewidth": 0,
              "ticks": ""
             }
            },
            "type": "scattergeo"
           }
          ],
          "scattergl": [
           {
            "marker": {
             "colorbar": {
              "outlinewidth": 0,
              "ticks": ""
             }
            },
            "type": "scattergl"
           }
          ],
          "scattermapbox": [
           {
            "marker": {
             "colorbar": {
              "outlinewidth": 0,
              "ticks": ""
             }
            },
            "type": "scattermapbox"
           }
          ],
          "scatterpolar": [
           {
            "marker": {
             "colorbar": {
              "outlinewidth": 0,
              "ticks": ""
             }
            },
            "type": "scatterpolar"
           }
          ],
          "scatterpolargl": [
           {
            "marker": {
             "colorbar": {
              "outlinewidth": 0,
              "ticks": ""
             }
            },
            "type": "scatterpolargl"
           }
          ],
          "scatterternary": [
           {
            "marker": {
             "colorbar": {
              "outlinewidth": 0,
              "ticks": ""
             }
            },
            "type": "scatterternary"
           }
          ],
          "surface": [
           {
            "colorbar": {
             "outlinewidth": 0,
             "ticks": ""
            },
            "colorscale": [
             [
              0,
              "#0d0887"
             ],
             [
              0.1111111111111111,
              "#46039f"
             ],
             [
              0.2222222222222222,
              "#7201a8"
             ],
             [
              0.3333333333333333,
              "#9c179e"
             ],
             [
              0.4444444444444444,
              "#bd3786"
             ],
             [
              0.5555555555555556,
              "#d8576b"
             ],
             [
              0.6666666666666666,
              "#ed7953"
             ],
             [
              0.7777777777777778,
              "#fb9f3a"
             ],
             [
              0.8888888888888888,
              "#fdca26"
             ],
             [
              1,
              "#f0f921"
             ]
            ],
            "type": "surface"
           }
          ],
          "table": [
           {
            "cells": {
             "fill": {
              "color": "#EBF0F8"
             },
             "line": {
              "color": "white"
             }
            },
            "header": {
             "fill": {
              "color": "#C8D4E3"
             },
             "line": {
              "color": "white"
             }
            },
            "type": "table"
           }
          ]
         },
         "layout": {
          "annotationdefaults": {
           "arrowcolor": "#2a3f5f",
           "arrowhead": 0,
           "arrowwidth": 1
          },
          "autotypenumbers": "strict",
          "coloraxis": {
           "colorbar": {
            "outlinewidth": 0,
            "ticks": ""
           }
          },
          "colorscale": {
           "diverging": [
            [
             0,
             "#8e0152"
            ],
            [
             0.1,
             "#c51b7d"
            ],
            [
             0.2,
             "#de77ae"
            ],
            [
             0.3,
             "#f1b6da"
            ],
            [
             0.4,
             "#fde0ef"
            ],
            [
             0.5,
             "#f7f7f7"
            ],
            [
             0.6,
             "#e6f5d0"
            ],
            [
             0.7,
             "#b8e186"
            ],
            [
             0.8,
             "#7fbc41"
            ],
            [
             0.9,
             "#4d9221"
            ],
            [
             1,
             "#276419"
            ]
           ],
           "sequential": [
            [
             0,
             "#0d0887"
            ],
            [
             0.1111111111111111,
             "#46039f"
            ],
            [
             0.2222222222222222,
             "#7201a8"
            ],
            [
             0.3333333333333333,
             "#9c179e"
            ],
            [
             0.4444444444444444,
             "#bd3786"
            ],
            [
             0.5555555555555556,
             "#d8576b"
            ],
            [
             0.6666666666666666,
             "#ed7953"
            ],
            [
             0.7777777777777778,
             "#fb9f3a"
            ],
            [
             0.8888888888888888,
             "#fdca26"
            ],
            [
             1,
             "#f0f921"
            ]
           ],
           "sequentialminus": [
            [
             0,
             "#0d0887"
            ],
            [
             0.1111111111111111,
             "#46039f"
            ],
            [
             0.2222222222222222,
             "#7201a8"
            ],
            [
             0.3333333333333333,
             "#9c179e"
            ],
            [
             0.4444444444444444,
             "#bd3786"
            ],
            [
             0.5555555555555556,
             "#d8576b"
            ],
            [
             0.6666666666666666,
             "#ed7953"
            ],
            [
             0.7777777777777778,
             "#fb9f3a"
            ],
            [
             0.8888888888888888,
             "#fdca26"
            ],
            [
             1,
             "#f0f921"
            ]
           ]
          },
          "colorway": [
           "#636efa",
           "#EF553B",
           "#00cc96",
           "#ab63fa",
           "#FFA15A",
           "#19d3f3",
           "#FF6692",
           "#B6E880",
           "#FF97FF",
           "#FECB52"
          ],
          "font": {
           "color": "#2a3f5f"
          },
          "geo": {
           "bgcolor": "white",
           "lakecolor": "white",
           "landcolor": "white",
           "showlakes": true,
           "showland": true,
           "subunitcolor": "#C8D4E3"
          },
          "hoverlabel": {
           "align": "left"
          },
          "hovermode": "closest",
          "mapbox": {
           "style": "light"
          },
          "paper_bgcolor": "white",
          "plot_bgcolor": "white",
          "polar": {
           "angularaxis": {
            "gridcolor": "#EBF0F8",
            "linecolor": "#EBF0F8",
            "ticks": ""
           },
           "bgcolor": "white",
           "radialaxis": {
            "gridcolor": "#EBF0F8",
            "linecolor": "#EBF0F8",
            "ticks": ""
           }
          },
          "scene": {
           "xaxis": {
            "backgroundcolor": "white",
            "gridcolor": "#DFE8F3",
            "gridwidth": 2,
            "linecolor": "#EBF0F8",
            "showbackground": true,
            "ticks": "",
            "zerolinecolor": "#EBF0F8"
           },
           "yaxis": {
            "backgroundcolor": "white",
            "gridcolor": "#DFE8F3",
            "gridwidth": 2,
            "linecolor": "#EBF0F8",
            "showbackground": true,
            "ticks": "",
            "zerolinecolor": "#EBF0F8"
           },
           "zaxis": {
            "backgroundcolor": "white",
            "gridcolor": "#DFE8F3",
            "gridwidth": 2,
            "linecolor": "#EBF0F8",
            "showbackground": true,
            "ticks": "",
            "zerolinecolor": "#EBF0F8"
           }
          },
          "shapedefaults": {
           "line": {
            "color": "#2a3f5f"
           }
          },
          "ternary": {
           "aaxis": {
            "gridcolor": "#DFE8F3",
            "linecolor": "#A2B1C6",
            "ticks": ""
           },
           "baxis": {
            "gridcolor": "#DFE8F3",
            "linecolor": "#A2B1C6",
            "ticks": ""
           },
           "bgcolor": "white",
           "caxis": {
            "gridcolor": "#DFE8F3",
            "linecolor": "#A2B1C6",
            "ticks": ""
           }
          },
          "title": {
           "x": 0.05
          },
          "xaxis": {
           "automargin": true,
           "gridcolor": "#EBF0F8",
           "linecolor": "#EBF0F8",
           "ticks": "",
           "title": {
            "standoff": 15
           },
           "zerolinecolor": "#EBF0F8",
           "zerolinewidth": 2
          },
          "yaxis": {
           "automargin": true,
           "gridcolor": "#EBF0F8",
           "linecolor": "#EBF0F8",
           "ticks": "",
           "title": {
            "standoff": 15
           },
           "zerolinecolor": "#EBF0F8",
           "zerolinewidth": 2
          }
         }
        },
        "title": {
         "font": {
          "size": 24
         },
         "text": "Photographer Country Counts",
         "x": 0.5,
         "y": 0.95
        }
       }
      }
     },
     "metadata": {},
     "output_type": "display_data"
    },
    {
     "data": {
      "application/vnd.plotly.v1+json": {
       "config": {
        "plotlyServerURL": "https://plot.ly"
       },
       "data": [
        {
         "domain": {
          "x": [
           0,
           1
          ],
          "y": [
           0,
           1
          ]
         },
         "hole": 0.4,
         "hovertemplate": "Photo_Country=%{label}<br>value=%{value}<extra></extra>",
         "labels": [
          "US",
          "Unknown",
          "RU",
          "CN",
          "DE",
          "GB",
          "FR",
          "IN",
          "ZA",
          "AU",
          "VN",
          "BR",
          "AF",
          "IT",
          "NL",
          "ES",
          "IQ",
          "PS",
          "JP",
          "ID",
          "KE",
          "IR",
          "PL",
          "RS",
          "IL",
          "MX",
          "ET",
          "CU",
          "SY",
          "CA",
          "CZ",
          "NG",
          "LB",
          "GR",
          "BD",
          "TR",
          "BA",
          "EG",
          "PK",
          "HT",
          "PH",
          "CG",
          "CO",
          "HU",
          "TH",
          "CH",
          "RO",
          "ZW",
          "SE",
          "KR",
          "DK",
          "SD",
          "CL",
          "SL",
          "DZ",
          "AR",
          "BE",
          "KH",
          "PE",
          "GE",
          "IE",
          "AQ",
          "UG",
          "AO",
          "YE",
          "VE",
          "SO",
          "GT",
          "LR",
          "NI",
          "MM",
          "UA",
          "NO",
          "KW",
          "AT",
          "SN",
          "LV",
          "PT",
          "AZ",
          "RW",
          "LT",
          "MA",
          "NP",
          "FI",
          "AM",
          "MN",
          "MG",
          "DO",
          "SV",
          "KP",
          "MY",
          "LY",
          "BG",
          "PA",
          "AL",
          "CY",
          "TZ",
          "BO",
          "AE",
          "ML",
          "HN",
          "CM",
          "BF",
          "EC",
          "TD",
          "JO",
          "BY",
          "GN",
          "SS",
          "ER",
          "IS",
          "HR",
          "CI",
          "MZ",
          "TW",
          "KZ",
          "CF",
          "LK",
          "EE",
          "DJ",
          "CD",
          "TG",
          "GY",
          "SI",
          "CR",
          "BS",
          "NA",
          "CW",
          "HK",
          "MK",
          "MR",
          "MW",
          "BW",
          "VU",
          "ZM",
          "MC",
          "BI",
          "GL",
          "EH",
          "BQ",
          "NZ",
          "BJ",
          "TT",
          "KG",
          "JM",
          "TM",
          "MD",
          "SK",
          "LA",
          "ME",
          "FK",
          "XK",
          "TL",
          "OM",
          "GM",
          "LI",
          "GA"
         ],
         "legendgroup": "",
         "name": "",
         "showlegend": true,
         "textinfo": "percent+label",
         "textposition": "inside",
         "type": "pie",
         "values": [
          339,
          326,
          154,
          99,
          92,
          78,
          70,
          64,
          61,
          58,
          49,
          46,
          45,
          44,
          44,
          43,
          42,
          40,
          39,
          38,
          34,
          31,
          29,
          27,
          27,
          26,
          25,
          24,
          23,
          22,
          21,
          20,
          20,
          20,
          19,
          19,
          19,
          19,
          18,
          18,
          18,
          18,
          17,
          16,
          16,
          15,
          15,
          14,
          14,
          14,
          14,
          12,
          12,
          12,
          11,
          11,
          11,
          11,
          10,
          10,
          10,
          10,
          9,
          9,
          9,
          9,
          9,
          9,
          9,
          8,
          8,
          8,
          8,
          8,
          8,
          7,
          7,
          6,
          6,
          6,
          6,
          6,
          6,
          6,
          6,
          6,
          5,
          5,
          5,
          5,
          5,
          5,
          4,
          4,
          4,
          4,
          4,
          4,
          4,
          4,
          4,
          4,
          4,
          4,
          4,
          3,
          3,
          3,
          3,
          3,
          3,
          3,
          3,
          3,
          3,
          3,
          3,
          3,
          2,
          2,
          2,
          2,
          2,
          2,
          2,
          2,
          2,
          2,
          2,
          2,
          2,
          2,
          2,
          2,
          2,
          2,
          1,
          1,
          1,
          1,
          1,
          1,
          1,
          1,
          1,
          1,
          1,
          1,
          1,
          1,
          1,
          1,
          1,
          1,
          1,
          1,
          1
         ]
        }
       ],
       "layout": {
        "font": {
         "size": 16
        },
        "legend": {
         "font": {
          "size": 14
         },
         "title": {
          "text": "Countries"
         },
         "tracegroupgap": 0
        },
        "margin": {
         "b": 100,
         "t": 100
        },
        "template": {
         "data": {
          "bar": [
           {
            "error_x": {
             "color": "#2a3f5f"
            },
            "error_y": {
             "color": "#2a3f5f"
            },
            "marker": {
             "line": {
              "color": "white",
              "width": 0.5
             },
             "pattern": {
              "fillmode": "overlay",
              "size": 10,
              "solidity": 0.2
             }
            },
            "type": "bar"
           }
          ],
          "barpolar": [
           {
            "marker": {
             "line": {
              "color": "white",
              "width": 0.5
             },
             "pattern": {
              "fillmode": "overlay",
              "size": 10,
              "solidity": 0.2
             }
            },
            "type": "barpolar"
           }
          ],
          "carpet": [
           {
            "aaxis": {
             "endlinecolor": "#2a3f5f",
             "gridcolor": "#C8D4E3",
             "linecolor": "#C8D4E3",
             "minorgridcolor": "#C8D4E3",
             "startlinecolor": "#2a3f5f"
            },
            "baxis": {
             "endlinecolor": "#2a3f5f",
             "gridcolor": "#C8D4E3",
             "linecolor": "#C8D4E3",
             "minorgridcolor": "#C8D4E3",
             "startlinecolor": "#2a3f5f"
            },
            "type": "carpet"
           }
          ],
          "choropleth": [
           {
            "colorbar": {
             "outlinewidth": 0,
             "ticks": ""
            },
            "type": "choropleth"
           }
          ],
          "contour": [
           {
            "colorbar": {
             "outlinewidth": 0,
             "ticks": ""
            },
            "colorscale": [
             [
              0,
              "#0d0887"
             ],
             [
              0.1111111111111111,
              "#46039f"
             ],
             [
              0.2222222222222222,
              "#7201a8"
             ],
             [
              0.3333333333333333,
              "#9c179e"
             ],
             [
              0.4444444444444444,
              "#bd3786"
             ],
             [
              0.5555555555555556,
              "#d8576b"
             ],
             [
              0.6666666666666666,
              "#ed7953"
             ],
             [
              0.7777777777777778,
              "#fb9f3a"
             ],
             [
              0.8888888888888888,
              "#fdca26"
             ],
             [
              1,
              "#f0f921"
             ]
            ],
            "type": "contour"
           }
          ],
          "contourcarpet": [
           {
            "colorbar": {
             "outlinewidth": 0,
             "ticks": ""
            },
            "type": "contourcarpet"
           }
          ],
          "heatmap": [
           {
            "colorbar": {
             "outlinewidth": 0,
             "ticks": ""
            },
            "colorscale": [
             [
              0,
              "#0d0887"
             ],
             [
              0.1111111111111111,
              "#46039f"
             ],
             [
              0.2222222222222222,
              "#7201a8"
             ],
             [
              0.3333333333333333,
              "#9c179e"
             ],
             [
              0.4444444444444444,
              "#bd3786"
             ],
             [
              0.5555555555555556,
              "#d8576b"
             ],
             [
              0.6666666666666666,
              "#ed7953"
             ],
             [
              0.7777777777777778,
              "#fb9f3a"
             ],
             [
              0.8888888888888888,
              "#fdca26"
             ],
             [
              1,
              "#f0f921"
             ]
            ],
            "type": "heatmap"
           }
          ],
          "heatmapgl": [
           {
            "colorbar": {
             "outlinewidth": 0,
             "ticks": ""
            },
            "colorscale": [
             [
              0,
              "#0d0887"
             ],
             [
              0.1111111111111111,
              "#46039f"
             ],
             [
              0.2222222222222222,
              "#7201a8"
             ],
             [
              0.3333333333333333,
              "#9c179e"
             ],
             [
              0.4444444444444444,
              "#bd3786"
             ],
             [
              0.5555555555555556,
              "#d8576b"
             ],
             [
              0.6666666666666666,
              "#ed7953"
             ],
             [
              0.7777777777777778,
              "#fb9f3a"
             ],
             [
              0.8888888888888888,
              "#fdca26"
             ],
             [
              1,
              "#f0f921"
             ]
            ],
            "type": "heatmapgl"
           }
          ],
          "histogram": [
           {
            "marker": {
             "pattern": {
              "fillmode": "overlay",
              "size": 10,
              "solidity": 0.2
             }
            },
            "type": "histogram"
           }
          ],
          "histogram2d": [
           {
            "colorbar": {
             "outlinewidth": 0,
             "ticks": ""
            },
            "colorscale": [
             [
              0,
              "#0d0887"
             ],
             [
              0.1111111111111111,
              "#46039f"
             ],
             [
              0.2222222222222222,
              "#7201a8"
             ],
             [
              0.3333333333333333,
              "#9c179e"
             ],
             [
              0.4444444444444444,
              "#bd3786"
             ],
             [
              0.5555555555555556,
              "#d8576b"
             ],
             [
              0.6666666666666666,
              "#ed7953"
             ],
             [
              0.7777777777777778,
              "#fb9f3a"
             ],
             [
              0.8888888888888888,
              "#fdca26"
             ],
             [
              1,
              "#f0f921"
             ]
            ],
            "type": "histogram2d"
           }
          ],
          "histogram2dcontour": [
           {
            "colorbar": {
             "outlinewidth": 0,
             "ticks": ""
            },
            "colorscale": [
             [
              0,
              "#0d0887"
             ],
             [
              0.1111111111111111,
              "#46039f"
             ],
             [
              0.2222222222222222,
              "#7201a8"
             ],
             [
              0.3333333333333333,
              "#9c179e"
             ],
             [
              0.4444444444444444,
              "#bd3786"
             ],
             [
              0.5555555555555556,
              "#d8576b"
             ],
             [
              0.6666666666666666,
              "#ed7953"
             ],
             [
              0.7777777777777778,
              "#fb9f3a"
             ],
             [
              0.8888888888888888,
              "#fdca26"
             ],
             [
              1,
              "#f0f921"
             ]
            ],
            "type": "histogram2dcontour"
           }
          ],
          "mesh3d": [
           {
            "colorbar": {
             "outlinewidth": 0,
             "ticks": ""
            },
            "type": "mesh3d"
           }
          ],
          "parcoords": [
           {
            "line": {
             "colorbar": {
              "outlinewidth": 0,
              "ticks": ""
             }
            },
            "type": "parcoords"
           }
          ],
          "pie": [
           {
            "automargin": true,
            "type": "pie"
           }
          ],
          "scatter": [
           {
            "fillpattern": {
             "fillmode": "overlay",
             "size": 10,
             "solidity": 0.2
            },
            "type": "scatter"
           }
          ],
          "scatter3d": [
           {
            "line": {
             "colorbar": {
              "outlinewidth": 0,
              "ticks": ""
             }
            },
            "marker": {
             "colorbar": {
              "outlinewidth": 0,
              "ticks": ""
             }
            },
            "type": "scatter3d"
           }
          ],
          "scattercarpet": [
           {
            "marker": {
             "colorbar": {
              "outlinewidth": 0,
              "ticks": ""
             }
            },
            "type": "scattercarpet"
           }
          ],
          "scattergeo": [
           {
            "marker": {
             "colorbar": {
              "outlinewidth": 0,
              "ticks": ""
             }
            },
            "type": "scattergeo"
           }
          ],
          "scattergl": [
           {
            "marker": {
             "colorbar": {
              "outlinewidth": 0,
              "ticks": ""
             }
            },
            "type": "scattergl"
           }
          ],
          "scattermapbox": [
           {
            "marker": {
             "colorbar": {
              "outlinewidth": 0,
              "ticks": ""
             }
            },
            "type": "scattermapbox"
           }
          ],
          "scatterpolar": [
           {
            "marker": {
             "colorbar": {
              "outlinewidth": 0,
              "ticks": ""
             }
            },
            "type": "scatterpolar"
           }
          ],
          "scatterpolargl": [
           {
            "marker": {
             "colorbar": {
              "outlinewidth": 0,
              "ticks": ""
             }
            },
            "type": "scatterpolargl"
           }
          ],
          "scatterternary": [
           {
            "marker": {
             "colorbar": {
              "outlinewidth": 0,
              "ticks": ""
             }
            },
            "type": "scatterternary"
           }
          ],
          "surface": [
           {
            "colorbar": {
             "outlinewidth": 0,
             "ticks": ""
            },
            "colorscale": [
             [
              0,
              "#0d0887"
             ],
             [
              0.1111111111111111,
              "#46039f"
             ],
             [
              0.2222222222222222,
              "#7201a8"
             ],
             [
              0.3333333333333333,
              "#9c179e"
             ],
             [
              0.4444444444444444,
              "#bd3786"
             ],
             [
              0.5555555555555556,
              "#d8576b"
             ],
             [
              0.6666666666666666,
              "#ed7953"
             ],
             [
              0.7777777777777778,
              "#fb9f3a"
             ],
             [
              0.8888888888888888,
              "#fdca26"
             ],
             [
              1,
              "#f0f921"
             ]
            ],
            "type": "surface"
           }
          ],
          "table": [
           {
            "cells": {
             "fill": {
              "color": "#EBF0F8"
             },
             "line": {
              "color": "white"
             }
            },
            "header": {
             "fill": {
              "color": "#C8D4E3"
             },
             "line": {
              "color": "white"
             }
            },
            "type": "table"
           }
          ]
         },
         "layout": {
          "annotationdefaults": {
           "arrowcolor": "#2a3f5f",
           "arrowhead": 0,
           "arrowwidth": 1
          },
          "autotypenumbers": "strict",
          "coloraxis": {
           "colorbar": {
            "outlinewidth": 0,
            "ticks": ""
           }
          },
          "colorscale": {
           "diverging": [
            [
             0,
             "#8e0152"
            ],
            [
             0.1,
             "#c51b7d"
            ],
            [
             0.2,
             "#de77ae"
            ],
            [
             0.3,
             "#f1b6da"
            ],
            [
             0.4,
             "#fde0ef"
            ],
            [
             0.5,
             "#f7f7f7"
            ],
            [
             0.6,
             "#e6f5d0"
            ],
            [
             0.7,
             "#b8e186"
            ],
            [
             0.8,
             "#7fbc41"
            ],
            [
             0.9,
             "#4d9221"
            ],
            [
             1,
             "#276419"
            ]
           ],
           "sequential": [
            [
             0,
             "#0d0887"
            ],
            [
             0.1111111111111111,
             "#46039f"
            ],
            [
             0.2222222222222222,
             "#7201a8"
            ],
            [
             0.3333333333333333,
             "#9c179e"
            ],
            [
             0.4444444444444444,
             "#bd3786"
            ],
            [
             0.5555555555555556,
             "#d8576b"
            ],
            [
             0.6666666666666666,
             "#ed7953"
            ],
            [
             0.7777777777777778,
             "#fb9f3a"
            ],
            [
             0.8888888888888888,
             "#fdca26"
            ],
            [
             1,
             "#f0f921"
            ]
           ],
           "sequentialminus": [
            [
             0,
             "#0d0887"
            ],
            [
             0.1111111111111111,
             "#46039f"
            ],
            [
             0.2222222222222222,
             "#7201a8"
            ],
            [
             0.3333333333333333,
             "#9c179e"
            ],
            [
             0.4444444444444444,
             "#bd3786"
            ],
            [
             0.5555555555555556,
             "#d8576b"
            ],
            [
             0.6666666666666666,
             "#ed7953"
            ],
            [
             0.7777777777777778,
             "#fb9f3a"
            ],
            [
             0.8888888888888888,
             "#fdca26"
            ],
            [
             1,
             "#f0f921"
            ]
           ]
          },
          "colorway": [
           "#636efa",
           "#EF553B",
           "#00cc96",
           "#ab63fa",
           "#FFA15A",
           "#19d3f3",
           "#FF6692",
           "#B6E880",
           "#FF97FF",
           "#FECB52"
          ],
          "font": {
           "color": "#2a3f5f"
          },
          "geo": {
           "bgcolor": "white",
           "lakecolor": "white",
           "landcolor": "white",
           "showlakes": true,
           "showland": true,
           "subunitcolor": "#C8D4E3"
          },
          "hoverlabel": {
           "align": "left"
          },
          "hovermode": "closest",
          "mapbox": {
           "style": "light"
          },
          "paper_bgcolor": "white",
          "plot_bgcolor": "white",
          "polar": {
           "angularaxis": {
            "gridcolor": "#EBF0F8",
            "linecolor": "#EBF0F8",
            "ticks": ""
           },
           "bgcolor": "white",
           "radialaxis": {
            "gridcolor": "#EBF0F8",
            "linecolor": "#EBF0F8",
            "ticks": ""
           }
          },
          "scene": {
           "xaxis": {
            "backgroundcolor": "white",
            "gridcolor": "#DFE8F3",
            "gridwidth": 2,
            "linecolor": "#EBF0F8",
            "showbackground": true,
            "ticks": "",
            "zerolinecolor": "#EBF0F8"
           },
           "yaxis": {
            "backgroundcolor": "white",
            "gridcolor": "#DFE8F3",
            "gridwidth": 2,
            "linecolor": "#EBF0F8",
            "showbackground": true,
            "ticks": "",
            "zerolinecolor": "#EBF0F8"
           },
           "zaxis": {
            "backgroundcolor": "white",
            "gridcolor": "#DFE8F3",
            "gridwidth": 2,
            "linecolor": "#EBF0F8",
            "showbackground": true,
            "ticks": "",
            "zerolinecolor": "#EBF0F8"
           }
          },
          "shapedefaults": {
           "line": {
            "color": "#2a3f5f"
           }
          },
          "ternary": {
           "aaxis": {
            "gridcolor": "#DFE8F3",
            "linecolor": "#A2B1C6",
            "ticks": ""
           },
           "baxis": {
            "gridcolor": "#DFE8F3",
            "linecolor": "#A2B1C6",
            "ticks": ""
           },
           "bgcolor": "white",
           "caxis": {
            "gridcolor": "#DFE8F3",
            "linecolor": "#A2B1C6",
            "ticks": ""
           }
          },
          "title": {
           "x": 0.05
          },
          "xaxis": {
           "automargin": true,
           "gridcolor": "#EBF0F8",
           "linecolor": "#EBF0F8",
           "ticks": "",
           "title": {
            "standoff": 15
           },
           "zerolinecolor": "#EBF0F8",
           "zerolinewidth": 2
          },
          "yaxis": {
           "automargin": true,
           "gridcolor": "#EBF0F8",
           "linecolor": "#EBF0F8",
           "ticks": "",
           "title": {
            "standoff": 15
           },
           "zerolinecolor": "#EBF0F8",
           "zerolinewidth": 2
          }
         }
        },
        "title": {
         "font": {
          "size": 24
         },
         "text": "Photo Country Counts",
         "x": 0.5,
         "y": 0.95
        }
       }
      }
     },
     "metadata": {},
     "output_type": "display_data"
    }
   ],
   "source": [
    "import plotly.express as px\n",
    "\n",
    "template = 'plotly_white'\n",
    "theme = 'ggplot2'\n",
    "\n",
    "country_count = df_filtered_final['Photographer_Country'].value_counts(sort=True)\n",
    "fig1 = px.pie(country_count, values=country_count.values, names=country_count.index, title='Photographer Country Counts')\n",
    "\n",
    "fig1.update_traces(textposition='inside', textinfo='percent+label')\n",
    "fig1.update_layout(template=template, title_font_size=24, font_size=16, title_x=0.5, title_y=0.95, margin=dict(t=100, b=100))\n",
    "fig1.update_traces(hole=0.4)\n",
    "fig1.update_layout(legend=dict(title='Countries', font=dict(size=14)))\n",
    "\n",
    "\n",
    "country_count = df_filtered_final['Photo_Country'].value_counts(sort=True)\n",
    "fig2 = px.pie(country_count, values=country_count.values, names=country_count.index, title='Photo Country Counts')\n",
    "\n",
    "fig2.update_traces(textposition='inside', textinfo='percent+label')\n",
    "fig2.update_layout(template=template, title_font_size=24, font_size=16, title_x=0.5, title_y=0.95, margin=dict(t=100, b=100))\n",
    "fig2.update_traces(hole=0.4)\n",
    "fig2.update_layout(legend=dict(title='Countries', font=dict(size=14)))\n",
    "\n",
    "\n",
    "fig1.show()\n",
    "fig2.show()"
   ]
  },
  {
   "attachments": {},
   "cell_type": "markdown",
   "metadata": {},
   "source": [
    "**Visualization Earth vector map**"
   ]
  },
  {
   "cell_type": "code",
   "execution_count": 344,
   "metadata": {},
   "outputs": [
    {
     "data": {
      "text/html": [
       "<div>\n",
       "<style scoped>\n",
       "    .dataframe tbody tr th:only-of-type {\n",
       "        vertical-align: middle;\n",
       "    }\n",
       "\n",
       "    .dataframe tbody tr th {\n",
       "        vertical-align: top;\n",
       "    }\n",
       "\n",
       "    .dataframe thead th {\n",
       "        text-align: right;\n",
       "    }\n",
       "</style>\n",
       "<table border=\"1\" class=\"dataframe\">\n",
       "  <thead>\n",
       "    <tr style=\"text-align: right;\">\n",
       "      <th></th>\n",
       "      <th>Index</th>\n",
       "      <th>Title</th>\n",
       "      <th>Award</th>\n",
       "      <th>Category</th>\n",
       "      <th>Published Date</th>\n",
       "      <th>URL</th>\n",
       "      <th>Stored Path</th>\n",
       "      <th>Description</th>\n",
       "      <th>Prize Level</th>\n",
       "      <th>Photographer</th>\n",
       "      <th>Award Year</th>\n",
       "      <th>Background</th>\n",
       "      <th>Story</th>\n",
       "      <th>Award Region</th>\n",
       "      <th>Award Category</th>\n",
       "      <th>Jury</th>\n",
       "      <th>Photographer_Country</th>\n",
       "      <th>Photo_Country</th>\n",
       "    </tr>\n",
       "  </thead>\n",
       "  <tbody>\n",
       "    <tr>\n",
       "      <th>0</th>\n",
       "      <td>1</td>\n",
       "      <td>Not Specified</td>\n",
       "      <td>1955 Photo Contest</td>\n",
       "      <td>Not Specified</td>\n",
       "      <td>28 August, 1955</td>\n",
       "      <td>https://www.worldpressphoto.org/getmedia/7ce98...</td>\n",
       "      <td>F:\\Temp\\1955\\Mogens Haven\\1.jpg</td>\n",
       "      <td>A competitor tumbles off his motorcycle during...</td>\n",
       "      <td>World Press Photo of the Year</td>\n",
       "      <td>Mogens Haven</td>\n",
       "      <td>1955</td>\n",
       "      <td>NaN</td>\n",
       "      <td>NaN</td>\n",
       "      <td>NaN</td>\n",
       "      <td>NaN</td>\n",
       "      <td>NaN</td>\n",
       "      <td>DK</td>\n",
       "      <td>DE</td>\n",
       "    </tr>\n",
       "    <tr>\n",
       "      <th>1</th>\n",
       "      <td>1</td>\n",
       "      <td>Not Specified</td>\n",
       "      <td>1956 Photo Contest</td>\n",
       "      <td>Photo Stories</td>\n",
       "      <td>01 January, 1956</td>\n",
       "      <td>https://www.worldpressphoto.org/getmedia/b8294...</td>\n",
       "      <td>F:\\Temp\\1956\\Helmuth Pirath\\1.jpg</td>\n",
       "      <td>‘Sp?theimkehrer’: A German prisoner of war is ...</td>\n",
       "      <td>1st prize</td>\n",
       "      <td>Helmuth Pirath</td>\n",
       "      <td>1956</td>\n",
       "      <td>NaN</td>\n",
       "      <td>NaN</td>\n",
       "      <td>NaN</td>\n",
       "      <td>NaN</td>\n",
       "      <td>NaN</td>\n",
       "      <td>DE</td>\n",
       "      <td>DE</td>\n",
       "    </tr>\n",
       "    <tr>\n",
       "      <th>2</th>\n",
       "      <td>1</td>\n",
       "      <td>Not Specified</td>\n",
       "      <td>1956 Photo Contest</td>\n",
       "      <td>Spot News</td>\n",
       "      <td>01 January, 1956</td>\n",
       "      <td>https://www.worldpressphoto.org/getmedia/92600...</td>\n",
       "      <td>F:\\Temp\\1956\\Louis Garnade\\1.jpg</td>\n",
       "      <td>A child is being rescued by the fire brigade f...</td>\n",
       "      <td>2nd prize</td>\n",
       "      <td>Louis Garnade</td>\n",
       "      <td>1956</td>\n",
       "      <td>NaN</td>\n",
       "      <td>NaN</td>\n",
       "      <td>NaN</td>\n",
       "      <td>NaN</td>\n",
       "      <td>NaN</td>\n",
       "      <td>GB</td>\n",
       "      <td>GB</td>\n",
       "    </tr>\n",
       "    <tr>\n",
       "      <th>3</th>\n",
       "      <td>1</td>\n",
       "      <td>Not Specified</td>\n",
       "      <td>1956 Photo Contest</td>\n",
       "      <td>Spot News</td>\n",
       "      <td>08 August, 1956</td>\n",
       "      <td>https://www.worldpressphoto.org/getmedia/c45dd...</td>\n",
       "      <td>F:\\Temp\\1956\\Antoine Rulmont\\1.jpg</td>\n",
       "      <td>Family members wait for news about their loved...</td>\n",
       "      <td>1st prize</td>\n",
       "      <td>Antoine Rulmont</td>\n",
       "      <td>1956</td>\n",
       "      <td>NaN</td>\n",
       "      <td>NaN</td>\n",
       "      <td>NaN</td>\n",
       "      <td>NaN</td>\n",
       "      <td>NaN</td>\n",
       "      <td>BE</td>\n",
       "      <td>BE</td>\n",
       "    </tr>\n",
       "    <tr>\n",
       "      <th>4</th>\n",
       "      <td>1</td>\n",
       "      <td>Not Specified</td>\n",
       "      <td>1956 Photo Contest</td>\n",
       "      <td>Sports</td>\n",
       "      <td>31 January, 1956</td>\n",
       "      <td>https://www.worldpressphoto.org/getmedia/bb85f...</td>\n",
       "      <td>F:\\Temp\\1956\\Franz Votava\\1.jpg</td>\n",
       "      <td>The famous Austrian alpine skier Tony Sailer d...</td>\n",
       "      <td>3rd prize</td>\n",
       "      <td>Franz Votava</td>\n",
       "      <td>1956</td>\n",
       "      <td>NaN</td>\n",
       "      <td>NaN</td>\n",
       "      <td>NaN</td>\n",
       "      <td>NaN</td>\n",
       "      <td>NaN</td>\n",
       "      <td>AT</td>\n",
       "      <td>IT</td>\n",
       "    </tr>\n",
       "  </tbody>\n",
       "</table>\n",
       "</div>"
      ],
      "text/plain": [
       "   Index          Title               Award       Category    Published Date   \n",
       "0      1  Not Specified  1955 Photo Contest  Not Specified   28 August, 1955  \\\n",
       "1      1  Not Specified  1956 Photo Contest  Photo Stories  01 January, 1956   \n",
       "2      1  Not Specified  1956 Photo Contest      Spot News  01 January, 1956   \n",
       "3      1  Not Specified  1956 Photo Contest      Spot News   08 August, 1956   \n",
       "4      1  Not Specified  1956 Photo Contest         Sports  31 January, 1956   \n",
       "\n",
       "                                                 URL   \n",
       "0  https://www.worldpressphoto.org/getmedia/7ce98...  \\\n",
       "1  https://www.worldpressphoto.org/getmedia/b8294...   \n",
       "2  https://www.worldpressphoto.org/getmedia/92600...   \n",
       "3  https://www.worldpressphoto.org/getmedia/c45dd...   \n",
       "4  https://www.worldpressphoto.org/getmedia/bb85f...   \n",
       "\n",
       "                          Stored Path   \n",
       "0     F:\\Temp\\1955\\Mogens Haven\\1.jpg  \\\n",
       "1   F:\\Temp\\1956\\Helmuth Pirath\\1.jpg   \n",
       "2    F:\\Temp\\1956\\Louis Garnade\\1.jpg   \n",
       "3  F:\\Temp\\1956\\Antoine Rulmont\\1.jpg   \n",
       "4     F:\\Temp\\1956\\Franz Votava\\1.jpg   \n",
       "\n",
       "                                         Description   \n",
       "0  A competitor tumbles off his motorcycle during...  \\\n",
       "1  ‘Sp?theimkehrer’: A German prisoner of war is ...   \n",
       "2  A child is being rescued by the fire brigade f...   \n",
       "3  Family members wait for news about their loved...   \n",
       "4  The famous Austrian alpine skier Tony Sailer d...   \n",
       "\n",
       "                     Prize Level     Photographer  Award Year  Background   \n",
       "0  World Press Photo of the Year     Mogens Haven        1955         NaN  \\\n",
       "1                      1st prize   Helmuth Pirath        1956         NaN   \n",
       "2                      2nd prize    Louis Garnade        1956         NaN   \n",
       "3                      1st prize  Antoine Rulmont        1956         NaN   \n",
       "4                      3rd prize     Franz Votava        1956         NaN   \n",
       "\n",
       "   Story  Award Region  Award Category  Jury Photographer_Country   \n",
       "0    NaN           NaN             NaN   NaN                   DK  \\\n",
       "1    NaN           NaN             NaN   NaN                   DE   \n",
       "2    NaN           NaN             NaN   NaN                   GB   \n",
       "3    NaN           NaN             NaN   NaN                   BE   \n",
       "4    NaN           NaN             NaN   NaN                   AT   \n",
       "\n",
       "  Photo_Country  \n",
       "0            DE  \n",
       "1            DE  \n",
       "2            GB  \n",
       "3            BE  \n",
       "4            IT  "
      ]
     },
     "execution_count": 344,
     "metadata": {},
     "output_type": "execute_result"
    }
   ],
   "source": [
    "df_filtered_final.head()"
   ]
  },
  {
   "cell_type": "code",
   "execution_count": 345,
   "metadata": {},
   "outputs": [
    {
     "data": {
      "text/html": [
       "<div>\n",
       "<style scoped>\n",
       "    .dataframe tbody tr th:only-of-type {\n",
       "        vertical-align: middle;\n",
       "    }\n",
       "\n",
       "    .dataframe tbody tr th {\n",
       "        vertical-align: top;\n",
       "    }\n",
       "\n",
       "    .dataframe thead th {\n",
       "        text-align: right;\n",
       "    }\n",
       "</style>\n",
       "<table border=\"1\" class=\"dataframe\">\n",
       "  <thead>\n",
       "    <tr style=\"text-align: right;\">\n",
       "      <th></th>\n",
       "      <th>Photographer</th>\n",
       "      <th>Award Year</th>\n",
       "      <th>Photographer_Country</th>\n",
       "      <th>Photo_Country</th>\n",
       "    </tr>\n",
       "  </thead>\n",
       "  <tbody>\n",
       "    <tr>\n",
       "      <th>0</th>\n",
       "      <td>Mogens Haven</td>\n",
       "      <td>1955</td>\n",
       "      <td>DK</td>\n",
       "      <td>DE</td>\n",
       "    </tr>\n",
       "    <tr>\n",
       "      <th>1</th>\n",
       "      <td>Helmuth Pirath</td>\n",
       "      <td>1956</td>\n",
       "      <td>DE</td>\n",
       "      <td>DE</td>\n",
       "    </tr>\n",
       "    <tr>\n",
       "      <th>2</th>\n",
       "      <td>Louis Garnade</td>\n",
       "      <td>1956</td>\n",
       "      <td>GB</td>\n",
       "      <td>GB</td>\n",
       "    </tr>\n",
       "    <tr>\n",
       "      <th>3</th>\n",
       "      <td>Antoine Rulmont</td>\n",
       "      <td>1956</td>\n",
       "      <td>BE</td>\n",
       "      <td>BE</td>\n",
       "    </tr>\n",
       "    <tr>\n",
       "      <th>4</th>\n",
       "      <td>Franz Votava</td>\n",
       "      <td>1956</td>\n",
       "      <td>AT</td>\n",
       "      <td>IT</td>\n",
       "    </tr>\n",
       "  </tbody>\n",
       "</table>\n",
       "</div>"
      ],
      "text/plain": [
       "      Photographer  Award Year Photographer_Country Photo_Country\n",
       "0     Mogens Haven        1955                   DK            DE\n",
       "1   Helmuth Pirath        1956                   DE            DE\n",
       "2    Louis Garnade        1956                   GB            GB\n",
       "3  Antoine Rulmont        1956                   BE            BE\n",
       "4     Franz Votava        1956                   AT            IT"
      ]
     },
     "execution_count": 345,
     "metadata": {},
     "output_type": "execute_result"
    }
   ],
   "source": [
    "earthtable = df_filtered_final[['Photographer', 'Award Year', 'Photographer_Country', 'Photo_Country']]\n",
    "\n",
    "earthtable.head()"
   ]
  },
  {
   "cell_type": "code",
   "execution_count": 346,
   "metadata": {},
   "outputs": [
    {
     "data": {
      "text/html": [
       "<div>\n",
       "<style scoped>\n",
       "    .dataframe tbody tr th:only-of-type {\n",
       "        vertical-align: middle;\n",
       "    }\n",
       "\n",
       "    .dataframe tbody tr th {\n",
       "        vertical-align: top;\n",
       "    }\n",
       "\n",
       "    .dataframe thead th {\n",
       "        text-align: right;\n",
       "    }\n",
       "</style>\n",
       "<table border=\"1\" class=\"dataframe\">\n",
       "  <thead>\n",
       "    <tr style=\"text-align: right;\">\n",
       "      <th></th>\n",
       "      <th>Photographer</th>\n",
       "      <th>Award Year</th>\n",
       "      <th>Photographer_Country</th>\n",
       "      <th>Photo_Country</th>\n",
       "    </tr>\n",
       "  </thead>\n",
       "  <tbody>\n",
       "    <tr>\n",
       "      <th>7</th>\n",
       "      <td>Fred Fischer</td>\n",
       "      <td>1956</td>\n",
       "      <td>Unknown</td>\n",
       "      <td>ES</td>\n",
       "    </tr>\n",
       "    <tr>\n",
       "      <th>12</th>\n",
       "      <td>Fred Fischer</td>\n",
       "      <td>1956</td>\n",
       "      <td>Unknown</td>\n",
       "      <td>ES</td>\n",
       "    </tr>\n",
       "    <tr>\n",
       "      <th>31</th>\n",
       "      <td>Ern? Vadas</td>\n",
       "      <td>1959</td>\n",
       "      <td>Unknown</td>\n",
       "      <td>HU</td>\n",
       "    </tr>\n",
       "    <tr>\n",
       "      <th>37</th>\n",
       "      <td>Ern? Vadas</td>\n",
       "      <td>1959</td>\n",
       "      <td>Unknown</td>\n",
       "      <td>HU</td>\n",
       "    </tr>\n",
       "    <tr>\n",
       "      <th>55</th>\n",
       "      <td>Carl O. L?fman</td>\n",
       "      <td>1961</td>\n",
       "      <td>Unknown</td>\n",
       "      <td>IN</td>\n",
       "    </tr>\n",
       "    <tr>\n",
       "      <th>...</th>\n",
       "      <td>...</td>\n",
       "      <td>...</td>\n",
       "      <td>...</td>\n",
       "      <td>...</td>\n",
       "    </tr>\n",
       "    <tr>\n",
       "      <th>2691</th>\n",
       "      <td>Bénédicte Kurzen and Sanne de Wilde</td>\n",
       "      <td>2019</td>\n",
       "      <td>Unknown</td>\n",
       "      <td>NG</td>\n",
       "    </tr>\n",
       "    <tr>\n",
       "      <th>2692</th>\n",
       "      <td>Luisa D?rr</td>\n",
       "      <td>2019</td>\n",
       "      <td>Unknown</td>\n",
       "      <td>ES</td>\n",
       "    </tr>\n",
       "    <tr>\n",
       "      <th>2752</th>\n",
       "      <td>Sabiha ?imen</td>\n",
       "      <td>2020</td>\n",
       "      <td>Unknown</td>\n",
       "      <td>TR</td>\n",
       "    </tr>\n",
       "    <tr>\n",
       "      <th>2755</th>\n",
       "      <td>Tadas  Kazakevi?ius</td>\n",
       "      <td>2020</td>\n",
       "      <td>Unknown</td>\n",
       "      <td>LT</td>\n",
       "    </tr>\n",
       "    <tr>\n",
       "      <th>2821</th>\n",
       "      <td>Karolina Jonderko</td>\n",
       "      <td>2021</td>\n",
       "      <td>Unknown</td>\n",
       "      <td>PL</td>\n",
       "    </tr>\n",
       "  </tbody>\n",
       "</table>\n",
       "<p>193 rows × 4 columns</p>\n",
       "</div>"
      ],
      "text/plain": [
       "                             Photographer  Award Year Photographer_Country   \n",
       "7                            Fred Fischer        1956              Unknown  \\\n",
       "12                           Fred Fischer        1956              Unknown   \n",
       "31                             Ern? Vadas        1959              Unknown   \n",
       "37                             Ern? Vadas        1959              Unknown   \n",
       "55                         Carl O. L?fman        1961              Unknown   \n",
       "...                                   ...         ...                  ...   \n",
       "2691  Bénédicte Kurzen and Sanne de Wilde        2019              Unknown   \n",
       "2692                           Luisa D?rr        2019              Unknown   \n",
       "2752                         Sabiha ?imen        2020              Unknown   \n",
       "2755                  Tadas  Kazakevi?ius        2020              Unknown   \n",
       "2821                    Karolina Jonderko        2021              Unknown   \n",
       "\n",
       "     Photo_Country  \n",
       "7               ES  \n",
       "12              ES  \n",
       "31              HU  \n",
       "37              HU  \n",
       "55              IN  \n",
       "...            ...  \n",
       "2691            NG  \n",
       "2692            ES  \n",
       "2752            TR  \n",
       "2755            LT  \n",
       "2821            PL  \n",
       "\n",
       "[193 rows x 4 columns]"
      ]
     },
     "execution_count": 346,
     "metadata": {},
     "output_type": "execute_result"
    }
   ],
   "source": [
    "Unknownman = earthtable[(earthtable['Photographer_Country'] == 'Unknown') & (earthtable['Photo_Country'] != 'Unknown')]\n",
    "Unknownman"
   ]
  },
  {
   "cell_type": "code",
   "execution_count": 347,
   "metadata": {},
   "outputs": [
    {
     "name": "stdout",
     "output_type": "stream",
     "text": [
      "Photographer_Country Unknown:227, ratio:7.88%\n",
      "Photo_Country Unknown:326, ratio:11.32%\n"
     ]
    }
   ],
   "source": [
    "#Check the \"Unknown\" value of 'Photographer_Country' and 'Photo_Country'\n",
    "PhotographerUnknown = earthtable[earthtable['Photographer_Country'] == 'Unknown']['Photographer_Country'].value_counts().values[0]\n",
    "PhotographerUnknown_ratio = PhotographerUnknown / len(earthtable)\n",
    "\n",
    "PhotoUnknown = earthtable[earthtable['Photo_Country'] == 'Unknown']['Photo_Country'].value_counts().values[0]\n",
    "PhotoUnknown_ratio = PhotoUnknown / len(earthtable)\n",
    "\n",
    "print(f'Photographer_Country Unknown:{PhotographerUnknown}, ratio:{PhotographerUnknown_ratio:.2%}')\n",
    "print(f'Photo_Country Unknown:{PhotoUnknown}, ratio:{PhotoUnknown_ratio:.2%}')"
   ]
  },
  {
   "cell_type": "code",
   "execution_count": 348,
   "metadata": {},
   "outputs": [],
   "source": [
    "#Flitering the \"Unknown\" value\n",
    "earthtable = earthtable[earthtable['Photographer_Country'] != 'Unknown']\n",
    "earthtable = earthtable[earthtable['Photo_Country'] != 'Unknown']"
   ]
  },
  {
   "cell_type": "code",
   "execution_count": 349,
   "metadata": {},
   "outputs": [
    {
     "name": "stdout",
     "output_type": "stream",
     "text": [
      "Local photo Count:929, ratio:39.35%\n"
     ]
    }
   ],
   "source": [
    "#Check out local photographers shooting their own content\n",
    "localphoto = earthtable[earthtable['Photographer_Country'] == earthtable['Photo_Country']]\n",
    "#print(localphoto.head())  \n",
    "localphoto_count = len(localphoto)\n",
    "localphoto_ratio = localphoto_count / len(earthtable)\n",
    "\n",
    "print(f'Local photo Count:{localphoto_count}, ratio:{localphoto_ratio:.2%}')"
   ]
  },
  {
   "cell_type": "code",
   "execution_count": 350,
   "metadata": {},
   "outputs": [
    {
     "data": {
      "text/html": [
       "<div>\n",
       "<style scoped>\n",
       "    .dataframe tbody tr th:only-of-type {\n",
       "        vertical-align: middle;\n",
       "    }\n",
       "\n",
       "    .dataframe tbody tr th {\n",
       "        vertical-align: top;\n",
       "    }\n",
       "\n",
       "    .dataframe thead th {\n",
       "        text-align: right;\n",
       "    }\n",
       "</style>\n",
       "<table border=\"1\" class=\"dataframe\">\n",
       "  <thead>\n",
       "    <tr style=\"text-align: right;\">\n",
       "      <th></th>\n",
       "      <th>Photographer</th>\n",
       "      <th>Photographer_Country</th>\n",
       "      <th>Count</th>\n",
       "    </tr>\n",
       "  </thead>\n",
       "  <tbody>\n",
       "    <tr>\n",
       "      <th>0</th>\n",
       "      <td>Eddie Adams</td>\n",
       "      <td>US</td>\n",
       "      <td>14</td>\n",
       "    </tr>\n",
       "    <tr>\n",
       "      <th>1</th>\n",
       "      <td>Donald Miralle, Jr.</td>\n",
       "      <td>US</td>\n",
       "      <td>6</td>\n",
       "    </tr>\n",
       "    <tr>\n",
       "      <th>2</th>\n",
       "      <td>Peter Thomann</td>\n",
       "      <td>DE</td>\n",
       "      <td>6</td>\n",
       "    </tr>\n",
       "    <tr>\n",
       "      <th>3</th>\n",
       "      <td>Craig Golding</td>\n",
       "      <td>AU</td>\n",
       "      <td>6</td>\n",
       "    </tr>\n",
       "    <tr>\n",
       "      <th>4</th>\n",
       "      <td>Jodi Bieber</td>\n",
       "      <td>ZA</td>\n",
       "      <td>5</td>\n",
       "    </tr>\n",
       "    <tr>\n",
       "      <th>5</th>\n",
       "      <td>Adam Pretty</td>\n",
       "      <td>AU</td>\n",
       "      <td>5</td>\n",
       "    </tr>\n",
       "    <tr>\n",
       "      <th>6</th>\n",
       "      <td>Brent Stirton</td>\n",
       "      <td>ZA</td>\n",
       "      <td>4</td>\n",
       "    </tr>\n",
       "    <tr>\n",
       "      <th>7</th>\n",
       "      <td>Héctor Rondón Lovera</td>\n",
       "      <td>VE</td>\n",
       "      <td>4</td>\n",
       "    </tr>\n",
       "    <tr>\n",
       "      <th>8</th>\n",
       "      <td>Alon Reininger</td>\n",
       "      <td>US</td>\n",
       "      <td>4</td>\n",
       "    </tr>\n",
       "    <tr>\n",
       "      <th>9</th>\n",
       "      <td>Igor Utkin</td>\n",
       "      <td>RU</td>\n",
       "      <td>4</td>\n",
       "    </tr>\n",
       "  </tbody>\n",
       "</table>\n",
       "</div>"
      ],
      "text/plain": [
       "           Photographer Photographer_Country  Count\n",
       "0           Eddie Adams                   US     14\n",
       "1   Donald Miralle, Jr.                   US      6\n",
       "2         Peter Thomann                   DE      6\n",
       "3         Craig Golding                   AU      6\n",
       "4           Jodi Bieber                   ZA      5\n",
       "5           Adam Pretty                   AU      5\n",
       "6         Brent Stirton                   ZA      4\n",
       "7  Héctor Rondón Lovera                   VE      4\n",
       "8        Alon Reininger                   US      4\n",
       "9            Igor Utkin                   RU      4"
      ]
     },
     "execution_count": 350,
     "metadata": {},
     "output_type": "execute_result"
    }
   ],
   "source": [
    "local_photographer = localphoto.groupby(['Photographer', 'Photographer_Country']).size().reset_index(name='Count').sort_values(by=['Count', 'Photographer_Country'], ascending=False).head(10)\n",
    "local_photographer.reset_index(drop=True)"
   ]
  },
  {
   "cell_type": "code",
   "execution_count": 351,
   "metadata": {},
   "outputs": [
    {
     "name": "stdout",
     "output_type": "stream",
     "text": [
      "Oversea photo Count:1432, ratio:60.65%\n",
      "Local photo Count:929, ratio:39.35%\n"
     ]
    }
   ],
   "source": [
    "#Check out local photographers shooting oversea content\n",
    "outphoto = earthtable[earthtable['Photographer_Country'] != earthtable['Photo_Country']]\n",
    "#print(outphoto.head(10))  \n",
    "outphoto_count = len(outphoto)\n",
    "outphoto_ratio = outphoto_count / len(earthtable)\n",
    "\n",
    "print(f'Oversea photo Count:{outphoto_count}, ratio:{outphoto_ratio:.2%}')\n",
    "print(f'Local photo Count:{localphoto_count}, ratio:{localphoto_ratio:.2%}')"
   ]
  },
  {
   "cell_type": "code",
   "execution_count": 297,
   "metadata": {},
   "outputs": [
    {
     "data": {
      "text/html": [
       "<div>\n",
       "<style scoped>\n",
       "    .dataframe tbody tr th:only-of-type {\n",
       "        vertical-align: middle;\n",
       "    }\n",
       "\n",
       "    .dataframe tbody tr th {\n",
       "        vertical-align: top;\n",
       "    }\n",
       "\n",
       "    .dataframe thead th {\n",
       "        text-align: right;\n",
       "    }\n",
       "</style>\n",
       "<table border=\"1\" class=\"dataframe\">\n",
       "  <thead>\n",
       "    <tr style=\"text-align: right;\">\n",
       "      <th></th>\n",
       "      <th>Photographer</th>\n",
       "      <th>Photographer_Country</th>\n",
       "      <th>Count</th>\n",
       "    </tr>\n",
       "  </thead>\n",
       "  <tbody>\n",
       "    <tr>\n",
       "      <th>0</th>\n",
       "      <td>James Nachtwey</td>\n",
       "      <td>US</td>\n",
       "      <td>20</td>\n",
       "    </tr>\n",
       "    <tr>\n",
       "      <th>1</th>\n",
       "      <td>Anthony Suau</td>\n",
       "      <td>US</td>\n",
       "      <td>18</td>\n",
       "    </tr>\n",
       "    <tr>\n",
       "      <th>2</th>\n",
       "      <td>Eddie Adams</td>\n",
       "      <td>US</td>\n",
       "      <td>14</td>\n",
       "    </tr>\n",
       "    <tr>\n",
       "      <th>3</th>\n",
       "      <td>David Turnley</td>\n",
       "      <td>US</td>\n",
       "      <td>13</td>\n",
       "    </tr>\n",
       "    <tr>\n",
       "      <th>4</th>\n",
       "      <td>Gérard Klijn</td>\n",
       "      <td>NL</td>\n",
       "      <td>11</td>\n",
       "    </tr>\n",
       "    <tr>\n",
       "      <th>5</th>\n",
       "      <td>Brent Stirton</td>\n",
       "      <td>ZA</td>\n",
       "      <td>9</td>\n",
       "    </tr>\n",
       "    <tr>\n",
       "      <th>6</th>\n",
       "      <td>David Guttenfelder</td>\n",
       "      <td>US</td>\n",
       "      <td>9</td>\n",
       "    </tr>\n",
       "    <tr>\n",
       "      <th>7</th>\n",
       "      <td>Paolo Pellegrin</td>\n",
       "      <td>IT</td>\n",
       "      <td>9</td>\n",
       "    </tr>\n",
       "    <tr>\n",
       "      <th>8</th>\n",
       "      <td>Jan Grarup</td>\n",
       "      <td>DK</td>\n",
       "      <td>9</td>\n",
       "    </tr>\n",
       "    <tr>\n",
       "      <th>9</th>\n",
       "      <td>Francesco Zizola</td>\n",
       "      <td>IT</td>\n",
       "      <td>8</td>\n",
       "    </tr>\n",
       "  </tbody>\n",
       "</table>\n",
       "</div>"
      ],
      "text/plain": [
       "         Photographer Photographer_Country  Count\n",
       "0      James Nachtwey                   US     20\n",
       "1        Anthony Suau                   US     18\n",
       "2         Eddie Adams                   US     14\n",
       "3       David Turnley                   US     13\n",
       "4        Gérard Klijn                   NL     11\n",
       "5       Brent Stirton                   ZA      9\n",
       "6  David Guttenfelder                   US      9\n",
       "7     Paolo Pellegrin                   IT      9\n",
       "8          Jan Grarup                   DK      9\n",
       "9    Francesco Zizola                   IT      8"
      ]
     },
     "execution_count": 297,
     "metadata": {},
     "output_type": "execute_result"
    }
   ],
   "source": [
    "oversea_photographer = outphoto.groupby(['Photographer', 'Photographer_Country']).size().reset_index(name='Count').sort_values(by=['Count', 'Photographer_Country'], ascending=False).head(10)\n",
    "oversea_photographer.reset_index(drop=True)"
   ]
  },
  {
   "cell_type": "code",
   "execution_count": 298,
   "metadata": {},
   "outputs": [
    {
     "data": {
      "application/vnd.plotly.v1+json": {
       "config": {
        "plotlyServerURL": "https://plot.ly"
       },
       "data": [
        {
         "alignmentgroup": "True",
         "hovertemplate": "Photo_Country=%{x}<br>Count=%{y}<extra></extra>",
         "legendgroup": "US",
         "marker": {
          "color": "#636efa",
          "pattern": {
           "shape": ""
          }
         },
         "name": "US",
         "offsetgroup": "US",
         "orientation": "v",
         "showlegend": true,
         "textposition": "auto",
         "type": "bar",
         "x": [
          "US"
         ],
         "xaxis": "x",
         "y": [
          66
         ],
         "yaxis": "y"
        },
        {
         "alignmentgroup": "True",
         "hovertemplate": "Photo_Country=%{x}<br>Count=%{y}<extra></extra>",
         "legendgroup": "RU",
         "marker": {
          "color": "#EF553B",
          "pattern": {
           "shape": ""
          }
         },
         "name": "RU",
         "offsetgroup": "RU",
         "orientation": "v",
         "showlegend": true,
         "textposition": "auto",
         "type": "bar",
         "x": [
          "RU"
         ],
         "xaxis": "x",
         "y": [
          57
         ],
         "yaxis": "y"
        },
        {
         "alignmentgroup": "True",
         "hovertemplate": "Photo_Country=%{x}<br>Count=%{y}<extra></extra>",
         "legendgroup": "CN",
         "marker": {
          "color": "#00cc96",
          "pattern": {
           "shape": ""
          }
         },
         "name": "CN",
         "offsetgroup": "CN",
         "orientation": "v",
         "showlegend": true,
         "textposition": "auto",
         "type": "bar",
         "x": [
          "CN"
         ],
         "xaxis": "x",
         "y": [
          46
         ],
         "yaxis": "y"
        },
        {
         "alignmentgroup": "True",
         "hovertemplate": "Photo_Country=%{x}<br>Count=%{y}<extra></extra>",
         "legendgroup": "IN",
         "marker": {
          "color": "#ab63fa",
          "pattern": {
           "shape": ""
          }
         },
         "name": "IN",
         "offsetgroup": "IN",
         "orientation": "v",
         "showlegend": true,
         "textposition": "auto",
         "type": "bar",
         "x": [
          "IN"
         ],
         "xaxis": "x",
         "y": [
          46
         ],
         "yaxis": "y"
        },
        {
         "alignmentgroup": "True",
         "hovertemplate": "Photo_Country=%{x}<br>Count=%{y}<extra></extra>",
         "legendgroup": "VN",
         "marker": {
          "color": "#FFA15A",
          "pattern": {
           "shape": ""
          }
         },
         "name": "VN",
         "offsetgroup": "VN",
         "orientation": "v",
         "showlegend": true,
         "textposition": "auto",
         "type": "bar",
         "x": [
          "VN"
         ],
         "xaxis": "x",
         "y": [
          45
         ],
         "yaxis": "y"
        },
        {
         "alignmentgroup": "True",
         "hovertemplate": "Photo_Country=%{x}<br>Count=%{y}<extra></extra>",
         "legendgroup": "IQ",
         "marker": {
          "color": "#19d3f3",
          "pattern": {
           "shape": ""
          }
         },
         "name": "IQ",
         "offsetgroup": "IQ",
         "orientation": "v",
         "showlegend": true,
         "textposition": "auto",
         "type": "bar",
         "x": [
          "IQ"
         ],
         "xaxis": "x",
         "y": [
          42
         ],
         "yaxis": "y"
        },
        {
         "alignmentgroup": "True",
         "hovertemplate": "Photo_Country=%{x}<br>Count=%{y}<extra></extra>",
         "legendgroup": "AF",
         "marker": {
          "color": "#FF6692",
          "pattern": {
           "shape": ""
          }
         },
         "name": "AF",
         "offsetgroup": "AF",
         "orientation": "v",
         "showlegend": true,
         "textposition": "auto",
         "type": "bar",
         "x": [
          "AF"
         ],
         "xaxis": "x",
         "y": [
          41
         ],
         "yaxis": "y"
        },
        {
         "alignmentgroup": "True",
         "hovertemplate": "Photo_Country=%{x}<br>Count=%{y}<extra></extra>",
         "legendgroup": "PS",
         "marker": {
          "color": "#B6E880",
          "pattern": {
           "shape": ""
          }
         },
         "name": "PS",
         "offsetgroup": "PS",
         "orientation": "v",
         "showlegend": true,
         "textposition": "auto",
         "type": "bar",
         "x": [
          "PS"
         ],
         "xaxis": "x",
         "y": [
          34
         ],
         "yaxis": "y"
        },
        {
         "alignmentgroup": "True",
         "hovertemplate": "Photo_Country=%{x}<br>Count=%{y}<extra></extra>",
         "legendgroup": "KE",
         "marker": {
          "color": "#FF97FF",
          "pattern": {
           "shape": ""
          }
         },
         "name": "KE",
         "offsetgroup": "KE",
         "orientation": "v",
         "showlegend": true,
         "textposition": "auto",
         "type": "bar",
         "x": [
          "KE"
         ],
         "xaxis": "x",
         "y": [
          33
         ],
         "yaxis": "y"
        },
        {
         "alignmentgroup": "True",
         "hovertemplate": "Photo_Country=%{x}<br>Count=%{y}<extra></extra>",
         "legendgroup": "ID",
         "marker": {
          "color": "#FECB52",
          "pattern": {
           "shape": ""
          }
         },
         "name": "ID",
         "offsetgroup": "ID",
         "orientation": "v",
         "showlegend": true,
         "textposition": "auto",
         "type": "bar",
         "x": [
          "ID"
         ],
         "xaxis": "x",
         "y": [
          31
         ],
         "yaxis": "y"
        },
        {
         "alignmentgroup": "True",
         "hovertemplate": "Photo_Country=%{x}<br>Count=%{y}<extra></extra>",
         "legendgroup": "FR",
         "marker": {
          "color": "#636efa",
          "pattern": {
           "shape": ""
          }
         },
         "name": "FR",
         "offsetgroup": "FR",
         "orientation": "v",
         "showlegend": true,
         "textposition": "auto",
         "type": "bar",
         "x": [
          "FR"
         ],
         "xaxis": "x",
         "y": [
          30
         ],
         "yaxis": "y"
        },
        {
         "alignmentgroup": "True",
         "hovertemplate": "Photo_Country=%{x}<br>Count=%{y}<extra></extra>",
         "legendgroup": "BR",
         "marker": {
          "color": "#EF553B",
          "pattern": {
           "shape": ""
          }
         },
         "name": "BR",
         "offsetgroup": "BR",
         "orientation": "v",
         "showlegend": true,
         "textposition": "auto",
         "type": "bar",
         "x": [
          "BR"
         ],
         "xaxis": "x",
         "y": [
          29
         ],
         "yaxis": "y"
        },
        {
         "alignmentgroup": "True",
         "hovertemplate": "Photo_Country=%{x}<br>Count=%{y}<extra></extra>",
         "legendgroup": "ZA",
         "marker": {
          "color": "#00cc96",
          "pattern": {
           "shape": ""
          }
         },
         "name": "ZA",
         "offsetgroup": "ZA",
         "orientation": "v",
         "showlegend": true,
         "textposition": "auto",
         "type": "bar",
         "x": [
          "ZA"
         ],
         "xaxis": "x",
         "y": [
          28
         ],
         "yaxis": "y"
        },
        {
         "alignmentgroup": "True",
         "hovertemplate": "Photo_Country=%{x}<br>Count=%{y}<extra></extra>",
         "legendgroup": "JP",
         "marker": {
          "color": "#ab63fa",
          "pattern": {
           "shape": ""
          }
         },
         "name": "JP",
         "offsetgroup": "JP",
         "orientation": "v",
         "showlegend": true,
         "textposition": "auto",
         "type": "bar",
         "x": [
          "JP"
         ],
         "xaxis": "x",
         "y": [
          26
         ],
         "yaxis": "y"
        },
        {
         "alignmentgroup": "True",
         "hovertemplate": "Photo_Country=%{x}<br>Count=%{y}<extra></extra>",
         "legendgroup": "CU",
         "marker": {
          "color": "#FFA15A",
          "pattern": {
           "shape": ""
          }
         },
         "name": "CU",
         "offsetgroup": "CU",
         "orientation": "v",
         "showlegend": true,
         "textposition": "auto",
         "type": "bar",
         "x": [
          "CU"
         ],
         "xaxis": "x",
         "y": [
          24
         ],
         "yaxis": "y"
        },
        {
         "alignmentgroup": "True",
         "hovertemplate": "Photo_Country=%{x}<br>Count=%{y}<extra></extra>",
         "legendgroup": "RS",
         "marker": {
          "color": "#19d3f3",
          "pattern": {
           "shape": ""
          }
         },
         "name": "RS",
         "offsetgroup": "RS",
         "orientation": "v",
         "showlegend": true,
         "textposition": "auto",
         "type": "bar",
         "x": [
          "RS"
         ],
         "xaxis": "x",
         "y": [
          22
         ],
         "yaxis": "y"
        },
        {
         "alignmentgroup": "True",
         "hovertemplate": "Photo_Country=%{x}<br>Count=%{y}<extra></extra>",
         "legendgroup": "DE",
         "marker": {
          "color": "#FF6692",
          "pattern": {
           "shape": ""
          }
         },
         "name": "DE",
         "offsetgroup": "DE",
         "orientation": "v",
         "showlegend": true,
         "textposition": "auto",
         "type": "bar",
         "x": [
          "DE"
         ],
         "xaxis": "x",
         "y": [
          20
         ],
         "yaxis": "y"
        },
        {
         "alignmentgroup": "True",
         "hovertemplate": "Photo_Country=%{x}<br>Count=%{y}<extra></extra>",
         "legendgroup": "ES",
         "marker": {
          "color": "#B6E880",
          "pattern": {
           "shape": ""
          }
         },
         "name": "ES",
         "offsetgroup": "ES",
         "orientation": "v",
         "showlegend": true,
         "textposition": "auto",
         "type": "bar",
         "x": [
          "ES"
         ],
         "xaxis": "x",
         "y": [
          20
         ],
         "yaxis": "y"
        },
        {
         "alignmentgroup": "True",
         "hovertemplate": "Photo_Country=%{x}<br>Count=%{y}<extra></extra>",
         "legendgroup": "LB",
         "marker": {
          "color": "#FF97FF",
          "pattern": {
           "shape": ""
          }
         },
         "name": "LB",
         "offsetgroup": "LB",
         "orientation": "v",
         "showlegend": true,
         "textposition": "auto",
         "type": "bar",
         "x": [
          "LB"
         ],
         "xaxis": "x",
         "y": [
          18
         ],
         "yaxis": "y"
        },
        {
         "alignmentgroup": "True",
         "hovertemplate": "Photo_Country=%{x}<br>Count=%{y}<extra></extra>",
         "legendgroup": "CG",
         "marker": {
          "color": "#FECB52",
          "pattern": {
           "shape": ""
          }
         },
         "name": "CG",
         "offsetgroup": "CG",
         "orientation": "v",
         "showlegend": true,
         "textposition": "auto",
         "type": "bar",
         "x": [
          "CG"
         ],
         "xaxis": "x",
         "y": [
          18
         ],
         "yaxis": "y"
        },
        {
         "alignmentgroup": "True",
         "hovertemplate": "Photo_Country=%{x}<br>Count=%{y}<extra></extra>",
         "legendgroup": "GR",
         "marker": {
          "color": "#636efa",
          "pattern": {
           "shape": ""
          }
         },
         "name": "GR",
         "offsetgroup": "GR",
         "orientation": "v",
         "showlegend": true,
         "textposition": "auto",
         "type": "bar",
         "x": [
          "GR"
         ],
         "xaxis": "x",
         "y": [
          18
         ],
         "yaxis": "y"
        },
        {
         "alignmentgroup": "True",
         "hovertemplate": "Photo_Country=%{x}<br>Count=%{y}<extra></extra>",
         "legendgroup": "NG",
         "marker": {
          "color": "#EF553B",
          "pattern": {
           "shape": ""
          }
         },
         "name": "NG",
         "offsetgroup": "NG",
         "orientation": "v",
         "showlegend": true,
         "textposition": "auto",
         "type": "bar",
         "x": [
          "NG"
         ],
         "xaxis": "x",
         "y": [
          17
         ],
         "yaxis": "y"
        },
        {
         "alignmentgroup": "True",
         "hovertemplate": "Photo_Country=%{x}<br>Count=%{y}<extra></extra>",
         "legendgroup": "EG",
         "marker": {
          "color": "#00cc96",
          "pattern": {
           "shape": ""
          }
         },
         "name": "EG",
         "offsetgroup": "EG",
         "orientation": "v",
         "showlegend": true,
         "textposition": "auto",
         "type": "bar",
         "x": [
          "EG"
         ],
         "xaxis": "x",
         "y": [
          17
         ],
         "yaxis": "y"
        },
        {
         "alignmentgroup": "True",
         "hovertemplate": "Photo_Country=%{x}<br>Count=%{y}<extra></extra>",
         "legendgroup": "PK",
         "marker": {
          "color": "#ab63fa",
          "pattern": {
           "shape": ""
          }
         },
         "name": "PK",
         "offsetgroup": "PK",
         "orientation": "v",
         "showlegend": true,
         "textposition": "auto",
         "type": "bar",
         "x": [
          "PK"
         ],
         "xaxis": "x",
         "y": [
          17
         ],
         "yaxis": "y"
        },
        {
         "alignmentgroup": "True",
         "hovertemplate": "Photo_Country=%{x}<br>Count=%{y}<extra></extra>",
         "legendgroup": "IR",
         "marker": {
          "color": "#FFA15A",
          "pattern": {
           "shape": ""
          }
         },
         "name": "IR",
         "offsetgroup": "IR",
         "orientation": "v",
         "showlegend": true,
         "textposition": "auto",
         "type": "bar",
         "x": [
          "IR"
         ],
         "xaxis": "x",
         "y": [
          17
         ],
         "yaxis": "y"
        },
        {
         "alignmentgroup": "True",
         "hovertemplate": "Photo_Country=%{x}<br>Count=%{y}<extra></extra>",
         "legendgroup": "GB",
         "marker": {
          "color": "#19d3f3",
          "pattern": {
           "shape": ""
          }
         },
         "name": "GB",
         "offsetgroup": "GB",
         "orientation": "v",
         "showlegend": true,
         "textposition": "auto",
         "type": "bar",
         "x": [
          "GB"
         ],
         "xaxis": "x",
         "y": [
          17
         ],
         "yaxis": "y"
        },
        {
         "alignmentgroup": "True",
         "hovertemplate": "Photo_Country=%{x}<br>Count=%{y}<extra></extra>",
         "legendgroup": "IL",
         "marker": {
          "color": "#FF6692",
          "pattern": {
           "shape": ""
          }
         },
         "name": "IL",
         "offsetgroup": "IL",
         "orientation": "v",
         "showlegend": true,
         "textposition": "auto",
         "type": "bar",
         "x": [
          "IL"
         ],
         "xaxis": "x",
         "y": [
          17
         ],
         "yaxis": "y"
        },
        {
         "alignmentgroup": "True",
         "hovertemplate": "Photo_Country=%{x}<br>Count=%{y}<extra></extra>",
         "legendgroup": "HT",
         "marker": {
          "color": "#B6E880",
          "pattern": {
           "shape": ""
          }
         },
         "name": "HT",
         "offsetgroup": "HT",
         "orientation": "v",
         "showlegend": true,
         "textposition": "auto",
         "type": "bar",
         "x": [
          "HT"
         ],
         "xaxis": "x",
         "y": [
          16
         ],
         "yaxis": "y"
        },
        {
         "alignmentgroup": "True",
         "hovertemplate": "Photo_Country=%{x}<br>Count=%{y}<extra></extra>",
         "legendgroup": "TR",
         "marker": {
          "color": "#FF97FF",
          "pattern": {
           "shape": ""
          }
         },
         "name": "TR",
         "offsetgroup": "TR",
         "orientation": "v",
         "showlegend": true,
         "textposition": "auto",
         "type": "bar",
         "x": [
          "TR"
         ],
         "xaxis": "x",
         "y": [
          16
         ],
         "yaxis": "y"
        },
        {
         "alignmentgroup": "True",
         "hovertemplate": "Photo_Country=%{x}<br>Count=%{y}<extra></extra>",
         "legendgroup": "ET",
         "marker": {
          "color": "#FECB52",
          "pattern": {
           "shape": ""
          }
         },
         "name": "ET",
         "offsetgroup": "ET",
         "orientation": "v",
         "showlegend": true,
         "textposition": "auto",
         "type": "bar",
         "x": [
          "ET"
         ],
         "xaxis": "x",
         "y": [
          15
         ],
         "yaxis": "y"
        },
        {
         "alignmentgroup": "True",
         "hovertemplate": "Photo_Country=%{x}<br>Count=%{y}<extra></extra>",
         "legendgroup": "TH",
         "marker": {
          "color": "#636efa",
          "pattern": {
           "shape": ""
          }
         },
         "name": "TH",
         "offsetgroup": "TH",
         "orientation": "v",
         "showlegend": true,
         "textposition": "auto",
         "type": "bar",
         "x": [
          "TH"
         ],
         "xaxis": "x",
         "y": [
          15
         ],
         "yaxis": "y"
        },
        {
         "alignmentgroup": "True",
         "hovertemplate": "Photo_Country=%{x}<br>Count=%{y}<extra></extra>",
         "legendgroup": "SY",
         "marker": {
          "color": "#EF553B",
          "pattern": {
           "shape": ""
          }
         },
         "name": "SY",
         "offsetgroup": "SY",
         "orientation": "v",
         "showlegend": true,
         "textposition": "auto",
         "type": "bar",
         "x": [
          "SY"
         ],
         "xaxis": "x",
         "y": [
          15
         ],
         "yaxis": "y"
        },
        {
         "alignmentgroup": "True",
         "hovertemplate": "Photo_Country=%{x}<br>Count=%{y}<extra></extra>",
         "legendgroup": "BA",
         "marker": {
          "color": "#00cc96",
          "pattern": {
           "shape": ""
          }
         },
         "name": "BA",
         "offsetgroup": "BA",
         "orientation": "v",
         "showlegend": true,
         "textposition": "auto",
         "type": "bar",
         "x": [
          "BA"
         ],
         "xaxis": "x",
         "y": [
          15
         ],
         "yaxis": "y"
        },
        {
         "alignmentgroup": "True",
         "hovertemplate": "Photo_Country=%{x}<br>Count=%{y}<extra></extra>",
         "legendgroup": "IT",
         "marker": {
          "color": "#ab63fa",
          "pattern": {
           "shape": ""
          }
         },
         "name": "IT",
         "offsetgroup": "IT",
         "orientation": "v",
         "showlegend": true,
         "textposition": "auto",
         "type": "bar",
         "x": [
          "IT"
         ],
         "xaxis": "x",
         "y": [
          15
         ],
         "yaxis": "y"
        },
        {
         "alignmentgroup": "True",
         "hovertemplate": "Photo_Country=%{x}<br>Count=%{y}<extra></extra>",
         "legendgroup": "RO",
         "marker": {
          "color": "#FFA15A",
          "pattern": {
           "shape": ""
          }
         },
         "name": "RO",
         "offsetgroup": "RO",
         "orientation": "v",
         "showlegend": true,
         "textposition": "auto",
         "type": "bar",
         "x": [
          "RO"
         ],
         "xaxis": "x",
         "y": [
          15
         ],
         "yaxis": "y"
        },
        {
         "alignmentgroup": "True",
         "hovertemplate": "Photo_Country=%{x}<br>Count=%{y}<extra></extra>",
         "legendgroup": "MX",
         "marker": {
          "color": "#19d3f3",
          "pattern": {
           "shape": ""
          }
         },
         "name": "MX",
         "offsetgroup": "MX",
         "orientation": "v",
         "showlegend": true,
         "textposition": "auto",
         "type": "bar",
         "x": [
          "MX"
         ],
         "xaxis": "x",
         "y": [
          15
         ],
         "yaxis": "y"
        },
        {
         "alignmentgroup": "True",
         "hovertemplate": "Photo_Country=%{x}<br>Count=%{y}<extra></extra>",
         "legendgroup": "CA",
         "marker": {
          "color": "#FF6692",
          "pattern": {
           "shape": ""
          }
         },
         "name": "CA",
         "offsetgroup": "CA",
         "orientation": "v",
         "showlegend": true,
         "textposition": "auto",
         "type": "bar",
         "x": [
          "CA"
         ],
         "xaxis": "x",
         "y": [
          14
         ],
         "yaxis": "y"
        },
        {
         "alignmentgroup": "True",
         "hovertemplate": "Photo_Country=%{x}<br>Count=%{y}<extra></extra>",
         "legendgroup": "PH",
         "marker": {
          "color": "#B6E880",
          "pattern": {
           "shape": ""
          }
         },
         "name": "PH",
         "offsetgroup": "PH",
         "orientation": "v",
         "showlegend": true,
         "textposition": "auto",
         "type": "bar",
         "x": [
          "PH"
         ],
         "xaxis": "x",
         "y": [
          13
         ],
         "yaxis": "y"
        },
        {
         "alignmentgroup": "True",
         "hovertemplate": "Photo_Country=%{x}<br>Count=%{y}<extra></extra>",
         "legendgroup": "AU",
         "marker": {
          "color": "#FF97FF",
          "pattern": {
           "shape": ""
          }
         },
         "name": "AU",
         "offsetgroup": "AU",
         "orientation": "v",
         "showlegend": true,
         "textposition": "auto",
         "type": "bar",
         "x": [
          "AU"
         ],
         "xaxis": "x",
         "y": [
          12
         ],
         "yaxis": "y"
        },
        {
         "alignmentgroup": "True",
         "hovertemplate": "Photo_Country=%{x}<br>Count=%{y}<extra></extra>",
         "legendgroup": "SL",
         "marker": {
          "color": "#FECB52",
          "pattern": {
           "shape": ""
          }
         },
         "name": "SL",
         "offsetgroup": "SL",
         "orientation": "v",
         "showlegend": true,
         "textposition": "auto",
         "type": "bar",
         "x": [
          "SL"
         ],
         "xaxis": "x",
         "y": [
          12
         ],
         "yaxis": "y"
        },
        {
         "alignmentgroup": "True",
         "hovertemplate": "Photo_Country=%{x}<br>Count=%{y}<extra></extra>",
         "legendgroup": "SD",
         "marker": {
          "color": "#636efa",
          "pattern": {
           "shape": ""
          }
         },
         "name": "SD",
         "offsetgroup": "SD",
         "orientation": "v",
         "showlegend": true,
         "textposition": "auto",
         "type": "bar",
         "x": [
          "SD"
         ],
         "xaxis": "x",
         "y": [
          12
         ],
         "yaxis": "y"
        },
        {
         "alignmentgroup": "True",
         "hovertemplate": "Photo_Country=%{x}<br>Count=%{y}<extra></extra>",
         "legendgroup": "ZW",
         "marker": {
          "color": "#EF553B",
          "pattern": {
           "shape": ""
          }
         },
         "name": "ZW",
         "offsetgroup": "ZW",
         "orientation": "v",
         "showlegend": true,
         "textposition": "auto",
         "type": "bar",
         "x": [
          "ZW"
         ],
         "xaxis": "x",
         "y": [
          11
         ],
         "yaxis": "y"
        },
        {
         "alignmentgroup": "True",
         "hovertemplate": "Photo_Country=%{x}<br>Count=%{y}<extra></extra>",
         "legendgroup": "CO",
         "marker": {
          "color": "#00cc96",
          "pattern": {
           "shape": ""
          }
         },
         "name": "CO",
         "offsetgroup": "CO",
         "orientation": "v",
         "showlegend": true,
         "textposition": "auto",
         "type": "bar",
         "x": [
          "CO"
         ],
         "xaxis": "x",
         "y": [
          10
         ],
         "yaxis": "y"
        },
        {
         "alignmentgroup": "True",
         "hovertemplate": "Photo_Country=%{x}<br>Count=%{y}<extra></extra>",
         "legendgroup": "CL",
         "marker": {
          "color": "#ab63fa",
          "pattern": {
           "shape": ""
          }
         },
         "name": "CL",
         "offsetgroup": "CL",
         "orientation": "v",
         "showlegend": true,
         "textposition": "auto",
         "type": "bar",
         "x": [
          "CL"
         ],
         "xaxis": "x",
         "y": [
          10
         ],
         "yaxis": "y"
        },
        {
         "alignmentgroup": "True",
         "hovertemplate": "Photo_Country=%{x}<br>Count=%{y}<extra></extra>",
         "legendgroup": "AQ",
         "marker": {
          "color": "#FFA15A",
          "pattern": {
           "shape": ""
          }
         },
         "name": "AQ",
         "offsetgroup": "AQ",
         "orientation": "v",
         "showlegend": true,
         "textposition": "auto",
         "type": "bar",
         "x": [
          "AQ"
         ],
         "xaxis": "x",
         "y": [
          10
         ],
         "yaxis": "y"
        },
        {
         "alignmentgroup": "True",
         "hovertemplate": "Photo_Country=%{x}<br>Count=%{y}<extra></extra>",
         "legendgroup": "BE",
         "marker": {
          "color": "#19d3f3",
          "pattern": {
           "shape": ""
          }
         },
         "name": "BE",
         "offsetgroup": "BE",
         "orientation": "v",
         "showlegend": true,
         "textposition": "auto",
         "type": "bar",
         "x": [
          "BE"
         ],
         "xaxis": "x",
         "y": [
          9
         ],
         "yaxis": "y"
        },
        {
         "alignmentgroup": "True",
         "hovertemplate": "Photo_Country=%{x}<br>Count=%{y}<extra></extra>",
         "legendgroup": "UG",
         "marker": {
          "color": "#FF6692",
          "pattern": {
           "shape": ""
          }
         },
         "name": "UG",
         "offsetgroup": "UG",
         "orientation": "v",
         "showlegend": true,
         "textposition": "auto",
         "type": "bar",
         "x": [
          "UG"
         ],
         "xaxis": "x",
         "y": [
          9
         ],
         "yaxis": "y"
        },
        {
         "alignmentgroup": "True",
         "hovertemplate": "Photo_Country=%{x}<br>Count=%{y}<extra></extra>",
         "legendgroup": "GE",
         "marker": {
          "color": "#B6E880",
          "pattern": {
           "shape": ""
          }
         },
         "name": "GE",
         "offsetgroup": "GE",
         "orientation": "v",
         "showlegend": true,
         "textposition": "auto",
         "type": "bar",
         "x": [
          "GE"
         ],
         "xaxis": "x",
         "y": [
          9
         ],
         "yaxis": "y"
        },
        {
         "alignmentgroup": "True",
         "hovertemplate": "Photo_Country=%{x}<br>Count=%{y}<extra></extra>",
         "legendgroup": "BD",
         "marker": {
          "color": "#FF97FF",
          "pattern": {
           "shape": ""
          }
         },
         "name": "BD",
         "offsetgroup": "BD",
         "orientation": "v",
         "showlegend": true,
         "textposition": "auto",
         "type": "bar",
         "x": [
          "BD"
         ],
         "xaxis": "x",
         "y": [
          9
         ],
         "yaxis": "y"
        },
        {
         "alignmentgroup": "True",
         "hovertemplate": "Photo_Country=%{x}<br>Count=%{y}<extra></extra>",
         "legendgroup": "CH",
         "marker": {
          "color": "#FECB52",
          "pattern": {
           "shape": ""
          }
         },
         "name": "CH",
         "offsetgroup": "CH",
         "orientation": "v",
         "showlegend": true,
         "textposition": "auto",
         "type": "bar",
         "x": [
          "CH"
         ],
         "xaxis": "x",
         "y": [
          9
         ],
         "yaxis": "y"
        },
        {
         "alignmentgroup": "True",
         "hovertemplate": "Photo_Country=%{x}<br>Count=%{y}<extra></extra>",
         "legendgroup": "AO",
         "marker": {
          "color": "#636efa",
          "pattern": {
           "shape": ""
          }
         },
         "name": "AO",
         "offsetgroup": "AO",
         "orientation": "v",
         "showlegend": true,
         "textposition": "auto",
         "type": "bar",
         "x": [
          "AO"
         ],
         "xaxis": "x",
         "y": [
          9
         ],
         "yaxis": "y"
        },
        {
         "alignmentgroup": "True",
         "hovertemplate": "Photo_Country=%{x}<br>Count=%{y}<extra></extra>",
         "legendgroup": "YE",
         "marker": {
          "color": "#EF553B",
          "pattern": {
           "shape": ""
          }
         },
         "name": "YE",
         "offsetgroup": "YE",
         "orientation": "v",
         "showlegend": true,
         "textposition": "auto",
         "type": "bar",
         "x": [
          "YE"
         ],
         "xaxis": "x",
         "y": [
          9
         ],
         "yaxis": "y"
        },
        {
         "alignmentgroup": "True",
         "hovertemplate": "Photo_Country=%{x}<br>Count=%{y}<extra></extra>",
         "legendgroup": "GT",
         "marker": {
          "color": "#00cc96",
          "pattern": {
           "shape": ""
          }
         },
         "name": "GT",
         "offsetgroup": "GT",
         "orientation": "v",
         "showlegend": true,
         "textposition": "auto",
         "type": "bar",
         "x": [
          "GT"
         ],
         "xaxis": "x",
         "y": [
          9
         ],
         "yaxis": "y"
        },
        {
         "alignmentgroup": "True",
         "hovertemplate": "Photo_Country=%{x}<br>Count=%{y}<extra></extra>",
         "legendgroup": "NI",
         "marker": {
          "color": "#ab63fa",
          "pattern": {
           "shape": ""
          }
         },
         "name": "NI",
         "offsetgroup": "NI",
         "orientation": "v",
         "showlegend": true,
         "textposition": "auto",
         "type": "bar",
         "x": [
          "NI"
         ],
         "xaxis": "x",
         "y": [
          8
         ],
         "yaxis": "y"
        },
        {
         "alignmentgroup": "True",
         "hovertemplate": "Photo_Country=%{x}<br>Count=%{y}<extra></extra>",
         "legendgroup": "MM",
         "marker": {
          "color": "#FFA15A",
          "pattern": {
           "shape": ""
          }
         },
         "name": "MM",
         "offsetgroup": "MM",
         "orientation": "v",
         "showlegend": true,
         "textposition": "auto",
         "type": "bar",
         "x": [
          "MM"
         ],
         "xaxis": "x",
         "y": [
          8
         ],
         "yaxis": "y"
        },
        {
         "alignmentgroup": "True",
         "hovertemplate": "Photo_Country=%{x}<br>Count=%{y}<extra></extra>",
         "legendgroup": "NL",
         "marker": {
          "color": "#19d3f3",
          "pattern": {
           "shape": ""
          }
         },
         "name": "NL",
         "offsetgroup": "NL",
         "orientation": "v",
         "showlegend": true,
         "textposition": "auto",
         "type": "bar",
         "x": [
          "NL"
         ],
         "xaxis": "x",
         "y": [
          8
         ],
         "yaxis": "y"
        },
        {
         "alignmentgroup": "True",
         "hovertemplate": "Photo_Country=%{x}<br>Count=%{y}<extra></extra>",
         "legendgroup": "KH",
         "marker": {
          "color": "#FF6692",
          "pattern": {
           "shape": ""
          }
         },
         "name": "KH",
         "offsetgroup": "KH",
         "orientation": "v",
         "showlegend": true,
         "textposition": "auto",
         "type": "bar",
         "x": [
          "KH"
         ],
         "xaxis": "x",
         "y": [
          8
         ],
         "yaxis": "y"
        },
        {
         "alignmentgroup": "True",
         "hovertemplate": "Photo_Country=%{x}<br>Count=%{y}<extra></extra>",
         "legendgroup": "LR",
         "marker": {
          "color": "#B6E880",
          "pattern": {
           "shape": ""
          }
         },
         "name": "LR",
         "offsetgroup": "LR",
         "orientation": "v",
         "showlegend": true,
         "textposition": "auto",
         "type": "bar",
         "x": [
          "LR"
         ],
         "xaxis": "x",
         "y": [
          8
         ],
         "yaxis": "y"
        },
        {
         "alignmentgroup": "True",
         "hovertemplate": "Photo_Country=%{x}<br>Count=%{y}<extra></extra>",
         "legendgroup": "KR",
         "marker": {
          "color": "#FF97FF",
          "pattern": {
           "shape": ""
          }
         },
         "name": "KR",
         "offsetgroup": "KR",
         "orientation": "v",
         "showlegend": true,
         "textposition": "auto",
         "type": "bar",
         "x": [
          "KR"
         ],
         "xaxis": "x",
         "y": [
          7
         ],
         "yaxis": "y"
        },
        {
         "alignmentgroup": "True",
         "hovertemplate": "Photo_Country=%{x}<br>Count=%{y}<extra></extra>",
         "legendgroup": "PL",
         "marker": {
          "color": "#FECB52",
          "pattern": {
           "shape": ""
          }
         },
         "name": "PL",
         "offsetgroup": "PL",
         "orientation": "v",
         "showlegend": true,
         "textposition": "auto",
         "type": "bar",
         "x": [
          "PL"
         ],
         "xaxis": "x",
         "y": [
          7
         ],
         "yaxis": "y"
        },
        {
         "alignmentgroup": "True",
         "hovertemplate": "Photo_Country=%{x}<br>Count=%{y}<extra></extra>",
         "legendgroup": "DZ",
         "marker": {
          "color": "#636efa",
          "pattern": {
           "shape": ""
          }
         },
         "name": "DZ",
         "offsetgroup": "DZ",
         "orientation": "v",
         "showlegend": true,
         "textposition": "auto",
         "type": "bar",
         "x": [
          "DZ"
         ],
         "xaxis": "x",
         "y": [
          7
         ],
         "yaxis": "y"
        },
        {
         "alignmentgroup": "True",
         "hovertemplate": "Photo_Country=%{x}<br>Count=%{y}<extra></extra>",
         "legendgroup": "CZ",
         "marker": {
          "color": "#EF553B",
          "pattern": {
           "shape": ""
          }
         },
         "name": "CZ",
         "offsetgroup": "CZ",
         "orientation": "v",
         "showlegend": true,
         "textposition": "auto",
         "type": "bar",
         "x": [
          "CZ"
         ],
         "xaxis": "x",
         "y": [
          7
         ],
         "yaxis": "y"
        },
        {
         "alignmentgroup": "True",
         "hovertemplate": "Photo_Country=%{x}<br>Count=%{y}<extra></extra>",
         "legendgroup": "LV",
         "marker": {
          "color": "#00cc96",
          "pattern": {
           "shape": ""
          }
         },
         "name": "LV",
         "offsetgroup": "LV",
         "orientation": "v",
         "showlegend": true,
         "textposition": "auto",
         "type": "bar",
         "x": [
          "LV"
         ],
         "xaxis": "x",
         "y": [
          6
         ],
         "yaxis": "y"
        },
        {
         "alignmentgroup": "True",
         "hovertemplate": "Photo_Country=%{x}<br>Count=%{y}<extra></extra>",
         "legendgroup": "MN",
         "marker": {
          "color": "#ab63fa",
          "pattern": {
           "shape": ""
          }
         },
         "name": "MN",
         "offsetgroup": "MN",
         "orientation": "v",
         "showlegend": true,
         "textposition": "auto",
         "type": "bar",
         "x": [
          "MN"
         ],
         "xaxis": "x",
         "y": [
          6
         ],
         "yaxis": "y"
        },
        {
         "alignmentgroup": "True",
         "hovertemplate": "Photo_Country=%{x}<br>Count=%{y}<extra></extra>",
         "legendgroup": "SN",
         "marker": {
          "color": "#FFA15A",
          "pattern": {
           "shape": ""
          }
         },
         "name": "SN",
         "offsetgroup": "SN",
         "orientation": "v",
         "showlegend": true,
         "textposition": "auto",
         "type": "bar",
         "x": [
          "SN"
         ],
         "xaxis": "x",
         "y": [
          6
         ],
         "yaxis": "y"
        },
        {
         "alignmentgroup": "True",
         "hovertemplate": "Photo_Country=%{x}<br>Count=%{y}<extra></extra>",
         "legendgroup": "KW",
         "marker": {
          "color": "#19d3f3",
          "pattern": {
           "shape": ""
          }
         },
         "name": "KW",
         "offsetgroup": "KW",
         "orientation": "v",
         "showlegend": true,
         "textposition": "auto",
         "type": "bar",
         "x": [
          "KW"
         ],
         "xaxis": "x",
         "y": [
          6
         ],
         "yaxis": "y"
        },
        {
         "alignmentgroup": "True",
         "hovertemplate": "Photo_Country=%{x}<br>Count=%{y}<extra></extra>",
         "legendgroup": "AT",
         "marker": {
          "color": "#FF6692",
          "pattern": {
           "shape": ""
          }
         },
         "name": "AT",
         "offsetgroup": "AT",
         "orientation": "v",
         "showlegend": true,
         "textposition": "auto",
         "type": "bar",
         "x": [
          "AT"
         ],
         "xaxis": "x",
         "y": [
          6
         ],
         "yaxis": "y"
        },
        {
         "alignmentgroup": "True",
         "hovertemplate": "Photo_Country=%{x}<br>Count=%{y}<extra></extra>",
         "legendgroup": "NP",
         "marker": {
          "color": "#B6E880",
          "pattern": {
           "shape": ""
          }
         },
         "name": "NP",
         "offsetgroup": "NP",
         "orientation": "v",
         "showlegend": true,
         "textposition": "auto",
         "type": "bar",
         "x": [
          "NP"
         ],
         "xaxis": "x",
         "y": [
          6
         ],
         "yaxis": "y"
        },
        {
         "alignmentgroup": "True",
         "hovertemplate": "Photo_Country=%{x}<br>Count=%{y}<extra></extra>",
         "legendgroup": "NO",
         "marker": {
          "color": "#FF97FF",
          "pattern": {
           "shape": ""
          }
         },
         "name": "NO",
         "offsetgroup": "NO",
         "orientation": "v",
         "showlegend": true,
         "textposition": "auto",
         "type": "bar",
         "x": [
          "NO"
         ],
         "xaxis": "x",
         "y": [
          6
         ],
         "yaxis": "y"
        },
        {
         "alignmentgroup": "True",
         "hovertemplate": "Photo_Country=%{x}<br>Count=%{y}<extra></extra>",
         "legendgroup": "MA",
         "marker": {
          "color": "#FECB52",
          "pattern": {
           "shape": ""
          }
         },
         "name": "MA",
         "offsetgroup": "MA",
         "orientation": "v",
         "showlegend": true,
         "textposition": "auto",
         "type": "bar",
         "x": [
          "MA"
         ],
         "xaxis": "x",
         "y": [
          6
         ],
         "yaxis": "y"
        },
        {
         "alignmentgroup": "True",
         "hovertemplate": "Photo_Country=%{x}<br>Count=%{y}<extra></extra>",
         "legendgroup": "RW",
         "marker": {
          "color": "#636efa",
          "pattern": {
           "shape": ""
          }
         },
         "name": "RW",
         "offsetgroup": "RW",
         "orientation": "v",
         "showlegend": true,
         "textposition": "auto",
         "type": "bar",
         "x": [
          "RW"
         ],
         "xaxis": "x",
         "y": [
          6
         ],
         "yaxis": "y"
        },
        {
         "alignmentgroup": "True",
         "hovertemplate": "Photo_Country=%{x}<br>Count=%{y}<extra></extra>",
         "legendgroup": "LY",
         "marker": {
          "color": "#EF553B",
          "pattern": {
           "shape": ""
          }
         },
         "name": "LY",
         "offsetgroup": "LY",
         "orientation": "v",
         "showlegend": true,
         "textposition": "auto",
         "type": "bar",
         "x": [
          "LY"
         ],
         "xaxis": "x",
         "y": [
          5
         ],
         "yaxis": "y"
        },
        {
         "alignmentgroup": "True",
         "hovertemplate": "Photo_Country=%{x}<br>Count=%{y}<extra></extra>",
         "legendgroup": "MG",
         "marker": {
          "color": "#00cc96",
          "pattern": {
           "shape": ""
          }
         },
         "name": "MG",
         "offsetgroup": "MG",
         "orientation": "v",
         "showlegend": true,
         "textposition": "auto",
         "type": "bar",
         "x": [
          "MG"
         ],
         "xaxis": "x",
         "y": [
          5
         ],
         "yaxis": "y"
        },
        {
         "alignmentgroup": "True",
         "hovertemplate": "Photo_Country=%{x}<br>Count=%{y}<extra></extra>",
         "legendgroup": "AM",
         "marker": {
          "color": "#ab63fa",
          "pattern": {
           "shape": ""
          }
         },
         "name": "AM",
         "offsetgroup": "AM",
         "orientation": "v",
         "showlegend": true,
         "textposition": "auto",
         "type": "bar",
         "x": [
          "AM"
         ],
         "xaxis": "x",
         "y": [
          5
         ],
         "yaxis": "y"
        },
        {
         "alignmentgroup": "True",
         "hovertemplate": "Photo_Country=%{x}<br>Count=%{y}<extra></extra>",
         "legendgroup": "AR",
         "marker": {
          "color": "#FFA15A",
          "pattern": {
           "shape": ""
          }
         },
         "name": "AR",
         "offsetgroup": "AR",
         "orientation": "v",
         "showlegend": true,
         "textposition": "auto",
         "type": "bar",
         "x": [
          "AR"
         ],
         "xaxis": "x",
         "y": [
          5
         ],
         "yaxis": "y"
        },
        {
         "alignmentgroup": "True",
         "hovertemplate": "Photo_Country=%{x}<br>Count=%{y}<extra></extra>",
         "legendgroup": "MY",
         "marker": {
          "color": "#19d3f3",
          "pattern": {
           "shape": ""
          }
         },
         "name": "MY",
         "offsetgroup": "MY",
         "orientation": "v",
         "showlegend": true,
         "textposition": "auto",
         "type": "bar",
         "x": [
          "MY"
         ],
         "xaxis": "x",
         "y": [
          5
         ],
         "yaxis": "y"
        },
        {
         "alignmentgroup": "True",
         "hovertemplate": "Photo_Country=%{x}<br>Count=%{y}<extra></extra>",
         "legendgroup": "KP",
         "marker": {
          "color": "#FF6692",
          "pattern": {
           "shape": ""
          }
         },
         "name": "KP",
         "offsetgroup": "KP",
         "orientation": "v",
         "showlegend": true,
         "textposition": "auto",
         "type": "bar",
         "x": [
          "KP"
         ],
         "xaxis": "x",
         "y": [
          5
         ],
         "yaxis": "y"
        },
        {
         "alignmentgroup": "True",
         "hovertemplate": "Photo_Country=%{x}<br>Count=%{y}<extra></extra>",
         "legendgroup": "SO",
         "marker": {
          "color": "#B6E880",
          "pattern": {
           "shape": ""
          }
         },
         "name": "SO",
         "offsetgroup": "SO",
         "orientation": "v",
         "showlegend": true,
         "textposition": "auto",
         "type": "bar",
         "x": [
          "SO"
         ],
         "xaxis": "x",
         "y": [
          5
         ],
         "yaxis": "y"
        },
        {
         "alignmentgroup": "True",
         "hovertemplate": "Photo_Country=%{x}<br>Count=%{y}<extra></extra>",
         "legendgroup": "DO",
         "marker": {
          "color": "#FF97FF",
          "pattern": {
           "shape": ""
          }
         },
         "name": "DO",
         "offsetgroup": "DO",
         "orientation": "v",
         "showlegend": true,
         "textposition": "auto",
         "type": "bar",
         "x": [
          "DO"
         ],
         "xaxis": "x",
         "y": [
          5
         ],
         "yaxis": "y"
        },
        {
         "alignmentgroup": "True",
         "hovertemplate": "Photo_Country=%{x}<br>Count=%{y}<extra></extra>",
         "legendgroup": "AL",
         "marker": {
          "color": "#FECB52",
          "pattern": {
           "shape": ""
          }
         },
         "name": "AL",
         "offsetgroup": "AL",
         "orientation": "v",
         "showlegend": true,
         "textposition": "auto",
         "type": "bar",
         "x": [
          "AL"
         ],
         "xaxis": "x",
         "y": [
          4
         ],
         "yaxis": "y"
        },
        {
         "alignmentgroup": "True",
         "hovertemplate": "Photo_Country=%{x}<br>Count=%{y}<extra></extra>",
         "legendgroup": "AZ",
         "marker": {
          "color": "#636efa",
          "pattern": {
           "shape": ""
          }
         },
         "name": "AZ",
         "offsetgroup": "AZ",
         "orientation": "v",
         "showlegend": true,
         "textposition": "auto",
         "type": "bar",
         "x": [
          "AZ"
         ],
         "xaxis": "x",
         "y": [
          4
         ],
         "yaxis": "y"
        },
        {
         "alignmentgroup": "True",
         "hovertemplate": "Photo_Country=%{x}<br>Count=%{y}<extra></extra>",
         "legendgroup": "TD",
         "marker": {
          "color": "#EF553B",
          "pattern": {
           "shape": ""
          }
         },
         "name": "TD",
         "offsetgroup": "TD",
         "orientation": "v",
         "showlegend": true,
         "textposition": "auto",
         "type": "bar",
         "x": [
          "TD"
         ],
         "xaxis": "x",
         "y": [
          4
         ],
         "yaxis": "y"
        },
        {
         "alignmentgroup": "True",
         "hovertemplate": "Photo_Country=%{x}<br>Count=%{y}<extra></extra>",
         "legendgroup": "PE",
         "marker": {
          "color": "#00cc96",
          "pattern": {
           "shape": ""
          }
         },
         "name": "PE",
         "offsetgroup": "PE",
         "orientation": "v",
         "showlegend": true,
         "textposition": "auto",
         "type": "bar",
         "x": [
          "PE"
         ],
         "xaxis": "x",
         "y": [
          4
         ],
         "yaxis": "y"
        },
        {
         "alignmentgroup": "True",
         "hovertemplate": "Photo_Country=%{x}<br>Count=%{y}<extra></extra>",
         "legendgroup": "UA",
         "marker": {
          "color": "#ab63fa",
          "pattern": {
           "shape": ""
          }
         },
         "name": "UA",
         "offsetgroup": "UA",
         "orientation": "v",
         "showlegend": true,
         "textposition": "auto",
         "type": "bar",
         "x": [
          "UA"
         ],
         "xaxis": "x",
         "y": [
          4
         ],
         "yaxis": "y"
        },
        {
         "alignmentgroup": "True",
         "hovertemplate": "Photo_Country=%{x}<br>Count=%{y}<extra></extra>",
         "legendgroup": "ML",
         "marker": {
          "color": "#FFA15A",
          "pattern": {
           "shape": ""
          }
         },
         "name": "ML",
         "offsetgroup": "ML",
         "orientation": "v",
         "showlegend": true,
         "textposition": "auto",
         "type": "bar",
         "x": [
          "ML"
         ],
         "xaxis": "x",
         "y": [
          4
         ],
         "yaxis": "y"
        },
        {
         "alignmentgroup": "True",
         "hovertemplate": "Photo_Country=%{x}<br>Count=%{y}<extra></extra>",
         "legendgroup": "AE",
         "marker": {
          "color": "#19d3f3",
          "pattern": {
           "shape": ""
          }
         },
         "name": "AE",
         "offsetgroup": "AE",
         "orientation": "v",
         "showlegend": true,
         "textposition": "auto",
         "type": "bar",
         "x": [
          "AE"
         ],
         "xaxis": "x",
         "y": [
          4
         ],
         "yaxis": "y"
        },
        {
         "alignmentgroup": "True",
         "hovertemplate": "Photo_Country=%{x}<br>Count=%{y}<extra></extra>",
         "legendgroup": "CY",
         "marker": {
          "color": "#FF6692",
          "pattern": {
           "shape": ""
          }
         },
         "name": "CY",
         "offsetgroup": "CY",
         "orientation": "v",
         "showlegend": true,
         "textposition": "auto",
         "type": "bar",
         "x": [
          "CY"
         ],
         "xaxis": "x",
         "y": [
          4
         ],
         "yaxis": "y"
        },
        {
         "alignmentgroup": "True",
         "hovertemplate": "Photo_Country=%{x}<br>Count=%{y}<extra></extra>",
         "legendgroup": "IE",
         "marker": {
          "color": "#B6E880",
          "pattern": {
           "shape": ""
          }
         },
         "name": "IE",
         "offsetgroup": "IE",
         "orientation": "v",
         "showlegend": true,
         "textposition": "auto",
         "type": "bar",
         "x": [
          "IE"
         ],
         "xaxis": "x",
         "y": [
          4
         ],
         "yaxis": "y"
        },
        {
         "alignmentgroup": "True",
         "hovertemplate": "Photo_Country=%{x}<br>Count=%{y}<extra></extra>",
         "legendgroup": "CM",
         "marker": {
          "color": "#FF97FF",
          "pattern": {
           "shape": ""
          }
         },
         "name": "CM",
         "offsetgroup": "CM",
         "orientation": "v",
         "showlegend": true,
         "textposition": "auto",
         "type": "bar",
         "x": [
          "CM"
         ],
         "xaxis": "x",
         "y": [
          4
         ],
         "yaxis": "y"
        },
        {
         "alignmentgroup": "True",
         "hovertemplate": "Photo_Country=%{x}<br>Count=%{y}<extra></extra>",
         "legendgroup": "CF",
         "marker": {
          "color": "#FECB52",
          "pattern": {
           "shape": ""
          }
         },
         "name": "CF",
         "offsetgroup": "CF",
         "orientation": "v",
         "showlegend": true,
         "textposition": "auto",
         "type": "bar",
         "x": [
          "CF"
         ],
         "xaxis": "x",
         "y": [
          3
         ],
         "yaxis": "y"
        },
        {
         "alignmentgroup": "True",
         "hovertemplate": "Photo_Country=%{x}<br>Count=%{y}<extra></extra>",
         "legendgroup": "DK",
         "marker": {
          "color": "#636efa",
          "pattern": {
           "shape": ""
          }
         },
         "name": "DK",
         "offsetgroup": "DK",
         "orientation": "v",
         "showlegend": true,
         "textposition": "auto",
         "type": "bar",
         "x": [
          "DK"
         ],
         "xaxis": "x",
         "y": [
          3
         ],
         "yaxis": "y"
        },
        {
         "alignmentgroup": "True",
         "hovertemplate": "Photo_Country=%{x}<br>Count=%{y}<extra></extra>",
         "legendgroup": "TZ",
         "marker": {
          "color": "#EF553B",
          "pattern": {
           "shape": ""
          }
         },
         "name": "TZ",
         "offsetgroup": "TZ",
         "orientation": "v",
         "showlegend": true,
         "textposition": "auto",
         "type": "bar",
         "x": [
          "TZ"
         ],
         "xaxis": "x",
         "y": [
          3
         ],
         "yaxis": "y"
        },
        {
         "alignmentgroup": "True",
         "hovertemplate": "Photo_Country=%{x}<br>Count=%{y}<extra></extra>",
         "legendgroup": "SV",
         "marker": {
          "color": "#00cc96",
          "pattern": {
           "shape": ""
          }
         },
         "name": "SV",
         "offsetgroup": "SV",
         "orientation": "v",
         "showlegend": true,
         "textposition": "auto",
         "type": "bar",
         "x": [
          "SV"
         ],
         "xaxis": "x",
         "y": [
          3
         ],
         "yaxis": "y"
        },
        {
         "alignmentgroup": "True",
         "hovertemplate": "Photo_Country=%{x}<br>Count=%{y}<extra></extra>",
         "legendgroup": "SS",
         "marker": {
          "color": "#ab63fa",
          "pattern": {
           "shape": ""
          }
         },
         "name": "SS",
         "offsetgroup": "SS",
         "orientation": "v",
         "showlegend": true,
         "textposition": "auto",
         "type": "bar",
         "x": [
          "SS"
         ],
         "xaxis": "x",
         "y": [
          3
         ],
         "yaxis": "y"
        },
        {
         "alignmentgroup": "True",
         "hovertemplate": "Photo_Country=%{x}<br>Count=%{y}<extra></extra>",
         "legendgroup": "GN",
         "marker": {
          "color": "#FFA15A",
          "pattern": {
           "shape": ""
          }
         },
         "name": "GN",
         "offsetgroup": "GN",
         "orientation": "v",
         "showlegend": true,
         "textposition": "auto",
         "type": "bar",
         "x": [
          "GN"
         ],
         "xaxis": "x",
         "y": [
          3
         ],
         "yaxis": "y"
        },
        {
         "alignmentgroup": "True",
         "hovertemplate": "Photo_Country=%{x}<br>Count=%{y}<extra></extra>",
         "legendgroup": "SE",
         "marker": {
          "color": "#19d3f3",
          "pattern": {
           "shape": ""
          }
         },
         "name": "SE",
         "offsetgroup": "SE",
         "orientation": "v",
         "showlegend": true,
         "textposition": "auto",
         "type": "bar",
         "x": [
          "SE"
         ],
         "xaxis": "x",
         "y": [
          3
         ],
         "yaxis": "y"
        },
        {
         "alignmentgroup": "True",
         "hovertemplate": "Photo_Country=%{x}<br>Count=%{y}<extra></extra>",
         "legendgroup": "HN",
         "marker": {
          "color": "#FF6692",
          "pattern": {
           "shape": ""
          }
         },
         "name": "HN",
         "offsetgroup": "HN",
         "orientation": "v",
         "showlegend": true,
         "textposition": "auto",
         "type": "bar",
         "x": [
          "HN"
         ],
         "xaxis": "x",
         "y": [
          3
         ],
         "yaxis": "y"
        },
        {
         "alignmentgroup": "True",
         "hovertemplate": "Photo_Country=%{x}<br>Count=%{y}<extra></extra>",
         "legendgroup": "HR",
         "marker": {
          "color": "#B6E880",
          "pattern": {
           "shape": ""
          }
         },
         "name": "HR",
         "offsetgroup": "HR",
         "orientation": "v",
         "showlegend": true,
         "textposition": "auto",
         "type": "bar",
         "x": [
          "HR"
         ],
         "xaxis": "x",
         "y": [
          3
         ],
         "yaxis": "y"
        },
        {
         "alignmentgroup": "True",
         "hovertemplate": "Photo_Country=%{x}<br>Count=%{y}<extra></extra>",
         "legendgroup": "BF",
         "marker": {
          "color": "#FF97FF",
          "pattern": {
           "shape": ""
          }
         },
         "name": "BF",
         "offsetgroup": "BF",
         "orientation": "v",
         "showlegend": true,
         "textposition": "auto",
         "type": "bar",
         "x": [
          "BF"
         ],
         "xaxis": "x",
         "y": [
          3
         ],
         "yaxis": "y"
        },
        {
         "alignmentgroup": "True",
         "hovertemplate": "Photo_Country=%{x}<br>Count=%{y}<extra></extra>",
         "legendgroup": "BO",
         "marker": {
          "color": "#FECB52",
          "pattern": {
           "shape": ""
          }
         },
         "name": "BO",
         "offsetgroup": "BO",
         "orientation": "v",
         "showlegend": true,
         "textposition": "auto",
         "type": "bar",
         "x": [
          "BO"
         ],
         "xaxis": "x",
         "y": [
          3
         ],
         "yaxis": "y"
        },
        {
         "alignmentgroup": "True",
         "hovertemplate": "Photo_Country=%{x}<br>Count=%{y}<extra></extra>",
         "legendgroup": "IS",
         "marker": {
          "color": "#636efa",
          "pattern": {
           "shape": ""
          }
         },
         "name": "IS",
         "offsetgroup": "IS",
         "orientation": "v",
         "showlegend": true,
         "textposition": "auto",
         "type": "bar",
         "x": [
          "IS"
         ],
         "xaxis": "x",
         "y": [
          3
         ],
         "yaxis": "y"
        },
        {
         "alignmentgroup": "True",
         "hovertemplate": "Photo_Country=%{x}<br>Count=%{y}<extra></extra>",
         "legendgroup": "PT",
         "marker": {
          "color": "#EF553B",
          "pattern": {
           "shape": ""
          }
         },
         "name": "PT",
         "offsetgroup": "PT",
         "orientation": "v",
         "showlegend": true,
         "textposition": "auto",
         "type": "bar",
         "x": [
          "PT"
         ],
         "xaxis": "x",
         "y": [
          3
         ],
         "yaxis": "y"
        },
        {
         "alignmentgroup": "True",
         "hovertemplate": "Photo_Country=%{x}<br>Count=%{y}<extra></extra>",
         "legendgroup": "EC",
         "marker": {
          "color": "#00cc96",
          "pattern": {
           "shape": ""
          }
         },
         "name": "EC",
         "offsetgroup": "EC",
         "orientation": "v",
         "showlegend": true,
         "textposition": "auto",
         "type": "bar",
         "x": [
          "EC"
         ],
         "xaxis": "x",
         "y": [
          3
         ],
         "yaxis": "y"
        },
        {
         "alignmentgroup": "True",
         "hovertemplate": "Photo_Country=%{x}<br>Count=%{y}<extra></extra>",
         "legendgroup": "LK",
         "marker": {
          "color": "#ab63fa",
          "pattern": {
           "shape": ""
          }
         },
         "name": "LK",
         "offsetgroup": "LK",
         "orientation": "v",
         "showlegend": true,
         "textposition": "auto",
         "type": "bar",
         "x": [
          "LK"
         ],
         "xaxis": "x",
         "y": [
          3
         ],
         "yaxis": "y"
        },
        {
         "alignmentgroup": "True",
         "hovertemplate": "Photo_Country=%{x}<br>Count=%{y}<extra></extra>",
         "legendgroup": "JO",
         "marker": {
          "color": "#FFA15A",
          "pattern": {
           "shape": ""
          }
         },
         "name": "JO",
         "offsetgroup": "JO",
         "orientation": "v",
         "showlegend": true,
         "textposition": "auto",
         "type": "bar",
         "x": [
          "JO"
         ],
         "xaxis": "x",
         "y": [
          3
         ],
         "yaxis": "y"
        },
        {
         "alignmentgroup": "True",
         "hovertemplate": "Photo_Country=%{x}<br>Count=%{y}<extra></extra>",
         "legendgroup": "KZ",
         "marker": {
          "color": "#19d3f3",
          "pattern": {
           "shape": ""
          }
         },
         "name": "KZ",
         "offsetgroup": "KZ",
         "orientation": "v",
         "showlegend": true,
         "textposition": "auto",
         "type": "bar",
         "x": [
          "KZ"
         ],
         "xaxis": "x",
         "y": [
          3
         ],
         "yaxis": "y"
        },
        {
         "alignmentgroup": "True",
         "hovertemplate": "Photo_Country=%{x}<br>Count=%{y}<extra></extra>",
         "legendgroup": "BS",
         "marker": {
          "color": "#FF6692",
          "pattern": {
           "shape": ""
          }
         },
         "name": "BS",
         "offsetgroup": "BS",
         "orientation": "v",
         "showlegend": true,
         "textposition": "auto",
         "type": "bar",
         "x": [
          "BS"
         ],
         "xaxis": "x",
         "y": [
          2
         ],
         "yaxis": "y"
        },
        {
         "alignmentgroup": "True",
         "hovertemplate": "Photo_Country=%{x}<br>Count=%{y}<extra></extra>",
         "legendgroup": "TG",
         "marker": {
          "color": "#B6E880",
          "pattern": {
           "shape": ""
          }
         },
         "name": "TG",
         "offsetgroup": "TG",
         "orientation": "v",
         "showlegend": true,
         "textposition": "auto",
         "type": "bar",
         "x": [
          "TG"
         ],
         "xaxis": "x",
         "y": [
          2
         ],
         "yaxis": "y"
        },
        {
         "alignmentgroup": "True",
         "hovertemplate": "Photo_Country=%{x}<br>Count=%{y}<extra></extra>",
         "legendgroup": "SI",
         "marker": {
          "color": "#FF97FF",
          "pattern": {
           "shape": ""
          }
         },
         "name": "SI",
         "offsetgroup": "SI",
         "orientation": "v",
         "showlegend": true,
         "textposition": "auto",
         "type": "bar",
         "x": [
          "SI"
         ],
         "xaxis": "x",
         "y": [
          2
         ],
         "yaxis": "y"
        },
        {
         "alignmentgroup": "True",
         "hovertemplate": "Photo_Country=%{x}<br>Count=%{y}<extra></extra>",
         "legendgroup": "MW",
         "marker": {
          "color": "#FECB52",
          "pattern": {
           "shape": ""
          }
         },
         "name": "MW",
         "offsetgroup": "MW",
         "orientation": "v",
         "showlegend": true,
         "textposition": "auto",
         "type": "bar",
         "x": [
          "MW"
         ],
         "xaxis": "x",
         "y": [
          2
         ],
         "yaxis": "y"
        },
        {
         "alignmentgroup": "True",
         "hovertemplate": "Photo_Country=%{x}<br>Count=%{y}<extra></extra>",
         "legendgroup": "GY",
         "marker": {
          "color": "#636efa",
          "pattern": {
           "shape": ""
          }
         },
         "name": "GY",
         "offsetgroup": "GY",
         "orientation": "v",
         "showlegend": true,
         "textposition": "auto",
         "type": "bar",
         "x": [
          "GY"
         ],
         "xaxis": "x",
         "y": [
          2
         ],
         "yaxis": "y"
        },
        {
         "alignmentgroup": "True",
         "hovertemplate": "Photo_Country=%{x}<br>Count=%{y}<extra></extra>",
         "legendgroup": "CW",
         "marker": {
          "color": "#EF553B",
          "pattern": {
           "shape": ""
          }
         },
         "name": "CW",
         "offsetgroup": "CW",
         "orientation": "v",
         "showlegend": true,
         "textposition": "auto",
         "type": "bar",
         "x": [
          "CW"
         ],
         "xaxis": "x",
         "y": [
          2
         ],
         "yaxis": "y"
        },
        {
         "alignmentgroup": "True",
         "hovertemplate": "Photo_Country=%{x}<br>Count=%{y}<extra></extra>",
         "legendgroup": "DJ",
         "marker": {
          "color": "#00cc96",
          "pattern": {
           "shape": ""
          }
         },
         "name": "DJ",
         "offsetgroup": "DJ",
         "orientation": "v",
         "showlegend": true,
         "textposition": "auto",
         "type": "bar",
         "x": [
          "DJ"
         ],
         "xaxis": "x",
         "y": [
          2
         ],
         "yaxis": "y"
        },
        {
         "alignmentgroup": "True",
         "hovertemplate": "Photo_Country=%{x}<br>Count=%{y}<extra></extra>",
         "legendgroup": "LT",
         "marker": {
          "color": "#ab63fa",
          "pattern": {
           "shape": ""
          }
         },
         "name": "LT",
         "offsetgroup": "LT",
         "orientation": "v",
         "showlegend": true,
         "textposition": "auto",
         "type": "bar",
         "x": [
          "LT"
         ],
         "xaxis": "x",
         "y": [
          2
         ],
         "yaxis": "y"
        },
        {
         "alignmentgroup": "True",
         "hovertemplate": "Photo_Country=%{x}<br>Count=%{y}<extra></extra>",
         "legendgroup": "CD",
         "marker": {
          "color": "#FFA15A",
          "pattern": {
           "shape": ""
          }
         },
         "name": "CD",
         "offsetgroup": "CD",
         "orientation": "v",
         "showlegend": true,
         "textposition": "auto",
         "type": "bar",
         "x": [
          "CD"
         ],
         "xaxis": "x",
         "y": [
          2
         ],
         "yaxis": "y"
        },
        {
         "alignmentgroup": "True",
         "hovertemplate": "Photo_Country=%{x}<br>Count=%{y}<extra></extra>",
         "legendgroup": "VE",
         "marker": {
          "color": "#19d3f3",
          "pattern": {
           "shape": ""
          }
         },
         "name": "VE",
         "offsetgroup": "VE",
         "orientation": "v",
         "showlegend": true,
         "textposition": "auto",
         "type": "bar",
         "x": [
          "VE"
         ],
         "xaxis": "x",
         "y": [
          2
         ],
         "yaxis": "y"
        },
        {
         "alignmentgroup": "True",
         "hovertemplate": "Photo_Country=%{x}<br>Count=%{y}<extra></extra>",
         "legendgroup": "ER",
         "marker": {
          "color": "#FF6692",
          "pattern": {
           "shape": ""
          }
         },
         "name": "ER",
         "offsetgroup": "ER",
         "orientation": "v",
         "showlegend": true,
         "textposition": "auto",
         "type": "bar",
         "x": [
          "ER"
         ],
         "xaxis": "x",
         "y": [
          2
         ],
         "yaxis": "y"
        },
        {
         "alignmentgroup": "True",
         "hovertemplate": "Photo_Country=%{x}<br>Count=%{y}<extra></extra>",
         "legendgroup": "VU",
         "marker": {
          "color": "#B6E880",
          "pattern": {
           "shape": ""
          }
         },
         "name": "VU",
         "offsetgroup": "VU",
         "orientation": "v",
         "showlegend": true,
         "textposition": "auto",
         "type": "bar",
         "x": [
          "VU"
         ],
         "xaxis": "x",
         "y": [
          2
         ],
         "yaxis": "y"
        },
        {
         "alignmentgroup": "True",
         "hovertemplate": "Photo_Country=%{x}<br>Count=%{y}<extra></extra>",
         "legendgroup": "EE",
         "marker": {
          "color": "#FF97FF",
          "pattern": {
           "shape": ""
          }
         },
         "name": "EE",
         "offsetgroup": "EE",
         "orientation": "v",
         "showlegend": true,
         "textposition": "auto",
         "type": "bar",
         "x": [
          "EE"
         ],
         "xaxis": "x",
         "y": [
          2
         ],
         "yaxis": "y"
        },
        {
         "alignmentgroup": "True",
         "hovertemplate": "Photo_Country=%{x}<br>Count=%{y}<extra></extra>",
         "legendgroup": "ZM",
         "marker": {
          "color": "#FECB52",
          "pattern": {
           "shape": ""
          }
         },
         "name": "ZM",
         "offsetgroup": "ZM",
         "orientation": "v",
         "showlegend": true,
         "textposition": "auto",
         "type": "bar",
         "x": [
          "ZM"
         ],
         "xaxis": "x",
         "y": [
          2
         ],
         "yaxis": "y"
        },
        {
         "alignmentgroup": "True",
         "hovertemplate": "Photo_Country=%{x}<br>Count=%{y}<extra></extra>",
         "legendgroup": "HK",
         "marker": {
          "color": "#636efa",
          "pattern": {
           "shape": ""
          }
         },
         "name": "HK",
         "offsetgroup": "HK",
         "orientation": "v",
         "showlegend": true,
         "textposition": "auto",
         "type": "bar",
         "x": [
          "HK"
         ],
         "xaxis": "x",
         "y": [
          2
         ],
         "yaxis": "y"
        },
        {
         "alignmentgroup": "True",
         "hovertemplate": "Photo_Country=%{x}<br>Count=%{y}<extra></extra>",
         "legendgroup": "BW",
         "marker": {
          "color": "#EF553B",
          "pattern": {
           "shape": ""
          }
         },
         "name": "BW",
         "offsetgroup": "BW",
         "orientation": "v",
         "showlegend": true,
         "textposition": "auto",
         "type": "bar",
         "x": [
          "BW"
         ],
         "xaxis": "x",
         "y": [
          2
         ],
         "yaxis": "y"
        },
        {
         "alignmentgroup": "True",
         "hovertemplate": "Photo_Country=%{x}<br>Count=%{y}<extra></extra>",
         "legendgroup": "MR",
         "marker": {
          "color": "#00cc96",
          "pattern": {
           "shape": ""
          }
         },
         "name": "MR",
         "offsetgroup": "MR",
         "orientation": "v",
         "showlegend": true,
         "textposition": "auto",
         "type": "bar",
         "x": [
          "MR"
         ],
         "xaxis": "x",
         "y": [
          2
         ],
         "yaxis": "y"
        },
        {
         "alignmentgroup": "True",
         "hovertemplate": "Photo_Country=%{x}<br>Count=%{y}<extra></extra>",
         "legendgroup": "BG",
         "marker": {
          "color": "#ab63fa",
          "pattern": {
           "shape": ""
          }
         },
         "name": "BG",
         "offsetgroup": "BG",
         "orientation": "v",
         "showlegend": true,
         "textposition": "auto",
         "type": "bar",
         "x": [
          "BG"
         ],
         "xaxis": "x",
         "y": [
          2
         ],
         "yaxis": "y"
        },
        {
         "alignmentgroup": "True",
         "hovertemplate": "Photo_Country=%{x}<br>Count=%{y}<extra></extra>",
         "legendgroup": "MZ",
         "marker": {
          "color": "#FFA15A",
          "pattern": {
           "shape": ""
          }
         },
         "name": "MZ",
         "offsetgroup": "MZ",
         "orientation": "v",
         "showlegend": true,
         "textposition": "auto",
         "type": "bar",
         "x": [
          "MZ"
         ],
         "xaxis": "x",
         "y": [
          2
         ],
         "yaxis": "y"
        },
        {
         "alignmentgroup": "True",
         "hovertemplate": "Photo_Country=%{x}<br>Count=%{y}<extra></extra>",
         "legendgroup": "NA",
         "marker": {
          "color": "#19d3f3",
          "pattern": {
           "shape": ""
          }
         },
         "name": "NA",
         "offsetgroup": "NA",
         "orientation": "v",
         "showlegend": true,
         "textposition": "auto",
         "type": "bar",
         "x": [
          "NA"
         ],
         "xaxis": "x",
         "y": [
          2
         ],
         "yaxis": "y"
        },
        {
         "alignmentgroup": "True",
         "hovertemplate": "Photo_Country=%{x}<br>Count=%{y}<extra></extra>",
         "legendgroup": "CR",
         "marker": {
          "color": "#FF6692",
          "pattern": {
           "shape": ""
          }
         },
         "name": "CR",
         "offsetgroup": "CR",
         "orientation": "v",
         "showlegend": true,
         "textposition": "auto",
         "type": "bar",
         "x": [
          "CR"
         ],
         "xaxis": "x",
         "y": [
          2
         ],
         "yaxis": "y"
        },
        {
         "alignmentgroup": "True",
         "hovertemplate": "Photo_Country=%{x}<br>Count=%{y}<extra></extra>",
         "legendgroup": "PA",
         "marker": {
          "color": "#B6E880",
          "pattern": {
           "shape": ""
          }
         },
         "name": "PA",
         "offsetgroup": "PA",
         "orientation": "v",
         "showlegend": true,
         "textposition": "auto",
         "type": "bar",
         "x": [
          "PA"
         ],
         "xaxis": "x",
         "y": [
          2
         ],
         "yaxis": "y"
        },
        {
         "alignmentgroup": "True",
         "hovertemplate": "Photo_Country=%{x}<br>Count=%{y}<extra></extra>",
         "legendgroup": "CI",
         "marker": {
          "color": "#FF97FF",
          "pattern": {
           "shape": ""
          }
         },
         "name": "CI",
         "offsetgroup": "CI",
         "orientation": "v",
         "showlegend": true,
         "textposition": "auto",
         "type": "bar",
         "x": [
          "CI"
         ],
         "xaxis": "x",
         "y": [
          2
         ],
         "yaxis": "y"
        },
        {
         "alignmentgroup": "True",
         "hovertemplate": "Photo_Country=%{x}<br>Count=%{y}<extra></extra>",
         "legendgroup": "NZ",
         "marker": {
          "color": "#FECB52",
          "pattern": {
           "shape": ""
          }
         },
         "name": "NZ",
         "offsetgroup": "NZ",
         "orientation": "v",
         "showlegend": true,
         "textposition": "auto",
         "type": "bar",
         "x": [
          "NZ"
         ],
         "xaxis": "x",
         "y": [
          1
         ],
         "yaxis": "y"
        },
        {
         "alignmentgroup": "True",
         "hovertemplate": "Photo_Country=%{x}<br>Count=%{y}<extra></extra>",
         "legendgroup": "TW",
         "marker": {
          "color": "#636efa",
          "pattern": {
           "shape": ""
          }
         },
         "name": "TW",
         "offsetgroup": "TW",
         "orientation": "v",
         "showlegend": true,
         "textposition": "auto",
         "type": "bar",
         "x": [
          "TW"
         ],
         "xaxis": "x",
         "y": [
          1
         ],
         "yaxis": "y"
        },
        {
         "alignmentgroup": "True",
         "hovertemplate": "Photo_Country=%{x}<br>Count=%{y}<extra></extra>",
         "legendgroup": "LA",
         "marker": {
          "color": "#EF553B",
          "pattern": {
           "shape": ""
          }
         },
         "name": "LA",
         "offsetgroup": "LA",
         "orientation": "v",
         "showlegend": true,
         "textposition": "auto",
         "type": "bar",
         "x": [
          "LA"
         ],
         "xaxis": "x",
         "y": [
          1
         ],
         "yaxis": "y"
        },
        {
         "alignmentgroup": "True",
         "hovertemplate": "Photo_Country=%{x}<br>Count=%{y}<extra></extra>",
         "legendgroup": "FK",
         "marker": {
          "color": "#00cc96",
          "pattern": {
           "shape": ""
          }
         },
         "name": "FK",
         "offsetgroup": "FK",
         "orientation": "v",
         "showlegend": true,
         "textposition": "auto",
         "type": "bar",
         "x": [
          "FK"
         ],
         "xaxis": "x",
         "y": [
          1
         ],
         "yaxis": "y"
        },
        {
         "alignmentgroup": "True",
         "hovertemplate": "Photo_Country=%{x}<br>Count=%{y}<extra></extra>",
         "legendgroup": "MK",
         "marker": {
          "color": "#ab63fa",
          "pattern": {
           "shape": ""
          }
         },
         "name": "MK",
         "offsetgroup": "MK",
         "orientation": "v",
         "showlegend": true,
         "textposition": "auto",
         "type": "bar",
         "x": [
          "MK"
         ],
         "xaxis": "x",
         "y": [
          1
         ],
         "yaxis": "y"
        },
        {
         "alignmentgroup": "True",
         "hovertemplate": "Photo_Country=%{x}<br>Count=%{y}<extra></extra>",
         "legendgroup": "JM",
         "marker": {
          "color": "#FFA15A",
          "pattern": {
           "shape": ""
          }
         },
         "name": "JM",
         "offsetgroup": "JM",
         "orientation": "v",
         "showlegend": true,
         "textposition": "auto",
         "type": "bar",
         "x": [
          "JM"
         ],
         "xaxis": "x",
         "y": [
          1
         ],
         "yaxis": "y"
        },
        {
         "alignmentgroup": "True",
         "hovertemplate": "Photo_Country=%{x}<br>Count=%{y}<extra></extra>",
         "legendgroup": "GA",
         "marker": {
          "color": "#19d3f3",
          "pattern": {
           "shape": ""
          }
         },
         "name": "GA",
         "offsetgroup": "GA",
         "orientation": "v",
         "showlegend": true,
         "textposition": "auto",
         "type": "bar",
         "x": [
          "GA"
         ],
         "xaxis": "x",
         "y": [
          1
         ],
         "yaxis": "y"
        },
        {
         "alignmentgroup": "True",
         "hovertemplate": "Photo_Country=%{x}<br>Count=%{y}<extra></extra>",
         "legendgroup": "BQ",
         "marker": {
          "color": "#FF6692",
          "pattern": {
           "shape": ""
          }
         },
         "name": "BQ",
         "offsetgroup": "BQ",
         "orientation": "v",
         "showlegend": true,
         "textposition": "auto",
         "type": "bar",
         "x": [
          "BQ"
         ],
         "xaxis": "x",
         "y": [
          1
         ],
         "yaxis": "y"
        },
        {
         "alignmentgroup": "True",
         "hovertemplate": "Photo_Country=%{x}<br>Count=%{y}<extra></extra>",
         "legendgroup": "EH",
         "marker": {
          "color": "#B6E880",
          "pattern": {
           "shape": ""
          }
         },
         "name": "EH",
         "offsetgroup": "EH",
         "orientation": "v",
         "showlegend": true,
         "textposition": "auto",
         "type": "bar",
         "x": [
          "EH"
         ],
         "xaxis": "x",
         "y": [
          1
         ],
         "yaxis": "y"
        },
        {
         "alignmentgroup": "True",
         "hovertemplate": "Photo_Country=%{x}<br>Count=%{y}<extra></extra>",
         "legendgroup": "TT",
         "marker": {
          "color": "#FF97FF",
          "pattern": {
           "shape": ""
          }
         },
         "name": "TT",
         "offsetgroup": "TT",
         "orientation": "v",
         "showlegend": true,
         "textposition": "auto",
         "type": "bar",
         "x": [
          "TT"
         ],
         "xaxis": "x",
         "y": [
          1
         ],
         "yaxis": "y"
        },
        {
         "alignmentgroup": "True",
         "hovertemplate": "Photo_Country=%{x}<br>Count=%{y}<extra></extra>",
         "legendgroup": "TL",
         "marker": {
          "color": "#FECB52",
          "pattern": {
           "shape": ""
          }
         },
         "name": "TL",
         "offsetgroup": "TL",
         "orientation": "v",
         "showlegend": true,
         "textposition": "auto",
         "type": "bar",
         "x": [
          "TL"
         ],
         "xaxis": "x",
         "y": [
          1
         ],
         "yaxis": "y"
        },
        {
         "alignmentgroup": "True",
         "hovertemplate": "Photo_Country=%{x}<br>Count=%{y}<extra></extra>",
         "legendgroup": "TM",
         "marker": {
          "color": "#636efa",
          "pattern": {
           "shape": ""
          }
         },
         "name": "TM",
         "offsetgroup": "TM",
         "orientation": "v",
         "showlegend": true,
         "textposition": "auto",
         "type": "bar",
         "x": [
          "TM"
         ],
         "xaxis": "x",
         "y": [
          1
         ],
         "yaxis": "y"
        },
        {
         "alignmentgroup": "True",
         "hovertemplate": "Photo_Country=%{x}<br>Count=%{y}<extra></extra>",
         "legendgroup": "ME",
         "marker": {
          "color": "#EF553B",
          "pattern": {
           "shape": ""
          }
         },
         "name": "ME",
         "offsetgroup": "ME",
         "orientation": "v",
         "showlegend": true,
         "textposition": "auto",
         "type": "bar",
         "x": [
          "ME"
         ],
         "xaxis": "x",
         "y": [
          1
         ],
         "yaxis": "y"
        },
        {
         "alignmentgroup": "True",
         "hovertemplate": "Photo_Country=%{x}<br>Count=%{y}<extra></extra>",
         "legendgroup": "OM",
         "marker": {
          "color": "#00cc96",
          "pattern": {
           "shape": ""
          }
         },
         "name": "OM",
         "offsetgroup": "OM",
         "orientation": "v",
         "showlegend": true,
         "textposition": "auto",
         "type": "bar",
         "x": [
          "OM"
         ],
         "xaxis": "x",
         "y": [
          1
         ],
         "yaxis": "y"
        },
        {
         "alignmentgroup": "True",
         "hovertemplate": "Photo_Country=%{x}<br>Count=%{y}<extra></extra>",
         "legendgroup": "GL",
         "marker": {
          "color": "#ab63fa",
          "pattern": {
           "shape": ""
          }
         },
         "name": "GL",
         "offsetgroup": "GL",
         "orientation": "v",
         "showlegend": true,
         "textposition": "auto",
         "type": "bar",
         "x": [
          "GL"
         ],
         "xaxis": "x",
         "y": [
          1
         ],
         "yaxis": "y"
        },
        {
         "alignmentgroup": "True",
         "hovertemplate": "Photo_Country=%{x}<br>Count=%{y}<extra></extra>",
         "legendgroup": "GM",
         "marker": {
          "color": "#FFA15A",
          "pattern": {
           "shape": ""
          }
         },
         "name": "GM",
         "offsetgroup": "GM",
         "orientation": "v",
         "showlegend": true,
         "textposition": "auto",
         "type": "bar",
         "x": [
          "GM"
         ],
         "xaxis": "x",
         "y": [
          1
         ],
         "yaxis": "y"
        },
        {
         "alignmentgroup": "True",
         "hovertemplate": "Photo_Country=%{x}<br>Count=%{y}<extra></extra>",
         "legendgroup": "HU",
         "marker": {
          "color": "#19d3f3",
          "pattern": {
           "shape": ""
          }
         },
         "name": "HU",
         "offsetgroup": "HU",
         "orientation": "v",
         "showlegend": true,
         "textposition": "auto",
         "type": "bar",
         "x": [
          "HU"
         ],
         "xaxis": "x",
         "y": [
          1
         ],
         "yaxis": "y"
        },
        {
         "alignmentgroup": "True",
         "hovertemplate": "Photo_Country=%{x}<br>Count=%{y}<extra></extra>",
         "legendgroup": "KG",
         "marker": {
          "color": "#FF6692",
          "pattern": {
           "shape": ""
          }
         },
         "name": "KG",
         "offsetgroup": "KG",
         "orientation": "v",
         "showlegend": true,
         "textposition": "auto",
         "type": "bar",
         "x": [
          "KG"
         ],
         "xaxis": "x",
         "y": [
          1
         ],
         "yaxis": "y"
        },
        {
         "alignmentgroup": "True",
         "hovertemplate": "Photo_Country=%{x}<br>Count=%{y}<extra></extra>",
         "legendgroup": "BY",
         "marker": {
          "color": "#B6E880",
          "pattern": {
           "shape": ""
          }
         },
         "name": "BY",
         "offsetgroup": "BY",
         "orientation": "v",
         "showlegend": true,
         "textposition": "auto",
         "type": "bar",
         "x": [
          "BY"
         ],
         "xaxis": "x",
         "y": [
          1
         ],
         "yaxis": "y"
        },
        {
         "alignmentgroup": "True",
         "hovertemplate": "Photo_Country=%{x}<br>Count=%{y}<extra></extra>",
         "legendgroup": "BJ",
         "marker": {
          "color": "#FF97FF",
          "pattern": {
           "shape": ""
          }
         },
         "name": "BJ",
         "offsetgroup": "BJ",
         "orientation": "v",
         "showlegend": true,
         "textposition": "auto",
         "type": "bar",
         "x": [
          "BJ"
         ],
         "xaxis": "x",
         "y": [
          1
         ],
         "yaxis": "y"
        },
        {
         "alignmentgroup": "True",
         "hovertemplate": "Photo_Country=%{x}<br>Count=%{y}<extra></extra>",
         "legendgroup": "BI",
         "marker": {
          "color": "#FECB52",
          "pattern": {
           "shape": ""
          }
         },
         "name": "BI",
         "offsetgroup": "BI",
         "orientation": "v",
         "showlegend": true,
         "textposition": "auto",
         "type": "bar",
         "x": [
          "BI"
         ],
         "xaxis": "x",
         "y": [
          1
         ],
         "yaxis": "y"
        },
        {
         "alignmentgroup": "True",
         "hovertemplate": "Photo_Country=%{x}<br>Count=%{y}<extra></extra>",
         "legendgroup": "LI",
         "marker": {
          "color": "#636efa",
          "pattern": {
           "shape": ""
          }
         },
         "name": "LI",
         "offsetgroup": "LI",
         "orientation": "v",
         "showlegend": true,
         "textposition": "auto",
         "type": "bar",
         "x": [
          "LI"
         ],
         "xaxis": "x",
         "y": [
          1
         ],
         "yaxis": "y"
        },
        {
         "alignmentgroup": "True",
         "hovertemplate": "Photo_Country=%{x}<br>Count=%{y}<extra></extra>",
         "legendgroup": "MC",
         "marker": {
          "color": "#EF553B",
          "pattern": {
           "shape": ""
          }
         },
         "name": "MC",
         "offsetgroup": "MC",
         "orientation": "v",
         "showlegend": true,
         "textposition": "auto",
         "type": "bar",
         "x": [
          "MC"
         ],
         "xaxis": "x",
         "y": [
          1
         ],
         "yaxis": "y"
        },
        {
         "alignmentgroup": "True",
         "hovertemplate": "Photo_Country=%{x}<br>Count=%{y}<extra></extra>",
         "legendgroup": "SK",
         "marker": {
          "color": "#00cc96",
          "pattern": {
           "shape": ""
          }
         },
         "name": "SK",
         "offsetgroup": "SK",
         "orientation": "v",
         "showlegend": true,
         "textposition": "auto",
         "type": "bar",
         "x": [
          "SK"
         ],
         "xaxis": "x",
         "y": [
          1
         ],
         "yaxis": "y"
        }
       ],
       "layout": {
        "barmode": "relative",
        "legend": {
         "font": {
          "size": 14
         },
         "title": {
          "font": {
           "size": 18
          },
          "text": "Photo Country"
         },
         "tracegroupgap": 0
        },
        "plot_bgcolor": "white",
        "template": {
         "data": {
          "bar": [
           {
            "error_x": {
             "color": "#2a3f5f"
            },
            "error_y": {
             "color": "#2a3f5f"
            },
            "marker": {
             "line": {
              "color": "#E5ECF6",
              "width": 0.5
             },
             "pattern": {
              "fillmode": "overlay",
              "size": 10,
              "solidity": 0.2
             }
            },
            "type": "bar"
           }
          ],
          "barpolar": [
           {
            "marker": {
             "line": {
              "color": "#E5ECF6",
              "width": 0.5
             },
             "pattern": {
              "fillmode": "overlay",
              "size": 10,
              "solidity": 0.2
             }
            },
            "type": "barpolar"
           }
          ],
          "carpet": [
           {
            "aaxis": {
             "endlinecolor": "#2a3f5f",
             "gridcolor": "white",
             "linecolor": "white",
             "minorgridcolor": "white",
             "startlinecolor": "#2a3f5f"
            },
            "baxis": {
             "endlinecolor": "#2a3f5f",
             "gridcolor": "white",
             "linecolor": "white",
             "minorgridcolor": "white",
             "startlinecolor": "#2a3f5f"
            },
            "type": "carpet"
           }
          ],
          "choropleth": [
           {
            "colorbar": {
             "outlinewidth": 0,
             "ticks": ""
            },
            "type": "choropleth"
           }
          ],
          "contour": [
           {
            "colorbar": {
             "outlinewidth": 0,
             "ticks": ""
            },
            "colorscale": [
             [
              0,
              "#0d0887"
             ],
             [
              0.1111111111111111,
              "#46039f"
             ],
             [
              0.2222222222222222,
              "#7201a8"
             ],
             [
              0.3333333333333333,
              "#9c179e"
             ],
             [
              0.4444444444444444,
              "#bd3786"
             ],
             [
              0.5555555555555556,
              "#d8576b"
             ],
             [
              0.6666666666666666,
              "#ed7953"
             ],
             [
              0.7777777777777778,
              "#fb9f3a"
             ],
             [
              0.8888888888888888,
              "#fdca26"
             ],
             [
              1,
              "#f0f921"
             ]
            ],
            "type": "contour"
           }
          ],
          "contourcarpet": [
           {
            "colorbar": {
             "outlinewidth": 0,
             "ticks": ""
            },
            "type": "contourcarpet"
           }
          ],
          "heatmap": [
           {
            "colorbar": {
             "outlinewidth": 0,
             "ticks": ""
            },
            "colorscale": [
             [
              0,
              "#0d0887"
             ],
             [
              0.1111111111111111,
              "#46039f"
             ],
             [
              0.2222222222222222,
              "#7201a8"
             ],
             [
              0.3333333333333333,
              "#9c179e"
             ],
             [
              0.4444444444444444,
              "#bd3786"
             ],
             [
              0.5555555555555556,
              "#d8576b"
             ],
             [
              0.6666666666666666,
              "#ed7953"
             ],
             [
              0.7777777777777778,
              "#fb9f3a"
             ],
             [
              0.8888888888888888,
              "#fdca26"
             ],
             [
              1,
              "#f0f921"
             ]
            ],
            "type": "heatmap"
           }
          ],
          "heatmapgl": [
           {
            "colorbar": {
             "outlinewidth": 0,
             "ticks": ""
            },
            "colorscale": [
             [
              0,
              "#0d0887"
             ],
             [
              0.1111111111111111,
              "#46039f"
             ],
             [
              0.2222222222222222,
              "#7201a8"
             ],
             [
              0.3333333333333333,
              "#9c179e"
             ],
             [
              0.4444444444444444,
              "#bd3786"
             ],
             [
              0.5555555555555556,
              "#d8576b"
             ],
             [
              0.6666666666666666,
              "#ed7953"
             ],
             [
              0.7777777777777778,
              "#fb9f3a"
             ],
             [
              0.8888888888888888,
              "#fdca26"
             ],
             [
              1,
              "#f0f921"
             ]
            ],
            "type": "heatmapgl"
           }
          ],
          "histogram": [
           {
            "marker": {
             "pattern": {
              "fillmode": "overlay",
              "size": 10,
              "solidity": 0.2
             }
            },
            "type": "histogram"
           }
          ],
          "histogram2d": [
           {
            "colorbar": {
             "outlinewidth": 0,
             "ticks": ""
            },
            "colorscale": [
             [
              0,
              "#0d0887"
             ],
             [
              0.1111111111111111,
              "#46039f"
             ],
             [
              0.2222222222222222,
              "#7201a8"
             ],
             [
              0.3333333333333333,
              "#9c179e"
             ],
             [
              0.4444444444444444,
              "#bd3786"
             ],
             [
              0.5555555555555556,
              "#d8576b"
             ],
             [
              0.6666666666666666,
              "#ed7953"
             ],
             [
              0.7777777777777778,
              "#fb9f3a"
             ],
             [
              0.8888888888888888,
              "#fdca26"
             ],
             [
              1,
              "#f0f921"
             ]
            ],
            "type": "histogram2d"
           }
          ],
          "histogram2dcontour": [
           {
            "colorbar": {
             "outlinewidth": 0,
             "ticks": ""
            },
            "colorscale": [
             [
              0,
              "#0d0887"
             ],
             [
              0.1111111111111111,
              "#46039f"
             ],
             [
              0.2222222222222222,
              "#7201a8"
             ],
             [
              0.3333333333333333,
              "#9c179e"
             ],
             [
              0.4444444444444444,
              "#bd3786"
             ],
             [
              0.5555555555555556,
              "#d8576b"
             ],
             [
              0.6666666666666666,
              "#ed7953"
             ],
             [
              0.7777777777777778,
              "#fb9f3a"
             ],
             [
              0.8888888888888888,
              "#fdca26"
             ],
             [
              1,
              "#f0f921"
             ]
            ],
            "type": "histogram2dcontour"
           }
          ],
          "mesh3d": [
           {
            "colorbar": {
             "outlinewidth": 0,
             "ticks": ""
            },
            "type": "mesh3d"
           }
          ],
          "parcoords": [
           {
            "line": {
             "colorbar": {
              "outlinewidth": 0,
              "ticks": ""
             }
            },
            "type": "parcoords"
           }
          ],
          "pie": [
           {
            "automargin": true,
            "type": "pie"
           }
          ],
          "scatter": [
           {
            "fillpattern": {
             "fillmode": "overlay",
             "size": 10,
             "solidity": 0.2
            },
            "type": "scatter"
           }
          ],
          "scatter3d": [
           {
            "line": {
             "colorbar": {
              "outlinewidth": 0,
              "ticks": ""
             }
            },
            "marker": {
             "colorbar": {
              "outlinewidth": 0,
              "ticks": ""
             }
            },
            "type": "scatter3d"
           }
          ],
          "scattercarpet": [
           {
            "marker": {
             "colorbar": {
              "outlinewidth": 0,
              "ticks": ""
             }
            },
            "type": "scattercarpet"
           }
          ],
          "scattergeo": [
           {
            "marker": {
             "colorbar": {
              "outlinewidth": 0,
              "ticks": ""
             }
            },
            "type": "scattergeo"
           }
          ],
          "scattergl": [
           {
            "marker": {
             "colorbar": {
              "outlinewidth": 0,
              "ticks": ""
             }
            },
            "type": "scattergl"
           }
          ],
          "scattermapbox": [
           {
            "marker": {
             "colorbar": {
              "outlinewidth": 0,
              "ticks": ""
             }
            },
            "type": "scattermapbox"
           }
          ],
          "scatterpolar": [
           {
            "marker": {
             "colorbar": {
              "outlinewidth": 0,
              "ticks": ""
             }
            },
            "type": "scatterpolar"
           }
          ],
          "scatterpolargl": [
           {
            "marker": {
             "colorbar": {
              "outlinewidth": 0,
              "ticks": ""
             }
            },
            "type": "scatterpolargl"
           }
          ],
          "scatterternary": [
           {
            "marker": {
             "colorbar": {
              "outlinewidth": 0,
              "ticks": ""
             }
            },
            "type": "scatterternary"
           }
          ],
          "surface": [
           {
            "colorbar": {
             "outlinewidth": 0,
             "ticks": ""
            },
            "colorscale": [
             [
              0,
              "#0d0887"
             ],
             [
              0.1111111111111111,
              "#46039f"
             ],
             [
              0.2222222222222222,
              "#7201a8"
             ],
             [
              0.3333333333333333,
              "#9c179e"
             ],
             [
              0.4444444444444444,
              "#bd3786"
             ],
             [
              0.5555555555555556,
              "#d8576b"
             ],
             [
              0.6666666666666666,
              "#ed7953"
             ],
             [
              0.7777777777777778,
              "#fb9f3a"
             ],
             [
              0.8888888888888888,
              "#fdca26"
             ],
             [
              1,
              "#f0f921"
             ]
            ],
            "type": "surface"
           }
          ],
          "table": [
           {
            "cells": {
             "fill": {
              "color": "#EBF0F8"
             },
             "line": {
              "color": "white"
             }
            },
            "header": {
             "fill": {
              "color": "#C8D4E3"
             },
             "line": {
              "color": "white"
             }
            },
            "type": "table"
           }
          ]
         },
         "layout": {
          "annotationdefaults": {
           "arrowcolor": "#2a3f5f",
           "arrowhead": 0,
           "arrowwidth": 1
          },
          "autotypenumbers": "strict",
          "coloraxis": {
           "colorbar": {
            "outlinewidth": 0,
            "ticks": ""
           }
          },
          "colorscale": {
           "diverging": [
            [
             0,
             "#8e0152"
            ],
            [
             0.1,
             "#c51b7d"
            ],
            [
             0.2,
             "#de77ae"
            ],
            [
             0.3,
             "#f1b6da"
            ],
            [
             0.4,
             "#fde0ef"
            ],
            [
             0.5,
             "#f7f7f7"
            ],
            [
             0.6,
             "#e6f5d0"
            ],
            [
             0.7,
             "#b8e186"
            ],
            [
             0.8,
             "#7fbc41"
            ],
            [
             0.9,
             "#4d9221"
            ],
            [
             1,
             "#276419"
            ]
           ],
           "sequential": [
            [
             0,
             "#0d0887"
            ],
            [
             0.1111111111111111,
             "#46039f"
            ],
            [
             0.2222222222222222,
             "#7201a8"
            ],
            [
             0.3333333333333333,
             "#9c179e"
            ],
            [
             0.4444444444444444,
             "#bd3786"
            ],
            [
             0.5555555555555556,
             "#d8576b"
            ],
            [
             0.6666666666666666,
             "#ed7953"
            ],
            [
             0.7777777777777778,
             "#fb9f3a"
            ],
            [
             0.8888888888888888,
             "#fdca26"
            ],
            [
             1,
             "#f0f921"
            ]
           ],
           "sequentialminus": [
            [
             0,
             "#0d0887"
            ],
            [
             0.1111111111111111,
             "#46039f"
            ],
            [
             0.2222222222222222,
             "#7201a8"
            ],
            [
             0.3333333333333333,
             "#9c179e"
            ],
            [
             0.4444444444444444,
             "#bd3786"
            ],
            [
             0.5555555555555556,
             "#d8576b"
            ],
            [
             0.6666666666666666,
             "#ed7953"
            ],
            [
             0.7777777777777778,
             "#fb9f3a"
            ],
            [
             0.8888888888888888,
             "#fdca26"
            ],
            [
             1,
             "#f0f921"
            ]
           ]
          },
          "colorway": [
           "#636efa",
           "#EF553B",
           "#00cc96",
           "#ab63fa",
           "#FFA15A",
           "#19d3f3",
           "#FF6692",
           "#B6E880",
           "#FF97FF",
           "#FECB52"
          ],
          "font": {
           "color": "#2a3f5f"
          },
          "geo": {
           "bgcolor": "white",
           "lakecolor": "white",
           "landcolor": "#E5ECF6",
           "showlakes": true,
           "showland": true,
           "subunitcolor": "white"
          },
          "hoverlabel": {
           "align": "left"
          },
          "hovermode": "closest",
          "mapbox": {
           "style": "light"
          },
          "paper_bgcolor": "white",
          "plot_bgcolor": "#E5ECF6",
          "polar": {
           "angularaxis": {
            "gridcolor": "white",
            "linecolor": "white",
            "ticks": ""
           },
           "bgcolor": "#E5ECF6",
           "radialaxis": {
            "gridcolor": "white",
            "linecolor": "white",
            "ticks": ""
           }
          },
          "scene": {
           "xaxis": {
            "backgroundcolor": "#E5ECF6",
            "gridcolor": "white",
            "gridwidth": 2,
            "linecolor": "white",
            "showbackground": true,
            "ticks": "",
            "zerolinecolor": "white"
           },
           "yaxis": {
            "backgroundcolor": "#E5ECF6",
            "gridcolor": "white",
            "gridwidth": 2,
            "linecolor": "white",
            "showbackground": true,
            "ticks": "",
            "zerolinecolor": "white"
           },
           "zaxis": {
            "backgroundcolor": "#E5ECF6",
            "gridcolor": "white",
            "gridwidth": 2,
            "linecolor": "white",
            "showbackground": true,
            "ticks": "",
            "zerolinecolor": "white"
           }
          },
          "shapedefaults": {
           "line": {
            "color": "#2a3f5f"
           }
          },
          "ternary": {
           "aaxis": {
            "gridcolor": "white",
            "linecolor": "white",
            "ticks": ""
           },
           "baxis": {
            "gridcolor": "white",
            "linecolor": "white",
            "ticks": ""
           },
           "bgcolor": "#E5ECF6",
           "caxis": {
            "gridcolor": "white",
            "linecolor": "white",
            "ticks": ""
           }
          },
          "title": {
           "x": 0.05
          },
          "xaxis": {
           "automargin": true,
           "gridcolor": "white",
           "linecolor": "white",
           "ticks": "",
           "title": {
            "standoff": 15
           },
           "zerolinecolor": "white",
           "zerolinewidth": 2
          },
          "yaxis": {
           "automargin": true,
           "gridcolor": "white",
           "linecolor": "white",
           "ticks": "",
           "title": {
            "standoff": 15
           },
           "zerolinecolor": "white",
           "zerolinewidth": 2
          }
         }
        },
        "title": {
         "font": {
          "size": 24
         },
         "text": "Count of Photos by Country",
         "x": 0.5
        },
        "xaxis": {
         "anchor": "y",
         "categoryarray": [
          "US",
          "RU",
          "CN",
          "IN",
          "VN",
          "IQ",
          "AF",
          "PS",
          "KE",
          "ID",
          "FR",
          "BR",
          "ZA",
          "JP",
          "CU",
          "RS",
          "DE",
          "ES",
          "LB",
          "CG",
          "GR",
          "NG",
          "EG",
          "PK",
          "IR",
          "GB",
          "IL",
          "HT",
          "TR",
          "ET",
          "TH",
          "SY",
          "BA",
          "IT",
          "RO",
          "MX",
          "CA",
          "PH",
          "AU",
          "SL",
          "SD",
          "ZW",
          "CO",
          "CL",
          "AQ",
          "BE",
          "UG",
          "GE",
          "BD",
          "CH",
          "AO",
          "YE",
          "GT",
          "NI",
          "MM",
          "NL",
          "KH",
          "LR",
          "KR",
          "PL",
          "DZ",
          "CZ",
          "LV",
          "MN",
          "SN",
          "KW",
          "AT",
          "NP",
          "NO",
          "MA",
          "RW",
          "LY",
          "MG",
          "AM",
          "AR",
          "MY",
          "KP",
          "SO",
          "DO",
          "AL",
          "AZ",
          "TD",
          "PE",
          "UA",
          "ML",
          "AE",
          "CY",
          "IE",
          "CM",
          "CF",
          "DK",
          "TZ",
          "SV",
          "SS",
          "GN",
          "SE",
          "HN",
          "HR",
          "BF",
          "BO",
          "IS",
          "PT",
          "EC",
          "LK",
          "JO",
          "KZ",
          "BS",
          "TG",
          "SI",
          "MW",
          "GY",
          "CW",
          "DJ",
          "LT",
          "CD",
          "VE",
          "ER",
          "VU",
          "EE",
          "ZM",
          "HK",
          "BW",
          "MR",
          "BG",
          "MZ",
          "NA",
          "CR",
          "PA",
          "CI",
          "NZ",
          "TW",
          "LA",
          "FK",
          "MK",
          "JM",
          "GA",
          "BQ",
          "EH",
          "TT",
          "TL",
          "TM",
          "ME",
          "OM",
          "GL",
          "GM",
          "HU",
          "KG",
          "BY",
          "BJ",
          "BI",
          "LI",
          "MC",
          "SK"
         ],
         "categoryorder": "array",
         "domain": [
          0,
          1
         ],
         "tickangle": -45,
         "tickfont": {
          "size": 14
         },
         "title": {
          "font": {
           "size": 18
          },
          "text": "Photo Country"
         }
        },
        "yaxis": {
         "anchor": "x",
         "domain": [
          0,
          1
         ],
         "tickfont": {
          "size": 14
         },
         "title": {
          "font": {
           "size": 18
          },
          "text": "Count"
         }
        }
       }
      }
     },
     "metadata": {},
     "output_type": "display_data"
    },
    {
     "data": {
      "text/html": [
       "<div>\n",
       "<style scoped>\n",
       "    .dataframe tbody tr th:only-of-type {\n",
       "        vertical-align: middle;\n",
       "    }\n",
       "\n",
       "    .dataframe tbody tr th {\n",
       "        vertical-align: top;\n",
       "    }\n",
       "\n",
       "    .dataframe thead th {\n",
       "        text-align: right;\n",
       "    }\n",
       "</style>\n",
       "<table border=\"1\" class=\"dataframe\">\n",
       "  <thead>\n",
       "    <tr style=\"text-align: right;\">\n",
       "      <th></th>\n",
       "      <th>Photo_Country</th>\n",
       "      <th>Count</th>\n",
       "    </tr>\n",
       "  </thead>\n",
       "  <tbody>\n",
       "    <tr>\n",
       "      <th>145</th>\n",
       "      <td>US</td>\n",
       "      <td>66</td>\n",
       "    </tr>\n",
       "    <tr>\n",
       "      <th>122</th>\n",
       "      <td>RU</td>\n",
       "      <td>57</td>\n",
       "    </tr>\n",
       "    <tr>\n",
       "      <th>31</th>\n",
       "      <td>CN</td>\n",
       "      <td>46</td>\n",
       "    </tr>\n",
       "    <tr>\n",
       "      <th>69</th>\n",
       "      <td>IN</td>\n",
       "      <td>46</td>\n",
       "    </tr>\n",
       "    <tr>\n",
       "      <th>147</th>\n",
       "      <td>VN</td>\n",
       "      <td>45</td>\n",
       "    </tr>\n",
       "    <tr>\n",
       "      <th>70</th>\n",
       "      <td>IQ</td>\n",
       "      <td>42</td>\n",
       "    </tr>\n",
       "    <tr>\n",
       "      <th>1</th>\n",
       "      <td>AF</td>\n",
       "      <td>41</td>\n",
       "    </tr>\n",
       "    <tr>\n",
       "      <th>118</th>\n",
       "      <td>PS</td>\n",
       "      <td>34</td>\n",
       "    </tr>\n",
       "    <tr>\n",
       "      <th>77</th>\n",
       "      <td>KE</td>\n",
       "      <td>33</td>\n",
       "    </tr>\n",
       "    <tr>\n",
       "      <th>66</th>\n",
       "      <td>ID</td>\n",
       "      <td>31</td>\n",
       "    </tr>\n",
       "  </tbody>\n",
       "</table>\n",
       "</div>"
      ],
      "text/plain": [
       "    Photo_Country  Count\n",
       "145            US     66\n",
       "122            RU     57\n",
       "31             CN     46\n",
       "69             IN     46\n",
       "147            VN     45\n",
       "70             IQ     42\n",
       "1              AF     41\n",
       "118            PS     34\n",
       "77             KE     33\n",
       "66             ID     31"
      ]
     },
     "execution_count": 298,
     "metadata": {},
     "output_type": "execute_result"
    }
   ],
   "source": [
    "#Flitering the oversea photo country\n",
    "outcountry = outphoto.groupby('Photo_Country').size().reset_index(name='Count').sort_values(by='Count', ascending=False)\n",
    "\n",
    "fig = px.bar(outcountry , x='Photo_Country', y='Count', color='Photo_Country', title='Count of Photos by Country')\n",
    "\n",
    "fig.update_layout(\n",
    "    title={\n",
    "        'x': 0.5,\n",
    "        'font': {'size': 24},\n",
    "    },\n",
    "    xaxis={\n",
    "        'title': {'text': 'Photo Country', 'font': {'size': 18}},\n",
    "        'tickangle': -45,\n",
    "        'tickfont': {'size': 14},\n",
    "    },\n",
    "    yaxis={\n",
    "        'title': {'text': 'Count', 'font': {'size': 18}},\n",
    "        'tickfont': {'size': 14},\n",
    "    },\n",
    "    legend={\n",
    "        'title': {'text': 'Photo Country', 'font': {'size': 18}},\n",
    "        'font': {'size': 14},\n",
    "    },\n",
    "    plot_bgcolor='white',\n",
    ")\n",
    "\n",
    "\n",
    "fig.show()\n",
    "\n",
    "outcountry.head(10)"
   ]
  },
  {
   "attachments": {},
   "cell_type": "markdown",
   "metadata": {},
   "source": [
    "**Group analysis by continent**"
   ]
  },
  {
   "cell_type": "code",
   "execution_count": 299,
   "metadata": {},
   "outputs": [],
   "source": [
    "import pycountry_convert as pc\n",
    "earthcontinent = outphoto.copy()\n",
    "\n",
    "# Define a function that converts ISO 3166-1 alpha-2 codes to continent names\n",
    "def get_continent(iso_code):\n",
    "    try:\n",
    "        country_alpha2 = iso_code.upper()\n",
    "        country_continent_code = pc.country_alpha2_to_continent_code(country_alpha2)\n",
    "        return pc.convert_continent_code_to_continent_name(country_continent_code)\n",
    "    except:\n",
    "        return 'Unknown'\n",
    "\n",
    "# Add a new column and fill it with the continent name of each country\n",
    "earthcontinent['Photographer_Continent'] = earthcontinent['Photographer_Country'].apply(lambda x: get_continent(x))\n",
    "earthcontinent['Photo_Continent'] = earthcontinent['Photo_Country'].apply(lambda x: get_continent(x))\n"
   ]
  },
  {
   "cell_type": "code",
   "execution_count": 340,
   "metadata": {},
   "outputs": [
    {
     "data": {
      "text/html": [
       "<div>\n",
       "<style scoped>\n",
       "    .dataframe tbody tr th:only-of-type {\n",
       "        vertical-align: middle;\n",
       "    }\n",
       "\n",
       "    .dataframe tbody tr th {\n",
       "        vertical-align: top;\n",
       "    }\n",
       "\n",
       "    .dataframe thead th {\n",
       "        text-align: right;\n",
       "    }\n",
       "</style>\n",
       "<table border=\"1\" class=\"dataframe\">\n",
       "  <thead>\n",
       "    <tr style=\"text-align: right;\">\n",
       "      <th></th>\n",
       "      <th>Photographer</th>\n",
       "      <th>Award Year</th>\n",
       "      <th>Photographer_Country</th>\n",
       "      <th>Photo_Country</th>\n",
       "      <th>Photographer_Continent</th>\n",
       "      <th>Photo_Continent</th>\n",
       "    </tr>\n",
       "  </thead>\n",
       "  <tbody>\n",
       "    <tr>\n",
       "      <th>0</th>\n",
       "      <td>Mogens Haven</td>\n",
       "      <td>1955</td>\n",
       "      <td>DK</td>\n",
       "      <td>DE</td>\n",
       "      <td>Europe</td>\n",
       "      <td>Europe</td>\n",
       "    </tr>\n",
       "    <tr>\n",
       "      <th>4</th>\n",
       "      <td>Franz Votava</td>\n",
       "      <td>1956</td>\n",
       "      <td>AT</td>\n",
       "      <td>IT</td>\n",
       "      <td>Europe</td>\n",
       "      <td>Europe</td>\n",
       "    </tr>\n",
       "    <tr>\n",
       "      <th>5</th>\n",
       "      <td>Tibor Komlós</td>\n",
       "      <td>1956</td>\n",
       "      <td>HU</td>\n",
       "      <td>PL</td>\n",
       "      <td>Europe</td>\n",
       "      <td>Europe</td>\n",
       "    </tr>\n",
       "    <tr>\n",
       "      <th>14</th>\n",
       "      <td>Nikola Bibic</td>\n",
       "      <td>1957</td>\n",
       "      <td>RU</td>\n",
       "      <td>RS</td>\n",
       "      <td>Europe</td>\n",
       "      <td>Europe</td>\n",
       "    </tr>\n",
       "    <tr>\n",
       "      <th>16</th>\n",
       "      <td>Robert Edwards</td>\n",
       "      <td>1957</td>\n",
       "      <td>GB</td>\n",
       "      <td>BR</td>\n",
       "      <td>Europe</td>\n",
       "      <td>South America</td>\n",
       "    </tr>\n",
       "    <tr>\n",
       "      <th>17</th>\n",
       "      <td>Zygmunt Wdowinski</td>\n",
       "      <td>1957</td>\n",
       "      <td>PL</td>\n",
       "      <td>BA</td>\n",
       "      <td>Europe</td>\n",
       "      <td>Europe</td>\n",
       "    </tr>\n",
       "    <tr>\n",
       "      <th>21</th>\n",
       "      <td>Leos Nebor</td>\n",
       "      <td>1957</td>\n",
       "      <td>CZ</td>\n",
       "      <td>MN</td>\n",
       "      <td>Europe</td>\n",
       "      <td>Asia</td>\n",
       "    </tr>\n",
       "    <tr>\n",
       "      <th>26</th>\n",
       "      <td>Zygmunt Wdowinski</td>\n",
       "      <td>1957</td>\n",
       "      <td>PL</td>\n",
       "      <td>BA</td>\n",
       "      <td>Europe</td>\n",
       "      <td>Europe</td>\n",
       "    </tr>\n",
       "    <tr>\n",
       "      <th>28</th>\n",
       "      <td>Nikola Bibic</td>\n",
       "      <td>1957</td>\n",
       "      <td>RU</td>\n",
       "      <td>RS</td>\n",
       "      <td>Europe</td>\n",
       "      <td>Europe</td>\n",
       "    </tr>\n",
       "    <tr>\n",
       "      <th>29</th>\n",
       "      <td>Daniel Camus</td>\n",
       "      <td>1959</td>\n",
       "      <td>FR</td>\n",
       "      <td>CU</td>\n",
       "      <td>Europe</td>\n",
       "      <td>North America</td>\n",
       "    </tr>\n",
       "  </tbody>\n",
       "</table>\n",
       "</div>"
      ],
      "text/plain": [
       "         Photographer  Award Year Photographer_Country Photo_Country   \n",
       "0        Mogens Haven        1955                   DK            DE  \\\n",
       "4        Franz Votava        1956                   AT            IT   \n",
       "5        Tibor Komlós        1956                   HU            PL   \n",
       "14       Nikola Bibic        1957                   RU            RS   \n",
       "16     Robert Edwards        1957                   GB            BR   \n",
       "17  Zygmunt Wdowinski        1957                   PL            BA   \n",
       "21         Leos Nebor        1957                   CZ            MN   \n",
       "26  Zygmunt Wdowinski        1957                   PL            BA   \n",
       "28       Nikola Bibic        1957                   RU            RS   \n",
       "29       Daniel Camus        1959                   FR            CU   \n",
       "\n",
       "   Photographer_Continent Photo_Continent  \n",
       "0                  Europe          Europe  \n",
       "4                  Europe          Europe  \n",
       "5                  Europe          Europe  \n",
       "14                 Europe          Europe  \n",
       "16                 Europe   South America  \n",
       "17                 Europe          Europe  \n",
       "21                 Europe            Asia  \n",
       "26                 Europe          Europe  \n",
       "28                 Europe          Europe  \n",
       "29                 Europe   North America  "
      ]
     },
     "execution_count": 340,
     "metadata": {},
     "output_type": "execute_result"
    }
   ],
   "source": [
    "earthcontinent.head(10)"
   ]
  },
  {
   "attachments": {},
   "cell_type": "markdown",
   "metadata": {},
   "source": [
    "**Check the China information**"
   ]
  },
  {
   "cell_type": "code",
   "execution_count": 342,
   "metadata": {},
   "outputs": [
    {
     "data": {
      "text/html": [
       "<div>\n",
       "<style scoped>\n",
       "    .dataframe tbody tr th:only-of-type {\n",
       "        vertical-align: middle;\n",
       "    }\n",
       "\n",
       "    .dataframe tbody tr th {\n",
       "        vertical-align: top;\n",
       "    }\n",
       "\n",
       "    .dataframe thead th {\n",
       "        text-align: right;\n",
       "    }\n",
       "</style>\n",
       "<table border=\"1\" class=\"dataframe\">\n",
       "  <thead>\n",
       "    <tr style=\"text-align: right;\">\n",
       "      <th></th>\n",
       "      <th>Photographer</th>\n",
       "      <th>Award Year</th>\n",
       "      <th>Photographer_Country</th>\n",
       "      <th>Photo_Country</th>\n",
       "      <th>Photographer_Continent</th>\n",
       "      <th>Photo_Continent</th>\n",
       "    </tr>\n",
       "  </thead>\n",
       "  <tbody>\n",
       "    <tr>\n",
       "      <th>33</th>\n",
       "      <td>Vilém Kropp</td>\n",
       "      <td>1959</td>\n",
       "      <td>CZ</td>\n",
       "      <td>CN</td>\n",
       "      <td>Europe</td>\n",
       "      <td>Asia</td>\n",
       "    </tr>\n",
       "    <tr>\n",
       "      <th>36</th>\n",
       "      <td>Vilém Kropp</td>\n",
       "      <td>1959</td>\n",
       "      <td>CZ</td>\n",
       "      <td>CN</td>\n",
       "      <td>Europe</td>\n",
       "      <td>Asia</td>\n",
       "    </tr>\n",
       "    <tr>\n",
       "      <th>220</th>\n",
       "      <td>Cheong-han Aw</td>\n",
       "      <td>1967</td>\n",
       "      <td>HK</td>\n",
       "      <td>CN</td>\n",
       "      <td>Asia</td>\n",
       "      <td>Asia</td>\n",
       "    </tr>\n",
       "    <tr>\n",
       "      <th>306</th>\n",
       "      <td>Mel Finkelstein</td>\n",
       "      <td>1972</td>\n",
       "      <td>US</td>\n",
       "      <td>CN</td>\n",
       "      <td>North America</td>\n",
       "      <td>Asia</td>\n",
       "    </tr>\n",
       "    <tr>\n",
       "      <th>313</th>\n",
       "      <td>Mel Finkelstein</td>\n",
       "      <td>1972</td>\n",
       "      <td>US</td>\n",
       "      <td>CN</td>\n",
       "      <td>North America</td>\n",
       "      <td>Asia</td>\n",
       "    </tr>\n",
       "    <tr>\n",
       "      <th>460</th>\n",
       "      <td>Andre Baranyi</td>\n",
       "      <td>1976</td>\n",
       "      <td>BE</td>\n",
       "      <td>CN</td>\n",
       "      <td>Europe</td>\n",
       "      <td>Asia</td>\n",
       "    </tr>\n",
       "    <tr>\n",
       "      <th>473</th>\n",
       "      <td>Hiroshi Nakanishi</td>\n",
       "      <td>1977</td>\n",
       "      <td>JP</td>\n",
       "      <td>CN</td>\n",
       "      <td>Asia</td>\n",
       "      <td>Asia</td>\n",
       "    </tr>\n",
       "    <tr>\n",
       "      <th>478</th>\n",
       "      <td>Hiroshi Nakanishi</td>\n",
       "      <td>1977</td>\n",
       "      <td>JP</td>\n",
       "      <td>CN</td>\n",
       "      <td>Asia</td>\n",
       "      <td>Asia</td>\n",
       "    </tr>\n",
       "    <tr>\n",
       "      <th>519</th>\n",
       "      <td>Vincent Mentzel</td>\n",
       "      <td>1978</td>\n",
       "      <td>NL</td>\n",
       "      <td>CN</td>\n",
       "      <td>Europe</td>\n",
       "      <td>Asia</td>\n",
       "    </tr>\n",
       "    <tr>\n",
       "      <th>543</th>\n",
       "      <td>Vincent Mentzel</td>\n",
       "      <td>1978</td>\n",
       "      <td>NL</td>\n",
       "      <td>CN</td>\n",
       "      <td>Europe</td>\n",
       "      <td>Asia</td>\n",
       "    </tr>\n",
       "    <tr>\n",
       "      <th>729</th>\n",
       "      <td>Vincent Mentzel</td>\n",
       "      <td>1983</td>\n",
       "      <td>NL</td>\n",
       "      <td>CN</td>\n",
       "      <td>Europe</td>\n",
       "      <td>Asia</td>\n",
       "    </tr>\n",
       "    <tr>\n",
       "      <th>888</th>\n",
       "      <td>Alain Le Garsmeur</td>\n",
       "      <td>1986</td>\n",
       "      <td>GB</td>\n",
       "      <td>CN</td>\n",
       "      <td>Europe</td>\n",
       "      <td>Asia</td>\n",
       "    </tr>\n",
       "    <tr>\n",
       "      <th>908</th>\n",
       "      <td>Sergei Guneyev</td>\n",
       "      <td>1986</td>\n",
       "      <td>RU</td>\n",
       "      <td>CN</td>\n",
       "      <td>Europe</td>\n",
       "      <td>Asia</td>\n",
       "    </tr>\n",
       "    <tr>\n",
       "      <th>1025</th>\n",
       "      <td>Alon Reininger</td>\n",
       "      <td>1989</td>\n",
       "      <td>US</td>\n",
       "      <td>CN</td>\n",
       "      <td>North America</td>\n",
       "      <td>Asia</td>\n",
       "    </tr>\n",
       "    <tr>\n",
       "      <th>1090</th>\n",
       "      <td>David Turnley</td>\n",
       "      <td>1990</td>\n",
       "      <td>US</td>\n",
       "      <td>CN</td>\n",
       "      <td>North America</td>\n",
       "      <td>Asia</td>\n",
       "    </tr>\n",
       "    <tr>\n",
       "      <th>1099</th>\n",
       "      <td>David Turnley</td>\n",
       "      <td>1990</td>\n",
       "      <td>US</td>\n",
       "      <td>CN</td>\n",
       "      <td>North America</td>\n",
       "      <td>Asia</td>\n",
       "    </tr>\n",
       "    <tr>\n",
       "      <th>1109</th>\n",
       "      <td>Stuart Franklin</td>\n",
       "      <td>1990</td>\n",
       "      <td>GB</td>\n",
       "      <td>CN</td>\n",
       "      <td>Europe</td>\n",
       "      <td>Asia</td>\n",
       "    </tr>\n",
       "    <tr>\n",
       "      <th>1116</th>\n",
       "      <td>Gérard Vandystadt</td>\n",
       "      <td>1990</td>\n",
       "      <td>FR</td>\n",
       "      <td>CN</td>\n",
       "      <td>Europe</td>\n",
       "      <td>Asia</td>\n",
       "    </tr>\n",
       "    <tr>\n",
       "      <th>1120</th>\n",
       "      <td>Charlie Cole</td>\n",
       "      <td>1990</td>\n",
       "      <td>US</td>\n",
       "      <td>CN</td>\n",
       "      <td>North America</td>\n",
       "      <td>Asia</td>\n",
       "    </tr>\n",
       "    <tr>\n",
       "      <th>1125</th>\n",
       "      <td>Vincent Leloup</td>\n",
       "      <td>1991</td>\n",
       "      <td>FR</td>\n",
       "      <td>CN</td>\n",
       "      <td>Europe</td>\n",
       "      <td>Asia</td>\n",
       "    </tr>\n",
       "    <tr>\n",
       "      <th>1126</th>\n",
       "      <td>Barry Lewis</td>\n",
       "      <td>1991</td>\n",
       "      <td>GB</td>\n",
       "      <td>CN</td>\n",
       "      <td>Europe</td>\n",
       "      <td>Asia</td>\n",
       "    </tr>\n",
       "    <tr>\n",
       "      <th>1151</th>\n",
       "      <td>Barry Lewis</td>\n",
       "      <td>1991</td>\n",
       "      <td>GB</td>\n",
       "      <td>CN</td>\n",
       "      <td>Europe</td>\n",
       "      <td>Asia</td>\n",
       "    </tr>\n",
       "    <tr>\n",
       "      <th>1233</th>\n",
       "      <td>Dominik Obertreis</td>\n",
       "      <td>1993</td>\n",
       "      <td>DE</td>\n",
       "      <td>CN</td>\n",
       "      <td>Europe</td>\n",
       "      <td>Asia</td>\n",
       "    </tr>\n",
       "    <tr>\n",
       "      <th>1280</th>\n",
       "      <td>Gueorgui Pinkhassov</td>\n",
       "      <td>1994</td>\n",
       "      <td>RU</td>\n",
       "      <td>CN</td>\n",
       "      <td>Europe</td>\n",
       "      <td>Asia</td>\n",
       "    </tr>\n",
       "    <tr>\n",
       "      <th>1299</th>\n",
       "      <td>Tom Stoddart</td>\n",
       "      <td>1994</td>\n",
       "      <td>GB</td>\n",
       "      <td>CN</td>\n",
       "      <td>Europe</td>\n",
       "      <td>Asia</td>\n",
       "    </tr>\n",
       "    <tr>\n",
       "      <th>1382</th>\n",
       "      <td>Nian Zeng</td>\n",
       "      <td>1996</td>\n",
       "      <td>FR</td>\n",
       "      <td>CN</td>\n",
       "      <td>Europe</td>\n",
       "      <td>Asia</td>\n",
       "    </tr>\n",
       "    <tr>\n",
       "      <th>1532</th>\n",
       "      <td>Michael Amendolia</td>\n",
       "      <td>1999</td>\n",
       "      <td>AU</td>\n",
       "      <td>CN</td>\n",
       "      <td>Oceania</td>\n",
       "      <td>Asia</td>\n",
       "    </tr>\n",
       "    <tr>\n",
       "      <th>1632</th>\n",
       "      <td>Greg Baker</td>\n",
       "      <td>2001</td>\n",
       "      <td>NZ</td>\n",
       "      <td>CN</td>\n",
       "      <td>Oceania</td>\n",
       "      <td>Asia</td>\n",
       "    </tr>\n",
       "    <tr>\n",
       "      <th>1661</th>\n",
       "      <td>Haseon Park</td>\n",
       "      <td>2001</td>\n",
       "      <td>KR</td>\n",
       "      <td>CN</td>\n",
       "      <td>Asia</td>\n",
       "      <td>Asia</td>\n",
       "    </tr>\n",
       "    <tr>\n",
       "      <th>1710</th>\n",
       "      <td>Christian Keenan</td>\n",
       "      <td>2002</td>\n",
       "      <td>GB</td>\n",
       "      <td>CN</td>\n",
       "      <td>Europe</td>\n",
       "      <td>Asia</td>\n",
       "    </tr>\n",
       "    <tr>\n",
       "      <th>1755</th>\n",
       "      <td>Tomohisa Kato</td>\n",
       "      <td>2003</td>\n",
       "      <td>JP</td>\n",
       "      <td>CN</td>\n",
       "      <td>Asia</td>\n",
       "      <td>Asia</td>\n",
       "    </tr>\n",
       "    <tr>\n",
       "      <th>1867</th>\n",
       "      <td>David Burnett</td>\n",
       "      <td>2005</td>\n",
       "      <td>US</td>\n",
       "      <td>CN</td>\n",
       "      <td>North America</td>\n",
       "      <td>Asia</td>\n",
       "    </tr>\n",
       "    <tr>\n",
       "      <th>1905</th>\n",
       "      <td>Michael Wolf</td>\n",
       "      <td>2005</td>\n",
       "      <td>DE</td>\n",
       "      <td>CN</td>\n",
       "      <td>Europe</td>\n",
       "      <td>Asia</td>\n",
       "    </tr>\n",
       "    <tr>\n",
       "      <th>1909</th>\n",
       "      <td>Alessandro Digaetano</td>\n",
       "      <td>2005</td>\n",
       "      <td>IT</td>\n",
       "      <td>CN</td>\n",
       "      <td>Europe</td>\n",
       "      <td>Asia</td>\n",
       "    </tr>\n",
       "    <tr>\n",
       "      <th>1992</th>\n",
       "      <td>Lorenzo Cicconi Massi</td>\n",
       "      <td>2007</td>\n",
       "      <td>IT</td>\n",
       "      <td>CN</td>\n",
       "      <td>Europe</td>\n",
       "      <td>Asia</td>\n",
       "    </tr>\n",
       "    <tr>\n",
       "      <th>2075</th>\n",
       "      <td>Oded Balilty</td>\n",
       "      <td>2008</td>\n",
       "      <td>IL</td>\n",
       "      <td>CN</td>\n",
       "      <td>Asia</td>\n",
       "      <td>Asia</td>\n",
       "    </tr>\n",
       "    <tr>\n",
       "      <th>2125</th>\n",
       "      <td>Vincent Laforet</td>\n",
       "      <td>2009</td>\n",
       "      <td>FR</td>\n",
       "      <td>CN</td>\n",
       "      <td>Europe</td>\n",
       "      <td>Asia</td>\n",
       "    </tr>\n",
       "    <tr>\n",
       "      <th>2139</th>\n",
       "      <td>Vincent Laforet</td>\n",
       "      <td>2009</td>\n",
       "      <td>FR</td>\n",
       "      <td>CN</td>\n",
       "      <td>Europe</td>\n",
       "      <td>Asia</td>\n",
       "    </tr>\n",
       "    <tr>\n",
       "      <th>2336</th>\n",
       "      <td>Adam Pretty</td>\n",
       "      <td>2012</td>\n",
       "      <td>AU</td>\n",
       "      <td>CN</td>\n",
       "      <td>Oceania</td>\n",
       "      <td>Asia</td>\n",
       "    </tr>\n",
       "    <tr>\n",
       "      <th>2423</th>\n",
       "      <td>Quinn Rooney</td>\n",
       "      <td>2014</td>\n",
       "      <td>AU</td>\n",
       "      <td>CN</td>\n",
       "      <td>Oceania</td>\n",
       "      <td>Asia</td>\n",
       "    </tr>\n",
       "    <tr>\n",
       "      <th>2483</th>\n",
       "      <td>Giulio Di Sturco</td>\n",
       "      <td>2015</td>\n",
       "      <td>IT</td>\n",
       "      <td>CN</td>\n",
       "      <td>Europe</td>\n",
       "      <td>Asia</td>\n",
       "    </tr>\n",
       "    <tr>\n",
       "      <th>2533</th>\n",
       "      <td>Kevin Frayer</td>\n",
       "      <td>2016</td>\n",
       "      <td>CA</td>\n",
       "      <td>CN</td>\n",
       "      <td>North America</td>\n",
       "      <td>Asia</td>\n",
       "    </tr>\n",
       "    <tr>\n",
       "      <th>2580</th>\n",
       "      <td>Ami Vitale</td>\n",
       "      <td>2017</td>\n",
       "      <td>US</td>\n",
       "      <td>CN</td>\n",
       "      <td>North America</td>\n",
       "      <td>Asia</td>\n",
       "    </tr>\n",
       "    <tr>\n",
       "      <th>2581</th>\n",
       "      <td>Ami Vitale</td>\n",
       "      <td>2017</td>\n",
       "      <td>US</td>\n",
       "      <td>CN</td>\n",
       "      <td>North America</td>\n",
       "      <td>Asia</td>\n",
       "    </tr>\n",
       "    <tr>\n",
       "      <th>2630</th>\n",
       "      <td>George Steinmetz</td>\n",
       "      <td>2018</td>\n",
       "      <td>US</td>\n",
       "      <td>CN</td>\n",
       "      <td>North America</td>\n",
       "      <td>Asia</td>\n",
       "    </tr>\n",
       "    <tr>\n",
       "      <th>2723</th>\n",
       "      <td>Brent Stirton</td>\n",
       "      <td>2020</td>\n",
       "      <td>ZA</td>\n",
       "      <td>CN</td>\n",
       "      <td>Africa</td>\n",
       "      <td>Asia</td>\n",
       "    </tr>\n",
       "  </tbody>\n",
       "</table>\n",
       "</div>"
      ],
      "text/plain": [
       "               Photographer  Award Year Photographer_Country Photo_Country   \n",
       "33              Vilém Kropp        1959                   CZ            CN  \\\n",
       "36              Vilém Kropp        1959                   CZ            CN   \n",
       "220           Cheong-han Aw        1967                   HK            CN   \n",
       "306         Mel Finkelstein        1972                   US            CN   \n",
       "313         Mel Finkelstein        1972                   US            CN   \n",
       "460           Andre Baranyi        1976                   BE            CN   \n",
       "473       Hiroshi Nakanishi        1977                   JP            CN   \n",
       "478       Hiroshi Nakanishi        1977                   JP            CN   \n",
       "519         Vincent Mentzel        1978                   NL            CN   \n",
       "543         Vincent Mentzel        1978                   NL            CN   \n",
       "729         Vincent Mentzel        1983                   NL            CN   \n",
       "888       Alain Le Garsmeur        1986                   GB            CN   \n",
       "908          Sergei Guneyev        1986                   RU            CN   \n",
       "1025         Alon Reininger        1989                   US            CN   \n",
       "1090          David Turnley        1990                   US            CN   \n",
       "1099          David Turnley        1990                   US            CN   \n",
       "1109        Stuart Franklin        1990                   GB            CN   \n",
       "1116      Gérard Vandystadt        1990                   FR            CN   \n",
       "1120           Charlie Cole        1990                   US            CN   \n",
       "1125         Vincent Leloup        1991                   FR            CN   \n",
       "1126            Barry Lewis        1991                   GB            CN   \n",
       "1151            Barry Lewis        1991                   GB            CN   \n",
       "1233      Dominik Obertreis        1993                   DE            CN   \n",
       "1280    Gueorgui Pinkhassov        1994                   RU            CN   \n",
       "1299           Tom Stoddart        1994                   GB            CN   \n",
       "1382              Nian Zeng        1996                   FR            CN   \n",
       "1532      Michael Amendolia        1999                   AU            CN   \n",
       "1632             Greg Baker        2001                   NZ            CN   \n",
       "1661            Haseon Park        2001                   KR            CN   \n",
       "1710       Christian Keenan        2002                   GB            CN   \n",
       "1755          Tomohisa Kato        2003                   JP            CN   \n",
       "1867          David Burnett        2005                   US            CN   \n",
       "1905           Michael Wolf        2005                   DE            CN   \n",
       "1909   Alessandro Digaetano        2005                   IT            CN   \n",
       "1992  Lorenzo Cicconi Massi        2007                   IT            CN   \n",
       "2075           Oded Balilty        2008                   IL            CN   \n",
       "2125        Vincent Laforet        2009                   FR            CN   \n",
       "2139        Vincent Laforet        2009                   FR            CN   \n",
       "2336            Adam Pretty        2012                   AU            CN   \n",
       "2423           Quinn Rooney        2014                   AU            CN   \n",
       "2483       Giulio Di Sturco        2015                   IT            CN   \n",
       "2533           Kevin Frayer        2016                   CA            CN   \n",
       "2580             Ami Vitale        2017                   US            CN   \n",
       "2581             Ami Vitale        2017                   US            CN   \n",
       "2630       George Steinmetz        2018                   US            CN   \n",
       "2723          Brent Stirton        2020                   ZA            CN   \n",
       "\n",
       "     Photographer_Continent Photo_Continent  \n",
       "33                   Europe            Asia  \n",
       "36                   Europe            Asia  \n",
       "220                    Asia            Asia  \n",
       "306           North America            Asia  \n",
       "313           North America            Asia  \n",
       "460                  Europe            Asia  \n",
       "473                    Asia            Asia  \n",
       "478                    Asia            Asia  \n",
       "519                  Europe            Asia  \n",
       "543                  Europe            Asia  \n",
       "729                  Europe            Asia  \n",
       "888                  Europe            Asia  \n",
       "908                  Europe            Asia  \n",
       "1025          North America            Asia  \n",
       "1090          North America            Asia  \n",
       "1099          North America            Asia  \n",
       "1109                 Europe            Asia  \n",
       "1116                 Europe            Asia  \n",
       "1120          North America            Asia  \n",
       "1125                 Europe            Asia  \n",
       "1126                 Europe            Asia  \n",
       "1151                 Europe            Asia  \n",
       "1233                 Europe            Asia  \n",
       "1280                 Europe            Asia  \n",
       "1299                 Europe            Asia  \n",
       "1382                 Europe            Asia  \n",
       "1532                Oceania            Asia  \n",
       "1632                Oceania            Asia  \n",
       "1661                   Asia            Asia  \n",
       "1710                 Europe            Asia  \n",
       "1755                   Asia            Asia  \n",
       "1867          North America            Asia  \n",
       "1905                 Europe            Asia  \n",
       "1909                 Europe            Asia  \n",
       "1992                 Europe            Asia  \n",
       "2075                   Asia            Asia  \n",
       "2125                 Europe            Asia  \n",
       "2139                 Europe            Asia  \n",
       "2336                Oceania            Asia  \n",
       "2423                Oceania            Asia  \n",
       "2483                 Europe            Asia  \n",
       "2533          North America            Asia  \n",
       "2580          North America            Asia  \n",
       "2581          North America            Asia  \n",
       "2630          North America            Asia  \n",
       "2723                 Africa            Asia  "
      ]
     },
     "execution_count": 342,
     "metadata": {},
     "output_type": "execute_result"
    }
   ],
   "source": [
    "df_china = earthcontinent[earthcontinent['Photo_Country'] == 'CN']\n",
    "df_china"
   ]
  },
  {
   "cell_type": "code",
   "execution_count": 339,
   "metadata": {},
   "outputs": [
    {
     "data": {
      "application/vnd.plotly.v1+json": {
       "config": {
        "plotlyServerURL": "https://plot.ly"
       },
       "data": [
        {
         "alignmentgroup": "True",
         "hovertemplate": "Photo_Country=CN<br>Photographer_Country=%{x}<br>count=%{y}<extra></extra>",
         "legendgroup": "CN",
         "marker": {
          "color": "#636efa",
          "pattern": {
           "shape": ""
          }
         },
         "name": "CN",
         "offsetgroup": "CN",
         "orientation": "v",
         "showlegend": true,
         "textposition": "auto",
         "type": "bar",
         "x": [
          "US",
          "GB",
          "FR",
          "AU",
          "NL"
         ],
         "xaxis": "x",
         "y": [
          10,
          6,
          5,
          3,
          3
         ],
         "yaxis": "y"
        }
       ],
       "layout": {
        "barmode": "relative",
        "legend": {
         "title": {
          "text": "Photo_Country"
         },
         "tracegroupgap": 0
        },
        "template": {
         "data": {
          "bar": [
           {
            "error_x": {
             "color": "#2a3f5f"
            },
            "error_y": {
             "color": "#2a3f5f"
            },
            "marker": {
             "line": {
              "color": "#E5ECF6",
              "width": 0.5
             },
             "pattern": {
              "fillmode": "overlay",
              "size": 10,
              "solidity": 0.2
             }
            },
            "type": "bar"
           }
          ],
          "barpolar": [
           {
            "marker": {
             "line": {
              "color": "#E5ECF6",
              "width": 0.5
             },
             "pattern": {
              "fillmode": "overlay",
              "size": 10,
              "solidity": 0.2
             }
            },
            "type": "barpolar"
           }
          ],
          "carpet": [
           {
            "aaxis": {
             "endlinecolor": "#2a3f5f",
             "gridcolor": "white",
             "linecolor": "white",
             "minorgridcolor": "white",
             "startlinecolor": "#2a3f5f"
            },
            "baxis": {
             "endlinecolor": "#2a3f5f",
             "gridcolor": "white",
             "linecolor": "white",
             "minorgridcolor": "white",
             "startlinecolor": "#2a3f5f"
            },
            "type": "carpet"
           }
          ],
          "choropleth": [
           {
            "colorbar": {
             "outlinewidth": 0,
             "ticks": ""
            },
            "type": "choropleth"
           }
          ],
          "contour": [
           {
            "colorbar": {
             "outlinewidth": 0,
             "ticks": ""
            },
            "colorscale": [
             [
              0,
              "#0d0887"
             ],
             [
              0.1111111111111111,
              "#46039f"
             ],
             [
              0.2222222222222222,
              "#7201a8"
             ],
             [
              0.3333333333333333,
              "#9c179e"
             ],
             [
              0.4444444444444444,
              "#bd3786"
             ],
             [
              0.5555555555555556,
              "#d8576b"
             ],
             [
              0.6666666666666666,
              "#ed7953"
             ],
             [
              0.7777777777777778,
              "#fb9f3a"
             ],
             [
              0.8888888888888888,
              "#fdca26"
             ],
             [
              1,
              "#f0f921"
             ]
            ],
            "type": "contour"
           }
          ],
          "contourcarpet": [
           {
            "colorbar": {
             "outlinewidth": 0,
             "ticks": ""
            },
            "type": "contourcarpet"
           }
          ],
          "heatmap": [
           {
            "colorbar": {
             "outlinewidth": 0,
             "ticks": ""
            },
            "colorscale": [
             [
              0,
              "#0d0887"
             ],
             [
              0.1111111111111111,
              "#46039f"
             ],
             [
              0.2222222222222222,
              "#7201a8"
             ],
             [
              0.3333333333333333,
              "#9c179e"
             ],
             [
              0.4444444444444444,
              "#bd3786"
             ],
             [
              0.5555555555555556,
              "#d8576b"
             ],
             [
              0.6666666666666666,
              "#ed7953"
             ],
             [
              0.7777777777777778,
              "#fb9f3a"
             ],
             [
              0.8888888888888888,
              "#fdca26"
             ],
             [
              1,
              "#f0f921"
             ]
            ],
            "type": "heatmap"
           }
          ],
          "heatmapgl": [
           {
            "colorbar": {
             "outlinewidth": 0,
             "ticks": ""
            },
            "colorscale": [
             [
              0,
              "#0d0887"
             ],
             [
              0.1111111111111111,
              "#46039f"
             ],
             [
              0.2222222222222222,
              "#7201a8"
             ],
             [
              0.3333333333333333,
              "#9c179e"
             ],
             [
              0.4444444444444444,
              "#bd3786"
             ],
             [
              0.5555555555555556,
              "#d8576b"
             ],
             [
              0.6666666666666666,
              "#ed7953"
             ],
             [
              0.7777777777777778,
              "#fb9f3a"
             ],
             [
              0.8888888888888888,
              "#fdca26"
             ],
             [
              1,
              "#f0f921"
             ]
            ],
            "type": "heatmapgl"
           }
          ],
          "histogram": [
           {
            "marker": {
             "pattern": {
              "fillmode": "overlay",
              "size": 10,
              "solidity": 0.2
             }
            },
            "type": "histogram"
           }
          ],
          "histogram2d": [
           {
            "colorbar": {
             "outlinewidth": 0,
             "ticks": ""
            },
            "colorscale": [
             [
              0,
              "#0d0887"
             ],
             [
              0.1111111111111111,
              "#46039f"
             ],
             [
              0.2222222222222222,
              "#7201a8"
             ],
             [
              0.3333333333333333,
              "#9c179e"
             ],
             [
              0.4444444444444444,
              "#bd3786"
             ],
             [
              0.5555555555555556,
              "#d8576b"
             ],
             [
              0.6666666666666666,
              "#ed7953"
             ],
             [
              0.7777777777777778,
              "#fb9f3a"
             ],
             [
              0.8888888888888888,
              "#fdca26"
             ],
             [
              1,
              "#f0f921"
             ]
            ],
            "type": "histogram2d"
           }
          ],
          "histogram2dcontour": [
           {
            "colorbar": {
             "outlinewidth": 0,
             "ticks": ""
            },
            "colorscale": [
             [
              0,
              "#0d0887"
             ],
             [
              0.1111111111111111,
              "#46039f"
             ],
             [
              0.2222222222222222,
              "#7201a8"
             ],
             [
              0.3333333333333333,
              "#9c179e"
             ],
             [
              0.4444444444444444,
              "#bd3786"
             ],
             [
              0.5555555555555556,
              "#d8576b"
             ],
             [
              0.6666666666666666,
              "#ed7953"
             ],
             [
              0.7777777777777778,
              "#fb9f3a"
             ],
             [
              0.8888888888888888,
              "#fdca26"
             ],
             [
              1,
              "#f0f921"
             ]
            ],
            "type": "histogram2dcontour"
           }
          ],
          "mesh3d": [
           {
            "colorbar": {
             "outlinewidth": 0,
             "ticks": ""
            },
            "type": "mesh3d"
           }
          ],
          "parcoords": [
           {
            "line": {
             "colorbar": {
              "outlinewidth": 0,
              "ticks": ""
             }
            },
            "type": "parcoords"
           }
          ],
          "pie": [
           {
            "automargin": true,
            "type": "pie"
           }
          ],
          "scatter": [
           {
            "fillpattern": {
             "fillmode": "overlay",
             "size": 10,
             "solidity": 0.2
            },
            "type": "scatter"
           }
          ],
          "scatter3d": [
           {
            "line": {
             "colorbar": {
              "outlinewidth": 0,
              "ticks": ""
             }
            },
            "marker": {
             "colorbar": {
              "outlinewidth": 0,
              "ticks": ""
             }
            },
            "type": "scatter3d"
           }
          ],
          "scattercarpet": [
           {
            "marker": {
             "colorbar": {
              "outlinewidth": 0,
              "ticks": ""
             }
            },
            "type": "scattercarpet"
           }
          ],
          "scattergeo": [
           {
            "marker": {
             "colorbar": {
              "outlinewidth": 0,
              "ticks": ""
             }
            },
            "type": "scattergeo"
           }
          ],
          "scattergl": [
           {
            "marker": {
             "colorbar": {
              "outlinewidth": 0,
              "ticks": ""
             }
            },
            "type": "scattergl"
           }
          ],
          "scattermapbox": [
           {
            "marker": {
             "colorbar": {
              "outlinewidth": 0,
              "ticks": ""
             }
            },
            "type": "scattermapbox"
           }
          ],
          "scatterpolar": [
           {
            "marker": {
             "colorbar": {
              "outlinewidth": 0,
              "ticks": ""
             }
            },
            "type": "scatterpolar"
           }
          ],
          "scatterpolargl": [
           {
            "marker": {
             "colorbar": {
              "outlinewidth": 0,
              "ticks": ""
             }
            },
            "type": "scatterpolargl"
           }
          ],
          "scatterternary": [
           {
            "marker": {
             "colorbar": {
              "outlinewidth": 0,
              "ticks": ""
             }
            },
            "type": "scatterternary"
           }
          ],
          "surface": [
           {
            "colorbar": {
             "outlinewidth": 0,
             "ticks": ""
            },
            "colorscale": [
             [
              0,
              "#0d0887"
             ],
             [
              0.1111111111111111,
              "#46039f"
             ],
             [
              0.2222222222222222,
              "#7201a8"
             ],
             [
              0.3333333333333333,
              "#9c179e"
             ],
             [
              0.4444444444444444,
              "#bd3786"
             ],
             [
              0.5555555555555556,
              "#d8576b"
             ],
             [
              0.6666666666666666,
              "#ed7953"
             ],
             [
              0.7777777777777778,
              "#fb9f3a"
             ],
             [
              0.8888888888888888,
              "#fdca26"
             ],
             [
              1,
              "#f0f921"
             ]
            ],
            "type": "surface"
           }
          ],
          "table": [
           {
            "cells": {
             "fill": {
              "color": "#EBF0F8"
             },
             "line": {
              "color": "white"
             }
            },
            "header": {
             "fill": {
              "color": "#C8D4E3"
             },
             "line": {
              "color": "white"
             }
            },
            "type": "table"
           }
          ]
         },
         "layout": {
          "annotationdefaults": {
           "arrowcolor": "#2a3f5f",
           "arrowhead": 0,
           "arrowwidth": 1
          },
          "autotypenumbers": "strict",
          "coloraxis": {
           "colorbar": {
            "outlinewidth": 0,
            "ticks": ""
           }
          },
          "colorscale": {
           "diverging": [
            [
             0,
             "#8e0152"
            ],
            [
             0.1,
             "#c51b7d"
            ],
            [
             0.2,
             "#de77ae"
            ],
            [
             0.3,
             "#f1b6da"
            ],
            [
             0.4,
             "#fde0ef"
            ],
            [
             0.5,
             "#f7f7f7"
            ],
            [
             0.6,
             "#e6f5d0"
            ],
            [
             0.7,
             "#b8e186"
            ],
            [
             0.8,
             "#7fbc41"
            ],
            [
             0.9,
             "#4d9221"
            ],
            [
             1,
             "#276419"
            ]
           ],
           "sequential": [
            [
             0,
             "#0d0887"
            ],
            [
             0.1111111111111111,
             "#46039f"
            ],
            [
             0.2222222222222222,
             "#7201a8"
            ],
            [
             0.3333333333333333,
             "#9c179e"
            ],
            [
             0.4444444444444444,
             "#bd3786"
            ],
            [
             0.5555555555555556,
             "#d8576b"
            ],
            [
             0.6666666666666666,
             "#ed7953"
            ],
            [
             0.7777777777777778,
             "#fb9f3a"
            ],
            [
             0.8888888888888888,
             "#fdca26"
            ],
            [
             1,
             "#f0f921"
            ]
           ],
           "sequentialminus": [
            [
             0,
             "#0d0887"
            ],
            [
             0.1111111111111111,
             "#46039f"
            ],
            [
             0.2222222222222222,
             "#7201a8"
            ],
            [
             0.3333333333333333,
             "#9c179e"
            ],
            [
             0.4444444444444444,
             "#bd3786"
            ],
            [
             0.5555555555555556,
             "#d8576b"
            ],
            [
             0.6666666666666666,
             "#ed7953"
            ],
            [
             0.7777777777777778,
             "#fb9f3a"
            ],
            [
             0.8888888888888888,
             "#fdca26"
            ],
            [
             1,
             "#f0f921"
            ]
           ]
          },
          "colorway": [
           "#636efa",
           "#EF553B",
           "#00cc96",
           "#ab63fa",
           "#FFA15A",
           "#19d3f3",
           "#FF6692",
           "#B6E880",
           "#FF97FF",
           "#FECB52"
          ],
          "font": {
           "color": "#2a3f5f"
          },
          "geo": {
           "bgcolor": "white",
           "lakecolor": "white",
           "landcolor": "#E5ECF6",
           "showlakes": true,
           "showland": true,
           "subunitcolor": "white"
          },
          "hoverlabel": {
           "align": "left"
          },
          "hovermode": "closest",
          "mapbox": {
           "style": "light"
          },
          "paper_bgcolor": "white",
          "plot_bgcolor": "#E5ECF6",
          "polar": {
           "angularaxis": {
            "gridcolor": "white",
            "linecolor": "white",
            "ticks": ""
           },
           "bgcolor": "#E5ECF6",
           "radialaxis": {
            "gridcolor": "white",
            "linecolor": "white",
            "ticks": ""
           }
          },
          "scene": {
           "xaxis": {
            "backgroundcolor": "#E5ECF6",
            "gridcolor": "white",
            "gridwidth": 2,
            "linecolor": "white",
            "showbackground": true,
            "ticks": "",
            "zerolinecolor": "white"
           },
           "yaxis": {
            "backgroundcolor": "#E5ECF6",
            "gridcolor": "white",
            "gridwidth": 2,
            "linecolor": "white",
            "showbackground": true,
            "ticks": "",
            "zerolinecolor": "white"
           },
           "zaxis": {
            "backgroundcolor": "#E5ECF6",
            "gridcolor": "white",
            "gridwidth": 2,
            "linecolor": "white",
            "showbackground": true,
            "ticks": "",
            "zerolinecolor": "white"
           }
          },
          "shapedefaults": {
           "line": {
            "color": "#2a3f5f"
           }
          },
          "ternary": {
           "aaxis": {
            "gridcolor": "white",
            "linecolor": "white",
            "ticks": ""
           },
           "baxis": {
            "gridcolor": "white",
            "linecolor": "white",
            "ticks": ""
           },
           "bgcolor": "#E5ECF6",
           "caxis": {
            "gridcolor": "white",
            "linecolor": "white",
            "ticks": ""
           }
          },
          "title": {
           "x": 0.05
          },
          "xaxis": {
           "automargin": true,
           "gridcolor": "white",
           "linecolor": "white",
           "ticks": "",
           "title": {
            "standoff": 15
           },
           "zerolinecolor": "white",
           "zerolinewidth": 2
          },
          "yaxis": {
           "automargin": true,
           "gridcolor": "white",
           "linecolor": "white",
           "ticks": "",
           "title": {
            "standoff": 15
           },
           "zerolinecolor": "white",
           "zerolinewidth": 2
          }
         }
        },
        "title": {
         "text": "Country of photographers who came to China to shoot"
        },
        "xaxis": {
         "anchor": "y",
         "domain": [
          0,
          1
         ],
         "title": {
          "text": "Photographer_Country"
         }
        },
        "yaxis": {
         "anchor": "x",
         "domain": [
          0,
          1
         ],
         "title": {
          "text": "count"
         }
        }
       }
      }
     },
     "metadata": {},
     "output_type": "display_data"
    }
   ],
   "source": [
    "#Find out which countries foreign photographers come to China to shoot and win the most awards\n",
    "df_china_counts = df_china.groupby('Photographer_Country')['Photo_Country'].value_counts(sort=True).reset_index(name='count')\n",
    "df_china_counts = df_china_counts.sort_values(by='count', ascending=False)\n",
    "fig = px.bar(df_china_counts.head(5), x='Photographer_Country', y='count', color='Photo_Country', title='Country of photographers who came to China to shoot')\n",
    "fig.show()\n"
   ]
  },
  {
   "attachments": {},
   "cell_type": "markdown",
   "metadata": {},
   "source": [
    "**Check the location of each contient**"
   ]
  },
  {
   "cell_type": "code",
   "execution_count": 315,
   "metadata": {},
   "outputs": [
    {
     "data": {
      "text/html": [
       "<div>\n",
       "<style scoped>\n",
       "    .dataframe tbody tr th:only-of-type {\n",
       "        vertical-align: middle;\n",
       "    }\n",
       "\n",
       "    .dataframe tbody tr th {\n",
       "        vertical-align: top;\n",
       "    }\n",
       "\n",
       "    .dataframe thead th {\n",
       "        text-align: right;\n",
       "    }\n",
       "</style>\n",
       "<table border=\"1\" class=\"dataframe\">\n",
       "  <thead>\n",
       "    <tr style=\"text-align: right;\">\n",
       "      <th></th>\n",
       "      <th>Photo_Country</th>\n",
       "      <th>count</th>\n",
       "    </tr>\n",
       "  </thead>\n",
       "  <tbody>\n",
       "    <tr>\n",
       "      <th>72</th>\n",
       "      <td>RU</td>\n",
       "      <td>23</td>\n",
       "    </tr>\n",
       "    <tr>\n",
       "      <th>89</th>\n",
       "      <td>VN</td>\n",
       "      <td>22</td>\n",
       "    </tr>\n",
       "    <tr>\n",
       "      <th>87</th>\n",
       "      <td>US</td>\n",
       "      <td>17</td>\n",
       "    </tr>\n",
       "    <tr>\n",
       "      <th>41</th>\n",
       "      <td>IQ</td>\n",
       "      <td>17</td>\n",
       "    </tr>\n",
       "    <tr>\n",
       "      <th>0</th>\n",
       "      <td>AF</td>\n",
       "      <td>15</td>\n",
       "    </tr>\n",
       "    <tr>\n",
       "      <th>91</th>\n",
       "      <td>ZA</td>\n",
       "      <td>13</td>\n",
       "    </tr>\n",
       "    <tr>\n",
       "      <th>69</th>\n",
       "      <td>PS</td>\n",
       "      <td>13</td>\n",
       "    </tr>\n",
       "    <tr>\n",
       "      <th>17</th>\n",
       "      <td>CN</td>\n",
       "      <td>11</td>\n",
       "    </tr>\n",
       "    <tr>\n",
       "      <th>45</th>\n",
       "      <td>JP</td>\n",
       "      <td>11</td>\n",
       "    </tr>\n",
       "    <tr>\n",
       "      <th>37</th>\n",
       "      <td>ID</td>\n",
       "      <td>11</td>\n",
       "    </tr>\n",
       "  </tbody>\n",
       "</table>\n",
       "</div>"
      ],
      "text/plain": [
       "   Photo_Country  count\n",
       "72            RU     23\n",
       "89            VN     22\n",
       "87            US     17\n",
       "41            IQ     17\n",
       "0             AF     15\n",
       "91            ZA     13\n",
       "69            PS     13\n",
       "17            CN     11\n",
       "45            JP     11\n",
       "37            ID     11"
      ]
     },
     "execution_count": 315,
     "metadata": {},
     "output_type": "execute_result"
    }
   ],
   "source": [
    "Africa_df = earthcontinent.loc[earthcontinent['Photographer_Continent'] == 'Africa']\n",
    "Africa_country = Africa_df.groupby('Photo_Country').size().reset_index(name='count').sort_values(by='count', ascending=False)\n",
    "\n",
    "Europe_df = earthcontinent.loc[earthcontinent['Photographer_Continent'] == 'Europe']\n",
    "Europe_country = Europe_df.groupby('Photo_Country').size().reset_index(name='count').sort_values(by='count', ascending=False)\n",
    "\n",
    "South_America_df = earthcontinent.loc[earthcontinent['Photographer_Continent'] == 'South America']\n",
    "South_America_country = South_America_df.groupby('Photo_Country').size().reset_index(name='count').sort_values(by='count', ascending=False)\n",
    "\n",
    "Asia_df = earthcontinent.loc[earthcontinent['Photographer_Continent'] == 'Asia']\n",
    "Asia_country = Asia_df.groupby('Photo_Country').size().reset_index(name='count').sort_values(by='count', ascending=False)\n",
    "\n",
    "North_America_df = earthcontinent.loc[earthcontinent['Photographer_Continent'] == 'North America']\n",
    "North_America_country = North_America_df.groupby('Photo_Country').size().reset_index(name='count').sort_values(by='count', ascending=False)\n",
    "\n",
    "North_America_country.head(10)"
   ]
  },
  {
   "cell_type": "code",
   "execution_count": 316,
   "metadata": {},
   "outputs": [
    {
     "data": {
      "text/html": [
       "<div>\n",
       "<style scoped>\n",
       "    .dataframe tbody tr th:only-of-type {\n",
       "        vertical-align: middle;\n",
       "    }\n",
       "\n",
       "    .dataframe tbody tr th {\n",
       "        vertical-align: top;\n",
       "    }\n",
       "\n",
       "    .dataframe thead th {\n",
       "        text-align: right;\n",
       "    }\n",
       "</style>\n",
       "<table border=\"1\" class=\"dataframe\">\n",
       "  <thead>\n",
       "    <tr style=\"text-align: right;\">\n",
       "      <th></th>\n",
       "      <th>Photo_Continent</th>\n",
       "      <th>Photographer_Country</th>\n",
       "      <th>Photo_Country</th>\n",
       "      <th>Count</th>\n",
       "    </tr>\n",
       "  </thead>\n",
       "  <tbody>\n",
       "    <tr>\n",
       "      <th>0</th>\n",
       "      <td>Africa</td>\n",
       "      <td>AR</td>\n",
       "      <td>KE</td>\n",
       "      <td>1</td>\n",
       "    </tr>\n",
       "    <tr>\n",
       "      <th>1</th>\n",
       "      <td>Africa</td>\n",
       "      <td>AR</td>\n",
       "      <td>MG</td>\n",
       "      <td>1</td>\n",
       "    </tr>\n",
       "    <tr>\n",
       "      <th>2</th>\n",
       "      <td>Africa</td>\n",
       "      <td>AR</td>\n",
       "      <td>ZA</td>\n",
       "      <td>1</td>\n",
       "    </tr>\n",
       "    <tr>\n",
       "      <th>3</th>\n",
       "      <td>Africa</td>\n",
       "      <td>AT</td>\n",
       "      <td>CF</td>\n",
       "      <td>2</td>\n",
       "    </tr>\n",
       "    <tr>\n",
       "      <th>4</th>\n",
       "      <td>Africa</td>\n",
       "      <td>AT</td>\n",
       "      <td>ZA</td>\n",
       "      <td>1</td>\n",
       "    </tr>\n",
       "    <tr>\n",
       "      <th>...</th>\n",
       "      <td>...</td>\n",
       "      <td>...</td>\n",
       "      <td>...</td>\n",
       "      <td>...</td>\n",
       "    </tr>\n",
       "    <tr>\n",
       "      <th>711</th>\n",
       "      <td>South America</td>\n",
       "      <td>US</td>\n",
       "      <td>BR</td>\n",
       "      <td>5</td>\n",
       "    </tr>\n",
       "    <tr>\n",
       "      <th>712</th>\n",
       "      <td>South America</td>\n",
       "      <td>US</td>\n",
       "      <td>CL</td>\n",
       "      <td>1</td>\n",
       "    </tr>\n",
       "    <tr>\n",
       "      <th>713</th>\n",
       "      <td>South America</td>\n",
       "      <td>US</td>\n",
       "      <td>CO</td>\n",
       "      <td>3</td>\n",
       "    </tr>\n",
       "    <tr>\n",
       "      <th>714</th>\n",
       "      <td>South America</td>\n",
       "      <td>US</td>\n",
       "      <td>EC</td>\n",
       "      <td>1</td>\n",
       "    </tr>\n",
       "    <tr>\n",
       "      <th>715</th>\n",
       "      <td>South America</td>\n",
       "      <td>US</td>\n",
       "      <td>GY</td>\n",
       "      <td>2</td>\n",
       "    </tr>\n",
       "  </tbody>\n",
       "</table>\n",
       "<p>716 rows × 4 columns</p>\n",
       "</div>"
      ],
      "text/plain": [
       "    Photo_Continent Photographer_Country Photo_Country  Count\n",
       "0            Africa                   AR            KE      1\n",
       "1            Africa                   AR            MG      1\n",
       "2            Africa                   AR            ZA      1\n",
       "3            Africa                   AT            CF      2\n",
       "4            Africa                   AT            ZA      1\n",
       "..              ...                  ...           ...    ...\n",
       "711   South America                   US            BR      5\n",
       "712   South America                   US            CL      1\n",
       "713   South America                   US            CO      3\n",
       "714   South America                   US            EC      1\n",
       "715   South America                   US            GY      2\n",
       "\n",
       "[716 rows x 4 columns]"
      ]
     },
     "execution_count": 316,
     "metadata": {},
     "output_type": "execute_result"
    }
   ],
   "source": [
    "earthcount = earthcontinent.groupby(['Photo_Continent','Photographer_Country','Photo_Country']).size().reset_index(name='Count')\n",
    "earthcount"
   ]
  },
  {
   "cell_type": "code",
   "execution_count": 243,
   "metadata": {},
   "outputs": [],
   "source": [
    "filename = \" earthcount.csv\"\n",
    "earthcount.to_csv(filename, index=False)"
   ]
  },
  {
   "attachments": {},
   "cell_type": "markdown",
   "metadata": {},
   "source": [
    "**Category**"
   ]
  },
  {
   "cell_type": "code",
   "execution_count": 58,
   "metadata": {},
   "outputs": [],
   "source": [
    "category = pd.read_csv(\"df_filtered_final_pro.csv\")"
   ]
  },
  {
   "cell_type": "code",
   "execution_count": 59,
   "metadata": {},
   "outputs": [],
   "source": [
    "#Flitering the \"Unknown\" value\n",
    "category = category[category['Photographer_Country'] != 'Unknown']\n",
    "category = category[category['Photo_Country'] != 'Unknown']"
   ]
  },
  {
   "cell_type": "code",
   "execution_count": 60,
   "metadata": {},
   "outputs": [
    {
     "data": {
      "text/html": [
       "<div>\n",
       "<style scoped>\n",
       "    .dataframe tbody tr th:only-of-type {\n",
       "        vertical-align: middle;\n",
       "    }\n",
       "\n",
       "    .dataframe tbody tr th {\n",
       "        vertical-align: top;\n",
       "    }\n",
       "\n",
       "    .dataframe thead th {\n",
       "        text-align: right;\n",
       "    }\n",
       "</style>\n",
       "<table border=\"1\" class=\"dataframe\">\n",
       "  <thead>\n",
       "    <tr style=\"text-align: right;\">\n",
       "      <th></th>\n",
       "      <th>Index</th>\n",
       "      <th>Title</th>\n",
       "      <th>Award</th>\n",
       "      <th>Category</th>\n",
       "      <th>Published Date</th>\n",
       "      <th>URL</th>\n",
       "      <th>Stored Path</th>\n",
       "      <th>Description</th>\n",
       "      <th>Prize Level</th>\n",
       "      <th>Photographer</th>\n",
       "      <th>Award Year</th>\n",
       "      <th>Background</th>\n",
       "      <th>Story</th>\n",
       "      <th>Award Region</th>\n",
       "      <th>Award Category</th>\n",
       "      <th>Jury</th>\n",
       "      <th>Photographer_Country</th>\n",
       "      <th>Photo_Country</th>\n",
       "    </tr>\n",
       "  </thead>\n",
       "  <tbody>\n",
       "    <tr>\n",
       "      <th>0</th>\n",
       "      <td>1</td>\n",
       "      <td>Not Specified</td>\n",
       "      <td>1955 Photo Contest</td>\n",
       "      <td>Not Specified</td>\n",
       "      <td>28 August, 1955</td>\n",
       "      <td>https://www.worldpressphoto.org/getmedia/7ce98...</td>\n",
       "      <td>F:\\Temp\\1955\\Mogens Haven\\1.jpg</td>\n",
       "      <td>A competitor tumbles off his motorcycle during...</td>\n",
       "      <td>World Press Photo of the Year</td>\n",
       "      <td>Mogens Haven</td>\n",
       "      <td>1955</td>\n",
       "      <td>NaN</td>\n",
       "      <td>NaN</td>\n",
       "      <td>NaN</td>\n",
       "      <td>NaN</td>\n",
       "      <td>NaN</td>\n",
       "      <td>DK</td>\n",
       "      <td>DE</td>\n",
       "    </tr>\n",
       "    <tr>\n",
       "      <th>4</th>\n",
       "      <td>1</td>\n",
       "      <td>Not Specified</td>\n",
       "      <td>1956 Photo Contest</td>\n",
       "      <td>Sports</td>\n",
       "      <td>31 January, 1956</td>\n",
       "      <td>https://www.worldpressphoto.org/getmedia/bb85f...</td>\n",
       "      <td>F:\\Temp\\1956\\Franz Votava\\1.jpg</td>\n",
       "      <td>The famous Austrian alpine skier Tony Sailer d...</td>\n",
       "      <td>3rd prize</td>\n",
       "      <td>Franz Votava</td>\n",
       "      <td>1956</td>\n",
       "      <td>NaN</td>\n",
       "      <td>NaN</td>\n",
       "      <td>NaN</td>\n",
       "      <td>NaN</td>\n",
       "      <td>NaN</td>\n",
       "      <td>AT</td>\n",
       "      <td>IT</td>\n",
       "    </tr>\n",
       "    <tr>\n",
       "      <th>5</th>\n",
       "      <td>1</td>\n",
       "      <td>Not Specified</td>\n",
       "      <td>1956 Photo Contest</td>\n",
       "      <td>Sports</td>\n",
       "      <td>06 August, 1956</td>\n",
       "      <td>https://www.worldpressphoto.org/getmedia/6f9d9...</td>\n",
       "      <td>F:\\Temp\\1956\\Tibor Komlós\\1.jpg</td>\n",
       "      <td>The Hungarian distance runner Sándor Iharos, o...</td>\n",
       "      <td>2nd prize</td>\n",
       "      <td>Tibor Komlós</td>\n",
       "      <td>1956</td>\n",
       "      <td>NaN</td>\n",
       "      <td>NaN</td>\n",
       "      <td>NaN</td>\n",
       "      <td>NaN</td>\n",
       "      <td>NaN</td>\n",
       "      <td>HU</td>\n",
       "      <td>PL</td>\n",
       "    </tr>\n",
       "    <tr>\n",
       "      <th>14</th>\n",
       "      <td>1</td>\n",
       "      <td>Not Specified</td>\n",
       "      <td>1957 Photo Contest</td>\n",
       "      <td>Spot News</td>\n",
       "      <td>01 January, 1957</td>\n",
       "      <td>https://www.worldpressphoto.org/getmedia/db8c5...</td>\n",
       "      <td>F:\\Temp\\1957\\Nikola Bibic\\1.jpg</td>\n",
       "      <td>A man on the hot roof of a burning tavern in B...</td>\n",
       "      <td>3rd prize</td>\n",
       "      <td>Nikola Bibic</td>\n",
       "      <td>1957</td>\n",
       "      <td>NaN</td>\n",
       "      <td>NaN</td>\n",
       "      <td>NaN</td>\n",
       "      <td>NaN</td>\n",
       "      <td>NaN</td>\n",
       "      <td>RU</td>\n",
       "      <td>RS</td>\n",
       "    </tr>\n",
       "    <tr>\n",
       "      <th>16</th>\n",
       "      <td>1</td>\n",
       "      <td>Not Specified</td>\n",
       "      <td>1957 Photo Contest</td>\n",
       "      <td>Sports</td>\n",
       "      <td>01 January, 1957</td>\n",
       "      <td>https://www.worldpressphoto.org/getmedia/78fa9...</td>\n",
       "      <td>F:\\Temp\\1957\\Robert Edwards\\1.jpg</td>\n",
       "      <td>A kick in the face during a football match.</td>\n",
       "      <td>1st prize</td>\n",
       "      <td>Robert Edwards</td>\n",
       "      <td>1957</td>\n",
       "      <td>NaN</td>\n",
       "      <td>NaN</td>\n",
       "      <td>NaN</td>\n",
       "      <td>NaN</td>\n",
       "      <td>NaN</td>\n",
       "      <td>GB</td>\n",
       "      <td>BR</td>\n",
       "    </tr>\n",
       "    <tr>\n",
       "      <th>17</th>\n",
       "      <td>1</td>\n",
       "      <td>Not Specified</td>\n",
       "      <td>1957 Photo Contest</td>\n",
       "      <td>Features</td>\n",
       "      <td>01 January, 1957</td>\n",
       "      <td>https://www.worldpressphoto.org/getmedia/8279d...</td>\n",
       "      <td>F:\\Temp\\1957\\Zygmunt Wdowinski\\1.jpg</td>\n",
       "      <td>A watchmaker in Sarajevo, Yugoslavia.</td>\n",
       "      <td>1st prize</td>\n",
       "      <td>Zygmunt Wdowinski</td>\n",
       "      <td>1957</td>\n",
       "      <td>NaN</td>\n",
       "      <td>NaN</td>\n",
       "      <td>NaN</td>\n",
       "      <td>NaN</td>\n",
       "      <td>NaN</td>\n",
       "      <td>PL</td>\n",
       "      <td>BA</td>\n",
       "    </tr>\n",
       "    <tr>\n",
       "      <th>21</th>\n",
       "      <td>1</td>\n",
       "      <td>Not Specified</td>\n",
       "      <td>1957 Photo Contest</td>\n",
       "      <td>Features</td>\n",
       "      <td>01 January, 1957</td>\n",
       "      <td>https://www.worldpressphoto.org/getmedia/7de15...</td>\n",
       "      <td>F:\\Temp\\1957\\Leos Nebor\\1.jpg</td>\n",
       "      <td>A mother and child in Mongolia.</td>\n",
       "      <td>3rd prize</td>\n",
       "      <td>Leos Nebor</td>\n",
       "      <td>1957</td>\n",
       "      <td>NaN</td>\n",
       "      <td>NaN</td>\n",
       "      <td>NaN</td>\n",
       "      <td>NaN</td>\n",
       "      <td>NaN</td>\n",
       "      <td>CZ</td>\n",
       "      <td>MN</td>\n",
       "    </tr>\n",
       "    <tr>\n",
       "      <th>26</th>\n",
       "      <td>1</td>\n",
       "      <td>Not Specified</td>\n",
       "      <td>1957 Photo Contest</td>\n",
       "      <td>General News</td>\n",
       "      <td>01 January, 1957</td>\n",
       "      <td>https://www.worldpressphoto.org/getmedia/54759...</td>\n",
       "      <td>F:\\Temp\\1957\\Zygmunt Wdowinski\\1.jpg</td>\n",
       "      <td>A watchmaker in Sarajevo, Yugoslavia.</td>\n",
       "      <td>1st prize</td>\n",
       "      <td>Zygmunt Wdowinski</td>\n",
       "      <td>1957</td>\n",
       "      <td>NaN</td>\n",
       "      <td>NaN</td>\n",
       "      <td>NaN</td>\n",
       "      <td>NaN</td>\n",
       "      <td>NaN</td>\n",
       "      <td>PL</td>\n",
       "      <td>BA</td>\n",
       "    </tr>\n",
       "    <tr>\n",
       "      <th>28</th>\n",
       "      <td>1</td>\n",
       "      <td>Not Specified</td>\n",
       "      <td>1957 Photo Contest</td>\n",
       "      <td>News</td>\n",
       "      <td>01 January, 1957</td>\n",
       "      <td>https://www.worldpressphoto.org/getmedia/90d73...</td>\n",
       "      <td>F:\\Temp\\1957\\Nikola Bibic\\1.jpg</td>\n",
       "      <td>A man on the hot roof of a burning tavern in B...</td>\n",
       "      <td>3rd prize</td>\n",
       "      <td>Nikola Bibic</td>\n",
       "      <td>1957</td>\n",
       "      <td>NaN</td>\n",
       "      <td>NaN</td>\n",
       "      <td>NaN</td>\n",
       "      <td>NaN</td>\n",
       "      <td>NaN</td>\n",
       "      <td>RU</td>\n",
       "      <td>RS</td>\n",
       "    </tr>\n",
       "    <tr>\n",
       "      <th>29</th>\n",
       "      <td>1</td>\n",
       "      <td>Not Specified</td>\n",
       "      <td>1959 Photo Contest</td>\n",
       "      <td>News</td>\n",
       "      <td>01 January, 1959</td>\n",
       "      <td>https://www.worldpressphoto.org/getmedia/6e18d...</td>\n",
       "      <td>F:\\Temp\\1959\\Daniel Camus\\1.jpg</td>\n",
       "      <td>Street fight during the final days of the revo...</td>\n",
       "      <td>3rd prize</td>\n",
       "      <td>Daniel Camus</td>\n",
       "      <td>1959</td>\n",
       "      <td>NaN</td>\n",
       "      <td>NaN</td>\n",
       "      <td>NaN</td>\n",
       "      <td>NaN</td>\n",
       "      <td>NaN</td>\n",
       "      <td>FR</td>\n",
       "      <td>CU</td>\n",
       "    </tr>\n",
       "  </tbody>\n",
       "</table>\n",
       "</div>"
      ],
      "text/plain": [
       "    Index          Title               Award       Category    Published Date  \\\n",
       "0       1  Not Specified  1955 Photo Contest  Not Specified   28 August, 1955   \n",
       "4       1  Not Specified  1956 Photo Contest         Sports  31 January, 1956   \n",
       "5       1  Not Specified  1956 Photo Contest         Sports   06 August, 1956   \n",
       "14      1  Not Specified  1957 Photo Contest      Spot News  01 January, 1957   \n",
       "16      1  Not Specified  1957 Photo Contest         Sports  01 January, 1957   \n",
       "17      1  Not Specified  1957 Photo Contest       Features  01 January, 1957   \n",
       "21      1  Not Specified  1957 Photo Contest       Features  01 January, 1957   \n",
       "26      1  Not Specified  1957 Photo Contest   General News  01 January, 1957   \n",
       "28      1  Not Specified  1957 Photo Contest           News  01 January, 1957   \n",
       "29      1  Not Specified  1959 Photo Contest           News  01 January, 1959   \n",
       "\n",
       "                                                  URL  \\\n",
       "0   https://www.worldpressphoto.org/getmedia/7ce98...   \n",
       "4   https://www.worldpressphoto.org/getmedia/bb85f...   \n",
       "5   https://www.worldpressphoto.org/getmedia/6f9d9...   \n",
       "14  https://www.worldpressphoto.org/getmedia/db8c5...   \n",
       "16  https://www.worldpressphoto.org/getmedia/78fa9...   \n",
       "17  https://www.worldpressphoto.org/getmedia/8279d...   \n",
       "21  https://www.worldpressphoto.org/getmedia/7de15...   \n",
       "26  https://www.worldpressphoto.org/getmedia/54759...   \n",
       "28  https://www.worldpressphoto.org/getmedia/90d73...   \n",
       "29  https://www.worldpressphoto.org/getmedia/6e18d...   \n",
       "\n",
       "                             Stored Path  \\\n",
       "0        F:\\Temp\\1955\\Mogens Haven\\1.jpg   \n",
       "4        F:\\Temp\\1956\\Franz Votava\\1.jpg   \n",
       "5        F:\\Temp\\1956\\Tibor Komlós\\1.jpg   \n",
       "14       F:\\Temp\\1957\\Nikola Bibic\\1.jpg   \n",
       "16     F:\\Temp\\1957\\Robert Edwards\\1.jpg   \n",
       "17  F:\\Temp\\1957\\Zygmunt Wdowinski\\1.jpg   \n",
       "21         F:\\Temp\\1957\\Leos Nebor\\1.jpg   \n",
       "26  F:\\Temp\\1957\\Zygmunt Wdowinski\\1.jpg   \n",
       "28       F:\\Temp\\1957\\Nikola Bibic\\1.jpg   \n",
       "29       F:\\Temp\\1959\\Daniel Camus\\1.jpg   \n",
       "\n",
       "                                          Description  \\\n",
       "0   A competitor tumbles off his motorcycle during...   \n",
       "4   The famous Austrian alpine skier Tony Sailer d...   \n",
       "5   The Hungarian distance runner Sándor Iharos, o...   \n",
       "14  A man on the hot roof of a burning tavern in B...   \n",
       "16        A kick in the face during a football match.   \n",
       "17              A watchmaker in Sarajevo, Yugoslavia.   \n",
       "21                    A mother and child in Mongolia.   \n",
       "26              A watchmaker in Sarajevo, Yugoslavia.   \n",
       "28  A man on the hot roof of a burning tavern in B...   \n",
       "29  Street fight during the final days of the revo...   \n",
       "\n",
       "                      Prize Level       Photographer  Award Year  Background  \\\n",
       "0   World Press Photo of the Year       Mogens Haven        1955         NaN   \n",
       "4                       3rd prize       Franz Votava        1956         NaN   \n",
       "5                       2nd prize       Tibor Komlós        1956         NaN   \n",
       "14                      3rd prize       Nikola Bibic        1957         NaN   \n",
       "16                      1st prize     Robert Edwards        1957         NaN   \n",
       "17                      1st prize  Zygmunt Wdowinski        1957         NaN   \n",
       "21                      3rd prize         Leos Nebor        1957         NaN   \n",
       "26                      1st prize  Zygmunt Wdowinski        1957         NaN   \n",
       "28                      3rd prize       Nikola Bibic        1957         NaN   \n",
       "29                      3rd prize       Daniel Camus        1959         NaN   \n",
       "\n",
       "    Story  Award Region  Award Category  Jury Photographer_Country  \\\n",
       "0     NaN           NaN             NaN   NaN                   DK   \n",
       "4     NaN           NaN             NaN   NaN                   AT   \n",
       "5     NaN           NaN             NaN   NaN                   HU   \n",
       "14    NaN           NaN             NaN   NaN                   RU   \n",
       "16    NaN           NaN             NaN   NaN                   GB   \n",
       "17    NaN           NaN             NaN   NaN                   PL   \n",
       "21    NaN           NaN             NaN   NaN                   CZ   \n",
       "26    NaN           NaN             NaN   NaN                   PL   \n",
       "28    NaN           NaN             NaN   NaN                   RU   \n",
       "29    NaN           NaN             NaN   NaN                   FR   \n",
       "\n",
       "   Photo_Country  \n",
       "0             DE  \n",
       "4             IT  \n",
       "5             PL  \n",
       "14            RS  \n",
       "16            BR  \n",
       "17            BA  \n",
       "21            MN  \n",
       "26            BA  \n",
       "28            RS  \n",
       "29            CU  "
      ]
     },
     "metadata": {},
     "output_type": "display_data"
    }
   ],
   "source": [
    "#Check out local photographers shooting oversea content\n",
    "out_category = category[category['Photographer_Country'] != category['Photo_Country']]\n",
    "display(out_category.head(10))  "
   ]
  },
  {
   "cell_type": "code",
   "execution_count": 61,
   "metadata": {},
   "outputs": [
    {
     "data": {
      "text/html": [
       "<div>\n",
       "<style scoped>\n",
       "    .dataframe tbody tr th:only-of-type {\n",
       "        vertical-align: middle;\n",
       "    }\n",
       "\n",
       "    .dataframe tbody tr th {\n",
       "        vertical-align: top;\n",
       "    }\n",
       "\n",
       "    .dataframe thead th {\n",
       "        text-align: right;\n",
       "    }\n",
       "</style>\n",
       "<table border=\"1\" class=\"dataframe\">\n",
       "  <thead>\n",
       "    <tr style=\"text-align: right;\">\n",
       "      <th></th>\n",
       "      <th>Index</th>\n",
       "      <th>Title</th>\n",
       "      <th>Award</th>\n",
       "      <th>Category</th>\n",
       "      <th>Published Date</th>\n",
       "      <th>URL</th>\n",
       "      <th>Stored Path</th>\n",
       "      <th>Description</th>\n",
       "      <th>Prize Level</th>\n",
       "      <th>Photographer</th>\n",
       "      <th>Award Year</th>\n",
       "      <th>Background</th>\n",
       "      <th>Story</th>\n",
       "      <th>Award Region</th>\n",
       "      <th>Award Category</th>\n",
       "      <th>Jury</th>\n",
       "      <th>Photographer_Country</th>\n",
       "      <th>Photo_Country</th>\n",
       "    </tr>\n",
       "  </thead>\n",
       "  <tbody>\n",
       "    <tr>\n",
       "      <th>0</th>\n",
       "      <td>1</td>\n",
       "      <td>Not Specified</td>\n",
       "      <td>1955 Photo Contest</td>\n",
       "      <td>Not Specified</td>\n",
       "      <td>28 August, 1955</td>\n",
       "      <td>https://www.worldpressphoto.org/getmedia/7ce98...</td>\n",
       "      <td>F:\\Temp\\1955\\Mogens Haven\\1.jpg</td>\n",
       "      <td>A competitor tumbles off his motorcycle during...</td>\n",
       "      <td>World Press Photo of the Year</td>\n",
       "      <td>Mogens Haven</td>\n",
       "      <td>1955</td>\n",
       "      <td>NaN</td>\n",
       "      <td>NaN</td>\n",
       "      <td>NaN</td>\n",
       "      <td>NaN</td>\n",
       "      <td>NaN</td>\n",
       "      <td>DK</td>\n",
       "      <td>DE</td>\n",
       "    </tr>\n",
       "    <tr>\n",
       "      <th>4</th>\n",
       "      <td>1</td>\n",
       "      <td>Not Specified</td>\n",
       "      <td>1956 Photo Contest</td>\n",
       "      <td>Sports</td>\n",
       "      <td>31 January, 1956</td>\n",
       "      <td>https://www.worldpressphoto.org/getmedia/bb85f...</td>\n",
       "      <td>F:\\Temp\\1956\\Franz Votava\\1.jpg</td>\n",
       "      <td>The famous Austrian alpine skier Tony Sailer d...</td>\n",
       "      <td>3rd prize</td>\n",
       "      <td>Franz Votava</td>\n",
       "      <td>1956</td>\n",
       "      <td>NaN</td>\n",
       "      <td>NaN</td>\n",
       "      <td>NaN</td>\n",
       "      <td>NaN</td>\n",
       "      <td>NaN</td>\n",
       "      <td>AT</td>\n",
       "      <td>IT</td>\n",
       "    </tr>\n",
       "    <tr>\n",
       "      <th>5</th>\n",
       "      <td>1</td>\n",
       "      <td>Not Specified</td>\n",
       "      <td>1956 Photo Contest</td>\n",
       "      <td>Sports</td>\n",
       "      <td>06 August, 1956</td>\n",
       "      <td>https://www.worldpressphoto.org/getmedia/6f9d9...</td>\n",
       "      <td>F:\\Temp\\1956\\Tibor Komlós\\1.jpg</td>\n",
       "      <td>The Hungarian distance runner Sándor Iharos, o...</td>\n",
       "      <td>2nd prize</td>\n",
       "      <td>Tibor Komlós</td>\n",
       "      <td>1956</td>\n",
       "      <td>NaN</td>\n",
       "      <td>NaN</td>\n",
       "      <td>NaN</td>\n",
       "      <td>NaN</td>\n",
       "      <td>NaN</td>\n",
       "      <td>HU</td>\n",
       "      <td>PL</td>\n",
       "    </tr>\n",
       "    <tr>\n",
       "      <th>14</th>\n",
       "      <td>1</td>\n",
       "      <td>Not Specified</td>\n",
       "      <td>1957 Photo Contest</td>\n",
       "      <td>Spot News</td>\n",
       "      <td>01 January, 1957</td>\n",
       "      <td>https://www.worldpressphoto.org/getmedia/db8c5...</td>\n",
       "      <td>F:\\Temp\\1957\\Nikola Bibic\\1.jpg</td>\n",
       "      <td>A man on the hot roof of a burning tavern in B...</td>\n",
       "      <td>3rd prize</td>\n",
       "      <td>Nikola Bibic</td>\n",
       "      <td>1957</td>\n",
       "      <td>NaN</td>\n",
       "      <td>NaN</td>\n",
       "      <td>NaN</td>\n",
       "      <td>NaN</td>\n",
       "      <td>NaN</td>\n",
       "      <td>RU</td>\n",
       "      <td>RS</td>\n",
       "    </tr>\n",
       "    <tr>\n",
       "      <th>16</th>\n",
       "      <td>1</td>\n",
       "      <td>Not Specified</td>\n",
       "      <td>1957 Photo Contest</td>\n",
       "      <td>Sports</td>\n",
       "      <td>01 January, 1957</td>\n",
       "      <td>https://www.worldpressphoto.org/getmedia/78fa9...</td>\n",
       "      <td>F:\\Temp\\1957\\Robert Edwards\\1.jpg</td>\n",
       "      <td>A kick in the face during a football match.</td>\n",
       "      <td>1st prize</td>\n",
       "      <td>Robert Edwards</td>\n",
       "      <td>1957</td>\n",
       "      <td>NaN</td>\n",
       "      <td>NaN</td>\n",
       "      <td>NaN</td>\n",
       "      <td>NaN</td>\n",
       "      <td>NaN</td>\n",
       "      <td>GB</td>\n",
       "      <td>BR</td>\n",
       "    </tr>\n",
       "    <tr>\n",
       "      <th>...</th>\n",
       "      <td>...</td>\n",
       "      <td>...</td>\n",
       "      <td>...</td>\n",
       "      <td>...</td>\n",
       "      <td>...</td>\n",
       "      <td>...</td>\n",
       "      <td>...</td>\n",
       "      <td>...</td>\n",
       "      <td>...</td>\n",
       "      <td>...</td>\n",
       "      <td>...</td>\n",
       "      <td>...</td>\n",
       "      <td>...</td>\n",
       "      <td>...</td>\n",
       "      <td>...</td>\n",
       "      <td>...</td>\n",
       "      <td>...</td>\n",
       "      <td>...</td>\n",
       "    </tr>\n",
       "    <tr>\n",
       "      <th>2818</th>\n",
       "      <td>1</td>\n",
       "      <td>Fighting Locust Invasion in East Africa</td>\n",
       "      <td>2021 Photo Contest</td>\n",
       "      <td>Not Specified</td>\n",
       "      <td>24 April, 2020</td>\n",
       "      <td>https://www.worldpressphoto.org/getmedia/e0b41...</td>\n",
       "      <td>F:\\Temp\\2021\\Luis Tato\\1.jpg</td>\n",
       "      <td>Henry Lenayasa, chief of the settlement of Arc...</td>\n",
       "      <td>World Press Photo of the Year Nominee</td>\n",
       "      <td>Luis Tato</td>\n",
       "      <td>2021</td>\n",
       "      <td>NaN</td>\n",
       "      <td>NaN</td>\n",
       "      <td>NaN</td>\n",
       "      <td>NaN</td>\n",
       "      <td>NaN</td>\n",
       "      <td>ES</td>\n",
       "      <td>KE</td>\n",
       "    </tr>\n",
       "    <tr>\n",
       "      <th>2819</th>\n",
       "      <td>1</td>\n",
       "      <td>The First Embrace</td>\n",
       "      <td>2021 Photo Contest</td>\n",
       "      <td>Not Specified</td>\n",
       "      <td>05 August, 2020</td>\n",
       "      <td>https://www.worldpressphoto.org/getmedia/0799f...</td>\n",
       "      <td>F:\\Temp\\2021\\Mads Nissen\\1.jpg</td>\n",
       "      <td>Rosa Luzia Lunardi (85) is embraced by nurse A...</td>\n",
       "      <td>World Press Photo of the Year Nominee</td>\n",
       "      <td>Mads Nissen</td>\n",
       "      <td>2021</td>\n",
       "      <td>NaN</td>\n",
       "      <td>NaN</td>\n",
       "      <td>NaN</td>\n",
       "      <td>NaN</td>\n",
       "      <td>NaN</td>\n",
       "      <td>DK</td>\n",
       "      <td>BR</td>\n",
       "    </tr>\n",
       "    <tr>\n",
       "      <th>2823</th>\n",
       "      <td>1</td>\n",
       "      <td>Leaving Home in Nagorno-Karabakh</td>\n",
       "      <td>2021 Photo Contest</td>\n",
       "      <td>Not Specified</td>\n",
       "      <td>28 November, 2020</td>\n",
       "      <td>https://www.worldpressphoto.org/getmedia/aa2c1...</td>\n",
       "      <td>F:\\Temp\\2021\\Valery Melnikov\\1.jpg</td>\n",
       "      <td>Azat Gevorkyan and his wife Anaik are pictured...</td>\n",
       "      <td>World Press Photo of the Year Nominee</td>\n",
       "      <td>Valery Melnikov</td>\n",
       "      <td>2021</td>\n",
       "      <td>NaN</td>\n",
       "      <td>NaN</td>\n",
       "      <td>NaN</td>\n",
       "      <td>NaN</td>\n",
       "      <td>NaN</td>\n",
       "      <td>RU</td>\n",
       "      <td>AZ</td>\n",
       "    </tr>\n",
       "    <tr>\n",
       "      <th>2824</th>\n",
       "      <td>1</td>\n",
       "      <td>Yemen: Hunger, Another War Wound</td>\n",
       "      <td>2021 Photo Contest</td>\n",
       "      <td>Contemporary Issues</td>\n",
       "      <td>12 February, 2020</td>\n",
       "      <td>https://www.worldpressphoto.org/getmedia/306e6...</td>\n",
       "      <td>F:\\Temp\\2021\\Pablo Tosco\\1.jpg</td>\n",
       "      <td>Fatima and her son prepare a fishing net on a ...</td>\n",
       "      <td>1st Prize</td>\n",
       "      <td>Pablo Tosco</td>\n",
       "      <td>2021</td>\n",
       "      <td>NaN</td>\n",
       "      <td>NaN</td>\n",
       "      <td>NaN</td>\n",
       "      <td>NaN</td>\n",
       "      <td>NaN</td>\n",
       "      <td>AR</td>\n",
       "      <td>YE</td>\n",
       "    </tr>\n",
       "    <tr>\n",
       "      <th>2827</th>\n",
       "      <td>1</td>\n",
       "      <td>Habibi</td>\n",
       "      <td>2021 Photo Contest</td>\n",
       "      <td>Not Specified</td>\n",
       "      <td>17 August, 2015</td>\n",
       "      <td>https://www.worldpressphoto.org/getmedia/156f2...</td>\n",
       "      <td>F:\\Temp\\2021\\Antonio Faccilongo\\1.jpg</td>\n",
       "      <td>Nael al-Barghouthi’s suit remains hanging in h...</td>\n",
       "      <td>World Press Photo Story of the Year Nominee</td>\n",
       "      <td>Antonio Faccilongo</td>\n",
       "      <td>2021</td>\n",
       "      <td>NaN</td>\n",
       "      <td>NaN</td>\n",
       "      <td>NaN</td>\n",
       "      <td>NaN</td>\n",
       "      <td>NaN</td>\n",
       "      <td>IT</td>\n",
       "      <td>PS</td>\n",
       "    </tr>\n",
       "  </tbody>\n",
       "</table>\n",
       "<p>1432 rows × 18 columns</p>\n",
       "</div>"
      ],
      "text/plain": [
       "      Index                                    Title               Award  \\\n",
       "0         1                            Not Specified  1955 Photo Contest   \n",
       "4         1                            Not Specified  1956 Photo Contest   \n",
       "5         1                            Not Specified  1956 Photo Contest   \n",
       "14        1                            Not Specified  1957 Photo Contest   \n",
       "16        1                            Not Specified  1957 Photo Contest   \n",
       "...     ...                                      ...                 ...   \n",
       "2818      1  Fighting Locust Invasion in East Africa  2021 Photo Contest   \n",
       "2819      1                        The First Embrace  2021 Photo Contest   \n",
       "2823      1         Leaving Home in Nagorno-Karabakh  2021 Photo Contest   \n",
       "2824      1         Yemen: Hunger, Another War Wound  2021 Photo Contest   \n",
       "2827      1                                   Habibi  2021 Photo Contest   \n",
       "\n",
       "                 Category     Published Date  \\\n",
       "0           Not Specified    28 August, 1955   \n",
       "4                  Sports   31 January, 1956   \n",
       "5                  Sports    06 August, 1956   \n",
       "14              Spot News   01 January, 1957   \n",
       "16                 Sports   01 January, 1957   \n",
       "...                   ...                ...   \n",
       "2818        Not Specified     24 April, 2020   \n",
       "2819        Not Specified    05 August, 2020   \n",
       "2823        Not Specified  28 November, 2020   \n",
       "2824  Contemporary Issues  12 February, 2020   \n",
       "2827        Not Specified    17 August, 2015   \n",
       "\n",
       "                                                    URL  \\\n",
       "0     https://www.worldpressphoto.org/getmedia/7ce98...   \n",
       "4     https://www.worldpressphoto.org/getmedia/bb85f...   \n",
       "5     https://www.worldpressphoto.org/getmedia/6f9d9...   \n",
       "14    https://www.worldpressphoto.org/getmedia/db8c5...   \n",
       "16    https://www.worldpressphoto.org/getmedia/78fa9...   \n",
       "...                                                 ...   \n",
       "2818  https://www.worldpressphoto.org/getmedia/e0b41...   \n",
       "2819  https://www.worldpressphoto.org/getmedia/0799f...   \n",
       "2823  https://www.worldpressphoto.org/getmedia/aa2c1...   \n",
       "2824  https://www.worldpressphoto.org/getmedia/306e6...   \n",
       "2827  https://www.worldpressphoto.org/getmedia/156f2...   \n",
       "\n",
       "                                Stored Path  \\\n",
       "0           F:\\Temp\\1955\\Mogens Haven\\1.jpg   \n",
       "4           F:\\Temp\\1956\\Franz Votava\\1.jpg   \n",
       "5           F:\\Temp\\1956\\Tibor Komlós\\1.jpg   \n",
       "14          F:\\Temp\\1957\\Nikola Bibic\\1.jpg   \n",
       "16        F:\\Temp\\1957\\Robert Edwards\\1.jpg   \n",
       "...                                     ...   \n",
       "2818           F:\\Temp\\2021\\Luis Tato\\1.jpg   \n",
       "2819         F:\\Temp\\2021\\Mads Nissen\\1.jpg   \n",
       "2823     F:\\Temp\\2021\\Valery Melnikov\\1.jpg   \n",
       "2824         F:\\Temp\\2021\\Pablo Tosco\\1.jpg   \n",
       "2827  F:\\Temp\\2021\\Antonio Faccilongo\\1.jpg   \n",
       "\n",
       "                                            Description  \\\n",
       "0     A competitor tumbles off his motorcycle during...   \n",
       "4     The famous Austrian alpine skier Tony Sailer d...   \n",
       "5     The Hungarian distance runner Sándor Iharos, o...   \n",
       "14    A man on the hot roof of a burning tavern in B...   \n",
       "16          A kick in the face during a football match.   \n",
       "...                                                 ...   \n",
       "2818  Henry Lenayasa, chief of the settlement of Arc...   \n",
       "2819  Rosa Luzia Lunardi (85) is embraced by nurse A...   \n",
       "2823  Azat Gevorkyan and his wife Anaik are pictured...   \n",
       "2824  Fatima and her son prepare a fishing net on a ...   \n",
       "2827  Nael al-Barghouthi’s suit remains hanging in h...   \n",
       "\n",
       "                                      Prize Level        Photographer  \\\n",
       "0                   World Press Photo of the Year        Mogens Haven   \n",
       "4                                       3rd prize        Franz Votava   \n",
       "5                                       2nd prize        Tibor Komlós   \n",
       "14                                      3rd prize        Nikola Bibic   \n",
       "16                                      1st prize      Robert Edwards   \n",
       "...                                           ...                 ...   \n",
       "2818        World Press Photo of the Year Nominee           Luis Tato   \n",
       "2819        World Press Photo of the Year Nominee         Mads Nissen   \n",
       "2823        World Press Photo of the Year Nominee     Valery Melnikov   \n",
       "2824                                    1st Prize         Pablo Tosco   \n",
       "2827  World Press Photo Story of the Year Nominee  Antonio Faccilongo   \n",
       "\n",
       "      Award Year  Background  Story  Award Region  Award Category  Jury  \\\n",
       "0           1955         NaN    NaN           NaN             NaN   NaN   \n",
       "4           1956         NaN    NaN           NaN             NaN   NaN   \n",
       "5           1956         NaN    NaN           NaN             NaN   NaN   \n",
       "14          1957         NaN    NaN           NaN             NaN   NaN   \n",
       "16          1957         NaN    NaN           NaN             NaN   NaN   \n",
       "...          ...         ...    ...           ...             ...   ...   \n",
       "2818        2021         NaN    NaN           NaN             NaN   NaN   \n",
       "2819        2021         NaN    NaN           NaN             NaN   NaN   \n",
       "2823        2021         NaN    NaN           NaN             NaN   NaN   \n",
       "2824        2021         NaN    NaN           NaN             NaN   NaN   \n",
       "2827        2021         NaN    NaN           NaN             NaN   NaN   \n",
       "\n",
       "     Photographer_Country Photo_Country  \n",
       "0                      DK            DE  \n",
       "4                      AT            IT  \n",
       "5                      HU            PL  \n",
       "14                     RU            RS  \n",
       "16                     GB            BR  \n",
       "...                   ...           ...  \n",
       "2818                   ES            KE  \n",
       "2819                   DK            BR  \n",
       "2823                   RU            AZ  \n",
       "2824                   AR            YE  \n",
       "2827                   IT            PS  \n",
       "\n",
       "[1432 rows x 18 columns]"
      ]
     },
     "execution_count": 61,
     "metadata": {},
     "output_type": "execute_result"
    }
   ],
   "source": [
    "out_category"
   ]
  },
  {
   "cell_type": "code",
   "execution_count": 62,
   "metadata": {},
   "outputs": [
    {
     "name": "stderr",
     "output_type": "stream",
     "text": [
      "C:\\Users\\hp\\AppData\\Local\\Temp\\ipykernel_25456\\2407011803.py:2: SettingWithCopyWarning: \n",
      "A value is trying to be set on a copy of a slice from a DataFrame.\n",
      "Try using .loc[row_indexer,col_indexer] = value instead\n",
      "\n",
      "See the caveats in the documentation: https://pandas.pydata.org/pandas-docs/stable/user_guide/indexing.html#returning-a-view-versus-a-copy\n",
      "  out_category[\"Category\"] = out_category[\"Category\"].replace(['Sports Action', 'Sports Feature'], 'Sports')\n"
     ]
    }
   ],
   "source": [
    "# Change both Sports Action and Sports Feature to Sports\n",
    "out_category[\"Category\"] = out_category[\"Category\"].replace(['Sports Action', 'Sports Feature'], 'Sports')"
   ]
  },
  {
   "cell_type": "code",
   "execution_count": 66,
   "metadata": {},
   "outputs": [
    {
     "data": {
      "text/html": [
       "<div>\n",
       "<style scoped>\n",
       "    .dataframe tbody tr th:only-of-type {\n",
       "        vertical-align: middle;\n",
       "    }\n",
       "\n",
       "    .dataframe tbody tr th {\n",
       "        vertical-align: top;\n",
       "    }\n",
       "\n",
       "    .dataframe thead th {\n",
       "        text-align: right;\n",
       "    }\n",
       "</style>\n",
       "<table border=\"1\" class=\"dataframe\">\n",
       "  <thead>\n",
       "    <tr style=\"text-align: right;\">\n",
       "      <th></th>\n",
       "      <th>Category</th>\n",
       "      <th>Count</th>\n",
       "    </tr>\n",
       "  </thead>\n",
       "  <tbody>\n",
       "    <tr>\n",
       "      <th>13</th>\n",
       "      <td>General News</td>\n",
       "      <td>227</td>\n",
       "    </tr>\n",
       "    <tr>\n",
       "      <th>37</th>\n",
       "      <td>Spot News</td>\n",
       "      <td>169</td>\n",
       "    </tr>\n",
       "    <tr>\n",
       "      <th>36</th>\n",
       "      <td>Sports</td>\n",
       "      <td>158</td>\n",
       "    </tr>\n",
       "    <tr>\n",
       "      <th>8</th>\n",
       "      <td>Daily Life</td>\n",
       "      <td>124</td>\n",
       "    </tr>\n",
       "    <tr>\n",
       "      <th>30</th>\n",
       "      <td>People in the News</td>\n",
       "      <td>121</td>\n",
       "    </tr>\n",
       "    <tr>\n",
       "      <th>19</th>\n",
       "      <td>Nature</td>\n",
       "      <td>112</td>\n",
       "    </tr>\n",
       "    <tr>\n",
       "      <th>33</th>\n",
       "      <td>Portraits</td>\n",
       "      <td>64</td>\n",
       "    </tr>\n",
       "    <tr>\n",
       "      <th>1</th>\n",
       "      <td>Arts and Entertainment</td>\n",
       "      <td>60</td>\n",
       "    </tr>\n",
       "    <tr>\n",
       "      <th>7</th>\n",
       "      <td>Contemporary Issues</td>\n",
       "      <td>60</td>\n",
       "    </tr>\n",
       "    <tr>\n",
       "      <th>21</th>\n",
       "      <td>News Feature</td>\n",
       "      <td>50</td>\n",
       "    </tr>\n",
       "    <tr>\n",
       "      <th>35</th>\n",
       "      <td>Science &amp; Technology</td>\n",
       "      <td>35</td>\n",
       "    </tr>\n",
       "    <tr>\n",
       "      <th>28</th>\n",
       "      <td>Others</td>\n",
       "      <td>32</td>\n",
       "    </tr>\n",
       "    <tr>\n",
       "      <th>32</th>\n",
       "      <td>Photo Stories</td>\n",
       "      <td>26</td>\n",
       "    </tr>\n",
       "    <tr>\n",
       "      <th>23</th>\n",
       "      <td>Not Specified</td>\n",
       "      <td>24</td>\n",
       "    </tr>\n",
       "    <tr>\n",
       "      <th>20</th>\n",
       "      <td>News</td>\n",
       "      <td>17</td>\n",
       "    </tr>\n",
       "    <tr>\n",
       "      <th>29</th>\n",
       "      <td>People</td>\n",
       "      <td>14</td>\n",
       "    </tr>\n",
       "    <tr>\n",
       "      <th>9</th>\n",
       "      <td>Environment</td>\n",
       "      <td>14</td>\n",
       "    </tr>\n",
       "    <tr>\n",
       "      <th>15</th>\n",
       "      <td>Humor</td>\n",
       "      <td>14</td>\n",
       "    </tr>\n",
       "    <tr>\n",
       "      <th>5</th>\n",
       "      <td>Children's Award</td>\n",
       "      <td>12</td>\n",
       "    </tr>\n",
       "    <tr>\n",
       "      <th>6</th>\n",
       "      <td>Color Picture</td>\n",
       "      <td>10</td>\n",
       "    </tr>\n",
       "    <tr>\n",
       "      <th>16</th>\n",
       "      <td>Long-Term Projects</td>\n",
       "      <td>8</td>\n",
       "    </tr>\n",
       "    <tr>\n",
       "      <th>31</th>\n",
       "      <td>Photo Sequences</td>\n",
       "      <td>8</td>\n",
       "    </tr>\n",
       "    <tr>\n",
       "      <th>2</th>\n",
       "      <td>Arts and Sciences</td>\n",
       "      <td>8</td>\n",
       "    </tr>\n",
       "    <tr>\n",
       "      <th>18</th>\n",
       "      <td>Most Artistic Press Photo</td>\n",
       "      <td>7</td>\n",
       "    </tr>\n",
       "    <tr>\n",
       "      <th>11</th>\n",
       "      <td>Features</td>\n",
       "      <td>7</td>\n",
       "    </tr>\n",
       "    <tr>\n",
       "      <th>25</th>\n",
       "      <td>Observed Portraits</td>\n",
       "      <td>6</td>\n",
       "    </tr>\n",
       "    <tr>\n",
       "      <th>12</th>\n",
       "      <td>General Features</td>\n",
       "      <td>5</td>\n",
       "    </tr>\n",
       "    <tr>\n",
       "      <th>3</th>\n",
       "      <td>Black Picture</td>\n",
       "      <td>5</td>\n",
       "    </tr>\n",
       "    <tr>\n",
       "      <th>22</th>\n",
       "      <td>News Picture</td>\n",
       "      <td>5</td>\n",
       "    </tr>\n",
       "    <tr>\n",
       "      <th>10</th>\n",
       "      <td>Feature Picture</td>\n",
       "      <td>4</td>\n",
       "    </tr>\n",
       "    <tr>\n",
       "      <th>27</th>\n",
       "      <td>Oskar Barnack Award</td>\n",
       "      <td>4</td>\n",
       "    </tr>\n",
       "    <tr>\n",
       "      <th>38</th>\n",
       "      <td>Staged Portraits</td>\n",
       "      <td>4</td>\n",
       "    </tr>\n",
       "    <tr>\n",
       "      <th>26</th>\n",
       "      <td>Organized News</td>\n",
       "      <td>3</td>\n",
       "    </tr>\n",
       "    <tr>\n",
       "      <th>17</th>\n",
       "      <td>Miscellaneous</td>\n",
       "      <td>3</td>\n",
       "    </tr>\n",
       "    <tr>\n",
       "      <th>41</th>\n",
       "      <td>Woman in View</td>\n",
       "      <td>2</td>\n",
       "    </tr>\n",
       "    <tr>\n",
       "      <th>34</th>\n",
       "      <td>Public's favorite</td>\n",
       "      <td>2</td>\n",
       "    </tr>\n",
       "    <tr>\n",
       "      <th>24</th>\n",
       "      <td>Novosti TASS Prize</td>\n",
       "      <td>2</td>\n",
       "    </tr>\n",
       "    <tr>\n",
       "      <th>14</th>\n",
       "      <td>General Picture</td>\n",
       "      <td>2</td>\n",
       "    </tr>\n",
       "    <tr>\n",
       "      <th>4</th>\n",
       "      <td>Budapest Award</td>\n",
       "      <td>1</td>\n",
       "    </tr>\n",
       "    <tr>\n",
       "      <th>39</th>\n",
       "      <td>Twen Magazine Prize</td>\n",
       "      <td>1</td>\n",
       "    </tr>\n",
       "    <tr>\n",
       "      <th>40</th>\n",
       "      <td>United Nations Award</td>\n",
       "      <td>1</td>\n",
       "    </tr>\n",
       "    <tr>\n",
       "      <th>0</th>\n",
       "      <td>Amsterdam Olympic Award</td>\n",
       "      <td>1</td>\n",
       "    </tr>\n",
       "  </tbody>\n",
       "</table>\n",
       "</div>"
      ],
      "text/plain": [
       "                     Category  Count\n",
       "13               General News    227\n",
       "37                  Spot News    169\n",
       "36                     Sports    158\n",
       "8                  Daily Life    124\n",
       "30         People in the News    121\n",
       "19                     Nature    112\n",
       "33                  Portraits     64\n",
       "1      Arts and Entertainment     60\n",
       "7         Contemporary Issues     60\n",
       "21               News Feature     50\n",
       "35       Science & Technology     35\n",
       "28                     Others     32\n",
       "32              Photo Stories     26\n",
       "23              Not Specified     24\n",
       "20                       News     17\n",
       "29                     People     14\n",
       "9                 Environment     14\n",
       "15                      Humor     14\n",
       "5            Children's Award     12\n",
       "6               Color Picture     10\n",
       "16         Long-Term Projects      8\n",
       "31            Photo Sequences      8\n",
       "2           Arts and Sciences      8\n",
       "18  Most Artistic Press Photo      7\n",
       "11                   Features      7\n",
       "25         Observed Portraits      6\n",
       "12           General Features      5\n",
       "3               Black Picture      5\n",
       "22               News Picture      5\n",
       "10            Feature Picture      4\n",
       "27        Oskar Barnack Award      4\n",
       "38           Staged Portraits      4\n",
       "26             Organized News      3\n",
       "17              Miscellaneous      3\n",
       "41              Woman in View      2\n",
       "34          Public's favorite      2\n",
       "24         Novosti TASS Prize      2\n",
       "14            General Picture      2\n",
       "4              Budapest Award      1\n",
       "39        Twen Magazine Prize      1\n",
       "40       United Nations Award      1\n",
       "0     Amsterdam Olympic Award      1"
      ]
     },
     "execution_count": 66,
     "metadata": {},
     "output_type": "execute_result"
    }
   ],
   "source": [
    "# Group the Category column and calculate the number of each group\n",
    "categroup= out_category.groupby('Category').size().reset_index(name='Count').sort_values(by='Count', ascending=False)\n",
    "categroup"
   ]
  },
  {
   "cell_type": "code",
   "execution_count": 68,
   "metadata": {},
   "outputs": [],
   "source": [
    "filename = \" categroup1.csv\"\n",
    "categroup.to_csv(filename, index=False)"
   ]
  },
  {
   "attachments": {},
   "cell_type": "markdown",
   "metadata": {},
   "source": [
    "**Protest Prize**"
   ]
  },
  {
   "cell_type": "code",
   "execution_count": 4,
   "metadata": {},
   "outputs": [
    {
     "data": {
      "text/html": [
       "<div>\n",
       "<style scoped>\n",
       "    .dataframe tbody tr th:only-of-type {\n",
       "        vertical-align: middle;\n",
       "    }\n",
       "\n",
       "    .dataframe tbody tr th {\n",
       "        vertical-align: top;\n",
       "    }\n",
       "\n",
       "    .dataframe thead th {\n",
       "        text-align: right;\n",
       "    }\n",
       "</style>\n",
       "<table border=\"1\" class=\"dataframe\">\n",
       "  <thead>\n",
       "    <tr style=\"text-align: right;\">\n",
       "      <th></th>\n",
       "      <th>Year</th>\n",
       "      <th>Month</th>\n",
       "      <th>Day</th>\n",
       "      <th>Time</th>\n",
       "      <th>End Year</th>\n",
       "      <th>End Month</th>\n",
       "      <th>End Day</th>\n",
       "      <th>End Time</th>\n",
       "      <th>Display Date</th>\n",
       "      <th>Headline</th>\n",
       "      <th>Text</th>\n",
       "      <th>Media</th>\n",
       "      <th>Media Credit</th>\n",
       "      <th>Media Caption</th>\n",
       "      <th>Media Thumbnail</th>\n",
       "      <th>Type</th>\n",
       "      <th>Group</th>\n",
       "      <th>Background</th>\n",
       "    </tr>\n",
       "  </thead>\n",
       "  <tbody>\n",
       "    <tr>\n",
       "      <th>0</th>\n",
       "      <td>1957</td>\n",
       "      <td>NaN</td>\n",
       "      <td>NaN</td>\n",
       "      <td>NaN</td>\n",
       "      <td>1957</td>\n",
       "      <td>NaN</td>\n",
       "      <td>NaN</td>\n",
       "      <td>NaN</td>\n",
       "      <td>1st prize</td>\n",
       "      <td>1957 Photo Contest</td>\n",
       "      <td>Dorothy Counts, the first and at the time only...</td>\n",
       "      <td>https://www.worldpressphoto.org/getmedia/cc3de...</td>\n",
       "      <td>Douglas Martin</td>\n",
       "      <td>NaN</td>\n",
       "      <td>1st prize</td>\n",
       "      <td>NaN</td>\n",
       "      <td>NaN</td>\n",
       "      <td>NaN</td>\n",
       "    </tr>\n",
       "    <tr>\n",
       "      <th>1</th>\n",
       "      <td>1963</td>\n",
       "      <td>NaN</td>\n",
       "      <td>NaN</td>\n",
       "      <td>NaN</td>\n",
       "      <td>1963</td>\n",
       "      <td>NaN</td>\n",
       "      <td>NaN</td>\n",
       "      <td>NaN</td>\n",
       "      <td>1st prize</td>\n",
       "      <td>1963 Photo Contest</td>\n",
       "      <td>The self-immolation of Buddhist monk Thich Qua...</td>\n",
       "      <td>https://www.worldpressphoto.org/getmedia/bbe48...</td>\n",
       "      <td>Malcolm W. Browne</td>\n",
       "      <td>NaN</td>\n",
       "      <td>NaN</td>\n",
       "      <td>NaN</td>\n",
       "      <td>NaN</td>\n",
       "      <td>NaN</td>\n",
       "    </tr>\n",
       "    <tr>\n",
       "      <th>2</th>\n",
       "      <td>1965</td>\n",
       "      <td>NaN</td>\n",
       "      <td>NaN</td>\n",
       "      <td>NaN</td>\n",
       "      <td>1965</td>\n",
       "      <td>NaN</td>\n",
       "      <td>NaN</td>\n",
       "      <td>NaN</td>\n",
       "      <td>2nd prize</td>\n",
       "      <td>1965 Photo Contest</td>\n",
       "      <td>A student is killed by a Dominican Army guard ...</td>\n",
       "      <td>https://www.worldpressphoto.org/getmedia/7ee84...</td>\n",
       "      <td>James Bourdier</td>\n",
       "      <td>NaN</td>\n",
       "      <td>NaN</td>\n",
       "      <td>NaN</td>\n",
       "      <td>NaN</td>\n",
       "      <td>NaN</td>\n",
       "    </tr>\n",
       "    <tr>\n",
       "      <th>3</th>\n",
       "      <td>1966</td>\n",
       "      <td>NaN</td>\n",
       "      <td>NaN</td>\n",
       "      <td>NaN</td>\n",
       "      <td>1966</td>\n",
       "      <td>NaN</td>\n",
       "      <td>NaN</td>\n",
       "      <td>NaN</td>\n",
       "      <td>Honorable mention</td>\n",
       "      <td>1966 Photo Contest</td>\n",
       "      <td>Construction workers attacked a building on th...</td>\n",
       "      <td>https://www.worldpressphoto.org/getmedia/96beb...</td>\n",
       "      <td>Arthur Bastiaanse</td>\n",
       "      <td>NaN</td>\n",
       "      <td>NaN</td>\n",
       "      <td>NaN</td>\n",
       "      <td>NaN</td>\n",
       "      <td>NaN</td>\n",
       "    </tr>\n",
       "    <tr>\n",
       "      <th>4</th>\n",
       "      <td>1968</td>\n",
       "      <td>NaN</td>\n",
       "      <td>NaN</td>\n",
       "      <td>NaN</td>\n",
       "      <td>1968</td>\n",
       "      <td>NaN</td>\n",
       "      <td>NaN</td>\n",
       "      <td>NaN</td>\n",
       "      <td>1st prize，1968 Photo Contest</td>\n",
       "      <td>Flames of Protest</td>\n",
       "      <td>Washington D.C. is on fire, after riots broke ...</td>\n",
       "      <td>https://www.worldpressphoto.org/getmedia/5c605...</td>\n",
       "      <td>Frank Hoy</td>\n",
       "      <td>NaN</td>\n",
       "      <td>NaN</td>\n",
       "      <td>NaN</td>\n",
       "      <td>NaN</td>\n",
       "      <td>NaN</td>\n",
       "    </tr>\n",
       "    <tr>\n",
       "      <th>...</th>\n",
       "      <td>...</td>\n",
       "      <td>...</td>\n",
       "      <td>...</td>\n",
       "      <td>...</td>\n",
       "      <td>...</td>\n",
       "      <td>...</td>\n",
       "      <td>...</td>\n",
       "      <td>...</td>\n",
       "      <td>...</td>\n",
       "      <td>...</td>\n",
       "      <td>...</td>\n",
       "      <td>...</td>\n",
       "      <td>...</td>\n",
       "      <td>...</td>\n",
       "      <td>...</td>\n",
       "      <td>...</td>\n",
       "      <td>...</td>\n",
       "      <td>...</td>\n",
       "    </tr>\n",
       "    <tr>\n",
       "      <th>98</th>\n",
       "      <td>2022</td>\n",
       "      <td>NaN</td>\n",
       "      <td>NaN</td>\n",
       "      <td>NaN</td>\n",
       "      <td>2022</td>\n",
       "      <td>NaN</td>\n",
       "      <td>NaN</td>\n",
       "      <td>NaN</td>\n",
       "      <td>Singles Winner, 2022 Photo Contest</td>\n",
       "      <td>San Isidro Settlement Eviction</td>\n",
       "      <td>Police agents arrest a man while his wife and ...</td>\n",
       "      <td>https://www.worldpressphoto.org/getmedia/4ab54...</td>\n",
       "      <td>Vladimir Encina</td>\n",
       "      <td>NaN</td>\n",
       "      <td>NaN</td>\n",
       "      <td>NaN</td>\n",
       "      <td>NaN</td>\n",
       "      <td>NaN</td>\n",
       "    </tr>\n",
       "    <tr>\n",
       "      <th>99</th>\n",
       "      <td>2022</td>\n",
       "      <td>NaN</td>\n",
       "      <td>NaN</td>\n",
       "      <td>NaN</td>\n",
       "      <td>2022</td>\n",
       "      <td>NaN</td>\n",
       "      <td>NaN</td>\n",
       "      <td>NaN</td>\n",
       "      <td>Singles Winner, 2022 Photo Contest</td>\n",
       "      <td>Sudan Protests</td>\n",
       "      <td>A protester throws back a tear-gascanister tha...</td>\n",
       "      <td>https://www.worldpressphoto.org/getmedia/9cdad...</td>\n",
       "      <td>Faiz Abubakr Mohamed</td>\n",
       "      <td>NaN</td>\n",
       "      <td>NaN</td>\n",
       "      <td>NaN</td>\n",
       "      <td>NaN</td>\n",
       "      <td>NaN</td>\n",
       "    </tr>\n",
       "    <tr>\n",
       "      <th>100</th>\n",
       "      <td>2022</td>\n",
       "      <td>NaN</td>\n",
       "      <td>NaN</td>\n",
       "      <td>NaN</td>\n",
       "      <td>2022</td>\n",
       "      <td>NaN</td>\n",
       "      <td>NaN</td>\n",
       "      <td>NaN</td>\n",
       "      <td>Honorable Mention, 2022 Photo Contest</td>\n",
       "      <td>Uprising in Myanmar</td>\n",
       "      <td>Ei Thinzar Maung, a political activist, is see...</td>\n",
       "      <td>https://www.worldpressphoto.org/getmedia/504a7...</td>\n",
       "      <td>Ta Mwe</td>\n",
       "      <td>NaN</td>\n",
       "      <td>NaN</td>\n",
       "      <td>NaN</td>\n",
       "      <td>NaN</td>\n",
       "      <td>NaN</td>\n",
       "    </tr>\n",
       "    <tr>\n",
       "      <th>101</th>\n",
       "      <td>2023</td>\n",
       "      <td>NaN</td>\n",
       "      <td>NaN</td>\n",
       "      <td>NaN</td>\n",
       "      <td>2023</td>\n",
       "      <td>NaN</td>\n",
       "      <td>NaN</td>\n",
       "      <td>NaN</td>\n",
       "      <td>Singles Winner, 2023 Photo Contest</td>\n",
       "      <td>Slingshots</td>\n",
       "      <td>Protesters use slingshots and other homemade w...</td>\n",
       "      <td>https://www.worldpressphoto.org/getmedia/18450...</td>\n",
       "      <td>Anonymous</td>\n",
       "      <td>NaN</td>\n",
       "      <td>NaN</td>\n",
       "      <td>NaN</td>\n",
       "      <td>NaN</td>\n",
       "      <td>NaN</td>\n",
       "    </tr>\n",
       "    <tr>\n",
       "      <th>102</th>\n",
       "      <td>2023</td>\n",
       "      <td>NaN</td>\n",
       "      <td>NaN</td>\n",
       "      <td>NaN</td>\n",
       "      <td>2023</td>\n",
       "      <td>NaN</td>\n",
       "      <td>NaN</td>\n",
       "      <td>NaN</td>\n",
       "      <td>Asia Singles Winner, 2023 Photo Contest</td>\n",
       "      <td>Shireen Abu Akleh’s Funeral</td>\n",
       "      <td>Israeli police beat mourners accompanying the ...</td>\n",
       "      <td>https://www.worldpressphoto.org/getmedia/92efe...</td>\n",
       "      <td>Maya Levin</td>\n",
       "      <td>NaN</td>\n",
       "      <td>NaN</td>\n",
       "      <td>NaN</td>\n",
       "      <td>NaN</td>\n",
       "      <td>NaN</td>\n",
       "    </tr>\n",
       "  </tbody>\n",
       "</table>\n",
       "<p>103 rows × 18 columns</p>\n",
       "</div>"
      ],
      "text/plain": [
       "     Year  Month  Day  Time  End Year  End Month  End Day  End Time  \\\n",
       "0    1957    NaN  NaN   NaN      1957        NaN      NaN       NaN   \n",
       "1    1963    NaN  NaN   NaN      1963        NaN      NaN       NaN   \n",
       "2    1965    NaN  NaN   NaN      1965        NaN      NaN       NaN   \n",
       "3    1966    NaN  NaN   NaN      1966        NaN      NaN       NaN   \n",
       "4    1968    NaN  NaN   NaN      1968        NaN      NaN       NaN   \n",
       "..    ...    ...  ...   ...       ...        ...      ...       ...   \n",
       "98   2022    NaN  NaN   NaN      2022        NaN      NaN       NaN   \n",
       "99   2022    NaN  NaN   NaN      2022        NaN      NaN       NaN   \n",
       "100  2022    NaN  NaN   NaN      2022        NaN      NaN       NaN   \n",
       "101  2023    NaN  NaN   NaN      2023        NaN      NaN       NaN   \n",
       "102  2023    NaN  NaN   NaN      2023        NaN      NaN       NaN   \n",
       "\n",
       "                                Display Date                        Headline  \\\n",
       "0                                  1st prize              1957 Photo Contest   \n",
       "1                                  1st prize              1963 Photo Contest   \n",
       "2                                  2nd prize              1965 Photo Contest   \n",
       "3                          Honorable mention              1966 Photo Contest   \n",
       "4               1st prize，1968 Photo Contest              Flames of Protest    \n",
       "..                                       ...                             ...   \n",
       "98        Singles Winner, 2022 Photo Contest  San Isidro Settlement Eviction   \n",
       "99        Singles Winner, 2022 Photo Contest                  Sudan Protests   \n",
       "100    Honorable Mention, 2022 Photo Contest             Uprising in Myanmar   \n",
       "101       Singles Winner, 2023 Photo Contest                      Slingshots   \n",
       "102  Asia Singles Winner, 2023 Photo Contest     Shireen Abu Akleh’s Funeral   \n",
       "\n",
       "                                                  Text  \\\n",
       "0    Dorothy Counts, the first and at the time only...   \n",
       "1    The self-immolation of Buddhist monk Thich Qua...   \n",
       "2    A student is killed by a Dominican Army guard ...   \n",
       "3    Construction workers attacked a building on th...   \n",
       "4    Washington D.C. is on fire, after riots broke ...   \n",
       "..                                                 ...   \n",
       "98   Police agents arrest a man while his wife and ...   \n",
       "99   A protester throws back a tear-gascanister tha...   \n",
       "100  Ei Thinzar Maung, a political activist, is see...   \n",
       "101  Protesters use slingshots and other homemade w...   \n",
       "102  Israeli police beat mourners accompanying the ...   \n",
       "\n",
       "                                                 Media          Media Credit  \\\n",
       "0    https://www.worldpressphoto.org/getmedia/cc3de...        Douglas Martin   \n",
       "1    https://www.worldpressphoto.org/getmedia/bbe48...     Malcolm W. Browne   \n",
       "2    https://www.worldpressphoto.org/getmedia/7ee84...        James Bourdier   \n",
       "3    https://www.worldpressphoto.org/getmedia/96beb...     Arthur Bastiaanse   \n",
       "4    https://www.worldpressphoto.org/getmedia/5c605...             Frank Hoy   \n",
       "..                                                 ...                   ...   \n",
       "98   https://www.worldpressphoto.org/getmedia/4ab54...       Vladimir Encina   \n",
       "99   https://www.worldpressphoto.org/getmedia/9cdad...  Faiz Abubakr Mohamed   \n",
       "100  https://www.worldpressphoto.org/getmedia/504a7...                Ta Mwe   \n",
       "101  https://www.worldpressphoto.org/getmedia/18450...             Anonymous   \n",
       "102  https://www.worldpressphoto.org/getmedia/92efe...            Maya Levin   \n",
       "\n",
       "     Media Caption Media Thumbnail  Type  Group  Background  \n",
       "0              NaN       1st prize   NaN    NaN         NaN  \n",
       "1              NaN             NaN   NaN    NaN         NaN  \n",
       "2              NaN             NaN   NaN    NaN         NaN  \n",
       "3              NaN             NaN   NaN    NaN         NaN  \n",
       "4              NaN             NaN   NaN    NaN         NaN  \n",
       "..             ...             ...   ...    ...         ...  \n",
       "98             NaN             NaN   NaN    NaN         NaN  \n",
       "99             NaN             NaN   NaN    NaN         NaN  \n",
       "100            NaN             NaN   NaN    NaN         NaN  \n",
       "101            NaN             NaN   NaN    NaN         NaN  \n",
       "102            NaN             NaN   NaN    NaN         NaN  \n",
       "\n",
       "[103 rows x 18 columns]"
      ]
     },
     "execution_count": 4,
     "metadata": {},
     "output_type": "execute_result"
    }
   ],
   "source": [
    "timeprize = pd.read_csv(\"timeline_final.csv\")\n",
    "timeprize"
   ]
  },
  {
   "cell_type": "code",
   "execution_count": 32,
   "metadata": {},
   "outputs": [
    {
     "data": {
      "text/html": [
       "<div>\n",
       "<style scoped>\n",
       "    .dataframe tbody tr th:only-of-type {\n",
       "        vertical-align: middle;\n",
       "    }\n",
       "\n",
       "    .dataframe tbody tr th {\n",
       "        vertical-align: top;\n",
       "    }\n",
       "\n",
       "    .dataframe thead th {\n",
       "        text-align: right;\n",
       "    }\n",
       "</style>\n",
       "<table border=\"1\" class=\"dataframe\">\n",
       "  <thead>\n",
       "    <tr style=\"text-align: right;\">\n",
       "      <th></th>\n",
       "      <th>Year</th>\n",
       "      <th>Display Date</th>\n",
       "      <th>Count</th>\n",
       "    </tr>\n",
       "  </thead>\n",
       "  <tbody>\n",
       "    <tr>\n",
       "      <th>0</th>\n",
       "      <td>1957</td>\n",
       "      <td>1st Prize</td>\n",
       "      <td>1</td>\n",
       "    </tr>\n",
       "    <tr>\n",
       "      <th>1</th>\n",
       "      <td>1963</td>\n",
       "      <td>1st Prize</td>\n",
       "      <td>1</td>\n",
       "    </tr>\n",
       "    <tr>\n",
       "      <th>2</th>\n",
       "      <td>1965</td>\n",
       "      <td>2nd Prize</td>\n",
       "      <td>1</td>\n",
       "    </tr>\n",
       "    <tr>\n",
       "      <th>3</th>\n",
       "      <td>1966</td>\n",
       "      <td>Other</td>\n",
       "      <td>1</td>\n",
       "    </tr>\n",
       "    <tr>\n",
       "      <th>4</th>\n",
       "      <td>1968</td>\n",
       "      <td>1st Prize</td>\n",
       "      <td>1</td>\n",
       "    </tr>\n",
       "    <tr>\n",
       "      <th>...</th>\n",
       "      <td>...</td>\n",
       "      <td>...</td>\n",
       "      <td>...</td>\n",
       "    </tr>\n",
       "    <tr>\n",
       "      <th>76</th>\n",
       "      <td>2021</td>\n",
       "      <td>3rd Prize</td>\n",
       "      <td>2</td>\n",
       "    </tr>\n",
       "    <tr>\n",
       "      <th>77</th>\n",
       "      <td>2022</td>\n",
       "      <td>Other</td>\n",
       "      <td>1</td>\n",
       "    </tr>\n",
       "    <tr>\n",
       "      <th>78</th>\n",
       "      <td>2022</td>\n",
       "      <td>Other</td>\n",
       "      <td>2</td>\n",
       "    </tr>\n",
       "    <tr>\n",
       "      <th>79</th>\n",
       "      <td>2023</td>\n",
       "      <td>Other</td>\n",
       "      <td>1</td>\n",
       "    </tr>\n",
       "    <tr>\n",
       "      <th>80</th>\n",
       "      <td>2023</td>\n",
       "      <td>Other</td>\n",
       "      <td>1</td>\n",
       "    </tr>\n",
       "  </tbody>\n",
       "</table>\n",
       "<p>81 rows × 3 columns</p>\n",
       "</div>"
      ],
      "text/plain": [
       "    Year Display Date  Count\n",
       "0   1957    1st Prize      1\n",
       "1   1963    1st Prize      1\n",
       "2   1965    2nd Prize      1\n",
       "3   1966        Other      1\n",
       "4   1968    1st Prize      1\n",
       "..   ...          ...    ...\n",
       "76  2021    3rd Prize      2\n",
       "77  2022        Other      1\n",
       "78  2022        Other      2\n",
       "79  2023        Other      1\n",
       "80  2023        Other      1\n",
       "\n",
       "[81 rows x 3 columns]"
      ]
     },
     "execution_count": 32,
     "metadata": {},
     "output_type": "execute_result"
    }
   ],
   "source": [
    "prizegroup = timeprize.groupby(['Year', 'Display Date']).size().reset_index(name='Count').sort_values('Year')\n",
    "prizegroup['Display Date'] = prizegroup['Display Date'].str.split(',').str[0]\n",
    "prizegroup['Display Date'] = prizegroup['Display Date'].replace('1st prize', '1st Prize')\n",
    "prizegroup['Display Date'] = prizegroup['Display Date'].replace('2nd prize', '2nd Prize')\n",
    "prizegroup['Display Date'] = prizegroup['Display Date'].replace('3rd prize', '3rd Prize')\n",
    "prizegroup['Display Date'] = prizegroup['Display Date'].replace('1st prize，1968 Photo Contest', '1st Prize')\n",
    "prizegroup['Display Date'] = prizegroup['Display Date'].replace('3rd prize singles', '3rd Prize')\n",
    "prizegroup['Display Date'] = prizegroup['Display Date'].replace('Individual awards', 'Other')\n",
    "prizegroup['Display Date'] = prizegroup['Display Date'].replace('Singles Winner', 'Other')\n",
    "prizegroup['Display Date'] = prizegroup['Display Date'].replace('Asia Singles Winner', 'Other')\n",
    "prizegroup['Display Date'] = prizegroup['Display Date'].replace('Honorable Mention', 'Other')\n",
    "prizegroup['Display Date'] = prizegroup['Display Date'].replace('World Press Photo of the Year Nominee', 'Other')\n",
    "prizegroup['Display Date'] = prizegroup['Display Date'].replace('Honorable mention', 'Other')\n",
    "prizegroup"
   ]
  },
  {
   "cell_type": "code",
   "execution_count": 27,
   "metadata": {},
   "outputs": [
    {
     "data": {
      "text/plain": [
       "array(['1st Prize', '2nd Prize', 'Other', '3rd Prize'], dtype=object)"
      ]
     },
     "execution_count": 27,
     "metadata": {},
     "output_type": "execute_result"
    }
   ],
   "source": [
    "prizegroup['Display Date'].unique()"
   ]
  },
  {
   "cell_type": "code",
   "execution_count": 37,
   "metadata": {},
   "outputs": [
    {
     "data": {
      "text/html": [
       "<div>\n",
       "<style scoped>\n",
       "    .dataframe tbody tr th:only-of-type {\n",
       "        vertical-align: middle;\n",
       "    }\n",
       "\n",
       "    .dataframe tbody tr th {\n",
       "        vertical-align: top;\n",
       "    }\n",
       "\n",
       "    .dataframe thead th {\n",
       "        text-align: right;\n",
       "    }\n",
       "</style>\n",
       "<table border=\"1\" class=\"dataframe\">\n",
       "  <thead>\n",
       "    <tr style=\"text-align: right;\">\n",
       "      <th></th>\n",
       "      <th>Display Date</th>\n",
       "      <th>Total Count</th>\n",
       "    </tr>\n",
       "  </thead>\n",
       "  <tbody>\n",
       "    <tr>\n",
       "      <th>0</th>\n",
       "      <td>1st Prize</td>\n",
       "      <td>32</td>\n",
       "    </tr>\n",
       "    <tr>\n",
       "      <th>1</th>\n",
       "      <td>2nd Prize</td>\n",
       "      <td>28</td>\n",
       "    </tr>\n",
       "    <tr>\n",
       "      <th>2</th>\n",
       "      <td>3rd Prize</td>\n",
       "      <td>31</td>\n",
       "    </tr>\n",
       "    <tr>\n",
       "      <th>3</th>\n",
       "      <td>Other</td>\n",
       "      <td>12</td>\n",
       "    </tr>\n",
       "  </tbody>\n",
       "</table>\n",
       "</div>"
      ],
      "text/plain": [
       "  Display Date  Total Count\n",
       "0    1st Prize           32\n",
       "1    2nd Prize           28\n",
       "2    3rd Prize           31\n",
       "3        Other           12"
      ]
     },
     "execution_count": 37,
     "metadata": {},
     "output_type": "execute_result"
    }
   ],
   "source": [
    "grouped_by_date = prizegroup.groupby('Display Date')['Count'].sum().reset_index(name='Total Count')\n",
    "grouped_by_date"
   ]
  },
  {
   "cell_type": "code",
   "execution_count": 38,
   "metadata": {},
   "outputs": [],
   "source": [
    "filename = \" prizegroup2.csv\"\n",
    "grouped_by_date.to_csv(filename, index=False)"
   ]
  }
 ],
 "metadata": {
  "kernelspec": {
   "display_name": "base",
   "language": "python",
   "name": "python3"
  },
  "language_info": {
   "codemirror_mode": {
    "name": "ipython",
    "version": 3
   },
   "file_extension": ".py",
   "mimetype": "text/x-python",
   "name": "python",
   "nbconvert_exporter": "python",
   "pygments_lexer": "ipython3",
   "version": "3.9.10"
  },
  "orig_nbformat": 4
 },
 "nbformat": 4,
 "nbformat_minor": 2
}
