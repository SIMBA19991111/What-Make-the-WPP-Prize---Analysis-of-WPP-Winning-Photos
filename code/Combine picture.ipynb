{
 "cells": [
  {
   "cell_type": "code",
   "execution_count": 12,
   "metadata": {},
   "outputs": [],
   "source": [
    "import os\n",
    "import random\n",
    "from PIL import Image\n",
    "\n",
    "def merge_random_images_in_folder(folder_path, output_path):\n",
    "\n",
    "    # Get all image files in the folder\n",
    "    image_files = [os.path.join(folder_path, f) for f in os.listdir(folder_path) if f.endswith('.jpg') or f.endswith('.png')]\n",
    "    if len(image_files) == 0:\n",
    "        return\n",
    "\n",
    "    # Selecting one picture randomly\n",
    "    selected_images = random.sample(image_files, min(len(image_files), 1))\n",
    "\n",
    "    # Get the size of all photo selected randomly\n",
    "    image_sizes = []\n",
    "    for image_file in selected_images:\n",
    "        im = Image.open(image_file)\n",
    "        image_sizes.append(im.size)\n",
    "\n",
    "    # Calculate the stitched canvas size\n",
    "    result_width = sum([s[0] for s in image_sizes])\n",
    "    result_height = max([s[1] for s in image_sizes])\n",
    "\n",
    "    # Create a new blank canvas\n",
    "    result = Image.new('RGB', (result_width, result_height), (255, 255, 255))\n",
    "\n",
    "    # Stitch the selected photos onto the canvas\n",
    "    x_offset = 0\n",
    "    for image_file in selected_images:\n",
    "        im = Image.open(image_file)\n",
    "        result.paste(im, (x_offset, 0))\n",
    "        x_offset += im.width\n",
    "\n",
    "    # Save the stitched image\n",
    "    result.save(output_path)\n",
    "\n",
    "def traverse_folders_and_merge_images(root_folder, output_folder):\n",
    "    for year_folder in os.listdir(root_folder):\n",
    "        year_folder_path = os.path.join(root_folder, year_folder)\n",
    "        if not os.path.isdir(year_folder_path):\n",
    "            continue\n",
    "        for photographer_folder in os.listdir(year_folder_path):\n",
    "            photographer_folder_path = os.path.join(year_folder_path, photographer_folder)\n",
    "            if not os.path.isdir(photographer_folder_path):\n",
    "                continue\n",
    "            output_path = os.path.join(output_folder, f'{year_folder}_{photographer_folder}.jpg')\n",
    "            merge_random_images_in_folder(photographer_folder_path, output_path)"
   ]
  },
  {
   "cell_type": "code",
   "execution_count": 15,
   "metadata": {},
   "outputs": [],
   "source": [
    "traverse_folders_and_merge_images('F:/Temp', 'C:/Users/hp/Desktop/7410/combine')"
   ]
  },
  {
   "cell_type": "code",
   "execution_count": 34,
   "metadata": {},
   "outputs": [],
   "source": [
    "import os\n",
    "from PIL import Image\n",
    "\n",
    "def merge_all_images_in_folder(folder_path, output_path, tile_size):\n",
    "    image_files = [os.path.join(folder_path, f) for f in os.listdir(folder_path) if f.endswith('.jpg') or f.endswith('.png')]\n",
    "    if len(image_files) == 0:\n",
    "        return\n",
    "\n",
    "    image_sizes = []\n",
    "    for image_file in image_files:\n",
    "        im = Image.open(image_file)\n",
    "        image_sizes.append(im.size)\n",
    "\n",
    "    # put their size be tha same\n",
    "    new_image_sizes = [(tile_size, tile_size) for s in image_sizes]\n",
    "    n_images = len(image_files)\n",
    "    n_cols = int(n_images ** 0.5)\n",
    "    n_rows = n_images // n_cols + int(n_images % n_cols != 0)\n",
    "    result_width = n_cols * tile_size\n",
    "    result_height = n_rows * tile_size\n",
    "    result = Image.new('RGB', (result_width, result_height), (255, 255, 255))\n",
    "\n",
    "    # Stitch all photos onto the canvas   \n",
    "    for i, image_file in enumerate(image_files):\n",
    "        im = Image.open(image_file)\n",
    "        im = im.resize(new_image_sizes[i]) \n",
    "        col_idx = i % n_cols\n",
    "        row_idx = i // n_cols\n",
    "        x_offset = col_idx * tile_size\n",
    "        y_offset = row_idx * tile_size\n",
    "        result.paste(im, (x_offset, y_offset))\n",
    "\n",
    "    result.save(output_path)"
   ]
  },
  {
   "cell_type": "code",
   "execution_count": 39,
   "metadata": {},
   "outputs": [],
   "source": [
    "merge_all_images_in_folder('C:/Users/hp/Desktop/7410/combine', 'F:/combined/combined.png',128)"
   ]
  }
 ],
 "metadata": {
  "kernelspec": {
   "display_name": "Python 3",
   "language": "python",
   "name": "python3"
  },
  "language_info": {
   "codemirror_mode": {
    "name": "ipython",
    "version": 3
   },
   "file_extension": ".py",
   "mimetype": "text/x-python",
   "name": "python",
   "nbconvert_exporter": "python",
   "pygments_lexer": "ipython3",
   "version": "3.9.10"
  },
  "orig_nbformat": 4
 },
 "nbformat": 4,
 "nbformat_minor": 2
}
